{
 "cells": [
  {
   "cell_type": "code",
   "execution_count": 5,
   "metadata": {},
   "outputs": [],
   "source": [
    "import numpy as np \n",
    "import pandas as pd \n",
    "import matplotlib.pyplot as plt\n",
    "%matplotlib inline"
   ]
  },
  {
   "cell_type": "code",
   "execution_count": 6,
   "metadata": {},
   "outputs": [],
   "source": [
    "data = pd.read_csv('D:\\Shruti\\IIT Bombay internship\\protein-data-set\\pdb_data_no_dups.csv')\n",
    "data_seq = pd.read_csv('D:\\Shruti\\IIT Bombay internship\\protein-data-set\\pdb_data_seq.csv')"
   ]
  },
  {
   "cell_type": "code",
   "execution_count": 7,
   "metadata": {},
   "outputs": [
    {
     "name": "stdout",
     "output_type": "stream",
     "text": [
      "(141401, 14)\n"
     ]
    },
    {
     "data": {
      "text/html": [
       "<div>\n",
       "<style scoped>\n",
       "    .dataframe tbody tr th:only-of-type {\n",
       "        vertical-align: middle;\n",
       "    }\n",
       "\n",
       "    .dataframe tbody tr th {\n",
       "        vertical-align: top;\n",
       "    }\n",
       "\n",
       "    .dataframe thead th {\n",
       "        text-align: right;\n",
       "    }\n",
       "</style>\n",
       "<table border=\"1\" class=\"dataframe\">\n",
       "  <thead>\n",
       "    <tr style=\"text-align: right;\">\n",
       "      <th></th>\n",
       "      <th>structureId</th>\n",
       "      <th>classification</th>\n",
       "      <th>experimentalTechnique</th>\n",
       "      <th>macromoleculeType</th>\n",
       "      <th>residueCount</th>\n",
       "      <th>resolution</th>\n",
       "      <th>structureMolecularWeight</th>\n",
       "      <th>crystallizationMethod</th>\n",
       "      <th>crystallizationTempK</th>\n",
       "      <th>densityMatthews</th>\n",
       "      <th>densityPercentSol</th>\n",
       "      <th>pdbxDetails</th>\n",
       "      <th>phValue</th>\n",
       "      <th>publicationYear</th>\n",
       "    </tr>\n",
       "  </thead>\n",
       "  <tbody>\n",
       "    <tr>\n",
       "      <th>0</th>\n",
       "      <td>100D</td>\n",
       "      <td>DNA-RNA HYBRID</td>\n",
       "      <td>X-RAY DIFFRACTION</td>\n",
       "      <td>DNA/RNA Hybrid</td>\n",
       "      <td>20</td>\n",
       "      <td>1.90</td>\n",
       "      <td>6360.30</td>\n",
       "      <td>VAPOR DIFFUSION, HANGING DROP</td>\n",
       "      <td>NaN</td>\n",
       "      <td>1.78</td>\n",
       "      <td>30.89</td>\n",
       "      <td>pH 7.00, VAPOR DIFFUSION, HANGING DROP</td>\n",
       "      <td>7.0</td>\n",
       "      <td>1994.0</td>\n",
       "    </tr>\n",
       "    <tr>\n",
       "      <th>1</th>\n",
       "      <td>101D</td>\n",
       "      <td>DNA</td>\n",
       "      <td>X-RAY DIFFRACTION</td>\n",
       "      <td>DNA</td>\n",
       "      <td>24</td>\n",
       "      <td>2.25</td>\n",
       "      <td>7939.35</td>\n",
       "      <td>NaN</td>\n",
       "      <td>NaN</td>\n",
       "      <td>2.00</td>\n",
       "      <td>38.45</td>\n",
       "      <td>NaN</td>\n",
       "      <td>NaN</td>\n",
       "      <td>1995.0</td>\n",
       "    </tr>\n",
       "    <tr>\n",
       "      <th>2</th>\n",
       "      <td>101M</td>\n",
       "      <td>OXYGEN TRANSPORT</td>\n",
       "      <td>X-RAY DIFFRACTION</td>\n",
       "      <td>Protein</td>\n",
       "      <td>154</td>\n",
       "      <td>2.07</td>\n",
       "      <td>18112.80</td>\n",
       "      <td>NaN</td>\n",
       "      <td>NaN</td>\n",
       "      <td>3.09</td>\n",
       "      <td>60.20</td>\n",
       "      <td>3.0 M AMMONIUM SULFATE, 20 MM TRIS, 1MM EDTA, ...</td>\n",
       "      <td>9.0</td>\n",
       "      <td>1999.0</td>\n",
       "    </tr>\n",
       "    <tr>\n",
       "      <th>3</th>\n",
       "      <td>102D</td>\n",
       "      <td>DNA</td>\n",
       "      <td>X-RAY DIFFRACTION</td>\n",
       "      <td>DNA</td>\n",
       "      <td>24</td>\n",
       "      <td>2.20</td>\n",
       "      <td>7637.17</td>\n",
       "      <td>VAPOR DIFFUSION, SITTING DROP</td>\n",
       "      <td>277.0</td>\n",
       "      <td>2.28</td>\n",
       "      <td>46.06</td>\n",
       "      <td>pH 7.00, VAPOR DIFFUSION, SITTING DROP, temper...</td>\n",
       "      <td>7.0</td>\n",
       "      <td>1995.0</td>\n",
       "    </tr>\n",
       "    <tr>\n",
       "      <th>4</th>\n",
       "      <td>102L</td>\n",
       "      <td>HYDROLASE(O-GLYCOSYL)</td>\n",
       "      <td>X-RAY DIFFRACTION</td>\n",
       "      <td>Protein</td>\n",
       "      <td>165</td>\n",
       "      <td>1.74</td>\n",
       "      <td>18926.61</td>\n",
       "      <td>NaN</td>\n",
       "      <td>NaN</td>\n",
       "      <td>2.75</td>\n",
       "      <td>55.28</td>\n",
       "      <td>NaN</td>\n",
       "      <td>NaN</td>\n",
       "      <td>1993.0</td>\n",
       "    </tr>\n",
       "  </tbody>\n",
       "</table>\n",
       "</div>"
      ],
      "text/plain": [
       "  structureId         classification experimentalTechnique macromoleculeType  \\\n",
       "0        100D         DNA-RNA HYBRID     X-RAY DIFFRACTION    DNA/RNA Hybrid   \n",
       "1        101D                    DNA     X-RAY DIFFRACTION               DNA   \n",
       "2        101M       OXYGEN TRANSPORT     X-RAY DIFFRACTION           Protein   \n",
       "3        102D                    DNA     X-RAY DIFFRACTION               DNA   \n",
       "4        102L  HYDROLASE(O-GLYCOSYL)     X-RAY DIFFRACTION           Protein   \n",
       "\n",
       "   residueCount  resolution  structureMolecularWeight  \\\n",
       "0            20        1.90                   6360.30   \n",
       "1            24        2.25                   7939.35   \n",
       "2           154        2.07                  18112.80   \n",
       "3            24        2.20                   7637.17   \n",
       "4           165        1.74                  18926.61   \n",
       "\n",
       "           crystallizationMethod  crystallizationTempK  densityMatthews  \\\n",
       "0  VAPOR DIFFUSION, HANGING DROP                   NaN             1.78   \n",
       "1                            NaN                   NaN             2.00   \n",
       "2                            NaN                   NaN             3.09   \n",
       "3  VAPOR DIFFUSION, SITTING DROP                 277.0             2.28   \n",
       "4                            NaN                   NaN             2.75   \n",
       "\n",
       "   densityPercentSol                                        pdbxDetails  \\\n",
       "0              30.89             pH 7.00, VAPOR DIFFUSION, HANGING DROP   \n",
       "1              38.45                                                NaN   \n",
       "2              60.20  3.0 M AMMONIUM SULFATE, 20 MM TRIS, 1MM EDTA, ...   \n",
       "3              46.06  pH 7.00, VAPOR DIFFUSION, SITTING DROP, temper...   \n",
       "4              55.28                                                NaN   \n",
       "\n",
       "   phValue  publicationYear  \n",
       "0      7.0           1994.0  \n",
       "1      NaN           1995.0  \n",
       "2      9.0           1999.0  \n",
       "3      7.0           1995.0  \n",
       "4      NaN           1993.0  "
      ]
     },
     "execution_count": 7,
     "metadata": {},
     "output_type": "execute_result"
    }
   ],
   "source": [
    "print(data.shape) \n",
    "data.head()"
   ]
  },
  {
   "cell_type": "code",
   "execution_count": 8,
   "metadata": {},
   "outputs": [
    {
     "name": "stdout",
     "output_type": "stream",
     "text": [
      "(467304, 5)\n"
     ]
    },
    {
     "data": {
      "text/html": [
       "<div>\n",
       "<style scoped>\n",
       "    .dataframe tbody tr th:only-of-type {\n",
       "        vertical-align: middle;\n",
       "    }\n",
       "\n",
       "    .dataframe tbody tr th {\n",
       "        vertical-align: top;\n",
       "    }\n",
       "\n",
       "    .dataframe thead th {\n",
       "        text-align: right;\n",
       "    }\n",
       "</style>\n",
       "<table border=\"1\" class=\"dataframe\">\n",
       "  <thead>\n",
       "    <tr style=\"text-align: right;\">\n",
       "      <th></th>\n",
       "      <th>structureId</th>\n",
       "      <th>chainId</th>\n",
       "      <th>sequence</th>\n",
       "      <th>residueCount</th>\n",
       "      <th>macromoleculeType</th>\n",
       "    </tr>\n",
       "  </thead>\n",
       "  <tbody>\n",
       "    <tr>\n",
       "      <th>0</th>\n",
       "      <td>100D</td>\n",
       "      <td>A</td>\n",
       "      <td>CCGGCGCCGG</td>\n",
       "      <td>20</td>\n",
       "      <td>DNA/RNA Hybrid</td>\n",
       "    </tr>\n",
       "    <tr>\n",
       "      <th>1</th>\n",
       "      <td>100D</td>\n",
       "      <td>B</td>\n",
       "      <td>CCGGCGCCGG</td>\n",
       "      <td>20</td>\n",
       "      <td>DNA/RNA Hybrid</td>\n",
       "    </tr>\n",
       "    <tr>\n",
       "      <th>2</th>\n",
       "      <td>101D</td>\n",
       "      <td>A</td>\n",
       "      <td>CGCGAATTCGCG</td>\n",
       "      <td>24</td>\n",
       "      <td>DNA</td>\n",
       "    </tr>\n",
       "    <tr>\n",
       "      <th>3</th>\n",
       "      <td>101D</td>\n",
       "      <td>B</td>\n",
       "      <td>CGCGAATTCGCG</td>\n",
       "      <td>24</td>\n",
       "      <td>DNA</td>\n",
       "    </tr>\n",
       "    <tr>\n",
       "      <th>4</th>\n",
       "      <td>101M</td>\n",
       "      <td>A</td>\n",
       "      <td>MVLSEGEWQLVLHVWAKVEADVAGHGQDILIRLFKSHPETLEKFDR...</td>\n",
       "      <td>154</td>\n",
       "      <td>Protein</td>\n",
       "    </tr>\n",
       "  </tbody>\n",
       "</table>\n",
       "</div>"
      ],
      "text/plain": [
       "  structureId chainId                                           sequence  \\\n",
       "0        100D       A                                         CCGGCGCCGG   \n",
       "1        100D       B                                         CCGGCGCCGG   \n",
       "2        101D       A                                       CGCGAATTCGCG   \n",
       "3        101D       B                                       CGCGAATTCGCG   \n",
       "4        101M       A  MVLSEGEWQLVLHVWAKVEADVAGHGQDILIRLFKSHPETLEKFDR...   \n",
       "\n",
       "   residueCount macromoleculeType  \n",
       "0            20    DNA/RNA Hybrid  \n",
       "1            20    DNA/RNA Hybrid  \n",
       "2            24               DNA  \n",
       "3            24               DNA  \n",
       "4           154           Protein  "
      ]
     },
     "execution_count": 8,
     "metadata": {},
     "output_type": "execute_result"
    }
   ],
   "source": [
    "print(data_seq.shape)\n",
    "data_seq.head()"
   ]
  },
  {
   "cell_type": "code",
   "execution_count": 9,
   "metadata": {},
   "outputs": [
    {
     "data": {
      "text/html": [
       "<div>\n",
       "<style scoped>\n",
       "    .dataframe tbody tr th:only-of-type {\n",
       "        vertical-align: middle;\n",
       "    }\n",
       "\n",
       "    .dataframe tbody tr th {\n",
       "        vertical-align: top;\n",
       "    }\n",
       "\n",
       "    .dataframe thead th {\n",
       "        text-align: right;\n",
       "    }\n",
       "</style>\n",
       "<table border=\"1\" class=\"dataframe\">\n",
       "  <thead>\n",
       "    <tr style=\"text-align: right;\">\n",
       "      <th></th>\n",
       "      <th>count</th>\n",
       "      <th>unique</th>\n",
       "      <th>top</th>\n",
       "      <th>freq</th>\n",
       "      <th>mean</th>\n",
       "      <th>std</th>\n",
       "      <th>min</th>\n",
       "      <th>25%</th>\n",
       "      <th>50%</th>\n",
       "      <th>75%</th>\n",
       "      <th>max</th>\n",
       "    </tr>\n",
       "  </thead>\n",
       "  <tbody>\n",
       "    <tr>\n",
       "      <th>structureId</th>\n",
       "      <td>141401</td>\n",
       "      <td>140911</td>\n",
       "      <td>2FYM</td>\n",
       "      <td>4</td>\n",
       "      <td>NaN</td>\n",
       "      <td>NaN</td>\n",
       "      <td>NaN</td>\n",
       "      <td>NaN</td>\n",
       "      <td>NaN</td>\n",
       "      <td>NaN</td>\n",
       "      <td>NaN</td>\n",
       "    </tr>\n",
       "    <tr>\n",
       "      <th>classification</th>\n",
       "      <td>141399</td>\n",
       "      <td>5050</td>\n",
       "      <td>HYDROLASE</td>\n",
       "      <td>20915</td>\n",
       "      <td>NaN</td>\n",
       "      <td>NaN</td>\n",
       "      <td>NaN</td>\n",
       "      <td>NaN</td>\n",
       "      <td>NaN</td>\n",
       "      <td>NaN</td>\n",
       "      <td>NaN</td>\n",
       "    </tr>\n",
       "    <tr>\n",
       "      <th>experimentalTechnique</th>\n",
       "      <td>141401</td>\n",
       "      <td>33</td>\n",
       "      <td>X-RAY DIFFRACTION</td>\n",
       "      <td>126432</td>\n",
       "      <td>NaN</td>\n",
       "      <td>NaN</td>\n",
       "      <td>NaN</td>\n",
       "      <td>NaN</td>\n",
       "      <td>NaN</td>\n",
       "      <td>NaN</td>\n",
       "      <td>NaN</td>\n",
       "    </tr>\n",
       "    <tr>\n",
       "      <th>macromoleculeType</th>\n",
       "      <td>137636</td>\n",
       "      <td>13</td>\n",
       "      <td>Protein</td>\n",
       "      <td>127798</td>\n",
       "      <td>NaN</td>\n",
       "      <td>NaN</td>\n",
       "      <td>NaN</td>\n",
       "      <td>NaN</td>\n",
       "      <td>NaN</td>\n",
       "      <td>NaN</td>\n",
       "      <td>NaN</td>\n",
       "    </tr>\n",
       "    <tr>\n",
       "      <th>residueCount</th>\n",
       "      <td>141401</td>\n",
       "      <td>NaN</td>\n",
       "      <td>NaN</td>\n",
       "      <td>NaN</td>\n",
       "      <td>825.375</td>\n",
       "      <td>2136.46</td>\n",
       "      <td>0</td>\n",
       "      <td>226</td>\n",
       "      <td>414</td>\n",
       "      <td>820</td>\n",
       "      <td>313236</td>\n",
       "    </tr>\n",
       "    <tr>\n",
       "      <th>resolution</th>\n",
       "      <td>128589</td>\n",
       "      <td>NaN</td>\n",
       "      <td>NaN</td>\n",
       "      <td>NaN</td>\n",
       "      <td>2.26381</td>\n",
       "      <td>1.41088</td>\n",
       "      <td>0.48</td>\n",
       "      <td>1.8</td>\n",
       "      <td>2.1</td>\n",
       "      <td>2.5</td>\n",
       "      <td>70</td>\n",
       "    </tr>\n",
       "    <tr>\n",
       "      <th>structureMolecularWeight</th>\n",
       "      <td>141401</td>\n",
       "      <td>NaN</td>\n",
       "      <td>NaN</td>\n",
       "      <td>NaN</td>\n",
       "      <td>112079</td>\n",
       "      <td>569015</td>\n",
       "      <td>314.38</td>\n",
       "      <td>26128.6</td>\n",
       "      <td>47477.8</td>\n",
       "      <td>94084.8</td>\n",
       "      <td>9.77305e+07</td>\n",
       "    </tr>\n",
       "    <tr>\n",
       "      <th>crystallizationMethod</th>\n",
       "      <td>96242</td>\n",
       "      <td>549</td>\n",
       "      <td>VAPOR DIFFUSION, HANGING DROP</td>\n",
       "      <td>53870</td>\n",
       "      <td>NaN</td>\n",
       "      <td>NaN</td>\n",
       "      <td>NaN</td>\n",
       "      <td>NaN</td>\n",
       "      <td>NaN</td>\n",
       "      <td>NaN</td>\n",
       "      <td>NaN</td>\n",
       "    </tr>\n",
       "    <tr>\n",
       "      <th>crystallizationTempK</th>\n",
       "      <td>97039</td>\n",
       "      <td>NaN</td>\n",
       "      <td>NaN</td>\n",
       "      <td>NaN</td>\n",
       "      <td>290.968</td>\n",
       "      <td>9.54108</td>\n",
       "      <td>4</td>\n",
       "      <td>290</td>\n",
       "      <td>293</td>\n",
       "      <td>295</td>\n",
       "      <td>398</td>\n",
       "    </tr>\n",
       "    <tr>\n",
       "      <th>densityMatthews</th>\n",
       "      <td>124724</td>\n",
       "      <td>NaN</td>\n",
       "      <td>NaN</td>\n",
       "      <td>NaN</td>\n",
       "      <td>2.67027</td>\n",
       "      <td>0.78374</td>\n",
       "      <td>0</td>\n",
       "      <td>2.21</td>\n",
       "      <td>2.49</td>\n",
       "      <td>2.91</td>\n",
       "      <td>99</td>\n",
       "    </tr>\n",
       "    <tr>\n",
       "      <th>densityPercentSol</th>\n",
       "      <td>124749</td>\n",
       "      <td>NaN</td>\n",
       "      <td>NaN</td>\n",
       "      <td>NaN</td>\n",
       "      <td>51.3532</td>\n",
       "      <td>10.1046</td>\n",
       "      <td>0</td>\n",
       "      <td>44.37</td>\n",
       "      <td>50.5</td>\n",
       "      <td>57.71</td>\n",
       "      <td>92</td>\n",
       "    </tr>\n",
       "    <tr>\n",
       "      <th>pdbxDetails</th>\n",
       "      <td>118534</td>\n",
       "      <td>91025</td>\n",
       "      <td>pH 7.5</td>\n",
       "      <td>361</td>\n",
       "      <td>NaN</td>\n",
       "      <td>NaN</td>\n",
       "      <td>NaN</td>\n",
       "      <td>NaN</td>\n",
       "      <td>NaN</td>\n",
       "      <td>NaN</td>\n",
       "      <td>NaN</td>\n",
       "    </tr>\n",
       "    <tr>\n",
       "      <th>phValue</th>\n",
       "      <td>105110</td>\n",
       "      <td>NaN</td>\n",
       "      <td>NaN</td>\n",
       "      <td>NaN</td>\n",
       "      <td>6.78869</td>\n",
       "      <td>2.55682</td>\n",
       "      <td>0</td>\n",
       "      <td>6</td>\n",
       "      <td>7</td>\n",
       "      <td>7.5</td>\n",
       "      <td>724</td>\n",
       "    </tr>\n",
       "    <tr>\n",
       "      <th>publicationYear</th>\n",
       "      <td>117602</td>\n",
       "      <td>NaN</td>\n",
       "      <td>NaN</td>\n",
       "      <td>NaN</td>\n",
       "      <td>2008.92</td>\n",
       "      <td>8.45929</td>\n",
       "      <td>201</td>\n",
       "      <td>2005</td>\n",
       "      <td>2010</td>\n",
       "      <td>2014</td>\n",
       "      <td>2018</td>\n",
       "    </tr>\n",
       "  </tbody>\n",
       "</table>\n",
       "</div>"
      ],
      "text/plain": [
       "                           count  unique                            top  \\\n",
       "structureId               141401  140911                           2FYM   \n",
       "classification            141399    5050                      HYDROLASE   \n",
       "experimentalTechnique     141401      33              X-RAY DIFFRACTION   \n",
       "macromoleculeType         137636      13                        Protein   \n",
       "residueCount              141401     NaN                            NaN   \n",
       "resolution                128589     NaN                            NaN   \n",
       "structureMolecularWeight  141401     NaN                            NaN   \n",
       "crystallizationMethod      96242     549  VAPOR DIFFUSION, HANGING DROP   \n",
       "crystallizationTempK       97039     NaN                            NaN   \n",
       "densityMatthews           124724     NaN                            NaN   \n",
       "densityPercentSol         124749     NaN                            NaN   \n",
       "pdbxDetails               118534   91025                         pH 7.5   \n",
       "phValue                   105110     NaN                            NaN   \n",
       "publicationYear           117602     NaN                            NaN   \n",
       "\n",
       "                            freq     mean      std     min      25%      50%  \\\n",
       "structureId                    4      NaN      NaN     NaN      NaN      NaN   \n",
       "classification             20915      NaN      NaN     NaN      NaN      NaN   \n",
       "experimentalTechnique     126432      NaN      NaN     NaN      NaN      NaN   \n",
       "macromoleculeType         127798      NaN      NaN     NaN      NaN      NaN   \n",
       "residueCount                 NaN  825.375  2136.46       0      226      414   \n",
       "resolution                   NaN  2.26381  1.41088    0.48      1.8      2.1   \n",
       "structureMolecularWeight     NaN   112079   569015  314.38  26128.6  47477.8   \n",
       "crystallizationMethod      53870      NaN      NaN     NaN      NaN      NaN   \n",
       "crystallizationTempK         NaN  290.968  9.54108       4      290      293   \n",
       "densityMatthews              NaN  2.67027  0.78374       0     2.21     2.49   \n",
       "densityPercentSol            NaN  51.3532  10.1046       0    44.37     50.5   \n",
       "pdbxDetails                  361      NaN      NaN     NaN      NaN      NaN   \n",
       "phValue                      NaN  6.78869  2.55682       0        6        7   \n",
       "publicationYear              NaN  2008.92  8.45929     201     2005     2010   \n",
       "\n",
       "                              75%          max  \n",
       "structureId                   NaN          NaN  \n",
       "classification                NaN          NaN  \n",
       "experimentalTechnique         NaN          NaN  \n",
       "macromoleculeType             NaN          NaN  \n",
       "residueCount                  820       313236  \n",
       "resolution                    2.5           70  \n",
       "structureMolecularWeight  94084.8  9.77305e+07  \n",
       "crystallizationMethod         NaN          NaN  \n",
       "crystallizationTempK          295          398  \n",
       "densityMatthews              2.91           99  \n",
       "densityPercentSol           57.71           92  \n",
       "pdbxDetails                   NaN          NaN  \n",
       "phValue                       7.5          724  \n",
       "publicationYear              2014         2018  "
      ]
     },
     "execution_count": 9,
     "metadata": {},
     "output_type": "execute_result"
    }
   ],
   "source": [
    "data.describe(include='all').T"
   ]
  },
  {
   "cell_type": "code",
   "execution_count": 10,
   "metadata": {},
   "outputs": [
    {
     "data": {
      "text/html": [
       "<div>\n",
       "<style scoped>\n",
       "    .dataframe tbody tr th:only-of-type {\n",
       "        vertical-align: middle;\n",
       "    }\n",
       "\n",
       "    .dataframe tbody tr th {\n",
       "        vertical-align: top;\n",
       "    }\n",
       "\n",
       "    .dataframe thead th {\n",
       "        text-align: right;\n",
       "    }\n",
       "</style>\n",
       "<table border=\"1\" class=\"dataframe\">\n",
       "  <thead>\n",
       "    <tr style=\"text-align: right;\">\n",
       "      <th></th>\n",
       "      <th>count</th>\n",
       "      <th>unique</th>\n",
       "      <th>top</th>\n",
       "      <th>freq</th>\n",
       "      <th>mean</th>\n",
       "      <th>std</th>\n",
       "      <th>min</th>\n",
       "      <th>25%</th>\n",
       "      <th>50%</th>\n",
       "      <th>75%</th>\n",
       "      <th>max</th>\n",
       "    </tr>\n",
       "  </thead>\n",
       "  <tbody>\n",
       "    <tr>\n",
       "      <th>structureId</th>\n",
       "      <td>467304</td>\n",
       "      <td>140250</td>\n",
       "      <td>3J3Q</td>\n",
       "      <td>1356</td>\n",
       "      <td>NaN</td>\n",
       "      <td>NaN</td>\n",
       "      <td>NaN</td>\n",
       "      <td>NaN</td>\n",
       "      <td>NaN</td>\n",
       "      <td>NaN</td>\n",
       "      <td>NaN</td>\n",
       "    </tr>\n",
       "    <tr>\n",
       "      <th>chainId</th>\n",
       "      <td>467294</td>\n",
       "      <td>2836</td>\n",
       "      <td>A</td>\n",
       "      <td>135187</td>\n",
       "      <td>NaN</td>\n",
       "      <td>NaN</td>\n",
       "      <td>NaN</td>\n",
       "      <td>NaN</td>\n",
       "      <td>NaN</td>\n",
       "      <td>NaN</td>\n",
       "      <td>NaN</td>\n",
       "    </tr>\n",
       "    <tr>\n",
       "      <th>sequence</th>\n",
       "      <td>467276</td>\n",
       "      <td>104812</td>\n",
       "      <td>PIVQNLQGQMVHQAISPRTLNAWVKVVEEKAFSPEVIPMFSALSEG...</td>\n",
       "      <td>5112</td>\n",
       "      <td>NaN</td>\n",
       "      <td>NaN</td>\n",
       "      <td>NaN</td>\n",
       "      <td>NaN</td>\n",
       "      <td>NaN</td>\n",
       "      <td>NaN</td>\n",
       "      <td>NaN</td>\n",
       "    </tr>\n",
       "    <tr>\n",
       "      <th>residueCount</th>\n",
       "      <td>467304</td>\n",
       "      <td>NaN</td>\n",
       "      <td>NaN</td>\n",
       "      <td>NaN</td>\n",
       "      <td>6173.43</td>\n",
       "      <td>23645.6</td>\n",
       "      <td>0</td>\n",
       "      <td>456</td>\n",
       "      <td>1131</td>\n",
       "      <td>4342</td>\n",
       "      <td>313236</td>\n",
       "    </tr>\n",
       "    <tr>\n",
       "      <th>macromoleculeType</th>\n",
       "      <td>432487</td>\n",
       "      <td>13</td>\n",
       "      <td>Protein</td>\n",
       "      <td>345180</td>\n",
       "      <td>NaN</td>\n",
       "      <td>NaN</td>\n",
       "      <td>NaN</td>\n",
       "      <td>NaN</td>\n",
       "      <td>NaN</td>\n",
       "      <td>NaN</td>\n",
       "      <td>NaN</td>\n",
       "    </tr>\n",
       "  </tbody>\n",
       "</table>\n",
       "</div>"
      ],
      "text/plain": [
       "                    count  unique  \\\n",
       "structureId        467304  140250   \n",
       "chainId            467294    2836   \n",
       "sequence           467276  104812   \n",
       "residueCount       467304     NaN   \n",
       "macromoleculeType  432487      13   \n",
       "\n",
       "                                                                 top    freq  \\\n",
       "structureId                                                     3J3Q    1356   \n",
       "chainId                                                            A  135187   \n",
       "sequence           PIVQNLQGQMVHQAISPRTLNAWVKVVEEKAFSPEVIPMFSALSEG...    5112   \n",
       "residueCount                                                     NaN     NaN   \n",
       "macromoleculeType                                            Protein  345180   \n",
       "\n",
       "                      mean      std  min  25%   50%   75%     max  \n",
       "structureId            NaN      NaN  NaN  NaN   NaN   NaN     NaN  \n",
       "chainId                NaN      NaN  NaN  NaN   NaN   NaN     NaN  \n",
       "sequence               NaN      NaN  NaN  NaN   NaN   NaN     NaN  \n",
       "residueCount       6173.43  23645.6    0  456  1131  4342  313236  \n",
       "macromoleculeType      NaN      NaN  NaN  NaN   NaN   NaN     NaN  "
      ]
     },
     "execution_count": 10,
     "metadata": {},
     "output_type": "execute_result"
    }
   ],
   "source": [
    "data_seq.describe(include='all').T"
   ]
  },
  {
   "cell_type": "code",
   "execution_count": 11,
   "metadata": {},
   "outputs": [
    {
     "data": {
      "text/plain": [
       "Index(['structureId', 'classification', 'experimentalTechnique',\n",
       "       'macromoleculeType', 'residueCount', 'resolution',\n",
       "       'structureMolecularWeight', 'crystallizationMethod',\n",
       "       'crystallizationTempK', 'densityMatthews', 'densityPercentSol',\n",
       "       'pdbxDetails', 'phValue', 'publicationYear'],\n",
       "      dtype='object')"
      ]
     },
     "execution_count": 11,
     "metadata": {},
     "output_type": "execute_result"
    }
   ],
   "source": [
    "data.columns\n"
   ]
  },
  {
   "cell_type": "code",
   "execution_count": 12,
   "metadata": {},
   "outputs": [],
   "source": [
    "year_df = data.groupby(['publicationYear']).count()['structureId'].reset_index()\n",
    "year_df = year_df[year_df['publicationYear']!=2017]"
   ]
  },
  {
   "cell_type": "code",
   "execution_count": 13,
   "metadata": {},
   "outputs": [
    {
     "data": {
      "image/png": "[encoded data removed]",
      "text/plain": [
       "<Figure size 720x504 with 1 Axes>"
      ]
     },
     "metadata": {
      "needs_background": "light"
     },
     "output_type": "display_data"
    }
   ],
   "source": [
    "plt.figure(figsize=(10,7))\n",
    "plt.plot(year_df['publicationYear'], year_df['structureId'])\n",
    "\n",
    "\n",
    "plt.xlabel('Publication Year')\n",
    "plt.ylabel('Proteins entered into PDB')\n",
    "plt.title('Growth of the PDB over time')\n",
    "plt.show()"
   ]
  },
  {
   "cell_type": "code",
   "execution_count": 14,
   "metadata": {},
   "outputs": [
    {
     "data": {
      "text/plain": [
       "140911"
      ]
     },
     "execution_count": 14,
     "metadata": {},
     "output_type": "execute_result"
    }
   ],
   "source": [
    "data.structureId.nunique()\n"
   ]
  },
  {
   "cell_type": "code",
   "execution_count": 15,
   "metadata": {},
   "outputs": [
    {
     "data": {
      "text/plain": [
       "201.0"
      ]
     },
     "execution_count": 15,
     "metadata": {},
     "output_type": "execute_result"
    }
   ],
   "source": [
    "data['publicationYear'].min()"
   ]
  },
  {
   "cell_type": "code",
   "execution_count": 16,
   "metadata": {},
   "outputs": [],
   "source": [
    "py= data.groupby(\"publicationYear\").structureId.count()\n"
   ]
  },
  {
   "cell_type": "code",
   "execution_count": 17,
   "metadata": {},
   "outputs": [
    {
     "ename": "NameError",
     "evalue": "name 'sns' is not defined",
     "output_type": "error",
     "traceback": [
      "\u001b[1;31m---------------------------------------------------------------------------\u001b[0m",
      "\u001b[1;31mNameError\u001b[0m                                 Traceback (most recent call last)",
      "\u001b[1;32m<ipython-input-17-920664bcc4c7>\u001b[0m in \u001b[0;36m<module>\u001b[1;34m\u001b[0m\n\u001b[0;32m      1\u001b[0m \u001b[0mplt\u001b[0m\u001b[1;33m.\u001b[0m\u001b[0mfigure\u001b[0m\u001b[1;33m(\u001b[0m\u001b[0mfigsize\u001b[0m\u001b[1;33m=\u001b[0m\u001b[1;33m(\u001b[0m\u001b[1;36m12\u001b[0m\u001b[1;33m,\u001b[0m\u001b[1;36m6\u001b[0m\u001b[1;33m)\u001b[0m\u001b[1;33m)\u001b[0m\u001b[1;33m\u001b[0m\u001b[1;33m\u001b[0m\u001b[0m\n\u001b[1;32m----> 2\u001b[1;33m \u001b[0msns\u001b[0m\u001b[1;33m.\u001b[0m\u001b[0mscatterplot\u001b[0m\u001b[1;33m(\u001b[0m\u001b[0mx\u001b[0m \u001b[1;33m=\u001b[0m \u001b[0mpy\u001b[0m\u001b[1;33m.\u001b[0m\u001b[0mkeys\u001b[0m\u001b[1;33m(\u001b[0m\u001b[1;33m)\u001b[0m\u001b[1;33m,\u001b[0m \u001b[0my\u001b[0m \u001b[1;33m=\u001b[0m \u001b[0mpy\u001b[0m \u001b[1;33m)\u001b[0m\u001b[1;33m\u001b[0m\u001b[1;33m\u001b[0m\u001b[0m\n\u001b[0m\u001b[0;32m      3\u001b[0m \u001b[0mplt\u001b[0m\u001b[1;33m.\u001b[0m\u001b[0mylabel\u001b[0m\u001b[1;33m(\u001b[0m\u001b[1;34m\"Number of structure determined\"\u001b[0m\u001b[1;33m)\u001b[0m\u001b[1;33m\u001b[0m\u001b[1;33m\u001b[0m\u001b[0m\n",
      "\u001b[1;31mNameError\u001b[0m: name 'sns' is not defined"
     ]
    },
    {
     "data": {
      "text/plain": [
       "<Figure size 864x432 with 0 Axes>"
      ]
     },
     "metadata": {},
     "output_type": "display_data"
    }
   ],
   "source": [
    "plt.figure(figsize=(12,6))\n",
    "sns.scatterplot(x = py.keys(), y = py )\n",
    "plt.ylabel(\"Number of structure determined\")"
   ]
  },
  {
   "cell_type": "code",
   "execution_count": 18,
   "metadata": {},
   "outputs": [],
   "source": [
    "import seaborn as sns"
   ]
  },
  {
   "cell_type": "code",
   "execution_count": 19,
   "metadata": {},
   "outputs": [
    {
     "data": {
      "text/plain": [
       "Text(0, 0.5, 'Number of structure determined')"
      ]
     },
     "execution_count": 19,
     "metadata": {},
     "output_type": "execute_result"
    },
    {
     "data": {
      "image/png": "[encoded data removed]",
      "text/plain": [
       "<Figure size 864x432 with 1 Axes>"
      ]
     },
     "metadata": {
      "needs_background": "light"
     },
     "output_type": "display_data"
    }
   ],
   "source": [
    "plt.figure(figsize=(12,6))\n",
    "sns.scatterplot(x = py.keys(), y = py )\n",
    "plt.ylabel(\"Number of structure determined\")"
   ]
  },
  {
   "cell_type": "code",
   "execution_count": 20,
   "metadata": {},
   "outputs": [],
   "source": [
    "py.drop(labels = 201.0, inplace = True)"
   ]
  },
  {
   "cell_type": "code",
   "execution_count": 21,
   "metadata": {},
   "outputs": [
    {
     "data": {
      "text/plain": [
       "Text(0, 0.5, 'Number of structure determined')"
      ]
     },
     "execution_count": 21,
     "metadata": {},
     "output_type": "execute_result"
    },
    {
     "data": {
      "image/png": "[encoded data removed]",
      "text/plain": [
       "<Figure size 864x432 with 1 Axes>"
      ]
     },
     "metadata": {
      "needs_background": "light"
     },
     "output_type": "display_data"
    }
   ],
   "source": [
    "plt.figure(figsize=(12,6))\n",
    "sns.scatterplot(x = py.keys(), y = py )\n",
    "plt.ylabel(\"Number of structure determined\")"
   ]
  },
  {
   "cell_type": "code",
   "execution_count": 22,
   "metadata": {},
   "outputs": [
    {
     "name": "stdout",
     "output_type": "stream",
     "text": [
      "There are 5050 different biomolecules present in the dataset\n"
     ]
    }
   ],
   "source": [
    "print (\"There are {} different biomolecules present in the dataset\".format(data.classification.nunique()))"
   ]
  },
  {
   "cell_type": "code",
   "execution_count": 23,
   "metadata": {},
   "outputs": [
    {
     "data": {
      "text/plain": [
       "HYDROLASE                                20915\n",
       "TRANSFERASE                              15777\n",
       "OXIDOREDUCTASE                           12494\n",
       "LYASE                                     4329\n",
       "IMMUNE SYSTEM                             4075\n",
       "TRANSCRIPTION                             3691\n",
       "TRANSPORT PROTEIN                         3251\n",
       "SIGNALING PROTEIN                         2904\n",
       "HYDROLASE/HYDROLASE INHIBITOR             2677\n",
       "ISOMERASE                                 2602\n",
       "VIRAL PROTEIN                             2320\n",
       "LIGASE                                    2133\n",
       "PROTEIN BINDING                           1892\n",
       "DNA                                       1765\n",
       "STRUCTURAL GENOMICS, UNKNOWN FUNCTION     1738\n",
       "MEMBRANE PROTEIN                          1731\n",
       "TRANSFERASE/TRANSFERASE INHIBITOR         1695\n",
       "DNA BINDING PROTEIN                       1517\n",
       "RIBOSOME                                  1462\n",
       "METAL BINDING PROTEIN                     1383\n",
       "Name: classification, dtype: int64"
      ]
     },
     "execution_count": 23,
     "metadata": {},
     "output_type": "execute_result"
    }
   ],
   "source": [
    "clas = (data.classification.value_counts())[0:20]\n",
    "clas"
   ]
  },
  {
   "cell_type": "code",
   "execution_count": 24,
   "metadata": {},
   "outputs": [
    {
     "data": {
      "text/plain": [
       "Text(0.5, 1.0, 'Top 20 Different molecules in the database')"
      ]
     },
     "execution_count": 24,
     "metadata": {},
     "output_type": "execute_result"
    },
    {
     "data": {
      "image/png": "[encoded data removed]",
      "text/plain": [
       "<Figure size 864x432 with 1 Axes>"
      ]
     },
     "metadata": {
      "needs_background": "light"
     },
     "output_type": "display_data"
    }
   ],
   "source": [
    "plt.figure(figsize=(12,6))\n",
    "clas.plot(kind = \"bar\")\n",
    "plt.ylabel(\"Counts\")\n",
    "plt.xlabel(\"Different biomolecule\")\n",
    "plt.title(\"Top 20 Different molecules in the database\")"
   ]
  },
  {
   "cell_type": "code",
   "execution_count": 25,
   "metadata": {},
   "outputs": [
    {
     "data": {
      "text/plain": [
       "13"
      ]
     },
     "execution_count": 25,
     "metadata": {},
     "output_type": "execute_result"
    }
   ],
   "source": [
    "data.macromoleculeType.nunique()"
   ]
  },
  {
   "cell_type": "code",
   "execution_count": 26,
   "metadata": {},
   "outputs": [
    {
     "data": {
      "text/plain": [
       "Protein                       127798\n",
       "Protein#DNA                     4176\n",
       "Protein#RNA                     2162\n",
       "DNA                             1744\n",
       "RNA                             1295\n",
       "Protein#DNA#RNA                  250\n",
       "DNA/RNA Hybrid                    58\n",
       "DNA#RNA                           51\n",
       "Protein#DNA#DNA/RNA Hybrid        34\n",
       "RNA#DNA/RNA Hybrid                27\n",
       "Protein#DNA/RNA Hybrid            19\n",
       "DNA#DNA/RNA Hybrid                13\n",
       "Protein#RNA#DNA/RNA Hybrid         9\n",
       "Name: macromoleculeType, dtype: int64"
      ]
     },
     "execution_count": 26,
     "metadata": {},
     "output_type": "execute_result"
    }
   ],
   "source": [
    "data.macromoleculeType.value_counts()"
   ]
  },
  {
   "cell_type": "code",
   "execution_count": 27,
   "metadata": {},
   "outputs": [
    {
     "data": {
      "text/html": [
       "<div>\n",
       "<style scoped>\n",
       "    .dataframe tbody tr th:only-of-type {\n",
       "        vertical-align: middle;\n",
       "    }\n",
       "\n",
       "    .dataframe tbody tr th {\n",
       "        vertical-align: top;\n",
       "    }\n",
       "\n",
       "    .dataframe thead th {\n",
       "        text-align: right;\n",
       "    }\n",
       "</style>\n",
       "<table border=\"1\" class=\"dataframe\">\n",
       "  <thead>\n",
       "    <tr style=\"text-align: right;\">\n",
       "      <th></th>\n",
       "      <th>structureId</th>\n",
       "      <th>chainId</th>\n",
       "      <th>sequence</th>\n",
       "      <th>residueCount</th>\n",
       "      <th>macromoleculeType</th>\n",
       "    </tr>\n",
       "  </thead>\n",
       "  <tbody>\n",
       "    <tr>\n",
       "      <th>0</th>\n",
       "      <td>100D</td>\n",
       "      <td>A</td>\n",
       "      <td>CCGGCGCCGG</td>\n",
       "      <td>20</td>\n",
       "      <td>DNA/RNA Hybrid</td>\n",
       "    </tr>\n",
       "    <tr>\n",
       "      <th>1</th>\n",
       "      <td>100D</td>\n",
       "      <td>B</td>\n",
       "      <td>CCGGCGCCGG</td>\n",
       "      <td>20</td>\n",
       "      <td>DNA/RNA Hybrid</td>\n",
       "    </tr>\n",
       "    <tr>\n",
       "      <th>2</th>\n",
       "      <td>101D</td>\n",
       "      <td>A</td>\n",
       "      <td>CGCGAATTCGCG</td>\n",
       "      <td>24</td>\n",
       "      <td>DNA</td>\n",
       "    </tr>\n",
       "    <tr>\n",
       "      <th>3</th>\n",
       "      <td>101D</td>\n",
       "      <td>B</td>\n",
       "      <td>CGCGAATTCGCG</td>\n",
       "      <td>24</td>\n",
       "      <td>DNA</td>\n",
       "    </tr>\n",
       "    <tr>\n",
       "      <th>4</th>\n",
       "      <td>101M</td>\n",
       "      <td>A</td>\n",
       "      <td>MVLSEGEWQLVLHVWAKVEADVAGHGQDILIRLFKSHPETLEKFDR...</td>\n",
       "      <td>154</td>\n",
       "      <td>Protein</td>\n",
       "    </tr>\n",
       "  </tbody>\n",
       "</table>\n",
       "</div>"
      ],
      "text/plain": [
       "  structureId chainId                                           sequence  \\\n",
       "0        100D       A                                         CCGGCGCCGG   \n",
       "1        100D       B                                         CCGGCGCCGG   \n",
       "2        101D       A                                       CGCGAATTCGCG   \n",
       "3        101D       B                                       CGCGAATTCGCG   \n",
       "4        101M       A  MVLSEGEWQLVLHVWAKVEADVAGHGQDILIRLFKSHPETLEKFDR...   \n",
       "\n",
       "   residueCount macromoleculeType  \n",
       "0            20    DNA/RNA Hybrid  \n",
       "1            20    DNA/RNA Hybrid  \n",
       "2            24               DNA  \n",
       "3            24               DNA  \n",
       "4           154           Protein  "
      ]
     },
     "execution_count": 27,
     "metadata": {},
     "output_type": "execute_result"
    }
   ],
   "source": [
    "data_seq.head()"
   ]
  },
  {
   "cell_type": "code",
   "execution_count": 28,
   "metadata": {},
   "outputs": [
    {
     "data": {
      "text/plain": [
       "140250"
      ]
     },
     "execution_count": 28,
     "metadata": {},
     "output_type": "execute_result"
    }
   ],
   "source": [
    "data_seq.structureId.nunique()"
   ]
  },
  {
   "cell_type": "code",
   "execution_count": 29,
   "metadata": {},
   "outputs": [
    {
     "data": {
      "text/plain": [
       "(467304, 5)"
      ]
     },
     "execution_count": 29,
     "metadata": {},
     "output_type": "execute_result"
    }
   ],
   "source": [
    "data_seq.shape\n"
   ]
  },
  {
   "cell_type": "code",
   "execution_count": 30,
   "metadata": {},
   "outputs": [
    {
     "data": {
      "text/plain": [
       "Protein                       345180\n",
       "Protein#RNA                    56226\n",
       "Protein#DNA                    21303\n",
       "DNA                             3784\n",
       "Protein#DNA#RNA                 2712\n",
       "RNA                             2389\n",
       "Protein#RNA#DNA/RNA Hybrid       304\n",
       "Protein#DNA#DNA/RNA Hybrid       159\n",
       "DNA/RNA Hybrid                   141\n",
       "DNA#RNA                          121\n",
       "RNA#DNA/RNA Hybrid                74\n",
       "Protein#DNA/RNA Hybrid            68\n",
       "DNA#DNA/RNA Hybrid                26\n",
       "Name: macromoleculeType, dtype: int64"
      ]
     },
     "execution_count": 30,
     "metadata": {},
     "output_type": "execute_result"
    }
   ],
   "source": [
    "data_seq.macromoleculeType.value_counts()"
   ]
  },
  {
   "cell_type": "code",
   "execution_count": 31,
   "metadata": {},
   "outputs": [],
   "source": [
    "df = data.merge(data_seq, how =\"inner\", on =\"structureId\")"
   ]
  },
  {
   "cell_type": "code",
   "execution_count": 33,
   "metadata": {},
   "outputs": [
    {
     "data": {
      "text/html": [
       "<div>\n",
       "<style scoped>\n",
       "    .dataframe tbody tr th:only-of-type {\n",
       "        vertical-align: middle;\n",
       "    }\n",
       "\n",
       "    .dataframe tbody tr th {\n",
       "        vertical-align: top;\n",
       "    }\n",
       "\n",
       "    .dataframe thead th {\n",
       "        text-align: right;\n",
       "    }\n",
       "</style>\n",
       "<table border=\"1\" class=\"dataframe\">\n",
       "  <thead>\n",
       "    <tr style=\"text-align: right;\">\n",
       "      <th></th>\n",
       "      <th>structureId</th>\n",
       "      <th>classification</th>\n",
       "      <th>experimentalTechnique</th>\n",
       "      <th>macromoleculeType_x</th>\n",
       "      <th>residueCount_x</th>\n",
       "      <th>resolution</th>\n",
       "      <th>structureMolecularWeight</th>\n",
       "      <th>crystallizationMethod</th>\n",
       "      <th>crystallizationTempK</th>\n",
       "      <th>densityMatthews</th>\n",
       "      <th>densityPercentSol</th>\n",
       "      <th>pdbxDetails</th>\n",
       "      <th>phValue</th>\n",
       "      <th>publicationYear</th>\n",
       "      <th>chainId</th>\n",
       "      <th>sequence</th>\n",
       "      <th>residueCount_y</th>\n",
       "      <th>macromoleculeType_y</th>\n",
       "    </tr>\n",
       "  </thead>\n",
       "  <tbody>\n",
       "    <tr>\n",
       "      <th>0</th>\n",
       "      <td>100D</td>\n",
       "      <td>DNA-RNA HYBRID</td>\n",
       "      <td>X-RAY DIFFRACTION</td>\n",
       "      <td>DNA/RNA Hybrid</td>\n",
       "      <td>20</td>\n",
       "      <td>1.90</td>\n",
       "      <td>6360.30</td>\n",
       "      <td>VAPOR DIFFUSION, HANGING DROP</td>\n",
       "      <td>NaN</td>\n",
       "      <td>1.78</td>\n",
       "      <td>30.89</td>\n",
       "      <td>pH 7.00, VAPOR DIFFUSION, HANGING DROP</td>\n",
       "      <td>7.0</td>\n",
       "      <td>1994.0</td>\n",
       "      <td>A</td>\n",
       "      <td>CCGGCGCCGG</td>\n",
       "      <td>20</td>\n",
       "      <td>DNA/RNA Hybrid</td>\n",
       "    </tr>\n",
       "    <tr>\n",
       "      <th>1</th>\n",
       "      <td>100D</td>\n",
       "      <td>DNA-RNA HYBRID</td>\n",
       "      <td>X-RAY DIFFRACTION</td>\n",
       "      <td>DNA/RNA Hybrid</td>\n",
       "      <td>20</td>\n",
       "      <td>1.90</td>\n",
       "      <td>6360.30</td>\n",
       "      <td>VAPOR DIFFUSION, HANGING DROP</td>\n",
       "      <td>NaN</td>\n",
       "      <td>1.78</td>\n",
       "      <td>30.89</td>\n",
       "      <td>pH 7.00, VAPOR DIFFUSION, HANGING DROP</td>\n",
       "      <td>7.0</td>\n",
       "      <td>1994.0</td>\n",
       "      <td>B</td>\n",
       "      <td>CCGGCGCCGG</td>\n",
       "      <td>20</td>\n",
       "      <td>DNA/RNA Hybrid</td>\n",
       "    </tr>\n",
       "    <tr>\n",
       "      <th>2</th>\n",
       "      <td>101D</td>\n",
       "      <td>DNA</td>\n",
       "      <td>X-RAY DIFFRACTION</td>\n",
       "      <td>DNA</td>\n",
       "      <td>24</td>\n",
       "      <td>2.25</td>\n",
       "      <td>7939.35</td>\n",
       "      <td>NaN</td>\n",
       "      <td>NaN</td>\n",
       "      <td>2.00</td>\n",
       "      <td>38.45</td>\n",
       "      <td>NaN</td>\n",
       "      <td>NaN</td>\n",
       "      <td>1995.0</td>\n",
       "      <td>A</td>\n",
       "      <td>CGCGAATTCGCG</td>\n",
       "      <td>24</td>\n",
       "      <td>DNA</td>\n",
       "    </tr>\n",
       "    <tr>\n",
       "      <th>3</th>\n",
       "      <td>101D</td>\n",
       "      <td>DNA</td>\n",
       "      <td>X-RAY DIFFRACTION</td>\n",
       "      <td>DNA</td>\n",
       "      <td>24</td>\n",
       "      <td>2.25</td>\n",
       "      <td>7939.35</td>\n",
       "      <td>NaN</td>\n",
       "      <td>NaN</td>\n",
       "      <td>2.00</td>\n",
       "      <td>38.45</td>\n",
       "      <td>NaN</td>\n",
       "      <td>NaN</td>\n",
       "      <td>1995.0</td>\n",
       "      <td>B</td>\n",
       "      <td>CGCGAATTCGCG</td>\n",
       "      <td>24</td>\n",
       "      <td>DNA</td>\n",
       "    </tr>\n",
       "    <tr>\n",
       "      <th>4</th>\n",
       "      <td>101M</td>\n",
       "      <td>OXYGEN TRANSPORT</td>\n",
       "      <td>X-RAY DIFFRACTION</td>\n",
       "      <td>Protein</td>\n",
       "      <td>154</td>\n",
       "      <td>2.07</td>\n",
       "      <td>18112.80</td>\n",
       "      <td>NaN</td>\n",
       "      <td>NaN</td>\n",
       "      <td>3.09</td>\n",
       "      <td>60.20</td>\n",
       "      <td>3.0 M AMMONIUM SULFATE, 20 MM TRIS, 1MM EDTA, ...</td>\n",
       "      <td>9.0</td>\n",
       "      <td>1999.0</td>\n",
       "      <td>A</td>\n",
       "      <td>MVLSEGEWQLVLHVWAKVEADVAGHGQDILIRLFKSHPETLEKFDR...</td>\n",
       "      <td>154</td>\n",
       "      <td>Protein</td>\n",
       "    </tr>\n",
       "  </tbody>\n",
       "</table>\n",
       "</div>"
      ],
      "text/plain": [
       "  structureId    classification experimentalTechnique macromoleculeType_x  \\\n",
       "0        100D    DNA-RNA HYBRID     X-RAY DIFFRACTION      DNA/RNA Hybrid   \n",
       "1        100D    DNA-RNA HYBRID     X-RAY DIFFRACTION      DNA/RNA Hybrid   \n",
       "2        101D               DNA     X-RAY DIFFRACTION                 DNA   \n",
       "3        101D               DNA     X-RAY DIFFRACTION                 DNA   \n",
       "4        101M  OXYGEN TRANSPORT     X-RAY DIFFRACTION             Protein   \n",
       "\n",
       "   residueCount_x  resolution  structureMolecularWeight  \\\n",
       "0              20        1.90                   6360.30   \n",
       "1              20        1.90                   6360.30   \n",
       "2              24        2.25                   7939.35   \n",
       "3              24        2.25                   7939.35   \n",
       "4             154        2.07                  18112.80   \n",
       "\n",
       "           crystallizationMethod  crystallizationTempK  densityMatthews  \\\n",
       "0  VAPOR DIFFUSION, HANGING DROP                   NaN             1.78   \n",
       "1  VAPOR DIFFUSION, HANGING DROP                   NaN             1.78   \n",
       "2                            NaN                   NaN             2.00   \n",
       "3                            NaN                   NaN             2.00   \n",
       "4                            NaN                   NaN             3.09   \n",
       "\n",
       "   densityPercentSol                                        pdbxDetails  \\\n",
       "0              30.89             pH 7.00, VAPOR DIFFUSION, HANGING DROP   \n",
       "1              30.89             pH 7.00, VAPOR DIFFUSION, HANGING DROP   \n",
       "2              38.45                                                NaN   \n",
       "3              38.45                                                NaN   \n",
       "4              60.20  3.0 M AMMONIUM SULFATE, 20 MM TRIS, 1MM EDTA, ...   \n",
       "\n",
       "   phValue  publicationYear chainId  \\\n",
       "0      7.0           1994.0       A   \n",
       "1      7.0           1994.0       B   \n",
       "2      NaN           1995.0       A   \n",
       "3      NaN           1995.0       B   \n",
       "4      9.0           1999.0       A   \n",
       "\n",
       "                                            sequence  residueCount_y  \\\n",
       "0                                         CCGGCGCCGG              20   \n",
       "1                                         CCGGCGCCGG              20   \n",
       "2                                       CGCGAATTCGCG              24   \n",
       "3                                       CGCGAATTCGCG              24   \n",
       "4  MVLSEGEWQLVLHVWAKVEADVAGHGQDILIRLFKSHPETLEKFDR...             154   \n",
       "\n",
       "  macromoleculeType_y  \n",
       "0      DNA/RNA Hybrid  \n",
       "1      DNA/RNA Hybrid  \n",
       "2                 DNA  \n",
       "3                 DNA  \n",
       "4             Protein  "
      ]
     },
     "execution_count": 33,
     "metadata": {},
     "output_type": "execute_result"
    }
   ],
   "source": [
    "df.head()"
   ]
  },
  {
   "cell_type": "code",
   "execution_count": 34,
   "metadata": {},
   "outputs": [
    {
     "data": {
      "text/plain": [
       "Index(['structureId', 'classification', 'experimentalTechnique',\n",
       "       'macromoleculeType_x', 'residueCount_x', 'resolution',\n",
       "       'structureMolecularWeight', 'crystallizationMethod',\n",
       "       'crystallizationTempK', 'densityMatthews', 'densityPercentSol',\n",
       "       'pdbxDetails', 'phValue', 'publicationYear', 'chainId', 'sequence',\n",
       "       'residueCount_y', 'macromoleculeType_y'],\n",
       "      dtype='object')"
      ]
     },
     "execution_count": 34,
     "metadata": {},
     "output_type": "execute_result"
    }
   ],
   "source": [
    "df.columns"
   ]
  },
  {
   "cell_type": "code",
   "execution_count": 35,
   "metadata": {},
   "outputs": [],
   "source": [
    "df.drop(['residueCount_y', 'macromoleculeType_y'], axis =1, inplace = True)"
   ]
  },
  {
   "cell_type": "code",
   "execution_count": 36,
   "metadata": {},
   "outputs": [],
   "source": [
    "df = df[df['macromoleculeType_x'] == \"Protein\"]"
   ]
  },
  {
   "cell_type": "code",
   "execution_count": 37,
   "metadata": {},
   "outputs": [
    {
     "data": {
      "text/plain": [
       "(346325, 16)"
      ]
     },
     "execution_count": 37,
     "metadata": {},
     "output_type": "execute_result"
    }
   ],
   "source": [
    "df.shape"
   ]
  },
  {
   "cell_type": "code",
   "execution_count": 38,
   "metadata": {},
   "outputs": [
    {
     "data": {
      "text/plain": [
       "1"
      ]
     },
     "execution_count": 38,
     "metadata": {},
     "output_type": "execute_result"
    }
   ],
   "source": [
    "df['macromoleculeType_x'].nunique()"
   ]
  },
  {
   "cell_type": "code",
   "execution_count": 40,
   "metadata": {},
   "outputs": [
    {
     "data": {
      "text/plain": [
       "structureId                      0\n",
       "classification                   1\n",
       "experimentalTechnique            0\n",
       "macromoleculeType_x              0\n",
       "residueCount_x                   0\n",
       "resolution                   16093\n",
       "structureMolecularWeight         0\n",
       "crystallizationMethod       105728\n",
       "crystallizationTempK        102391\n",
       "densityMatthews              38844\n",
       "densityPercentSol            38710\n",
       "pdbxDetails                  51628\n",
       "phValue                      87195\n",
       "publicationYear              50962\n",
       "chainId                          2\n",
       "sequence                         3\n",
       "dtype: int64"
      ]
     },
     "execution_count": 40,
     "metadata": {},
     "output_type": "execute_result"
    }
   ],
   "source": [
    "df.isnull().sum()"
   ]
  },
  {
   "cell_type": "code",
   "execution_count": 41,
   "metadata": {},
   "outputs": [
    {
     "data": {
      "text/plain": [
       "structureId                      0\n",
       "classification                   0\n",
       "experimentalTechnique            0\n",
       "macromoleculeType_x              0\n",
       "residueCount_x                   0\n",
       "resolution                   16093\n",
       "structureMolecularWeight         0\n",
       "crystallizationMethod       105728\n",
       "crystallizationTempK        102391\n",
       "densityMatthews              38844\n",
       "densityPercentSol            38710\n",
       "pdbxDetails                  51628\n",
       "phValue                      87194\n",
       "publicationYear              50962\n",
       "chainId                          2\n",
       "sequence                         0\n",
       "dtype: int64"
      ]
     },
     "execution_count": 41,
     "metadata": {},
     "output_type": "execute_result"
    }
   ],
   "source": [
    "df = df[pd.notnull(df['sequence'])]\n",
    "df = df[pd.notnull(df['classification'])]\n",
    "df.isnull().sum()"
   ]
  },
  {
   "cell_type": "code",
   "execution_count": 42,
   "metadata": {},
   "outputs": [
    {
     "name": "stderr",
     "output_type": "stream",
     "text": [
      "C:\\Users\\dell\\Anaconda3\\lib\\site-packages\\ipykernel_launcher.py:1: UserWarning: This pattern has match groups. To actually get the groups, use str.extract.\n",
      "  \"\"\"Entry point for launching an IPython kernel.\n"
     ]
    },
    {
     "data": {
      "text/html": [
       "<div>\n",
       "<style scoped>\n",
       "    .dataframe tbody tr th:only-of-type {\n",
       "        vertical-align: middle;\n",
       "    }\n",
       "\n",
       "    .dataframe tbody tr th {\n",
       "        vertical-align: top;\n",
       "    }\n",
       "\n",
       "    .dataframe thead th {\n",
       "        text-align: right;\n",
       "    }\n",
       "</style>\n",
       "<table border=\"1\" class=\"dataframe\">\n",
       "  <thead>\n",
       "    <tr style=\"text-align: right;\">\n",
       "      <th></th>\n",
       "      <th>structureId</th>\n",
       "      <th>classification</th>\n",
       "      <th>experimentalTechnique</th>\n",
       "      <th>macromoleculeType_x</th>\n",
       "      <th>residueCount_x</th>\n",
       "      <th>resolution</th>\n",
       "      <th>structureMolecularWeight</th>\n",
       "      <th>crystallizationMethod</th>\n",
       "      <th>crystallizationTempK</th>\n",
       "      <th>densityMatthews</th>\n",
       "      <th>densityPercentSol</th>\n",
       "      <th>pdbxDetails</th>\n",
       "      <th>phValue</th>\n",
       "      <th>publicationYear</th>\n",
       "      <th>chainId</th>\n",
       "      <th>sequence</th>\n",
       "    </tr>\n",
       "  </thead>\n",
       "  <tbody>\n",
       "    <tr>\n",
       "      <th>2321</th>\n",
       "      <td>1ATI</td>\n",
       "      <td>PROTEIN BIOSYNTHESIS</td>\n",
       "      <td>X-RAY DIFFRACTION</td>\n",
       "      <td>Protein</td>\n",
       "      <td>1063</td>\n",
       "      <td>2.75</td>\n",
       "      <td>120874.53</td>\n",
       "      <td>NaN</td>\n",
       "      <td>NaN</td>\n",
       "      <td>3.52</td>\n",
       "      <td>61.00</td>\n",
       "      <td>pH 7.5</td>\n",
       "      <td>7.5</td>\n",
       "      <td>1995.0</td>\n",
       "      <td>C</td>\n",
       "      <td>XXXXXXXXXXXXXXXXXXXXXXXXXXXXXXXXXXXXX</td>\n",
       "    </tr>\n",
       "    <tr>\n",
       "      <th>2322</th>\n",
       "      <td>1ATI</td>\n",
       "      <td>PROTEIN BIOSYNTHESIS</td>\n",
       "      <td>X-RAY DIFFRACTION</td>\n",
       "      <td>Protein</td>\n",
       "      <td>1063</td>\n",
       "      <td>2.75</td>\n",
       "      <td>120874.53</td>\n",
       "      <td>NaN</td>\n",
       "      <td>NaN</td>\n",
       "      <td>3.52</td>\n",
       "      <td>61.00</td>\n",
       "      <td>pH 7.5</td>\n",
       "      <td>7.5</td>\n",
       "      <td>1995.0</td>\n",
       "      <td>D</td>\n",
       "      <td>XXXXXXXXXXXXXXXX</td>\n",
       "    </tr>\n",
       "    <tr>\n",
       "      <th>2325</th>\n",
       "      <td>1ATI</td>\n",
       "      <td>PROTEIN BIOSYNTHESIS</td>\n",
       "      <td>X-RAY DIFFRACTION</td>\n",
       "      <td>Protein</td>\n",
       "      <td>1063</td>\n",
       "      <td>2.75</td>\n",
       "      <td>120874.53</td>\n",
       "      <td>NaN</td>\n",
       "      <td>NaN</td>\n",
       "      <td>NaN</td>\n",
       "      <td>NaN</td>\n",
       "      <td>NaN</td>\n",
       "      <td>NaN</td>\n",
       "      <td>1995.0</td>\n",
       "      <td>C</td>\n",
       "      <td>XXXXXXXXXXXXXXXXXXXXXXXXXXXXXXXXXXXXX</td>\n",
       "    </tr>\n",
       "    <tr>\n",
       "      <th>2326</th>\n",
       "      <td>1ATI</td>\n",
       "      <td>PROTEIN BIOSYNTHESIS</td>\n",
       "      <td>X-RAY DIFFRACTION</td>\n",
       "      <td>Protein</td>\n",
       "      <td>1063</td>\n",
       "      <td>2.75</td>\n",
       "      <td>120874.53</td>\n",
       "      <td>NaN</td>\n",
       "      <td>NaN</td>\n",
       "      <td>NaN</td>\n",
       "      <td>NaN</td>\n",
       "      <td>NaN</td>\n",
       "      <td>NaN</td>\n",
       "      <td>1995.0</td>\n",
       "      <td>D</td>\n",
       "      <td>XXXXXXXXXXXXXXXX</td>\n",
       "    </tr>\n",
       "    <tr>\n",
       "      <th>3622</th>\n",
       "      <td>1BCC</td>\n",
       "      <td>OXIDOREDUCTASE</td>\n",
       "      <td>X-RAY DIFFRACTION</td>\n",
       "      <td>Protein</td>\n",
       "      <td>2048</td>\n",
       "      <td>3.16</td>\n",
       "      <td>467225.78</td>\n",
       "      <td>NaN</td>\n",
       "      <td>NaN</td>\n",
       "      <td>3.83</td>\n",
       "      <td>67.90</td>\n",
       "      <td>20MM KMES PH6.7, 75MM NACL, 10% GLYCEROL, AND ...</td>\n",
       "      <td>6.7</td>\n",
       "      <td>1998.0</td>\n",
       "      <td>I</td>\n",
       "      <td>XXXXXXXXXXXXXXXXXXXXXXXXXXXXXXXXX</td>\n",
       "    </tr>\n",
       "    <tr>\n",
       "      <th>5553</th>\n",
       "      <td>1C51</td>\n",
       "      <td>PHOTOSYNTHESIS/ELECTRON TRANSPORT</td>\n",
       "      <td>X-RAY DIFFRACTION</td>\n",
       "      <td>Protein</td>\n",
       "      <td>1844</td>\n",
       "      <td>4.00</td>\n",
       "      <td>223365.34</td>\n",
       "      <td>NaN</td>\n",
       "      <td>NaN</td>\n",
       "      <td>5.80</td>\n",
       "      <td>80.00</td>\n",
       "      <td>pH 6.4</td>\n",
       "      <td>6.4</td>\n",
       "      <td>1999.0</td>\n",
       "      <td>A</td>\n",
       "      <td>XXXXXXXXXXXXXXXXXXXXXXXXXXXXXXXXXXXXXXXXXXXXXX...</td>\n",
       "    </tr>\n",
       "    <tr>\n",
       "      <th>5554</th>\n",
       "      <td>1C51</td>\n",
       "      <td>PHOTOSYNTHESIS/ELECTRON TRANSPORT</td>\n",
       "      <td>X-RAY DIFFRACTION</td>\n",
       "      <td>Protein</td>\n",
       "      <td>1844</td>\n",
       "      <td>4.00</td>\n",
       "      <td>223365.34</td>\n",
       "      <td>NaN</td>\n",
       "      <td>NaN</td>\n",
       "      <td>5.80</td>\n",
       "      <td>80.00</td>\n",
       "      <td>pH 6.4</td>\n",
       "      <td>6.4</td>\n",
       "      <td>1999.0</td>\n",
       "      <td>B</td>\n",
       "      <td>XXXXXXXXXXXXXXXXXXXXXXXXXXXXXXXXXXXXXXXXXXXXXX...</td>\n",
       "    </tr>\n",
       "    <tr>\n",
       "      <th>5555</th>\n",
       "      <td>1C51</td>\n",
       "      <td>PHOTOSYNTHESIS/ELECTRON TRANSPORT</td>\n",
       "      <td>X-RAY DIFFRACTION</td>\n",
       "      <td>Protein</td>\n",
       "      <td>1844</td>\n",
       "      <td>4.00</td>\n",
       "      <td>223365.34</td>\n",
       "      <td>NaN</td>\n",
       "      <td>NaN</td>\n",
       "      <td>5.80</td>\n",
       "      <td>80.00</td>\n",
       "      <td>pH 6.4</td>\n",
       "      <td>6.4</td>\n",
       "      <td>1999.0</td>\n",
       "      <td>C</td>\n",
       "      <td>XXXXXXXXXXXXXXXXXXXXXXXXXXXXXXXXXXXXXXXXXXXXXX...</td>\n",
       "    </tr>\n",
       "    <tr>\n",
       "      <th>5556</th>\n",
       "      <td>1C51</td>\n",
       "      <td>PHOTOSYNTHESIS/ELECTRON TRANSPORT</td>\n",
       "      <td>X-RAY DIFFRACTION</td>\n",
       "      <td>Protein</td>\n",
       "      <td>1844</td>\n",
       "      <td>4.00</td>\n",
       "      <td>223365.34</td>\n",
       "      <td>NaN</td>\n",
       "      <td>NaN</td>\n",
       "      <td>5.80</td>\n",
       "      <td>80.00</td>\n",
       "      <td>pH 6.4</td>\n",
       "      <td>6.4</td>\n",
       "      <td>1999.0</td>\n",
       "      <td>D</td>\n",
       "      <td>XXXXXXXXXXXXXXXXXXXXXXXXXXXXXXXXXXXXXXXXXXXXXX...</td>\n",
       "    </tr>\n",
       "    <tr>\n",
       "      <th>5557</th>\n",
       "      <td>1C51</td>\n",
       "      <td>PHOTOSYNTHESIS/ELECTRON TRANSPORT</td>\n",
       "      <td>X-RAY DIFFRACTION</td>\n",
       "      <td>Protein</td>\n",
       "      <td>1844</td>\n",
       "      <td>4.00</td>\n",
       "      <td>223365.34</td>\n",
       "      <td>NaN</td>\n",
       "      <td>NaN</td>\n",
       "      <td>5.80</td>\n",
       "      <td>80.00</td>\n",
       "      <td>pH 6.4</td>\n",
       "      <td>6.4</td>\n",
       "      <td>1999.0</td>\n",
       "      <td>E</td>\n",
       "      <td>XXXXXXXXXXXXXXXXXXXXXXXXXXXXXXXXXXXXXXXXXXXXXX...</td>\n",
       "    </tr>\n",
       "    <tr>\n",
       "      <th>5558</th>\n",
       "      <td>1C51</td>\n",
       "      <td>PHOTOSYNTHESIS/ELECTRON TRANSPORT</td>\n",
       "      <td>X-RAY DIFFRACTION</td>\n",
       "      <td>Protein</td>\n",
       "      <td>1844</td>\n",
       "      <td>4.00</td>\n",
       "      <td>223365.34</td>\n",
       "      <td>NaN</td>\n",
       "      <td>NaN</td>\n",
       "      <td>5.80</td>\n",
       "      <td>80.00</td>\n",
       "      <td>pH 6.4</td>\n",
       "      <td>6.4</td>\n",
       "      <td>1999.0</td>\n",
       "      <td>F</td>\n",
       "      <td>XXXXXXXXXXXXXXXXXXXXXXXXXXXXXXXXXXXXXXXXXXXXXX...</td>\n",
       "    </tr>\n",
       "    <tr>\n",
       "      <th>5559</th>\n",
       "      <td>1C51</td>\n",
       "      <td>PHOTOSYNTHESIS/ELECTRON TRANSPORT</td>\n",
       "      <td>X-RAY DIFFRACTION</td>\n",
       "      <td>Protein</td>\n",
       "      <td>1844</td>\n",
       "      <td>4.00</td>\n",
       "      <td>223365.34</td>\n",
       "      <td>NaN</td>\n",
       "      <td>NaN</td>\n",
       "      <td>5.80</td>\n",
       "      <td>80.00</td>\n",
       "      <td>pH 6.4</td>\n",
       "      <td>6.4</td>\n",
       "      <td>1999.0</td>\n",
       "      <td>K</td>\n",
       "      <td>XXXXXXXXXXXXXXXXXXXXXXXXXXXXXXXXXXXXXXXXXXXXXX...</td>\n",
       "    </tr>\n",
       "    <tr>\n",
       "      <th>5560</th>\n",
       "      <td>1C51</td>\n",
       "      <td>PHOTOSYNTHESIS/ELECTRON TRANSPORT</td>\n",
       "      <td>X-RAY DIFFRACTION</td>\n",
       "      <td>Protein</td>\n",
       "      <td>1844</td>\n",
       "      <td>4.00</td>\n",
       "      <td>223365.34</td>\n",
       "      <td>NaN</td>\n",
       "      <td>NaN</td>\n",
       "      <td>5.80</td>\n",
       "      <td>80.00</td>\n",
       "      <td>pH 6.4</td>\n",
       "      <td>6.4</td>\n",
       "      <td>1999.0</td>\n",
       "      <td>L</td>\n",
       "      <td>XXXXXXXXXXXXXXXXXXXXXXXXXXXXXXXXXXXXXXXXXXXXXX...</td>\n",
       "    </tr>\n",
       "    <tr>\n",
       "      <th>8026</th>\n",
       "      <td>1D8S</td>\n",
       "      <td>HYDROLASE</td>\n",
       "      <td>X-RAY DIFFRACTION</td>\n",
       "      <td>Protein</td>\n",
       "      <td>3091</td>\n",
       "      <td>4.40</td>\n",
       "      <td>263185.34</td>\n",
       "      <td>VAPOR DIFFUSION, HANGING DROP</td>\n",
       "      <td>298.0</td>\n",
       "      <td>4.03</td>\n",
       "      <td>69.50</td>\n",
       "      <td>Tris, PEG 8000, glycerol, NaCl, MgSO4, LiSO4, ...</td>\n",
       "      <td>7.2</td>\n",
       "      <td>1999.0</td>\n",
       "      <td>A</td>\n",
       "      <td>XXXXXXXXXXXXXXXXXXXXXXXXXXXXXXXXXXXXXXXXXXXXXX...</td>\n",
       "    </tr>\n",
       "    <tr>\n",
       "      <th>8027</th>\n",
       "      <td>1D8S</td>\n",
       "      <td>HYDROLASE</td>\n",
       "      <td>X-RAY DIFFRACTION</td>\n",
       "      <td>Protein</td>\n",
       "      <td>3091</td>\n",
       "      <td>4.40</td>\n",
       "      <td>263185.34</td>\n",
       "      <td>VAPOR DIFFUSION, HANGING DROP</td>\n",
       "      <td>298.0</td>\n",
       "      <td>4.03</td>\n",
       "      <td>69.50</td>\n",
       "      <td>Tris, PEG 8000, glycerol, NaCl, MgSO4, LiSO4, ...</td>\n",
       "      <td>7.2</td>\n",
       "      <td>1999.0</td>\n",
       "      <td>B</td>\n",
       "      <td>XXXXXXXXXXXXXXXXXXXXXXXXXXXXXXXXXXXXXXXXXXXXXX...</td>\n",
       "    </tr>\n",
       "    <tr>\n",
       "      <th>8028</th>\n",
       "      <td>1D8S</td>\n",
       "      <td>HYDROLASE</td>\n",
       "      <td>X-RAY DIFFRACTION</td>\n",
       "      <td>Protein</td>\n",
       "      <td>3091</td>\n",
       "      <td>4.40</td>\n",
       "      <td>263185.34</td>\n",
       "      <td>VAPOR DIFFUSION, HANGING DROP</td>\n",
       "      <td>298.0</td>\n",
       "      <td>4.03</td>\n",
       "      <td>69.50</td>\n",
       "      <td>Tris, PEG 8000, glycerol, NaCl, MgSO4, LiSO4, ...</td>\n",
       "      <td>7.2</td>\n",
       "      <td>1999.0</td>\n",
       "      <td>C</td>\n",
       "      <td>XXXXXXXXXXXXXXXXXXXXXXXXXXXXXXXXXXXXXXXXXXXXXX...</td>\n",
       "    </tr>\n",
       "    <tr>\n",
       "      <th>8029</th>\n",
       "      <td>1D8S</td>\n",
       "      <td>HYDROLASE</td>\n",
       "      <td>X-RAY DIFFRACTION</td>\n",
       "      <td>Protein</td>\n",
       "      <td>3091</td>\n",
       "      <td>4.40</td>\n",
       "      <td>263185.34</td>\n",
       "      <td>VAPOR DIFFUSION, HANGING DROP</td>\n",
       "      <td>298.0</td>\n",
       "      <td>4.03</td>\n",
       "      <td>69.50</td>\n",
       "      <td>Tris, PEG 8000, glycerol, NaCl, MgSO4, LiSO4, ...</td>\n",
       "      <td>7.2</td>\n",
       "      <td>1999.0</td>\n",
       "      <td>D</td>\n",
       "      <td>XXXXXXXXXXXXXXXXXXXXXXXXXXXXXXXXXXXXXXXXXXXXXX...</td>\n",
       "    </tr>\n",
       "    <tr>\n",
       "      <th>8030</th>\n",
       "      <td>1D8S</td>\n",
       "      <td>HYDROLASE</td>\n",
       "      <td>X-RAY DIFFRACTION</td>\n",
       "      <td>Protein</td>\n",
       "      <td>3091</td>\n",
       "      <td>4.40</td>\n",
       "      <td>263185.34</td>\n",
       "      <td>VAPOR DIFFUSION, HANGING DROP</td>\n",
       "      <td>298.0</td>\n",
       "      <td>4.03</td>\n",
       "      <td>69.50</td>\n",
       "      <td>Tris, PEG 8000, glycerol, NaCl, MgSO4, LiSO4, ...</td>\n",
       "      <td>7.2</td>\n",
       "      <td>1999.0</td>\n",
       "      <td>E</td>\n",
       "      <td>XXXXXXXXXXXXXXXXXXXXXXXXXXXXXXXXXXXXXXXXXXXXXX...</td>\n",
       "    </tr>\n",
       "    <tr>\n",
       "      <th>8031</th>\n",
       "      <td>1D8S</td>\n",
       "      <td>HYDROLASE</td>\n",
       "      <td>X-RAY DIFFRACTION</td>\n",
       "      <td>Protein</td>\n",
       "      <td>3091</td>\n",
       "      <td>4.40</td>\n",
       "      <td>263185.34</td>\n",
       "      <td>VAPOR DIFFUSION, HANGING DROP</td>\n",
       "      <td>298.0</td>\n",
       "      <td>4.03</td>\n",
       "      <td>69.50</td>\n",
       "      <td>Tris, PEG 8000, glycerol, NaCl, MgSO4, LiSO4, ...</td>\n",
       "      <td>7.2</td>\n",
       "      <td>1999.0</td>\n",
       "      <td>F</td>\n",
       "      <td>XXXXXXXXXXXXXXXXXXXXXXXXXXXXXXXXXXXXXXXXXXXXXX...</td>\n",
       "    </tr>\n",
       "    <tr>\n",
       "      <th>8032</th>\n",
       "      <td>1D8S</td>\n",
       "      <td>HYDROLASE</td>\n",
       "      <td>X-RAY DIFFRACTION</td>\n",
       "      <td>Protein</td>\n",
       "      <td>3091</td>\n",
       "      <td>4.40</td>\n",
       "      <td>263185.34</td>\n",
       "      <td>VAPOR DIFFUSION, HANGING DROP</td>\n",
       "      <td>298.0</td>\n",
       "      <td>4.03</td>\n",
       "      <td>69.50</td>\n",
       "      <td>Tris, PEG 8000, glycerol, NaCl, MgSO4, LiSO4, ...</td>\n",
       "      <td>7.2</td>\n",
       "      <td>1999.0</td>\n",
       "      <td>G</td>\n",
       "      <td>XXXXXXXXXXXXXXXXXXXXXXXXXXXXXXXXXXXXXXXXXXXXXX...</td>\n",
       "    </tr>\n",
       "    <tr>\n",
       "      <th>8463</th>\n",
       "      <td>1DEQ</td>\n",
       "      <td>BLOOD CLOTTING</td>\n",
       "      <td>X-RAY DIFFRACTION</td>\n",
       "      <td>Protein</td>\n",
       "      <td>5016</td>\n",
       "      <td>3.50</td>\n",
       "      <td>560537.56</td>\n",
       "      <td>NaN</td>\n",
       "      <td>277.0</td>\n",
       "      <td>3.12</td>\n",
       "      <td>60.53</td>\n",
       "      <td>10 mM MES, 5mM sodium azide, 2mM calcium chlor...</td>\n",
       "      <td>6.2</td>\n",
       "      <td>2000.0</td>\n",
       "      <td>M</td>\n",
       "      <td>XXXXXXXXXXXXXXXXXXXXXXXXXXXXXXXXXXXXXXXXXXXXXX...</td>\n",
       "    </tr>\n",
       "    <tr>\n",
       "      <th>8470</th>\n",
       "      <td>1DEQ</td>\n",
       "      <td>BLOOD CLOTTING</td>\n",
       "      <td>X-RAY DIFFRACTION</td>\n",
       "      <td>Protein</td>\n",
       "      <td>5016</td>\n",
       "      <td>3.50</td>\n",
       "      <td>560537.56</td>\n",
       "      <td>NaN</td>\n",
       "      <td>277.0</td>\n",
       "      <td>3.12</td>\n",
       "      <td>60.53</td>\n",
       "      <td>10 mM MES, 5mM sodium azide, 2mM calcium chlor...</td>\n",
       "      <td>6.2</td>\n",
       "      <td>2000.0</td>\n",
       "      <td>Z</td>\n",
       "      <td>XXXXXXXXXXXXXXXXXXXXXXXXXXXXXXXXXXXXXXXXXXXXXX...</td>\n",
       "    </tr>\n",
       "    <tr>\n",
       "      <th>10930</th>\n",
       "      <td>1EFG</td>\n",
       "      <td>ELONGATION FACTOR</td>\n",
       "      <td>X-RAY DIFFRACTION</td>\n",
       "      <td>Protein</td>\n",
       "      <td>755</td>\n",
       "      <td>2.70</td>\n",
       "      <td>82889.02</td>\n",
       "      <td>NaN</td>\n",
       "      <td>277.0</td>\n",
       "      <td>2.87</td>\n",
       "      <td>57.17</td>\n",
       "      <td>pH 7.8, temperature 277K</td>\n",
       "      <td>7.8</td>\n",
       "      <td>1994.0</td>\n",
       "      <td>B</td>\n",
       "      <td>XXXXXXXXXXXXXXXXXXXXXXXXXXXXXXXXXXXX</td>\n",
       "    </tr>\n",
       "    <tr>\n",
       "      <th>10931</th>\n",
       "      <td>1EFG</td>\n",
       "      <td>ELONGATION FACTOR</td>\n",
       "      <td>X-RAY DIFFRACTION</td>\n",
       "      <td>Protein</td>\n",
       "      <td>755</td>\n",
       "      <td>2.70</td>\n",
       "      <td>82889.02</td>\n",
       "      <td>NaN</td>\n",
       "      <td>277.0</td>\n",
       "      <td>2.87</td>\n",
       "      <td>57.17</td>\n",
       "      <td>pH 7.8, temperature 277K</td>\n",
       "      <td>7.8</td>\n",
       "      <td>1994.0</td>\n",
       "      <td>C</td>\n",
       "      <td>XXXXXXXXXXXXXXXXXXXXXXXXXXXX</td>\n",
       "    </tr>\n",
       "    <tr>\n",
       "      <th>13440</th>\n",
       "      <td>1FE1</td>\n",
       "      <td>PHOTOSYNTHESIS/ELECTRON TRANSPORT</td>\n",
       "      <td>X-RAY DIFFRACTION</td>\n",
       "      <td>Protein</td>\n",
       "      <td>2476</td>\n",
       "      <td>3.80</td>\n",
       "      <td>276435.00</td>\n",
       "      <td>BATCH METHOD</td>\n",
       "      <td>293.0</td>\n",
       "      <td>NaN</td>\n",
       "      <td>45.00</td>\n",
       "      <td>POLYETHYLENGLYCOL 2000,   HEPES-BUFFER, CACL2 ...</td>\n",
       "      <td>7.0</td>\n",
       "      <td>2001.0</td>\n",
       "      <td>A</td>\n",
       "      <td>XXXXXXXXXXXXXXXXXXXXXXXXXXXXXXXXXXXXXXXXXXXXXX...</td>\n",
       "    </tr>\n",
       "    <tr>\n",
       "      <th>13441</th>\n",
       "      <td>1FE1</td>\n",
       "      <td>PHOTOSYNTHESIS/ELECTRON TRANSPORT</td>\n",
       "      <td>X-RAY DIFFRACTION</td>\n",
       "      <td>Protein</td>\n",
       "      <td>2476</td>\n",
       "      <td>3.80</td>\n",
       "      <td>276435.00</td>\n",
       "      <td>BATCH METHOD</td>\n",
       "      <td>293.0</td>\n",
       "      <td>NaN</td>\n",
       "      <td>45.00</td>\n",
       "      <td>POLYETHYLENGLYCOL 2000,   HEPES-BUFFER, CACL2 ...</td>\n",
       "      <td>7.0</td>\n",
       "      <td>2001.0</td>\n",
       "      <td>B</td>\n",
       "      <td>XXXXXXXXXXXXXXXXXXXXXXXXXXXXXXXXXXXXXXXXXXXXXX...</td>\n",
       "    </tr>\n",
       "    <tr>\n",
       "      <th>13442</th>\n",
       "      <td>1FE1</td>\n",
       "      <td>PHOTOSYNTHESIS/ELECTRON TRANSPORT</td>\n",
       "      <td>X-RAY DIFFRACTION</td>\n",
       "      <td>Protein</td>\n",
       "      <td>2476</td>\n",
       "      <td>3.80</td>\n",
       "      <td>276435.00</td>\n",
       "      <td>BATCH METHOD</td>\n",
       "      <td>293.0</td>\n",
       "      <td>NaN</td>\n",
       "      <td>45.00</td>\n",
       "      <td>POLYETHYLENGLYCOL 2000,   HEPES-BUFFER, CACL2 ...</td>\n",
       "      <td>7.0</td>\n",
       "      <td>2001.0</td>\n",
       "      <td>C</td>\n",
       "      <td>XXXXXXXXXXXXXXXXXXXXXXXXXXXXXXXXXXXXXXXXXXXXXX...</td>\n",
       "    </tr>\n",
       "    <tr>\n",
       "      <th>13443</th>\n",
       "      <td>1FE1</td>\n",
       "      <td>PHOTOSYNTHESIS/ELECTRON TRANSPORT</td>\n",
       "      <td>X-RAY DIFFRACTION</td>\n",
       "      <td>Protein</td>\n",
       "      <td>2476</td>\n",
       "      <td>3.80</td>\n",
       "      <td>276435.00</td>\n",
       "      <td>BATCH METHOD</td>\n",
       "      <td>293.0</td>\n",
       "      <td>NaN</td>\n",
       "      <td>45.00</td>\n",
       "      <td>POLYETHYLENGLYCOL 2000,   HEPES-BUFFER, CACL2 ...</td>\n",
       "      <td>7.0</td>\n",
       "      <td>2001.0</td>\n",
       "      <td>D</td>\n",
       "      <td>XXXXXXXXXXXXXXXXXXXXXXXXXXXXXXXXXXXXXXXXXXXXXX...</td>\n",
       "    </tr>\n",
       "    <tr>\n",
       "      <th>13444</th>\n",
       "      <td>1FE1</td>\n",
       "      <td>PHOTOSYNTHESIS/ELECTRON TRANSPORT</td>\n",
       "      <td>X-RAY DIFFRACTION</td>\n",
       "      <td>Protein</td>\n",
       "      <td>2476</td>\n",
       "      <td>3.80</td>\n",
       "      <td>276435.00</td>\n",
       "      <td>BATCH METHOD</td>\n",
       "      <td>293.0</td>\n",
       "      <td>NaN</td>\n",
       "      <td>45.00</td>\n",
       "      <td>POLYETHYLENGLYCOL 2000,   HEPES-BUFFER, CACL2 ...</td>\n",
       "      <td>7.0</td>\n",
       "      <td>2001.0</td>\n",
       "      <td>E</td>\n",
       "      <td>XXXXXXXXXXXXXXXXXXXXXXXXXXXXXXXXXXXXXXXX</td>\n",
       "    </tr>\n",
       "    <tr>\n",
       "      <th>13445</th>\n",
       "      <td>1FE1</td>\n",
       "      <td>PHOTOSYNTHESIS/ELECTRON TRANSPORT</td>\n",
       "      <td>X-RAY DIFFRACTION</td>\n",
       "      <td>Protein</td>\n",
       "      <td>2476</td>\n",
       "      <td>3.80</td>\n",
       "      <td>276435.00</td>\n",
       "      <td>BATCH METHOD</td>\n",
       "      <td>293.0</td>\n",
       "      <td>NaN</td>\n",
       "      <td>45.00</td>\n",
       "      <td>POLYETHYLENGLYCOL 2000,   HEPES-BUFFER, CACL2 ...</td>\n",
       "      <td>7.0</td>\n",
       "      <td>2001.0</td>\n",
       "      <td>F</td>\n",
       "      <td>XXXXXXXXXXXXXXXXXXXXXXXXXXXXXX</td>\n",
       "    </tr>\n",
       "    <tr>\n",
       "      <th>...</th>\n",
       "      <td>...</td>\n",
       "      <td>...</td>\n",
       "      <td>...</td>\n",
       "      <td>...</td>\n",
       "      <td>...</td>\n",
       "      <td>...</td>\n",
       "      <td>...</td>\n",
       "      <td>...</td>\n",
       "      <td>...</td>\n",
       "      <td>...</td>\n",
       "      <td>...</td>\n",
       "      <td>...</td>\n",
       "      <td>...</td>\n",
       "      <td>...</td>\n",
       "      <td>...</td>\n",
       "      <td>...</td>\n",
       "    </tr>\n",
       "    <tr>\n",
       "      <th>470105</th>\n",
       "      <td>6F1T</td>\n",
       "      <td>MOTOR PROTEIN</td>\n",
       "      <td>ELECTRON MICROSCOPY</td>\n",
       "      <td>Protein</td>\n",
       "      <td>16606</td>\n",
       "      <td>3.50</td>\n",
       "      <td>1818540.25</td>\n",
       "      <td>NaN</td>\n",
       "      <td>NaN</td>\n",
       "      <td>NaN</td>\n",
       "      <td>NaN</td>\n",
       "      <td>NaN</td>\n",
       "      <td>NaN</td>\n",
       "      <td>2018.0</td>\n",
       "      <td>O</td>\n",
       "      <td>XXXXXXXXXXXXXXXXXXXXXXXXXXXXXXXXXXXXXXXXXXXXXX...</td>\n",
       "    </tr>\n",
       "    <tr>\n",
       "      <th>470106</th>\n",
       "      <td>6F1T</td>\n",
       "      <td>MOTOR PROTEIN</td>\n",
       "      <td>ELECTRON MICROSCOPY</td>\n",
       "      <td>Protein</td>\n",
       "      <td>16606</td>\n",
       "      <td>3.50</td>\n",
       "      <td>1818540.25</td>\n",
       "      <td>NaN</td>\n",
       "      <td>NaN</td>\n",
       "      <td>NaN</td>\n",
       "      <td>NaN</td>\n",
       "      <td>NaN</td>\n",
       "      <td>NaN</td>\n",
       "      <td>2018.0</td>\n",
       "      <td>P</td>\n",
       "      <td>XXXXXXXXXXXXXXXXXXXXXXXXXXXXXXXXXXXXXXXXXXXXXX...</td>\n",
       "    </tr>\n",
       "    <tr>\n",
       "      <th>470107</th>\n",
       "      <td>6F1T</td>\n",
       "      <td>MOTOR PROTEIN</td>\n",
       "      <td>ELECTRON MICROSCOPY</td>\n",
       "      <td>Protein</td>\n",
       "      <td>16606</td>\n",
       "      <td>3.50</td>\n",
       "      <td>1818540.25</td>\n",
       "      <td>NaN</td>\n",
       "      <td>NaN</td>\n",
       "      <td>NaN</td>\n",
       "      <td>NaN</td>\n",
       "      <td>NaN</td>\n",
       "      <td>NaN</td>\n",
       "      <td>2018.0</td>\n",
       "      <td>Q</td>\n",
       "      <td>XXXXXXXXXXXXXXXXXXXXXXXXXXXXXXXXXXXXXXXXXXXXXX...</td>\n",
       "    </tr>\n",
       "    <tr>\n",
       "      <th>470108</th>\n",
       "      <td>6F1T</td>\n",
       "      <td>MOTOR PROTEIN</td>\n",
       "      <td>ELECTRON MICROSCOPY</td>\n",
       "      <td>Protein</td>\n",
       "      <td>16606</td>\n",
       "      <td>3.50</td>\n",
       "      <td>1818540.25</td>\n",
       "      <td>NaN</td>\n",
       "      <td>NaN</td>\n",
       "      <td>NaN</td>\n",
       "      <td>NaN</td>\n",
       "      <td>NaN</td>\n",
       "      <td>NaN</td>\n",
       "      <td>2018.0</td>\n",
       "      <td>R</td>\n",
       "      <td>XXXXXXXXXXXXXXXXXXXXXXXXXXXXXXXXXXXXXXXXXXXXXX...</td>\n",
       "    </tr>\n",
       "    <tr>\n",
       "      <th>470112</th>\n",
       "      <td>6F1T</td>\n",
       "      <td>MOTOR PROTEIN</td>\n",
       "      <td>ELECTRON MICROSCOPY</td>\n",
       "      <td>Protein</td>\n",
       "      <td>16606</td>\n",
       "      <td>3.50</td>\n",
       "      <td>1818540.25</td>\n",
       "      <td>NaN</td>\n",
       "      <td>NaN</td>\n",
       "      <td>NaN</td>\n",
       "      <td>NaN</td>\n",
       "      <td>NaN</td>\n",
       "      <td>NaN</td>\n",
       "      <td>2018.0</td>\n",
       "      <td>Y</td>\n",
       "      <td>XXXXXXXXXXXXXXXXXXXXXXXXXXXXXXXXXXXXXXXXXXXXXX...</td>\n",
       "    </tr>\n",
       "    <tr>\n",
       "      <th>470113</th>\n",
       "      <td>6F1T</td>\n",
       "      <td>MOTOR PROTEIN</td>\n",
       "      <td>ELECTRON MICROSCOPY</td>\n",
       "      <td>Protein</td>\n",
       "      <td>16606</td>\n",
       "      <td>3.50</td>\n",
       "      <td>1818540.25</td>\n",
       "      <td>NaN</td>\n",
       "      <td>NaN</td>\n",
       "      <td>NaN</td>\n",
       "      <td>NaN</td>\n",
       "      <td>NaN</td>\n",
       "      <td>NaN</td>\n",
       "      <td>2018.0</td>\n",
       "      <td>Z</td>\n",
       "      <td>XXXXXXXXXXXXXXXXXXXXXXXXXXXXXXXXXXXXXXXXXXXXXX...</td>\n",
       "    </tr>\n",
       "    <tr>\n",
       "      <th>470135</th>\n",
       "      <td>6F1T</td>\n",
       "      <td>MOTOR PROTEIN</td>\n",
       "      <td>ELECTRON MICROSCOPY</td>\n",
       "      <td>Protein</td>\n",
       "      <td>16606</td>\n",
       "      <td>3.50</td>\n",
       "      <td>1818540.25</td>\n",
       "      <td>NaN</td>\n",
       "      <td>NaN</td>\n",
       "      <td>NaN</td>\n",
       "      <td>NaN</td>\n",
       "      <td>NaN</td>\n",
       "      <td>NaN</td>\n",
       "      <td>2018.0</td>\n",
       "      <td>z</td>\n",
       "      <td>XXXXXXXXXXXXXXXXXXXXXXXXXXXXXXXXXXXXXXXXXXXXXX...</td>\n",
       "    </tr>\n",
       "    <tr>\n",
       "      <th>470184</th>\n",
       "      <td>6F38</td>\n",
       "      <td>MOTOR PROTEIN</td>\n",
       "      <td>ELECTRON MICROSCOPY</td>\n",
       "      <td>Protein</td>\n",
       "      <td>17882</td>\n",
       "      <td>6.70</td>\n",
       "      <td>1967090.38</td>\n",
       "      <td>NaN</td>\n",
       "      <td>NaN</td>\n",
       "      <td>NaN</td>\n",
       "      <td>NaN</td>\n",
       "      <td>NaN</td>\n",
       "      <td>NaN</td>\n",
       "      <td>2018.0</td>\n",
       "      <td>M</td>\n",
       "      <td>XXXXXXXXXXXXXXXXXXXXXXXXXXXXXXXXXXXXXXXXXXXXXX...</td>\n",
       "    </tr>\n",
       "    <tr>\n",
       "      <th>470185</th>\n",
       "      <td>6F38</td>\n",
       "      <td>MOTOR PROTEIN</td>\n",
       "      <td>ELECTRON MICROSCOPY</td>\n",
       "      <td>Protein</td>\n",
       "      <td>17882</td>\n",
       "      <td>6.70</td>\n",
       "      <td>1967090.38</td>\n",
       "      <td>NaN</td>\n",
       "      <td>NaN</td>\n",
       "      <td>NaN</td>\n",
       "      <td>NaN</td>\n",
       "      <td>NaN</td>\n",
       "      <td>NaN</td>\n",
       "      <td>2018.0</td>\n",
       "      <td>N</td>\n",
       "      <td>XXXXXXXXXXXXXXXXXXXXXXXXXXXXXXXXXXXXXXXXXXXXXX...</td>\n",
       "    </tr>\n",
       "    <tr>\n",
       "      <th>470186</th>\n",
       "      <td>6F38</td>\n",
       "      <td>MOTOR PROTEIN</td>\n",
       "      <td>ELECTRON MICROSCOPY</td>\n",
       "      <td>Protein</td>\n",
       "      <td>17882</td>\n",
       "      <td>6.70</td>\n",
       "      <td>1967090.38</td>\n",
       "      <td>NaN</td>\n",
       "      <td>NaN</td>\n",
       "      <td>NaN</td>\n",
       "      <td>NaN</td>\n",
       "      <td>NaN</td>\n",
       "      <td>NaN</td>\n",
       "      <td>2018.0</td>\n",
       "      <td>O</td>\n",
       "      <td>XXXXXXXXXXXXXXXXXXXXXXXXXXXXXXXXXXXXXXXXXXXXXX...</td>\n",
       "    </tr>\n",
       "    <tr>\n",
       "      <th>470187</th>\n",
       "      <td>6F38</td>\n",
       "      <td>MOTOR PROTEIN</td>\n",
       "      <td>ELECTRON MICROSCOPY</td>\n",
       "      <td>Protein</td>\n",
       "      <td>17882</td>\n",
       "      <td>6.70</td>\n",
       "      <td>1967090.38</td>\n",
       "      <td>NaN</td>\n",
       "      <td>NaN</td>\n",
       "      <td>NaN</td>\n",
       "      <td>NaN</td>\n",
       "      <td>NaN</td>\n",
       "      <td>NaN</td>\n",
       "      <td>2018.0</td>\n",
       "      <td>P</td>\n",
       "      <td>XXXXXXXXXXXXXXXXXXXXXXXXXXXXXXXXXXXXXXXXXXXXXX...</td>\n",
       "    </tr>\n",
       "    <tr>\n",
       "      <th>470188</th>\n",
       "      <td>6F38</td>\n",
       "      <td>MOTOR PROTEIN</td>\n",
       "      <td>ELECTRON MICROSCOPY</td>\n",
       "      <td>Protein</td>\n",
       "      <td>17882</td>\n",
       "      <td>6.70</td>\n",
       "      <td>1967090.38</td>\n",
       "      <td>NaN</td>\n",
       "      <td>NaN</td>\n",
       "      <td>NaN</td>\n",
       "      <td>NaN</td>\n",
       "      <td>NaN</td>\n",
       "      <td>NaN</td>\n",
       "      <td>2018.0</td>\n",
       "      <td>Q</td>\n",
       "      <td>XXXXXXXXXXXXXXXXXXXXXXXXXXXXXXXXXXXXXXXXXXXXXX...</td>\n",
       "    </tr>\n",
       "    <tr>\n",
       "      <th>470189</th>\n",
       "      <td>6F38</td>\n",
       "      <td>MOTOR PROTEIN</td>\n",
       "      <td>ELECTRON MICROSCOPY</td>\n",
       "      <td>Protein</td>\n",
       "      <td>17882</td>\n",
       "      <td>6.70</td>\n",
       "      <td>1967090.38</td>\n",
       "      <td>NaN</td>\n",
       "      <td>NaN</td>\n",
       "      <td>NaN</td>\n",
       "      <td>NaN</td>\n",
       "      <td>NaN</td>\n",
       "      <td>NaN</td>\n",
       "      <td>2018.0</td>\n",
       "      <td>R</td>\n",
       "      <td>XXXXXXXXXXXXXXXXXXXXXXXXXXXXXXXXXXXXXXXXXXXXXX...</td>\n",
       "    </tr>\n",
       "    <tr>\n",
       "      <th>470192</th>\n",
       "      <td>6F38</td>\n",
       "      <td>MOTOR PROTEIN</td>\n",
       "      <td>ELECTRON MICROSCOPY</td>\n",
       "      <td>Protein</td>\n",
       "      <td>17882</td>\n",
       "      <td>6.70</td>\n",
       "      <td>1967090.38</td>\n",
       "      <td>NaN</td>\n",
       "      <td>NaN</td>\n",
       "      <td>NaN</td>\n",
       "      <td>NaN</td>\n",
       "      <td>NaN</td>\n",
       "      <td>NaN</td>\n",
       "      <td>2018.0</td>\n",
       "      <td>X</td>\n",
       "      <td>XXXXXXXXXXXXXXXXXXXXXXXXXXXXXXXXXXXXXXXXXXXXXX...</td>\n",
       "    </tr>\n",
       "    <tr>\n",
       "      <th>470193</th>\n",
       "      <td>6F38</td>\n",
       "      <td>MOTOR PROTEIN</td>\n",
       "      <td>ELECTRON MICROSCOPY</td>\n",
       "      <td>Protein</td>\n",
       "      <td>17882</td>\n",
       "      <td>6.70</td>\n",
       "      <td>1967090.38</td>\n",
       "      <td>NaN</td>\n",
       "      <td>NaN</td>\n",
       "      <td>NaN</td>\n",
       "      <td>NaN</td>\n",
       "      <td>NaN</td>\n",
       "      <td>NaN</td>\n",
       "      <td>2018.0</td>\n",
       "      <td>Y</td>\n",
       "      <td>XXXXXXXXXXXXXXXXXXXXXXXXXXXXXXXXXXXXXXXXXXXXXX...</td>\n",
       "    </tr>\n",
       "    <tr>\n",
       "      <th>470194</th>\n",
       "      <td>6F38</td>\n",
       "      <td>MOTOR PROTEIN</td>\n",
       "      <td>ELECTRON MICROSCOPY</td>\n",
       "      <td>Protein</td>\n",
       "      <td>17882</td>\n",
       "      <td>6.70</td>\n",
       "      <td>1967090.38</td>\n",
       "      <td>NaN</td>\n",
       "      <td>NaN</td>\n",
       "      <td>NaN</td>\n",
       "      <td>NaN</td>\n",
       "      <td>NaN</td>\n",
       "      <td>NaN</td>\n",
       "      <td>2018.0</td>\n",
       "      <td>Z</td>\n",
       "      <td>XXXXXXXXXXXXXXXXXXXXXXXXXXXXXXXXXXXXXXXXXXXXXX...</td>\n",
       "    </tr>\n",
       "    <tr>\n",
       "      <th>470215</th>\n",
       "      <td>6F38</td>\n",
       "      <td>MOTOR PROTEIN</td>\n",
       "      <td>ELECTRON MICROSCOPY</td>\n",
       "      <td>Protein</td>\n",
       "      <td>17882</td>\n",
       "      <td>6.70</td>\n",
       "      <td>1967090.38</td>\n",
       "      <td>NaN</td>\n",
       "      <td>NaN</td>\n",
       "      <td>NaN</td>\n",
       "      <td>NaN</td>\n",
       "      <td>NaN</td>\n",
       "      <td>NaN</td>\n",
       "      <td>2018.0</td>\n",
       "      <td>x</td>\n",
       "      <td>XXXXXXXXXXXXXXXXXXXXXXXXXXXXXXXXXXXXXXXXXXXXXX...</td>\n",
       "    </tr>\n",
       "    <tr>\n",
       "      <th>470216</th>\n",
       "      <td>6F38</td>\n",
       "      <td>MOTOR PROTEIN</td>\n",
       "      <td>ELECTRON MICROSCOPY</td>\n",
       "      <td>Protein</td>\n",
       "      <td>17882</td>\n",
       "      <td>6.70</td>\n",
       "      <td>1967090.38</td>\n",
       "      <td>NaN</td>\n",
       "      <td>NaN</td>\n",
       "      <td>NaN</td>\n",
       "      <td>NaN</td>\n",
       "      <td>NaN</td>\n",
       "      <td>NaN</td>\n",
       "      <td>2018.0</td>\n",
       "      <td>z</td>\n",
       "      <td>XXXXXXXXXXXXXXXXXXXXXXXXXXXXXXXXXXXXXXXXXXXXXX...</td>\n",
       "    </tr>\n",
       "    <tr>\n",
       "      <th>470219</th>\n",
       "      <td>6F3A</td>\n",
       "      <td>MOTOR PROTEIN</td>\n",
       "      <td>ELECTRON MICROSCOPY</td>\n",
       "      <td>Protein</td>\n",
       "      <td>12282</td>\n",
       "      <td>8.20</td>\n",
       "      <td>1329139.88</td>\n",
       "      <td>NaN</td>\n",
       "      <td>NaN</td>\n",
       "      <td>NaN</td>\n",
       "      <td>NaN</td>\n",
       "      <td>NaN</td>\n",
       "      <td>NaN</td>\n",
       "      <td>2018.0</td>\n",
       "      <td>5</td>\n",
       "      <td>XXXXXXXXXXXXXXXXXXXXXXXXXXXXXXXXXXXXXXXXXXXXXX...</td>\n",
       "    </tr>\n",
       "    <tr>\n",
       "      <th>470220</th>\n",
       "      <td>6F3A</td>\n",
       "      <td>MOTOR PROTEIN</td>\n",
       "      <td>ELECTRON MICROSCOPY</td>\n",
       "      <td>Protein</td>\n",
       "      <td>12282</td>\n",
       "      <td>8.20</td>\n",
       "      <td>1329139.88</td>\n",
       "      <td>NaN</td>\n",
       "      <td>NaN</td>\n",
       "      <td>NaN</td>\n",
       "      <td>NaN</td>\n",
       "      <td>NaN</td>\n",
       "      <td>NaN</td>\n",
       "      <td>2018.0</td>\n",
       "      <td>6</td>\n",
       "      <td>XXXXXXXXXXXXXXXXXXXXXXXXXXXXXXXXXXXXXXXXXXXXXX...</td>\n",
       "    </tr>\n",
       "    <tr>\n",
       "      <th>470233</th>\n",
       "      <td>6F3A</td>\n",
       "      <td>MOTOR PROTEIN</td>\n",
       "      <td>ELECTRON MICROSCOPY</td>\n",
       "      <td>Protein</td>\n",
       "      <td>12282</td>\n",
       "      <td>8.20</td>\n",
       "      <td>1329139.88</td>\n",
       "      <td>NaN</td>\n",
       "      <td>NaN</td>\n",
       "      <td>NaN</td>\n",
       "      <td>NaN</td>\n",
       "      <td>NaN</td>\n",
       "      <td>NaN</td>\n",
       "      <td>2018.0</td>\n",
       "      <td>M</td>\n",
       "      <td>XXXXXXXXXXXXXXXXXXXXXXXXXXXXXXXXXXXXXXXXXXXXXX...</td>\n",
       "    </tr>\n",
       "    <tr>\n",
       "      <th>470234</th>\n",
       "      <td>6F3A</td>\n",
       "      <td>MOTOR PROTEIN</td>\n",
       "      <td>ELECTRON MICROSCOPY</td>\n",
       "      <td>Protein</td>\n",
       "      <td>12282</td>\n",
       "      <td>8.20</td>\n",
       "      <td>1329139.88</td>\n",
       "      <td>NaN</td>\n",
       "      <td>NaN</td>\n",
       "      <td>NaN</td>\n",
       "      <td>NaN</td>\n",
       "      <td>NaN</td>\n",
       "      <td>NaN</td>\n",
       "      <td>2018.0</td>\n",
       "      <td>N</td>\n",
       "      <td>XXXXXXXXXXXXXXXXXXXXXXXXXXXXXXXXXXXXXXXXXXXXXX...</td>\n",
       "    </tr>\n",
       "    <tr>\n",
       "      <th>470235</th>\n",
       "      <td>6F3A</td>\n",
       "      <td>MOTOR PROTEIN</td>\n",
       "      <td>ELECTRON MICROSCOPY</td>\n",
       "      <td>Protein</td>\n",
       "      <td>12282</td>\n",
       "      <td>8.20</td>\n",
       "      <td>1329139.88</td>\n",
       "      <td>NaN</td>\n",
       "      <td>NaN</td>\n",
       "      <td>NaN</td>\n",
       "      <td>NaN</td>\n",
       "      <td>NaN</td>\n",
       "      <td>NaN</td>\n",
       "      <td>2018.0</td>\n",
       "      <td>O</td>\n",
       "      <td>XXXXXXXXXXXXXXXXXXXXXXXXXXXXXXXXXXXXXXXXXXXXXX...</td>\n",
       "    </tr>\n",
       "    <tr>\n",
       "      <th>470236</th>\n",
       "      <td>6F3A</td>\n",
       "      <td>MOTOR PROTEIN</td>\n",
       "      <td>ELECTRON MICROSCOPY</td>\n",
       "      <td>Protein</td>\n",
       "      <td>12282</td>\n",
       "      <td>8.20</td>\n",
       "      <td>1329139.88</td>\n",
       "      <td>NaN</td>\n",
       "      <td>NaN</td>\n",
       "      <td>NaN</td>\n",
       "      <td>NaN</td>\n",
       "      <td>NaN</td>\n",
       "      <td>NaN</td>\n",
       "      <td>2018.0</td>\n",
       "      <td>P</td>\n",
       "      <td>XXXXXXXXXXXXXXXXXXXXXXXXXXXXXXXXXXXXXXXXXXXXXX...</td>\n",
       "    </tr>\n",
       "    <tr>\n",
       "      <th>470237</th>\n",
       "      <td>6F3A</td>\n",
       "      <td>MOTOR PROTEIN</td>\n",
       "      <td>ELECTRON MICROSCOPY</td>\n",
       "      <td>Protein</td>\n",
       "      <td>12282</td>\n",
       "      <td>8.20</td>\n",
       "      <td>1329139.88</td>\n",
       "      <td>NaN</td>\n",
       "      <td>NaN</td>\n",
       "      <td>NaN</td>\n",
       "      <td>NaN</td>\n",
       "      <td>NaN</td>\n",
       "      <td>NaN</td>\n",
       "      <td>2018.0</td>\n",
       "      <td>Q</td>\n",
       "      <td>XXXXXXXXXXXXXXXXXXXXXXXXXXXXXXXXXXXXXXXXXXXXXX...</td>\n",
       "    </tr>\n",
       "    <tr>\n",
       "      <th>470238</th>\n",
       "      <td>6F3A</td>\n",
       "      <td>MOTOR PROTEIN</td>\n",
       "      <td>ELECTRON MICROSCOPY</td>\n",
       "      <td>Protein</td>\n",
       "      <td>12282</td>\n",
       "      <td>8.20</td>\n",
       "      <td>1329139.88</td>\n",
       "      <td>NaN</td>\n",
       "      <td>NaN</td>\n",
       "      <td>NaN</td>\n",
       "      <td>NaN</td>\n",
       "      <td>NaN</td>\n",
       "      <td>NaN</td>\n",
       "      <td>2018.0</td>\n",
       "      <td>R</td>\n",
       "      <td>XXXXXXXXXXXXXXXXXXXXXXXXXXXXXXXXXXXXXXXXXXXXXX...</td>\n",
       "    </tr>\n",
       "    <tr>\n",
       "      <th>470241</th>\n",
       "      <td>6F3A</td>\n",
       "      <td>MOTOR PROTEIN</td>\n",
       "      <td>ELECTRON MICROSCOPY</td>\n",
       "      <td>Protein</td>\n",
       "      <td>12282</td>\n",
       "      <td>8.20</td>\n",
       "      <td>1329139.88</td>\n",
       "      <td>NaN</td>\n",
       "      <td>NaN</td>\n",
       "      <td>NaN</td>\n",
       "      <td>NaN</td>\n",
       "      <td>NaN</td>\n",
       "      <td>NaN</td>\n",
       "      <td>2018.0</td>\n",
       "      <td>Y</td>\n",
       "      <td>XXXXXXXXXXXXXXXXXXXXXXXXXXXXXXXXXXXXXXXXXXXXXX...</td>\n",
       "    </tr>\n",
       "    <tr>\n",
       "      <th>470242</th>\n",
       "      <td>6F3A</td>\n",
       "      <td>MOTOR PROTEIN</td>\n",
       "      <td>ELECTRON MICROSCOPY</td>\n",
       "      <td>Protein</td>\n",
       "      <td>12282</td>\n",
       "      <td>8.20</td>\n",
       "      <td>1329139.88</td>\n",
       "      <td>NaN</td>\n",
       "      <td>NaN</td>\n",
       "      <td>NaN</td>\n",
       "      <td>NaN</td>\n",
       "      <td>NaN</td>\n",
       "      <td>NaN</td>\n",
       "      <td>2018.0</td>\n",
       "      <td>Z</td>\n",
       "      <td>XXXXXXXXXXXXXXXXXXXXXXXXXXXXXXXXXXXXXXXXXXXXXX...</td>\n",
       "    </tr>\n",
       "    <tr>\n",
       "      <th>470254</th>\n",
       "      <td>6F3A</td>\n",
       "      <td>MOTOR PROTEIN</td>\n",
       "      <td>ELECTRON MICROSCOPY</td>\n",
       "      <td>Protein</td>\n",
       "      <td>12282</td>\n",
       "      <td>8.20</td>\n",
       "      <td>1329139.88</td>\n",
       "      <td>NaN</td>\n",
       "      <td>NaN</td>\n",
       "      <td>NaN</td>\n",
       "      <td>NaN</td>\n",
       "      <td>NaN</td>\n",
       "      <td>NaN</td>\n",
       "      <td>2018.0</td>\n",
       "      <td>z</td>\n",
       "      <td>XXXXXXXXXXXXXXXXXXXXXXXXXXXXXXXXXXXXXXXXXXXXXX...</td>\n",
       "    </tr>\n",
       "    <tr>\n",
       "      <th>470760</th>\n",
       "      <td>7INS</td>\n",
       "      <td>HORMONE</td>\n",
       "      <td>X-RAY DIFFRACTION</td>\n",
       "      <td>Protein</td>\n",
       "      <td>169</td>\n",
       "      <td>2.00</td>\n",
       "      <td>19338.63</td>\n",
       "      <td>NaN</td>\n",
       "      <td>NaN</td>\n",
       "      <td>2.27</td>\n",
       "      <td>45.72</td>\n",
       "      <td>NaN</td>\n",
       "      <td>NaN</td>\n",
       "      <td>1991.0</td>\n",
       "      <td>G</td>\n",
       "      <td>XXXXXXXXXXXXXXXX</td>\n",
       "    </tr>\n",
       "  </tbody>\n",
       "</table>\n",
       "<p>1365 rows × 16 columns</p>\n",
       "</div>"
      ],
      "text/plain": [
       "       structureId                     classification experimentalTechnique  \\\n",
       "2321          1ATI               PROTEIN BIOSYNTHESIS     X-RAY DIFFRACTION   \n",
       "2322          1ATI               PROTEIN BIOSYNTHESIS     X-RAY DIFFRACTION   \n",
       "2325          1ATI               PROTEIN BIOSYNTHESIS     X-RAY DIFFRACTION   \n",
       "2326          1ATI               PROTEIN BIOSYNTHESIS     X-RAY DIFFRACTION   \n",
       "3622          1BCC                     OXIDOREDUCTASE     X-RAY DIFFRACTION   \n",
       "5553          1C51  PHOTOSYNTHESIS/ELECTRON TRANSPORT     X-RAY DIFFRACTION   \n",
       "5554          1C51  PHOTOSYNTHESIS/ELECTRON TRANSPORT     X-RAY DIFFRACTION   \n",
       "5555          1C51  PHOTOSYNTHESIS/ELECTRON TRANSPORT     X-RAY DIFFRACTION   \n",
       "5556          1C51  PHOTOSYNTHESIS/ELECTRON TRANSPORT     X-RAY DIFFRACTION   \n",
       "5557          1C51  PHOTOSYNTHESIS/ELECTRON TRANSPORT     X-RAY DIFFRACTION   \n",
       "5558          1C51  PHOTOSYNTHESIS/ELECTRON TRANSPORT     X-RAY DIFFRACTION   \n",
       "5559          1C51  PHOTOSYNTHESIS/ELECTRON TRANSPORT     X-RAY DIFFRACTION   \n",
       "5560          1C51  PHOTOSYNTHESIS/ELECTRON TRANSPORT     X-RAY DIFFRACTION   \n",
       "8026          1D8S                          HYDROLASE     X-RAY DIFFRACTION   \n",
       "8027          1D8S                          HYDROLASE     X-RAY DIFFRACTION   \n",
       "8028          1D8S                          HYDROLASE     X-RAY DIFFRACTION   \n",
       "8029          1D8S                          HYDROLASE     X-RAY DIFFRACTION   \n",
       "8030          1D8S                          HYDROLASE     X-RAY DIFFRACTION   \n",
       "8031          1D8S                          HYDROLASE     X-RAY DIFFRACTION   \n",
       "8032          1D8S                          HYDROLASE     X-RAY DIFFRACTION   \n",
       "8463          1DEQ                     BLOOD CLOTTING     X-RAY DIFFRACTION   \n",
       "8470          1DEQ                     BLOOD CLOTTING     X-RAY DIFFRACTION   \n",
       "10930         1EFG                  ELONGATION FACTOR     X-RAY DIFFRACTION   \n",
       "10931         1EFG                  ELONGATION FACTOR     X-RAY DIFFRACTION   \n",
       "13440         1FE1  PHOTOSYNTHESIS/ELECTRON TRANSPORT     X-RAY DIFFRACTION   \n",
       "13441         1FE1  PHOTOSYNTHESIS/ELECTRON TRANSPORT     X-RAY DIFFRACTION   \n",
       "13442         1FE1  PHOTOSYNTHESIS/ELECTRON TRANSPORT     X-RAY DIFFRACTION   \n",
       "13443         1FE1  PHOTOSYNTHESIS/ELECTRON TRANSPORT     X-RAY DIFFRACTION   \n",
       "13444         1FE1  PHOTOSYNTHESIS/ELECTRON TRANSPORT     X-RAY DIFFRACTION   \n",
       "13445         1FE1  PHOTOSYNTHESIS/ELECTRON TRANSPORT     X-RAY DIFFRACTION   \n",
       "...            ...                                ...                   ...   \n",
       "470105        6F1T                      MOTOR PROTEIN   ELECTRON MICROSCOPY   \n",
       "470106        6F1T                      MOTOR PROTEIN   ELECTRON MICROSCOPY   \n",
       "470107        6F1T                      MOTOR PROTEIN   ELECTRON MICROSCOPY   \n",
       "470108        6F1T                      MOTOR PROTEIN   ELECTRON MICROSCOPY   \n",
       "470112        6F1T                      MOTOR PROTEIN   ELECTRON MICROSCOPY   \n",
       "470113        6F1T                      MOTOR PROTEIN   ELECTRON MICROSCOPY   \n",
       "470135        6F1T                      MOTOR PROTEIN   ELECTRON MICROSCOPY   \n",
       "470184        6F38                      MOTOR PROTEIN   ELECTRON MICROSCOPY   \n",
       "470185        6F38                      MOTOR PROTEIN   ELECTRON MICROSCOPY   \n",
       "470186        6F38                      MOTOR PROTEIN   ELECTRON MICROSCOPY   \n",
       "470187        6F38                      MOTOR PROTEIN   ELECTRON MICROSCOPY   \n",
       "470188        6F38                      MOTOR PROTEIN   ELECTRON MICROSCOPY   \n",
       "470189        6F38                      MOTOR PROTEIN   ELECTRON MICROSCOPY   \n",
       "470192        6F38                      MOTOR PROTEIN   ELECTRON MICROSCOPY   \n",
       "470193        6F38                      MOTOR PROTEIN   ELECTRON MICROSCOPY   \n",
       "470194        6F38                      MOTOR PROTEIN   ELECTRON MICROSCOPY   \n",
       "470215        6F38                      MOTOR PROTEIN   ELECTRON MICROSCOPY   \n",
       "470216        6F38                      MOTOR PROTEIN   ELECTRON MICROSCOPY   \n",
       "470219        6F3A                      MOTOR PROTEIN   ELECTRON MICROSCOPY   \n",
       "470220        6F3A                      MOTOR PROTEIN   ELECTRON MICROSCOPY   \n",
       "470233        6F3A                      MOTOR PROTEIN   ELECTRON MICROSCOPY   \n",
       "470234        6F3A                      MOTOR PROTEIN   ELECTRON MICROSCOPY   \n",
       "470235        6F3A                      MOTOR PROTEIN   ELECTRON MICROSCOPY   \n",
       "470236        6F3A                      MOTOR PROTEIN   ELECTRON MICROSCOPY   \n",
       "470237        6F3A                      MOTOR PROTEIN   ELECTRON MICROSCOPY   \n",
       "470238        6F3A                      MOTOR PROTEIN   ELECTRON MICROSCOPY   \n",
       "470241        6F3A                      MOTOR PROTEIN   ELECTRON MICROSCOPY   \n",
       "470242        6F3A                      MOTOR PROTEIN   ELECTRON MICROSCOPY   \n",
       "470254        6F3A                      MOTOR PROTEIN   ELECTRON MICROSCOPY   \n",
       "470760        7INS                            HORMONE     X-RAY DIFFRACTION   \n",
       "\n",
       "       macromoleculeType_x  residueCount_x  resolution  \\\n",
       "2321               Protein            1063        2.75   \n",
       "2322               Protein            1063        2.75   \n",
       "2325               Protein            1063        2.75   \n",
       "2326               Protein            1063        2.75   \n",
       "3622               Protein            2048        3.16   \n",
       "5553               Protein            1844        4.00   \n",
       "5554               Protein            1844        4.00   \n",
       "5555               Protein            1844        4.00   \n",
       "5556               Protein            1844        4.00   \n",
       "5557               Protein            1844        4.00   \n",
       "5558               Protein            1844        4.00   \n",
       "5559               Protein            1844        4.00   \n",
       "5560               Protein            1844        4.00   \n",
       "8026               Protein            3091        4.40   \n",
       "8027               Protein            3091        4.40   \n",
       "8028               Protein            3091        4.40   \n",
       "8029               Protein            3091        4.40   \n",
       "8030               Protein            3091        4.40   \n",
       "8031               Protein            3091        4.40   \n",
       "8032               Protein            3091        4.40   \n",
       "8463               Protein            5016        3.50   \n",
       "8470               Protein            5016        3.50   \n",
       "10930              Protein             755        2.70   \n",
       "10931              Protein             755        2.70   \n",
       "13440              Protein            2476        3.80   \n",
       "13441              Protein            2476        3.80   \n",
       "13442              Protein            2476        3.80   \n",
       "13443              Protein            2476        3.80   \n",
       "13444              Protein            2476        3.80   \n",
       "13445              Protein            2476        3.80   \n",
       "...                    ...             ...         ...   \n",
       "470105             Protein           16606        3.50   \n",
       "470106             Protein           16606        3.50   \n",
       "470107             Protein           16606        3.50   \n",
       "470108             Protein           16606        3.50   \n",
       "470112             Protein           16606        3.50   \n",
       "470113             Protein           16606        3.50   \n",
       "470135             Protein           16606        3.50   \n",
       "470184             Protein           17882        6.70   \n",
       "470185             Protein           17882        6.70   \n",
       "470186             Protein           17882        6.70   \n",
       "470187             Protein           17882        6.70   \n",
       "470188             Protein           17882        6.70   \n",
       "470189             Protein           17882        6.70   \n",
       "470192             Protein           17882        6.70   \n",
       "470193             Protein           17882        6.70   \n",
       "470194             Protein           17882        6.70   \n",
       "470215             Protein           17882        6.70   \n",
       "470216             Protein           17882        6.70   \n",
       "470219             Protein           12282        8.20   \n",
       "470220             Protein           12282        8.20   \n",
       "470233             Protein           12282        8.20   \n",
       "470234             Protein           12282        8.20   \n",
       "470235             Protein           12282        8.20   \n",
       "470236             Protein           12282        8.20   \n",
       "470237             Protein           12282        8.20   \n",
       "470238             Protein           12282        8.20   \n",
       "470241             Protein           12282        8.20   \n",
       "470242             Protein           12282        8.20   \n",
       "470254             Protein           12282        8.20   \n",
       "470760             Protein             169        2.00   \n",
       "\n",
       "        structureMolecularWeight          crystallizationMethod  \\\n",
       "2321                   120874.53                            NaN   \n",
       "2322                   120874.53                            NaN   \n",
       "2325                   120874.53                            NaN   \n",
       "2326                   120874.53                            NaN   \n",
       "3622                   467225.78                            NaN   \n",
       "5553                   223365.34                            NaN   \n",
       "5554                   223365.34                            NaN   \n",
       "5555                   223365.34                            NaN   \n",
       "5556                   223365.34                            NaN   \n",
       "5557                   223365.34                            NaN   \n",
       "5558                   223365.34                            NaN   \n",
       "5559                   223365.34                            NaN   \n",
       "5560                   223365.34                            NaN   \n",
       "8026                   263185.34  VAPOR DIFFUSION, HANGING DROP   \n",
       "8027                   263185.34  VAPOR DIFFUSION, HANGING DROP   \n",
       "8028                   263185.34  VAPOR DIFFUSION, HANGING DROP   \n",
       "8029                   263185.34  VAPOR DIFFUSION, HANGING DROP   \n",
       "8030                   263185.34  VAPOR DIFFUSION, HANGING DROP   \n",
       "8031                   263185.34  VAPOR DIFFUSION, HANGING DROP   \n",
       "8032                   263185.34  VAPOR DIFFUSION, HANGING DROP   \n",
       "8463                   560537.56                            NaN   \n",
       "8470                   560537.56                            NaN   \n",
       "10930                   82889.02                            NaN   \n",
       "10931                   82889.02                            NaN   \n",
       "13440                  276435.00                   BATCH METHOD   \n",
       "13441                  276435.00                   BATCH METHOD   \n",
       "13442                  276435.00                   BATCH METHOD   \n",
       "13443                  276435.00                   BATCH METHOD   \n",
       "13444                  276435.00                   BATCH METHOD   \n",
       "13445                  276435.00                   BATCH METHOD   \n",
       "...                          ...                            ...   \n",
       "470105                1818540.25                            NaN   \n",
       "470106                1818540.25                            NaN   \n",
       "470107                1818540.25                            NaN   \n",
       "470108                1818540.25                            NaN   \n",
       "470112                1818540.25                            NaN   \n",
       "470113                1818540.25                            NaN   \n",
       "470135                1818540.25                            NaN   \n",
       "470184                1967090.38                            NaN   \n",
       "470185                1967090.38                            NaN   \n",
       "470186                1967090.38                            NaN   \n",
       "470187                1967090.38                            NaN   \n",
       "470188                1967090.38                            NaN   \n",
       "470189                1967090.38                            NaN   \n",
       "470192                1967090.38                            NaN   \n",
       "470193                1967090.38                            NaN   \n",
       "470194                1967090.38                            NaN   \n",
       "470215                1967090.38                            NaN   \n",
       "470216                1967090.38                            NaN   \n",
       "470219                1329139.88                            NaN   \n",
       "470220                1329139.88                            NaN   \n",
       "470233                1329139.88                            NaN   \n",
       "470234                1329139.88                            NaN   \n",
       "470235                1329139.88                            NaN   \n",
       "470236                1329139.88                            NaN   \n",
       "470237                1329139.88                            NaN   \n",
       "470238                1329139.88                            NaN   \n",
       "470241                1329139.88                            NaN   \n",
       "470242                1329139.88                            NaN   \n",
       "470254                1329139.88                            NaN   \n",
       "470760                  19338.63                            NaN   \n",
       "\n",
       "        crystallizationTempK  densityMatthews  densityPercentSol  \\\n",
       "2321                     NaN             3.52              61.00   \n",
       "2322                     NaN             3.52              61.00   \n",
       "2325                     NaN              NaN                NaN   \n",
       "2326                     NaN              NaN                NaN   \n",
       "3622                     NaN             3.83              67.90   \n",
       "5553                     NaN             5.80              80.00   \n",
       "5554                     NaN             5.80              80.00   \n",
       "5555                     NaN             5.80              80.00   \n",
       "5556                     NaN             5.80              80.00   \n",
       "5557                     NaN             5.80              80.00   \n",
       "5558                     NaN             5.80              80.00   \n",
       "5559                     NaN             5.80              80.00   \n",
       "5560                     NaN             5.80              80.00   \n",
       "8026                   298.0             4.03              69.50   \n",
       "8027                   298.0             4.03              69.50   \n",
       "8028                   298.0             4.03              69.50   \n",
       "8029                   298.0             4.03              69.50   \n",
       "8030                   298.0             4.03              69.50   \n",
       "8031                   298.0             4.03              69.50   \n",
       "8032                   298.0             4.03              69.50   \n",
       "8463                   277.0             3.12              60.53   \n",
       "8470                   277.0             3.12              60.53   \n",
       "10930                  277.0             2.87              57.17   \n",
       "10931                  277.0             2.87              57.17   \n",
       "13440                  293.0              NaN              45.00   \n",
       "13441                  293.0              NaN              45.00   \n",
       "13442                  293.0              NaN              45.00   \n",
       "13443                  293.0              NaN              45.00   \n",
       "13444                  293.0              NaN              45.00   \n",
       "13445                  293.0              NaN              45.00   \n",
       "...                      ...              ...                ...   \n",
       "470105                   NaN              NaN                NaN   \n",
       "470106                   NaN              NaN                NaN   \n",
       "470107                   NaN              NaN                NaN   \n",
       "470108                   NaN              NaN                NaN   \n",
       "470112                   NaN              NaN                NaN   \n",
       "470113                   NaN              NaN                NaN   \n",
       "470135                   NaN              NaN                NaN   \n",
       "470184                   NaN              NaN                NaN   \n",
       "470185                   NaN              NaN                NaN   \n",
       "470186                   NaN              NaN                NaN   \n",
       "470187                   NaN              NaN                NaN   \n",
       "470188                   NaN              NaN                NaN   \n",
       "470189                   NaN              NaN                NaN   \n",
       "470192                   NaN              NaN                NaN   \n",
       "470193                   NaN              NaN                NaN   \n",
       "470194                   NaN              NaN                NaN   \n",
       "470215                   NaN              NaN                NaN   \n",
       "470216                   NaN              NaN                NaN   \n",
       "470219                   NaN              NaN                NaN   \n",
       "470220                   NaN              NaN                NaN   \n",
       "470233                   NaN              NaN                NaN   \n",
       "470234                   NaN              NaN                NaN   \n",
       "470235                   NaN              NaN                NaN   \n",
       "470236                   NaN              NaN                NaN   \n",
       "470237                   NaN              NaN                NaN   \n",
       "470238                   NaN              NaN                NaN   \n",
       "470241                   NaN              NaN                NaN   \n",
       "470242                   NaN              NaN                NaN   \n",
       "470254                   NaN              NaN                NaN   \n",
       "470760                   NaN             2.27              45.72   \n",
       "\n",
       "                                              pdbxDetails  phValue  \\\n",
       "2321                                               pH 7.5      7.5   \n",
       "2322                                               pH 7.5      7.5   \n",
       "2325                                                  NaN      NaN   \n",
       "2326                                                  NaN      NaN   \n",
       "3622    20MM KMES PH6.7, 75MM NACL, 10% GLYCEROL, AND ...      6.7   \n",
       "5553                                               pH 6.4      6.4   \n",
       "5554                                               pH 6.4      6.4   \n",
       "5555                                               pH 6.4      6.4   \n",
       "5556                                               pH 6.4      6.4   \n",
       "5557                                               pH 6.4      6.4   \n",
       "5558                                               pH 6.4      6.4   \n",
       "5559                                               pH 6.4      6.4   \n",
       "5560                                               pH 6.4      6.4   \n",
       "8026    Tris, PEG 8000, glycerol, NaCl, MgSO4, LiSO4, ...      7.2   \n",
       "8027    Tris, PEG 8000, glycerol, NaCl, MgSO4, LiSO4, ...      7.2   \n",
       "8028    Tris, PEG 8000, glycerol, NaCl, MgSO4, LiSO4, ...      7.2   \n",
       "8029    Tris, PEG 8000, glycerol, NaCl, MgSO4, LiSO4, ...      7.2   \n",
       "8030    Tris, PEG 8000, glycerol, NaCl, MgSO4, LiSO4, ...      7.2   \n",
       "8031    Tris, PEG 8000, glycerol, NaCl, MgSO4, LiSO4, ...      7.2   \n",
       "8032    Tris, PEG 8000, glycerol, NaCl, MgSO4, LiSO4, ...      7.2   \n",
       "8463    10 mM MES, 5mM sodium azide, 2mM calcium chlor...      6.2   \n",
       "8470    10 mM MES, 5mM sodium azide, 2mM calcium chlor...      6.2   \n",
       "10930                            pH 7.8, temperature 277K      7.8   \n",
       "10931                            pH 7.8, temperature 277K      7.8   \n",
       "13440   POLYETHYLENGLYCOL 2000,   HEPES-BUFFER, CACL2 ...      7.0   \n",
       "13441   POLYETHYLENGLYCOL 2000,   HEPES-BUFFER, CACL2 ...      7.0   \n",
       "13442   POLYETHYLENGLYCOL 2000,   HEPES-BUFFER, CACL2 ...      7.0   \n",
       "13443   POLYETHYLENGLYCOL 2000,   HEPES-BUFFER, CACL2 ...      7.0   \n",
       "13444   POLYETHYLENGLYCOL 2000,   HEPES-BUFFER, CACL2 ...      7.0   \n",
       "13445   POLYETHYLENGLYCOL 2000,   HEPES-BUFFER, CACL2 ...      7.0   \n",
       "...                                                   ...      ...   \n",
       "470105                                                NaN      NaN   \n",
       "470106                                                NaN      NaN   \n",
       "470107                                                NaN      NaN   \n",
       "470108                                                NaN      NaN   \n",
       "470112                                                NaN      NaN   \n",
       "470113                                                NaN      NaN   \n",
       "470135                                                NaN      NaN   \n",
       "470184                                                NaN      NaN   \n",
       "470185                                                NaN      NaN   \n",
       "470186                                                NaN      NaN   \n",
       "470187                                                NaN      NaN   \n",
       "470188                                                NaN      NaN   \n",
       "470189                                                NaN      NaN   \n",
       "470192                                                NaN      NaN   \n",
       "470193                                                NaN      NaN   \n",
       "470194                                                NaN      NaN   \n",
       "470215                                                NaN      NaN   \n",
       "470216                                                NaN      NaN   \n",
       "470219                                                NaN      NaN   \n",
       "470220                                                NaN      NaN   \n",
       "470233                                                NaN      NaN   \n",
       "470234                                                NaN      NaN   \n",
       "470235                                                NaN      NaN   \n",
       "470236                                                NaN      NaN   \n",
       "470237                                                NaN      NaN   \n",
       "470238                                                NaN      NaN   \n",
       "470241                                                NaN      NaN   \n",
       "470242                                                NaN      NaN   \n",
       "470254                                                NaN      NaN   \n",
       "470760                                                NaN      NaN   \n",
       "\n",
       "        publicationYear chainId  \\\n",
       "2321             1995.0       C   \n",
       "2322             1995.0       D   \n",
       "2325             1995.0       C   \n",
       "2326             1995.0       D   \n",
       "3622             1998.0       I   \n",
       "5553             1999.0       A   \n",
       "5554             1999.0       B   \n",
       "5555             1999.0       C   \n",
       "5556             1999.0       D   \n",
       "5557             1999.0       E   \n",
       "5558             1999.0       F   \n",
       "5559             1999.0       K   \n",
       "5560             1999.0       L   \n",
       "8026             1999.0       A   \n",
       "8027             1999.0       B   \n",
       "8028             1999.0       C   \n",
       "8029             1999.0       D   \n",
       "8030             1999.0       E   \n",
       "8031             1999.0       F   \n",
       "8032             1999.0       G   \n",
       "8463             2000.0       M   \n",
       "8470             2000.0       Z   \n",
       "10930            1994.0       B   \n",
       "10931            1994.0       C   \n",
       "13440            2001.0       A   \n",
       "13441            2001.0       B   \n",
       "13442            2001.0       C   \n",
       "13443            2001.0       D   \n",
       "13444            2001.0       E   \n",
       "13445            2001.0       F   \n",
       "...                 ...     ...   \n",
       "470105           2018.0       O   \n",
       "470106           2018.0       P   \n",
       "470107           2018.0       Q   \n",
       "470108           2018.0       R   \n",
       "470112           2018.0       Y   \n",
       "470113           2018.0       Z   \n",
       "470135           2018.0       z   \n",
       "470184           2018.0       M   \n",
       "470185           2018.0       N   \n",
       "470186           2018.0       O   \n",
       "470187           2018.0       P   \n",
       "470188           2018.0       Q   \n",
       "470189           2018.0       R   \n",
       "470192           2018.0       X   \n",
       "470193           2018.0       Y   \n",
       "470194           2018.0       Z   \n",
       "470215           2018.0       x   \n",
       "470216           2018.0       z   \n",
       "470219           2018.0       5   \n",
       "470220           2018.0       6   \n",
       "470233           2018.0       M   \n",
       "470234           2018.0       N   \n",
       "470235           2018.0       O   \n",
       "470236           2018.0       P   \n",
       "470237           2018.0       Q   \n",
       "470238           2018.0       R   \n",
       "470241           2018.0       Y   \n",
       "470242           2018.0       Z   \n",
       "470254           2018.0       z   \n",
       "470760           1991.0       G   \n",
       "\n",
       "                                                 sequence  \n",
       "2321                XXXXXXXXXXXXXXXXXXXXXXXXXXXXXXXXXXXXX  \n",
       "2322                                     XXXXXXXXXXXXXXXX  \n",
       "2325                XXXXXXXXXXXXXXXXXXXXXXXXXXXXXXXXXXXXX  \n",
       "2326                                     XXXXXXXXXXXXXXXX  \n",
       "3622                    XXXXXXXXXXXXXXXXXXXXXXXXXXXXXXXXX  \n",
       "5553    XXXXXXXXXXXXXXXXXXXXXXXXXXXXXXXXXXXXXXXXXXXXXX...  \n",
       "5554    XXXXXXXXXXXXXXXXXXXXXXXXXXXXXXXXXXXXXXXXXXXXXX...  \n",
       "5555    XXXXXXXXXXXXXXXXXXXXXXXXXXXXXXXXXXXXXXXXXXXXXX...  \n",
       "5556    XXXXXXXXXXXXXXXXXXXXXXXXXXXXXXXXXXXXXXXXXXXXXX...  \n",
       "5557    XXXXXXXXXXXXXXXXXXXXXXXXXXXXXXXXXXXXXXXXXXXXXX...  \n",
       "5558    XXXXXXXXXXXXXXXXXXXXXXXXXXXXXXXXXXXXXXXXXXXXXX...  \n",
       "5559    XXXXXXXXXXXXXXXXXXXXXXXXXXXXXXXXXXXXXXXXXXXXXX...  \n",
       "5560    XXXXXXXXXXXXXXXXXXXXXXXXXXXXXXXXXXXXXXXXXXXXXX...  \n",
       "8026    XXXXXXXXXXXXXXXXXXXXXXXXXXXXXXXXXXXXXXXXXXXXXX...  \n",
       "8027    XXXXXXXXXXXXXXXXXXXXXXXXXXXXXXXXXXXXXXXXXXXXXX...  \n",
       "8028    XXXXXXXXXXXXXXXXXXXXXXXXXXXXXXXXXXXXXXXXXXXXXX...  \n",
       "8029    XXXXXXXXXXXXXXXXXXXXXXXXXXXXXXXXXXXXXXXXXXXXXX...  \n",
       "8030    XXXXXXXXXXXXXXXXXXXXXXXXXXXXXXXXXXXXXXXXXXXXXX...  \n",
       "8031    XXXXXXXXXXXXXXXXXXXXXXXXXXXXXXXXXXXXXXXXXXXXXX...  \n",
       "8032    XXXXXXXXXXXXXXXXXXXXXXXXXXXXXXXXXXXXXXXXXXXXXX...  \n",
       "8463    XXXXXXXXXXXXXXXXXXXXXXXXXXXXXXXXXXXXXXXXXXXXXX...  \n",
       "8470    XXXXXXXXXXXXXXXXXXXXXXXXXXXXXXXXXXXXXXXXXXXXXX...  \n",
       "10930                XXXXXXXXXXXXXXXXXXXXXXXXXXXXXXXXXXXX  \n",
       "10931                        XXXXXXXXXXXXXXXXXXXXXXXXXXXX  \n",
       "13440   XXXXXXXXXXXXXXXXXXXXXXXXXXXXXXXXXXXXXXXXXXXXXX...  \n",
       "13441   XXXXXXXXXXXXXXXXXXXXXXXXXXXXXXXXXXXXXXXXXXXXXX...  \n",
       "13442   XXXXXXXXXXXXXXXXXXXXXXXXXXXXXXXXXXXXXXXXXXXXXX...  \n",
       "13443   XXXXXXXXXXXXXXXXXXXXXXXXXXXXXXXXXXXXXXXXXXXXXX...  \n",
       "13444            XXXXXXXXXXXXXXXXXXXXXXXXXXXXXXXXXXXXXXXX  \n",
       "13445                      XXXXXXXXXXXXXXXXXXXXXXXXXXXXXX  \n",
       "...                                                   ...  \n",
       "470105  XXXXXXXXXXXXXXXXXXXXXXXXXXXXXXXXXXXXXXXXXXXXXX...  \n",
       "470106  XXXXXXXXXXXXXXXXXXXXXXXXXXXXXXXXXXXXXXXXXXXXXX...  \n",
       "470107  XXXXXXXXXXXXXXXXXXXXXXXXXXXXXXXXXXXXXXXXXXXXXX...  \n",
       "470108  XXXXXXXXXXXXXXXXXXXXXXXXXXXXXXXXXXXXXXXXXXXXXX...  \n",
       "470112  XXXXXXXXXXXXXXXXXXXXXXXXXXXXXXXXXXXXXXXXXXXXXX...  \n",
       "470113  XXXXXXXXXXXXXXXXXXXXXXXXXXXXXXXXXXXXXXXXXXXXXX...  \n",
       "470135  XXXXXXXXXXXXXXXXXXXXXXXXXXXXXXXXXXXXXXXXXXXXXX...  \n",
       "470184  XXXXXXXXXXXXXXXXXXXXXXXXXXXXXXXXXXXXXXXXXXXXXX...  \n",
       "470185  XXXXXXXXXXXXXXXXXXXXXXXXXXXXXXXXXXXXXXXXXXXXXX...  \n",
       "470186  XXXXXXXXXXXXXXXXXXXXXXXXXXXXXXXXXXXXXXXXXXXXXX...  \n",
       "470187  XXXXXXXXXXXXXXXXXXXXXXXXXXXXXXXXXXXXXXXXXXXXXX...  \n",
       "470188  XXXXXXXXXXXXXXXXXXXXXXXXXXXXXXXXXXXXXXXXXXXXXX...  \n",
       "470189  XXXXXXXXXXXXXXXXXXXXXXXXXXXXXXXXXXXXXXXXXXXXXX...  \n",
       "470192  XXXXXXXXXXXXXXXXXXXXXXXXXXXXXXXXXXXXXXXXXXXXXX...  \n",
       "470193  XXXXXXXXXXXXXXXXXXXXXXXXXXXXXXXXXXXXXXXXXXXXXX...  \n",
       "470194  XXXXXXXXXXXXXXXXXXXXXXXXXXXXXXXXXXXXXXXXXXXXXX...  \n",
       "470215  XXXXXXXXXXXXXXXXXXXXXXXXXXXXXXXXXXXXXXXXXXXXXX...  \n",
       "470216  XXXXXXXXXXXXXXXXXXXXXXXXXXXXXXXXXXXXXXXXXXXXXX...  \n",
       "470219  XXXXXXXXXXXXXXXXXXXXXXXXXXXXXXXXXXXXXXXXXXXXXX...  \n",
       "470220  XXXXXXXXXXXXXXXXXXXXXXXXXXXXXXXXXXXXXXXXXXXXXX...  \n",
       "470233  XXXXXXXXXXXXXXXXXXXXXXXXXXXXXXXXXXXXXXXXXXXXXX...  \n",
       "470234  XXXXXXXXXXXXXXXXXXXXXXXXXXXXXXXXXXXXXXXXXXXXXX...  \n",
       "470235  XXXXXXXXXXXXXXXXXXXXXXXXXXXXXXXXXXXXXXXXXXXXXX...  \n",
       "470236  XXXXXXXXXXXXXXXXXXXXXXXXXXXXXXXXXXXXXXXXXXXXXX...  \n",
       "470237  XXXXXXXXXXXXXXXXXXXXXXXXXXXXXXXXXXXXXXXXXXXXXX...  \n",
       "470238  XXXXXXXXXXXXXXXXXXXXXXXXXXXXXXXXXXXXXXXXXXXXXX...  \n",
       "470241  XXXXXXXXXXXXXXXXXXXXXXXXXXXXXXXXXXXXXXXXXXXXXX...  \n",
       "470242  XXXXXXXXXXXXXXXXXXXXXXXXXXXXXXXXXXXXXXXXXXXXXX...  \n",
       "470254  XXXXXXXXXXXXXXXXXXXXXXXXXXXXXXXXXXXXXXXXXXXXXX...  \n",
       "470760                                   XXXXXXXXXXXXXXXX  \n",
       "\n",
       "[1365 rows x 16 columns]"
      ]
     },
     "execution_count": 42,
     "metadata": {},
     "output_type": "execute_result"
    }
   ],
   "source": [
    "df.loc[df['sequence'].str.contains('(^XXXX)+')]"
   ]
  },
  {
   "cell_type": "code",
   "execution_count": 43,
   "metadata": {},
   "outputs": [
    {
     "name": "stderr",
     "output_type": "stream",
     "text": [
      "C:\\Users\\dell\\Anaconda3\\lib\\site-packages\\ipykernel_launcher.py:1: UserWarning: This pattern has match groups. To actually get the groups, use str.extract.\n",
      "  \"\"\"Entry point for launching an IPython kernel.\n"
     ]
    }
   ],
   "source": [
    "index_to_drop = df.loc[df['sequence'].str.contains('(^XXXX)+')].index"
   ]
  },
  {
   "cell_type": "code",
   "execution_count": 44,
   "metadata": {},
   "outputs": [
    {
     "data": {
      "text/plain": [
       "(344956, 16)"
      ]
     },
     "execution_count": 44,
     "metadata": {},
     "output_type": "execute_result"
    }
   ],
   "source": [
    "df.drop(index = index_to_drop, inplace = True)\n",
    "df.shape"
   ]
  },
  {
   "cell_type": "code",
   "execution_count": 45,
   "metadata": {},
   "outputs": [],
   "source": [
    "df_prot = df[[\"structureId\", \"classification\", \"sequence\", \"chainId\"]]"
   ]
  },
  {
   "cell_type": "code",
   "execution_count": 46,
   "metadata": {},
   "outputs": [
    {
     "name": "stderr",
     "output_type": "stream",
     "text": [
      "C:\\Users\\dell\\Anaconda3\\lib\\site-packages\\ipykernel_launcher.py:1: SettingWithCopyWarning: \n",
      "A value is trying to be set on a copy of a slice from a DataFrame.\n",
      "Try using .loc[row_indexer,col_indexer] = value instead\n",
      "\n",
      "See the caveats in the documentation: http://pandas.pydata.org/pandas-docs/stable/indexing.html#indexing-view-versus-copy\n",
      "  \"\"\"Entry point for launching an IPython kernel.\n"
     ]
    }
   ],
   "source": [
    "df_prot[\"seq_length\"] = df_prot[\"sequence\"].apply(len)"
   ]
  },
  {
   "cell_type": "code",
   "execution_count": 47,
   "metadata": {},
   "outputs": [],
   "source": [
    "df_prot = df_prot[df_prot['seq_length'] > 20]"
   ]
  },
  {
   "cell_type": "code",
   "execution_count": 48,
   "metadata": {},
   "outputs": [
    {
     "data": {
      "text/plain": [
       "Text(0, 0.5, 'Frequency')"
      ]
     },
     "execution_count": 48,
     "metadata": {},
     "output_type": "execute_result"
    },
    {
     "data": {
      "image/png": "[encoded data removed]",
      "text/plain": [
       "<Figure size 432x432 with 1 Axes>"
      ]
     },
     "metadata": {
      "needs_background": "light"
     },
     "output_type": "display_data"
    }
   ],
   "source": [
    "plt.figure(figsize=(6,6))\n",
    "sns.distplot(df_prot[\"seq_length\"], bins = 80, kde = False, hist_kws={'edgecolor':'k'})\n",
    "plt.title(\"Histogram of seq. length\")\n",
    "plt.ylabel(\"Frequency\")"
   ]
  },
  {
   "cell_type": "code",
   "execution_count": 49,
   "metadata": {},
   "outputs": [
    {
     "data": {
      "image/png": "[encoded data removed]",
      "text/plain": [
       "<Figure size 720x720 with 1 Axes>"
      ]
     },
     "metadata": {
      "needs_background": "light"
     },
     "output_type": "display_data"
    }
   ],
   "source": [
    "clas_prot = df_prot.groupby(\"classification\").structureId.count().sort_values(ascending = False)[0:20]\n",
    "ax = clas_prot.plot(kind = \"barh\", figsize=(10,10), color='steelblue')\n",
    "ax.spines['right'].set_visible(False)\n",
    "ax.spines['top'].set_visible(False)\n",
    "\n",
    "for i, v in enumerate(clas_prot):\n",
    "    ax.text(v + 3, i + .045, str(v), color='black')\n",
    "    \n",
    "plt.show()"
   ]
  },
  {
   "cell_type": "code",
   "execution_count": 50,
   "metadata": {},
   "outputs": [
    {
     "data": {
      "text/plain": [
       "Text(0, 0.5, 'Length of sequence')"
      ]
     },
     "execution_count": 50,
     "metadata": {},
     "output_type": "execute_result"
    },
    {
     "data": {
      "image/png": "[encoded data removed]",
      "text/plain": [
       "<Figure size 576x576 with 1 Axes>"
      ]
     },
     "metadata": {
      "needs_background": "light"
     },
     "output_type": "display_data"
    }
   ],
   "source": [
    "leng = df_prot.groupby(\"classification\").seq_length.mean().get(clas_prot.keys())\n",
    "leng.plot(kind = \"bar\", figsize=(8,8))\n",
    "plt.title(\"Average sequence length of protein\")\n",
    "plt.ylabel(\"Length of sequence\")"
   ]
  },
  {
   "cell_type": "code",
   "execution_count": 51,
   "metadata": {},
   "outputs": [
    {
     "data": {
      "text/plain": [
       "(226693, 5)"
      ]
     },
     "execution_count": 51,
     "metadata": {},
     "output_type": "execute_result"
    }
   ],
   "source": [
    "df_prot_fin = df_prot[df_prot['classification'].isin(clas_prot.keys())]\n",
    "df_prot_fin.shape"
   ]
  },
  {
   "cell_type": "code",
   "execution_count": 52,
   "metadata": {},
   "outputs": [
    {
     "data": {
      "text/plain": [
       "20"
      ]
     },
     "execution_count": 52,
     "metadata": {},
     "output_type": "execute_result"
    }
   ],
   "source": [
    "df_prot_fin[\"classification\"].nunique()"
   ]
  },
  {
   "cell_type": "code",
   "execution_count": 53,
   "metadata": {},
   "outputs": [],
   "source": [
    "from sklearn.model_selection import train_test_split"
   ]
  },
  {
   "cell_type": "code",
   "execution_count": 54,
   "metadata": {},
   "outputs": [],
   "source": [
    "from sklearn.feature_extraction.text import TfidfVectorizer"
   ]
  },
  {
   "cell_type": "code",
   "execution_count": 55,
   "metadata": {},
   "outputs": [],
   "source": [
    "X_train, X_test,y_train,y_test = train_test_split(df_prot_fin['sequence'], df_prot_fin['classification'], test_size = 0.3, \n",
    "                                                  random_state = 101,)"
   ]
  },
  {
   "cell_type": "code",
   "execution_count": 56,
   "metadata": {},
   "outputs": [
    {
     "name": "stdout",
     "output_type": "stream",
     "text": [
      "87227     MKRVVITGLGIVSSIGNNQQEVLASLREGRSGITFSQELKDSGMRS...\n",
      "194201    GHMEDFWVQYGDEMLPVIGDFPRKGDYLPSFMLVDDQKHDAALESF...\n",
      "20005     ATKAVCVLKGDGPVQGIINFEQKESNGPVKVWGSIKGLTEGLHGFH...\n",
      "244434    MNIRPLHDRVIVKRKEVETKSAGGIVLTGSAAAKSTRGEVLAVGNG...\n",
      "183064    PIVQNLQGQMVHQAISPRTLNAWVKVVEEKAFSPEVIPMFSALSEG...\n",
      "373480    AQPGRKLGYAILGLGYYATRIIMPRFAECEHSRLAALVSGTPEKLK...\n",
      "215710    SASEFNILNDGPPKETYVVDDAGVLSRVTKSDLKKLLSDLEYRKKM...\n",
      "156495    DCCSCQEKWVGYRCNCYFISSEQKTWNESRHLCASQKSSLLQLQNT...\n",
      "394776    YFQSMETMKSKANCAQNPNCNIMIFHPTKEEFNDFDKYIAYMESQG...\n",
      "19594     MAKLKEPIIAINFKTYIEATGKRALEIAKAAEKVYKETGVTIVVAP...\n",
      "316930    MKIINARLRRQEALFTLDLQDGIIHRITAQAAMQTADAGAIDAQGR...\n",
      "241321    GSGHKSSPCDTNWRYYGDSCYGFFRHNLTWEESKQYCTDMNATLLK...\n",
      "316208    MADVFHLGLTKAMLDGATLAIVPGDPERVKRIAELMDNATFLASHR...\n",
      "214462    MGSDKIHHHHHHENLYFQGMYQVVASDLDGTLLSPDHFLTPYAKET...\n",
      "422190    TSIMAVTFKDGVILGADSRTTTGAYIANRVTDKLTRVHDKIWCCRS...\n",
      "441617    MHHHHHHSSGVDLGTENLYFQSMETMKSKANCAQNPNCNIMIFHPT...\n",
      "432536    MEIYEGKLTAEGLRFGIVASRFNHALVGRLVEGAIDCIVRHGGREE...\n",
      "214493    SNAMSYITKQDKVIAEAIEREFQRQNSNIELIASENFVSEAVMEAQ...\n",
      "145766    MTHHHHHHAMGPAAGQAYDAGNLDVASSPVKPTLSITKKTLTAAEA...\n",
      "414790    MTTIVSVRRNGHVVIAGDGQATLGNTVMKGNVKKVRRLYNDKVIAG...\n",
      "12698     ADKELKFLVVDDFSTMRRIVRNLLKELGFNNVEEAEDGVDALNKLQ...\n",
      "197849    LRGSGEEEEEELVDPLTTIREHCEQTEKCVKARERLELCDARVSSR...\n",
      "213454    GMKLPRFGVEEWLNVHENSAIYDIAGVSISSLTLEELFALSGTNPE...\n",
      "391279    MNNNDIEYNAPSEIKYIDVVNTYDLEEEASKVVPHGGFNYIAGASG...\n",
      "400820    MLTEFDAGYGEQPFRDLCANYPGAEAYDPHDFRIEWGPIFHRGRLD...\n",
      "246791    DHPFTEIKSGFLERRSKFLKSYSKGYYVLTPNFLHEFKTADRKKDL...\n",
      "250038    MTKQHAFTREDLLRCSRGELFGPGNAQLPAPNMLMIDRIVHISDVG...\n",
      "454795    LEEGKAGSGLRQYYLSKIEELQLIVNDKSQNLRRLQAQRNELNAKV...\n",
      "264188    MLPKLVITHRVHEEILQLLAPHCELITNQTDSTLTREEILRRCRDA...\n",
      "156965    GASAPMVKIYTKNGDKGQTRIIGKQILYKNDPRVAAYGEVDELNSW...\n",
      "                                ...                        \n",
      "59538     GSSGSSGLPIIVKWGGQEYSVTTLSEDDTVLDLKQFLKTLTGVLPE...\n",
      "273861    GSHEAVRPLLPDSDSEQPDPVDAQRLDMARRRADANAAPQPGISGR...\n",
      "40228     MANLTEKFLRIFARRGKSIILAYDHGIEHGPADFMDNPDSADPEYI...\n",
      "165692    GSAHAINKAGSLRMQSYRLLAAVPLSEKDKPLIKEMEQTAFSAELT...\n",
      "108737    MAAIPPDSWQPPNVYLETSMGIIVLELYWKHAPKTCKNFAELARRG...\n",
      "243350    AEAAAASSGLKLQFALPHETLYSGSEVTQVNLPAKSGRIGVLANHV...\n",
      "177543    TTSFAESCKPVQQPSAFGSMKVSRDKDGSKVTTVVATPGQGPDRPQ...\n",
      "154318    VFPSSVYVPDEWEVSREKITLLRELGQGSFGMVYEGNARDIIKGEA...\n",
      "403232    MGSSHHHHHHSSGLVPRGSHMDQSNRYANLNLKESELIAGGRHVLC...\n",
      "73163     VHLTPEEKSAVTALWGKVNVDEVGGEALGRLLVVYPWTQRFFESFG...\n",
      "250654    HYTFPDFIEPSGTVTGDWVYVRETQNHYSNGPVTDVTSPEFRCYEL...\n",
      "168696    HMIFAKGHGTQNDFVLLPDVDAELVLTAARVAALCDRRKGLGADGV...\n",
      "237586    GRRPQPGSAGHPPDAQPGLYYSANEQCRVAFGPKAVACTFAREHLD...\n",
      "295030    MAHHHHHHMEHNYFYKNSATLKNKHGIKNPRKLYERCAHETAREAV...\n",
      "154474    VPMHPFVKALQEHFTAHQNPEKAEPMARYMKNHFLFLGIQTPERRQ...\n",
      "421910    TSIMAVTFKDGVILGADSRTTTGAYIANRVTDKLTRVHDKIWCCRS...\n",
      "123414    AEVPLPQLRAYTVDASWLQPMAPLQIADHTWQIGTEDLTALLVQTP...\n",
      "77564     AHHHHHHGSLEIRTKVGEICISKVWLTDEQINKLFDRFKGDYQVVN...\n",
      "170723    MGSSHHHHHHSSGLVPRGSHMKNIIKILKSLSMQNVLIVGVGFMGG...\n",
      "299512    GIPGMLPWPKVDFSKFGEIEEVELGRIQKISGANLSRNWVMIPHVT...\n",
      "289873    MNDSKDAPKSYDFDLIIIGGGSGGLAAAKEAAKFDKKVMVLDFVTP...\n",
      "296685    GSHMGGVEVLEVRTGPDAITQIEAYLNPRMGNNIPSEDLYGYSNSI...\n",
      "433341    EVKLEESGGGLVQPGGSMKLSCAASGFTFSDAWMDWVRQSPEKGLE...\n",
      "113121                      SNDSSDPLVVAASIIGILHLILWILDRLFFK\n",
      "101870    MPCSEETPAISPSKRARPAEVGGMQLRFARLSEHATAPTRGSARAA...\n",
      "264919    QVQLQESGPGLVKPSETLSLTCTVSGFSLIGYDLNWIRQPPGKGLE...\n",
      "423900    MFLTRSEYDRGVNTFSPEGRLFQVEYAIEAIKLGSTAIGIQTSEGV...\n",
      "443376    APADNAADARPVDVSVSIFINKIYGVNTLEQTYKVDGYIVAQWTGK...\n",
      "443659    ADPGDKICIGYHANNSTTQVDTLLEKNVTVTHSVELLENQKEKRFC...\n",
      "370230    MMSETAPLPSASSALEDKAASAPVVGIIMGSQSDWETMRHADALLT...\n",
      "Name: sequence, Length: 158685, dtype: object\n"
     ]
    }
   ],
   "source": [
    "print(X_train)"
   ]
  },
  {
   "cell_type": "code",
   "execution_count": 57,
   "metadata": {},
   "outputs": [
    {
     "data": {
      "text/plain": [
       "87227     MKRVVITGLGIVSSIGNNQQEVLASLREGRSGITFSQELKDSGMRS...\n",
       "194201    GHMEDFWVQYGDEMLPVIGDFPRKGDYLPSFMLVDDQKHDAALESF...\n",
       "20005     ATKAVCVLKGDGPVQGIINFEQKESNGPVKVWGSIKGLTEGLHGFH...\n",
       "244434    MNIRPLHDRVIVKRKEVETKSAGGIVLTGSAAAKSTRGEVLAVGNG...\n",
       "183064    PIVQNLQGQMVHQAISPRTLNAWVKVVEEKAFSPEVIPMFSALSEG...\n",
       "Name: sequence, dtype: object"
      ]
     },
     "execution_count": 57,
     "metadata": {},
     "output_type": "execute_result"
    }
   ],
   "source": [
    "X_train.head()"
   ]
  },
  {
   "cell_type": "code",
   "execution_count": 58,
   "metadata": {},
   "outputs": [
    {
     "data": {
      "text/html": [
       "<div>\n",
       "<style scoped>\n",
       "    .dataframe tbody tr th:only-of-type {\n",
       "        vertical-align: middle;\n",
       "    }\n",
       "\n",
       "    .dataframe tbody tr th {\n",
       "        vertical-align: top;\n",
       "    }\n",
       "\n",
       "    .dataframe thead th {\n",
       "        text-align: right;\n",
       "    }\n",
       "</style>\n",
       "<table border=\"1\" class=\"dataframe\">\n",
       "  <thead>\n",
       "    <tr style=\"text-align: right;\">\n",
       "      <th></th>\n",
       "      <th>structureId</th>\n",
       "      <th>classification</th>\n",
       "      <th>sequence</th>\n",
       "      <th>chainId</th>\n",
       "      <th>seq_length</th>\n",
       "    </tr>\n",
       "  </thead>\n",
       "  <tbody>\n",
       "    <tr>\n",
       "      <th>67</th>\n",
       "      <td>117E</td>\n",
       "      <td>HYDROLASE</td>\n",
       "      <td>TYTTRQIGAKNTLEYKVYIEKDGKPVSAFHDIPLYADKENNIFNMV...</td>\n",
       "      <td>A</td>\n",
       "      <td>286</td>\n",
       "    </tr>\n",
       "    <tr>\n",
       "      <th>68</th>\n",
       "      <td>117E</td>\n",
       "      <td>HYDROLASE</td>\n",
       "      <td>TYTTRQIGAKNTLEYKVYIEKDGKPVSAFHDIPLYADKENNIFNMV...</td>\n",
       "      <td>B</td>\n",
       "      <td>286</td>\n",
       "    </tr>\n",
       "    <tr>\n",
       "      <th>74</th>\n",
       "      <td>11AS</td>\n",
       "      <td>LIGASE</td>\n",
       "      <td>MKTAYIAKQRQISFVKSHFSRQLEERLGLIEVQAPILSRVGDGTQD...</td>\n",
       "      <td>A</td>\n",
       "      <td>330</td>\n",
       "    </tr>\n",
       "    <tr>\n",
       "      <th>75</th>\n",
       "      <td>11AS</td>\n",
       "      <td>LIGASE</td>\n",
       "      <td>MKTAYIAKQRQISFVKSHFSRQLEERLGLIEVQAPILSRVGDGTQD...</td>\n",
       "      <td>B</td>\n",
       "      <td>330</td>\n",
       "    </tr>\n",
       "    <tr>\n",
       "      <th>76</th>\n",
       "      <td>11BA</td>\n",
       "      <td>HYDROLASE</td>\n",
       "      <td>KESAAAKFERQHMDSGNSPSSSSNYCNLMMCCRKMTQGKCKPVNTF...</td>\n",
       "      <td>A</td>\n",
       "      <td>124</td>\n",
       "    </tr>\n",
       "  </tbody>\n",
       "</table>\n",
       "</div>"
      ],
      "text/plain": [
       "   structureId classification  \\\n",
       "67        117E      HYDROLASE   \n",
       "68        117E      HYDROLASE   \n",
       "74        11AS         LIGASE   \n",
       "75        11AS         LIGASE   \n",
       "76        11BA      HYDROLASE   \n",
       "\n",
       "                                             sequence chainId  seq_length  \n",
       "67  TYTTRQIGAKNTLEYKVYIEKDGKPVSAFHDIPLYADKENNIFNMV...       A         286  \n",
       "68  TYTTRQIGAKNTLEYKVYIEKDGKPVSAFHDIPLYADKENNIFNMV...       B         286  \n",
       "74  MKTAYIAKQRQISFVKSHFSRQLEERLGLIEVQAPILSRVGDGTQD...       A         330  \n",
       "75  MKTAYIAKQRQISFVKSHFSRQLEERLGLIEVQAPILSRVGDGTQD...       B         330  \n",
       "76  KESAAAKFERQHMDSGNSPSSSSNYCNLMMCCRKMTQGKCKPVNTF...       A         124  "
      ]
     },
     "execution_count": 58,
     "metadata": {},
     "output_type": "execute_result"
    }
   ],
   "source": [
    "df_prot_fin.head()"
   ]
  },
  {
   "cell_type": "code",
   "execution_count": 59,
   "metadata": {},
   "outputs": [
    {
     "data": {
      "text/plain": [
       "(158685,)"
      ]
     },
     "execution_count": 59,
     "metadata": {},
     "output_type": "execute_result"
    }
   ],
   "source": [
    "X_train.shape"
   ]
  },
  {
   "cell_type": "code",
   "execution_count": 60,
   "metadata": {},
   "outputs": [],
   "source": [
    "tfidf_transformer = TfidfVectorizer(analyzer = \"char_wb\", ngram_range= (4,4), sublinear_tf= True )"
   ]
  },
  {
   "cell_type": "code",
   "execution_count": 61,
   "metadata": {},
   "outputs": [
    {
     "data": {
      "text/plain": [
       "TfidfVectorizer(analyzer='char_wb', binary=False, decode_error='strict',\n",
       "        dtype=<class 'numpy.float64'>, encoding='utf-8', input='content',\n",
       "        lowercase=True, max_df=1.0, max_features=None, min_df=1,\n",
       "        ngram_range=(4, 4), norm='l2', preprocessor=None, smooth_idf=True,\n",
       "        stop_words=None, strip_accents=None, sublinear_tf=True,\n",
       "        token_pattern='(?u)\\\\b\\\\w\\\\w+\\\\b', tokenizer=None, use_idf=True,\n",
       "        vocabulary=None)"
      ]
     },
     "execution_count": 61,
     "metadata": {},
     "output_type": "execute_result"
    }
   ],
   "source": [
    "tfidf_transformer.fit(df_prot_fin['sequence'][1:100])"
   ]
  },
  {
   "cell_type": "code",
   "execution_count": 62,
   "metadata": {},
   "outputs": [],
   "source": [
    "vector = tfidf_transformer.transform(df_prot_fin['sequence'][1:100])"
   ]
  },
  {
   "cell_type": "code",
   "execution_count": 63,
   "metadata": {},
   "outputs": [
    {
     "data": {
      "text/plain": [
       "(99, 9236)"
      ]
     },
     "execution_count": 63,
     "metadata": {},
     "output_type": "execute_result"
    }
   ],
   "source": [
    "vector.shape"
   ]
  },
  {
   "cell_type": "markdown",
   "metadata": {},
   "source": [
    "##### tfidf_transformer.get_feature_names()"
   ]
  },
  {
   "cell_type": "code",
   "execution_count": 64,
   "metadata": {},
   "outputs": [],
   "source": [
    "from sklearn.metrics.pairwise import cosine_similarity"
   ]
  },
  {
   "cell_type": "code",
   "execution_count": 112,
   "metadata": {},
   "outputs": [
    {
     "ename": "NameError",
     "evalue": "name 'tfidf_matrix' is not defined",
     "output_type": "error",
     "traceback": [
      "\u001b[1;31m---------------------------------------------------------------------------\u001b[0m",
      "\u001b[1;31mNameError\u001b[0m                                 Traceback (most recent call last)",
      "\u001b[1;32m<ipython-input-112-c05aa2f3e026>\u001b[0m in \u001b[0;36m<module>\u001b[1;34m\u001b[0m\n\u001b[1;32m----> 1\u001b[1;33m \u001b[0mdist\u001b[0m \u001b[1;33m=\u001b[0m \u001b[1;36m1\u001b[0m \u001b[1;33m-\u001b[0m \u001b[0mcosine_similarity\u001b[0m\u001b[1;33m(\u001b[0m\u001b[0mtfidf_matrix\u001b[0m\u001b[1;33m)\u001b[0m\u001b[1;33m\u001b[0m\u001b[1;33m\u001b[0m\u001b[0m\n\u001b[0m",
      "\u001b[1;31mNameError\u001b[0m: name 'tfidf_matrix' is not defined"
     ]
    }
   ],
   "source": [
    "dist = 1 - cosine_similarity(tfidf_matrix)"
   ]
  },
  {
   "cell_type": "code",
   "execution_count": 66,
   "metadata": {},
   "outputs": [],
   "source": [
    "dist = 1 - cosine_similarity(vector)"
   ]
  },
  {
   "cell_type": "code",
   "execution_count": 67,
   "metadata": {
    "scrolled": true
   },
   "outputs": [
    {
     "name": "stdout",
     "output_type": "stream",
     "text": [
      "[[2.22044605e-15 9.98923007e-01 9.98923007e-01 ... 1.00000000e+00\n",
      "  1.00000000e+00 1.00000000e+00]\n",
      " [9.98923007e-01 2.99760217e-15 2.99760217e-15 ... 1.00000000e+00\n",
      "  1.00000000e+00 1.00000000e+00]\n",
      " [9.98923007e-01 2.99760217e-15 2.99760217e-15 ... 1.00000000e+00\n",
      "  1.00000000e+00 1.00000000e+00]\n",
      " ...\n",
      " [1.00000000e+00 1.00000000e+00 1.00000000e+00 ... 1.88737914e-15\n",
      "  1.88737914e-15 1.88737914e-15]\n",
      " [1.00000000e+00 1.00000000e+00 1.00000000e+00 ... 1.88737914e-15\n",
      "  1.88737914e-15 1.88737914e-15]\n",
      " [1.00000000e+00 1.00000000e+00 1.00000000e+00 ... 1.88737914e-15\n",
      "  1.88737914e-15 1.88737914e-15]]\n"
     ]
    }
   ],
   "source": [
    "print(dist)"
   ]
  },
  {
   "cell_type": "code",
   "execution_count": 68,
   "metadata": {},
   "outputs": [
    {
     "name": "stdout",
     "output_type": "stream",
     "text": [
      "Wall time: 2.37 s\n"
     ]
    }
   ],
   "source": [
    "from sklearn.cluster import KMeans\n",
    "\n",
    "num_clusters = 5\n",
    "\n",
    "km = KMeans(n_clusters=num_clusters)\n",
    "\n",
    "%time km.fit(vector)\n",
    "\n",
    "clusters = km.labels_.tolist()"
   ]
  },
  {
   "cell_type": "code",
   "execution_count": 69,
   "metadata": {},
   "outputs": [
    {
     "name": "stdout",
     "output_type": "stream",
     "text": [
      "[1, 1, 1, 0, 0, 0, 0, 2, 2, 1, 1, 2, 2, 2, 2, 1, 1, 2, 2, 2, 2, 2, 2, 1, 1, 0, 0, 1, 1, 4, 1, 4, 1, 1, 1, 1, 1, 1, 1, 1, 0, 0, 0, 0, 0, 1, 1, 4, 4, 1, 1, 1, 4, 4, 4, 4, 4, 1, 1, 1, 1, 1, 1, 1, 4, 1, 4, 1, 3, 3, 3, 3, 1, 1, 1, 1, 4, 3, 3, 3, 3, 3, 3, 3, 3, 0, 0, 0, 0, 0, 0, 1, 1, 1, 0, 0, 0, 0, 0]\n"
     ]
    }
   ],
   "source": [
    "print(clusters)"
   ]
  },
  {
   "cell_type": "code",
   "execution_count": 70,
   "metadata": {},
   "outputs": [
    {
     "name": "stdout",
     "output_type": "stream",
     "text": [
      "\n",
      "\n"
     ]
    }
   ],
   "source": [
    "import os \n",
    "\n",
    "import matplotlib.pyplot as plt\n",
    "import matplotlib as mpl\n",
    "\n",
    "from sklearn.manifold import MDS\n",
    "\n",
    "MDS()\n",
    "\n",
    "mds = MDS(n_components=2, dissimilarity=\"precomputed\", random_state=1)\n",
    "\n",
    "pos = mds.fit_transform(dist) \n",
    "\n",
    "xs, ys = pos[:, 0], pos[:, 1]\n",
    "print()\n",
    "print()"
   ]
  },
  {
   "cell_type": "code",
   "execution_count": 71,
   "metadata": {},
   "outputs": [],
   "source": [
    "cluster_colors = {0: '#1b9e77', 1: '#d95f02', 2: '#7570b3', 3: '#e7298a', 4: '#66a61e'}\n",
    "\n",
    "#cluster names t\n",
    "cluster_names = {0: 'G1', \n",
    "                 1: 'G2', \n",
    "                 2: 'G3', \n",
    "                 3: 'G4', \n",
    "                 4: 'G5'}"
   ]
  },
  {
   "cell_type": "code",
   "execution_count": 72,
   "metadata": {},
   "outputs": [
    {
     "data": {
      "image/png": "[encoded data removed]",
      "text/plain": [
       "<Figure size 1224x648 with 1 Axes>"
      ]
     },
     "metadata": {},
     "output_type": "display_data"
    }
   ],
   "source": [
    "\n",
    "%matplotlib inline \n",
    "\n",
    "\n",
    "df = pd.DataFrame(dict(x=xs, y=ys, label=clusters, title=df_prot_fin['structureId'][1:100].tolist())) \n",
    "\n",
    "\n",
    "groups = df.groupby('label')\n",
    "\n",
    "\n",
    "fig, ax = plt.subplots(figsize=(17, 9))\n",
    "ax.margins(0.05) \n",
    "\n",
    "for name, group in groups:\n",
    "    ax.plot(group.x, group.y, marker='o', linestyle='', ms=12, \n",
    "            label=cluster_names[name], color=cluster_colors[name], \n",
    "            mec='none')\n",
    "    ax.set_aspect('auto')\n",
    "    ax.tick_params(\\\n",
    "        axis= 'x',          \n",
    "        which='both',      \n",
    "        bottom=False,      \n",
    "        top=False,         \n",
    "        labelbottom=False)\n",
    "    ax.tick_params(\\\n",
    "        axis= 'y',         \n",
    "        which='both',      \n",
    "        left=False,      \n",
    "        top=False,        \n",
    "        labelleft=False)\n",
    "    \n",
    "ax.legend(numpoints=1)  \n",
    "for i in range(len(df)):\n",
    "    ax.text(df.loc[i]['x'], df.loc[i]['y'], df.loc[i]['title'], size=8)  \n",
    "\n",
    "    \n",
    "    \n",
    "plt.show() "
   ]
  },
  {
   "cell_type": "code",
   "execution_count": 73,
   "metadata": {},
   "outputs": [
    {
     "data": {
      "text/plain": [
       "<99x9236 sparse matrix of type '<class 'numpy.float64'>'\n",
       "\twith 27302 stored elements in Compressed Sparse Row format>"
      ]
     },
     "execution_count": 73,
     "metadata": {},
     "output_type": "execute_result"
    }
   ],
   "source": [
    "vector"
   ]
  },
  {
   "cell_type": "code",
   "execution_count": 75,
   "metadata": {},
   "outputs": [
    {
     "data": {
      "text/plain": [
       "Text(0, 0.5, 'Sum of squared distance')"
      ]
     },
     "execution_count": 75,
     "metadata": {},
     "output_type": "execute_result"
    },
    {
     "data": {
      "image/png": "[encoded data removed]",
      "text/plain": [
       "<Figure size 432x432 with 1 Axes>"
      ]
     },
     "metadata": {
      "needs_background": "light"
     },
     "output_type": "display_data"
    }
   ],
   "source": [
    "from sklearn.cluster import KMeans\n",
    "sse = []\n",
    "list_k = list(range(5, 25))\n",
    "\n",
    "for k in list_k:\n",
    "    km = KMeans(n_clusters=k)\n",
    "    km.fit(vector)\n",
    "    sse.append(km.inertia_)\n",
    "\n",
    "# Plot sse against k\n",
    "plt.figure(figsize=(6, 6))\n",
    "plt.plot(list_k, sse, '-o')\n",
    "plt.xlabel(r'Number of clusters *k*')\n",
    "plt.ylabel('Sum of squared distance')"
   ]
  },
  {
   "cell_type": "code",
   "execution_count": 79,
   "metadata": {},
   "outputs": [],
   "source": [
    "from sklearn.cluster import KMeans \n",
    "from sklearn.metrics import silhouette_score"
   ]
  },
  {
   "cell_type": "code",
   "execution_count": 80,
   "metadata": {},
   "outputs": [
    {
     "name": "stdout",
     "output_type": "stream",
     "text": [
      "For no of clusters = 5  The average silhouette_score is : 0.27104083299899573\n",
      "For no of clusters = 6  The average silhouette_score is : 0.3003884265961843\n",
      "For no of clusters = 7  The average silhouette_score is : 0.33621843601462953\n",
      "For no of clusters = 8  The average silhouette_score is : 0.3802313722255539\n",
      "For no of clusters = 9  The average silhouette_score is : 0.4263522092288743\n",
      "For no of clusters = 10  The average silhouette_score is : 0.43964492510229386\n",
      "For no of clusters = 11  The average silhouette_score is : 0.46412632352174554\n",
      "For no of clusters = 12  The average silhouette_score is : 0.5034651558084069\n",
      "For no of clusters = 13  The average silhouette_score is : 0.5344361905273897\n",
      "For no of clusters = 14  The average silhouette_score is : 0.5654674208818248\n",
      "For no of clusters = 15  The average silhouette_score is : 0.5973906578190491\n",
      "For no of clusters = 16  The average silhouette_score is : 0.6077226637284644\n",
      "For no of clusters = 17  The average silhouette_score is : 0.616652257435756\n",
      "For no of clusters = 18  The average silhouette_score is : 0.6677010712660661\n",
      "For no of clusters = 19  The average silhouette_score is : 0.6754475853050576\n",
      "For no of clusters = 20  The average silhouette_score is : 0.6985342303231604\n",
      "For no of clusters = 21  The average silhouette_score is : 0.7164719287120186\n",
      "For no of clusters = 22  The average silhouette_score is : 0.7285208092819123\n",
      "For no of clusters = 23  The average silhouette_score is : 0.7468955393675443\n",
      "For no of clusters = 24  The average silhouette_score is : 0.7323052909978273\n"
     ]
    }
   ],
   "source": [
    "no_of_clusters = range(5,25) \n",
    "  \n",
    "for n_clusters in no_of_clusters: \n",
    "  \n",
    "    cluster = KMeans(n_clusters = n_clusters) \n",
    "    cluster_labels = cluster.fit_predict(vector) \n",
    "  \n",
    "    \n",
    "    silhouette_avg = silhouette_score(vector, cluster_labels) \n",
    "  \n",
    "    print(\"For no of clusters =\", n_clusters, \n",
    "          \" The average silhouette_score is :\", silhouette_avg)"
   ]
  },
  {
   "cell_type": "code",
   "execution_count": 81,
   "metadata": {},
   "outputs": [
    {
     "data": {
      "text/plain": [
       "(99, 9236)"
      ]
     },
     "execution_count": 81,
     "metadata": {},
     "output_type": "execute_result"
    }
   ],
   "source": [
    "vector.shape"
   ]
  },
  {
   "cell_type": "code",
   "execution_count": 82,
   "metadata": {},
   "outputs": [
    {
     "data": {
      "text/plain": [
       "scipy.sparse.csr.csr_matrix"
      ]
     },
     "execution_count": 82,
     "metadata": {},
     "output_type": "execute_result"
    }
   ],
   "source": [
    "type(vector)"
   ]
  },
  {
   "cell_type": "code",
   "execution_count": 84,
   "metadata": {},
   "outputs": [
    {
     "data": {
      "text/plain": [
       "<1x9236 sparse matrix of type '<class 'numpy.float64'>'\n",
       "\twith 327 stored elements in Compressed Sparse Row format>"
      ]
     },
     "execution_count": 84,
     "metadata": {},
     "output_type": "execute_result"
    }
   ],
   "source": [
    "vector[2]"
   ]
  },
  {
   "cell_type": "code",
   "execution_count": 93,
   "metadata": {},
   "outputs": [],
   "source": [
    "\n",
    "from sklearn.cluster import DBSCAN \n",
    "db_default = DBSCAN(eps = 0.01, min_samples = 3).fit(vector) \n",
    "labels = db_default.labels_"
   ]
  },
  {
   "cell_type": "code",
   "execution_count": 94,
   "metadata": {},
   "outputs": [
    {
     "data": {
      "text/plain": [
       "array([-1,  0,  0,  1,  1,  1,  1,  2,  2,  0,  0,  2,  2,  2,  2, -1, -1,\n",
       "       -1, -1,  2,  2, -1, -1, -1, -1, -1, -1, -1, -1, -1, -1, -1, -1, -1,\n",
       "        3,  3,  3,  3, -1, -1,  4,  4,  4, -1, -1, -1, -1,  5,  5, -1, -1,\n",
       "       -1,  5,  5,  5,  5,  5, -1, -1, -1, -1, -1, -1,  6,  7,  6,  7, -1,\n",
       "        8,  8,  8,  8, -1, -1, -1,  6,  7,  9,  9,  9,  9,  9,  9,  9,  9,\n",
       "       10, 10, 10, 10, -1, -1, -1, -1, -1, 11, 11, 11, 11, 11],\n",
       "      dtype=int64)"
      ]
     },
     "execution_count": 94,
     "metadata": {},
     "output_type": "execute_result"
    }
   ],
   "source": [
    "labels"
   ]
  },
  {
   "cell_type": "code",
   "execution_count": 95,
   "metadata": {},
   "outputs": [
    {
     "name": "stdout",
     "output_type": "stream",
     "text": [
      "Wall time: 2.45 s\n"
     ]
    }
   ],
   "source": [
    "from sklearn.cluster import KMeans\n",
    "\n",
    "num_clusters = 23\n",
    "\n",
    "km = KMeans(n_clusters=num_clusters)\n",
    "\n",
    "%time km.fit(vector)\n",
    "\n",
    "clusters = km.labels_.tolist()"
   ]
  },
  {
   "cell_type": "code",
   "execution_count": 97,
   "metadata": {},
   "outputs": [],
   "source": [
    "from random import randint\n",
    "color = []\n",
    "n = 23\n",
    "for i in range(n):\n",
    "    color.append('#%06X' % randint(0, 0xFFFFFF))\n",
    "\n",
    "label_l=[]\n",
    "for i in range(0,n):\n",
    "    label_l.append(i)\n",
    "    "
   ]
  },
  {
   "cell_type": "code",
   "execution_count": 98,
   "metadata": {},
   "outputs": [
    {
     "data": {
      "image/png": "[encoded data removed]",
      "text/plain": [
       "<Figure size 1224x648 with 1 Axes>"
      ]
     },
     "metadata": {},
     "output_type": "display_data"
    }
   ],
   "source": [
    "%matplotlib inline \n",
    "\n",
    "\n",
    "df = pd.DataFrame(dict(x=xs, y=ys, label=clusters)) \n",
    "\n",
    "\n",
    "groups = df.groupby('label')\n",
    "\n",
    "\n",
    "fig, ax = plt.subplots(figsize=(17, 9))\n",
    "ax.margins(0.05) \n",
    "\n",
    "for name, group in groups:\n",
    "    ax.plot(group.x, group.y, marker='o', linestyle='', ms=12, \n",
    "            label=label_l[name], color=color[name], \n",
    "            mec='none')\n",
    "    ax.set_aspect('auto')\n",
    "    ax.tick_params(\\\n",
    "        axis= 'x',          \n",
    "        which='both',      \n",
    "        bottom=False,      \n",
    "        top=False,         \n",
    "        labelbottom=False)\n",
    "    ax.tick_params(\\\n",
    "        axis= 'y',         \n",
    "        which='both',      \n",
    "        left=False,      \n",
    "        top=False,        \n",
    "        labelleft=False)\n",
    "    \n",
    "ax.legend(numpoints=1)  \n",
    "\"\"\"for i in range(len(df)):\n",
    "    ax.text(df.loc[i]['x'], df.loc[i]['y'], df.loc[i]['title'], size=8)  \n",
    "\"\"\"\n",
    "    \n",
    "    \n",
    "plt.show() "
   ]
  },
  {
   "cell_type": "code",
   "execution_count": 101,
   "metadata": {},
   "outputs": [
    {
     "name": "stderr",
     "output_type": "stream",
     "text": [
      "C:\\Users\\dell\\Anaconda3\\lib\\site-packages\\sklearn\\cluster\\k_means_.py:971: ConvergenceWarning: Number of distinct clusters (41) found smaller than n_clusters (42). Possibly due to duplicate points in X.\n",
      "  return_n_iter=True)\n",
      "C:\\Users\\dell\\Anaconda3\\lib\\site-packages\\sklearn\\cluster\\k_means_.py:971: ConvergenceWarning: Number of distinct clusters (41) found smaller than n_clusters (43). Possibly due to duplicate points in X.\n",
      "  return_n_iter=True)\n",
      "C:\\Users\\dell\\Anaconda3\\lib\\site-packages\\sklearn\\cluster\\k_means_.py:971: ConvergenceWarning: Number of distinct clusters (41) found smaller than n_clusters (44). Possibly due to duplicate points in X.\n",
      "  return_n_iter=True)\n"
     ]
    },
    {
     "data": {
      "text/plain": [
       "Text(0, 0.5, 'Sum of squared distance')"
      ]
     },
     "execution_count": 101,
     "metadata": {},
     "output_type": "execute_result"
    },
    {
     "data": {
      "image/png": "[encoded data removed]",
      "text/plain": [
       "<Figure size 432x432 with 1 Axes>"
      ]
     },
     "metadata": {
      "needs_background": "light"
     },
     "output_type": "display_data"
    }
   ],
   "source": [
    "from sklearn.cluster import KMeans\n",
    "sse = []\n",
    "list_k = list(range(24, 45))\n",
    "\n",
    "for k in list_k:\n",
    "    km = KMeans(n_clusters=k)\n",
    "    km.fit(vector)\n",
    "    sse.append(km.inertia_)\n",
    "\n",
    "# Plot sse against k\n",
    "plt.figure(figsize=(6, 6))\n",
    "plt.plot(list_k, sse, '-o')\n",
    "plt.xlabel(r'Number of clusters *k*')\n",
    "plt.ylabel('Sum of squared distance')"
   ]
  },
  {
   "cell_type": "code",
   "execution_count": 107,
   "metadata": {},
   "outputs": [
    {
     "data": {
      "image/png": "[encoded data removed]",
      "text/plain": [
       "<Figure size 720x504 with 1 Axes>"
      ]
     },
     "metadata": {
      "needs_background": "light"
     },
     "output_type": "display_data"
    }
   ],
   "source": [
    "import scipy.cluster.hierarchy as shc\n",
    "\n",
    "plt.figure(figsize=(10, 7))\n",
    "plt.title(\"Protein Dendograms\")\n",
    "dend = shc.dendrogram(shc.linkage(vector.toarray(), method='ward'))"
   ]
  },
  {
   "cell_type": "code",
   "execution_count": 106,
   "metadata": {},
   "outputs": [
    {
     "name": "stdout",
     "output_type": "stream",
     "text": [
      "(99, 9236)\n"
     ]
    }
   ],
   "source": [
    "type(vector)\n",
    "print(vector.shape)"
   ]
  },
  {
   "cell_type": "code",
   "execution_count": 108,
   "metadata": {},
   "outputs": [],
   "source": [
    "tfidf_transform = TfidfVectorizer(analyzer = \"char_wb\", ngram_range= (3,3), sublinear_tf= True )"
   ]
  },
  {
   "cell_type": "code",
   "execution_count": 109,
   "metadata": {},
   "outputs": [
    {
     "data": {
      "text/plain": [
       "TfidfVectorizer(analyzer='char_wb', binary=False, decode_error='strict',\n",
       "        dtype=<class 'numpy.float64'>, encoding='utf-8', input='content',\n",
       "        lowercase=True, max_df=1.0, max_features=None, min_df=1,\n",
       "        ngram_range=(3, 3), norm='l2', preprocessor=None, smooth_idf=True,\n",
       "        stop_words=None, strip_accents=None, sublinear_tf=True,\n",
       "        token_pattern='(?u)\\\\b\\\\w\\\\w+\\\\b', tokenizer=None, use_idf=True,\n",
       "        vocabulary=None)"
      ]
     },
     "execution_count": 109,
     "metadata": {},
     "output_type": "execute_result"
    }
   ],
   "source": [
    "tfidf_transform.fit(df_prot_fin['sequence'][1:100])"
   ]
  },
  {
   "cell_type": "code",
   "execution_count": 110,
   "metadata": {},
   "outputs": [],
   "source": [
    "t_vec = tfidf_transformer.transform(df_prot_fin['sequence'][1:100])"
   ]
  },
  {
   "cell_type": "code",
   "execution_count": 113,
   "metadata": {},
   "outputs": [
    {
     "data": {
      "text/plain": [
       "(99, 9236)"
      ]
     },
     "execution_count": 113,
     "metadata": {},
     "output_type": "execute_result"
    }
   ],
   "source": [
    "t_vec.shape"
   ]
  },
  {
   "cell_type": "code",
   "execution_count": 115,
   "metadata": {},
   "outputs": [],
   "source": [
    "dist_t=1-cosine_similarity(t_vec)"
   ]
  },
  {
   "cell_type": "code",
   "execution_count": 116,
   "metadata": {},
   "outputs": [
    {
     "name": "stdout",
     "output_type": "stream",
     "text": [
      "Wall time: 2.97 s\n"
     ]
    }
   ],
   "source": [
    "from sklearn.cluster import KMeans\n",
    "\n",
    "num_clusters = 5\n",
    "\n",
    "km = KMeans(n_clusters=num_clusters)\n",
    "\n",
    "%time km.fit(vector)\n",
    "\n",
    "clusters = km.labels_.tolist()"
   ]
  },
  {
   "cell_type": "code",
   "execution_count": 117,
   "metadata": {},
   "outputs": [
    {
     "data": {
      "text/plain": [
       "[3,\n",
       " 3,\n",
       " 3,\n",
       " 3,\n",
       " 3,\n",
       " 3,\n",
       " 3,\n",
       " 0,\n",
       " 0,\n",
       " 3,\n",
       " 3,\n",
       " 0,\n",
       " 0,\n",
       " 0,\n",
       " 0,\n",
       " 3,\n",
       " 3,\n",
       " 0,\n",
       " 0,\n",
       " 0,\n",
       " 0,\n",
       " 0,\n",
       " 0,\n",
       " 3,\n",
       " 3,\n",
       " 3,\n",
       " 3,\n",
       " 3,\n",
       " 3,\n",
       " 2,\n",
       " 3,\n",
       " 2,\n",
       " 3,\n",
       " 3,\n",
       " 3,\n",
       " 3,\n",
       " 3,\n",
       " 3,\n",
       " 3,\n",
       " 3,\n",
       " 4,\n",
       " 4,\n",
       " 4,\n",
       " 4,\n",
       " 4,\n",
       " 3,\n",
       " 3,\n",
       " 2,\n",
       " 2,\n",
       " 3,\n",
       " 2,\n",
       " 2,\n",
       " 2,\n",
       " 2,\n",
       " 2,\n",
       " 2,\n",
       " 2,\n",
       " 3,\n",
       " 3,\n",
       " 3,\n",
       " 3,\n",
       " 3,\n",
       " 3,\n",
       " 3,\n",
       " 2,\n",
       " 3,\n",
       " 2,\n",
       " 3,\n",
       " 1,\n",
       " 1,\n",
       " 1,\n",
       " 1,\n",
       " 3,\n",
       " 3,\n",
       " 3,\n",
       " 3,\n",
       " 2,\n",
       " 1,\n",
       " 1,\n",
       " 1,\n",
       " 1,\n",
       " 1,\n",
       " 1,\n",
       " 1,\n",
       " 1,\n",
       " 4,\n",
       " 4,\n",
       " 4,\n",
       " 4,\n",
       " 4,\n",
       " 4,\n",
       " 3,\n",
       " 4,\n",
       " 4,\n",
       " 2,\n",
       " 2,\n",
       " 2,\n",
       " 2,\n",
       " 2]"
      ]
     },
     "execution_count": 117,
     "metadata": {},
     "output_type": "execute_result"
    }
   ],
   "source": [
    "clusters"
   ]
  },
  {
   "cell_type": "code",
   "execution_count": 119,
   "metadata": {},
   "outputs": [],
   "source": [
    "MDS()\n",
    "\n",
    "mds = MDS(n_components=2, dissimilarity=\"precomputed\", random_state=1)\n",
    "\n",
    "pos = mds.fit_transform(dist_t) \n",
    "\n",
    "xs, ys = pos[:, 0], pos[:, 1]"
   ]
  },
  {
   "cell_type": "code",
   "execution_count": 120,
   "metadata": {},
   "outputs": [],
   "source": [
    "cluster_colors = {0: '#1b9e77', 1: '#d95f02', 2: '#7570b3', 3: '#e7298a', 4: '#66a61e'}\n",
    "\n",
    "#cluster names t\n",
    "cluster_names = {0: 'G1', \n",
    "                 1: 'G2', \n",
    "                 2: 'G3', \n",
    "                 3: 'G4', \n",
    "                 4: 'G5'}"
   ]
  },
  {
   "cell_type": "code",
   "execution_count": 121,
   "metadata": {},
   "outputs": [
    {
     "data": {
      "image/png": "[encoded data removed]",
      "text/plain": [
       "<Figure size 1224x648 with 1 Axes>"
      ]
     },
     "metadata": {},
     "output_type": "display_data"
    }
   ],
   "source": [
    "%matplotlib inline \n",
    "\n",
    "\n",
    "df = pd.DataFrame(dict(x=xs, y=ys, label=clusters, title=df_prot_fin['structureId'][1:100].tolist())) \n",
    "\n",
    "\n",
    "groups = df.groupby('label')\n",
    "\n",
    "\n",
    "fig, ax = plt.subplots(figsize=(17, 9))\n",
    "ax.margins(0.05) \n",
    "\n",
    "for name, group in groups:\n",
    "    ax.plot(group.x, group.y, marker='o', linestyle='', ms=12, \n",
    "            label=cluster_names[name], color=cluster_colors[name], \n",
    "            mec='none')\n",
    "    ax.set_aspect('auto')\n",
    "    ax.tick_params(\\\n",
    "        axis= 'x',          \n",
    "        which='both',      \n",
    "        bottom=False,      \n",
    "        top=False,         \n",
    "        labelbottom=False)\n",
    "    ax.tick_params(\\\n",
    "        axis= 'y',         \n",
    "        which='both',      \n",
    "        left=False,      \n",
    "        top=False,        \n",
    "        labelleft=False)\n",
    "    \n",
    "ax.legend(numpoints=1)  \n",
    "for i in range(len(df)):\n",
    "    ax.text(df.loc[i]['x'], df.loc[i]['y'], df.loc[i]['title'], size=8)  \n",
    "\n",
    "    \n",
    "    \n",
    "plt.show() "
   ]
  },
  {
   "cell_type": "code",
   "execution_count": 122,
   "metadata": {},
   "outputs": [
    {
     "data": {
      "text/plain": [
       "Text(0, 0.5, 'Sum of squared distance')"
      ]
     },
     "execution_count": 122,
     "metadata": {},
     "output_type": "execute_result"
    },
    {
     "data": {
      "image/png": "[encoded data removed]",
      "text/plain": [
       "<Figure size 432x432 with 1 Axes>"
      ]
     },
     "metadata": {
      "needs_background": "light"
     },
     "output_type": "display_data"
    }
   ],
   "source": [
    "from sklearn.cluster import KMeans\n",
    "sse = []\n",
    "list_k = list(range(5, 25))\n",
    "\n",
    "for k in list_k:\n",
    "    km = KMeans(n_clusters=k)\n",
    "    km.fit(t_vec)\n",
    "    sse.append(km.inertia_)\n",
    "\n",
    "# Plot sse against k\n",
    "plt.figure(figsize=(6, 6))\n",
    "plt.plot(list_k, sse, '-o')\n",
    "plt.xlabel(r'Number of clusters *k*')\n",
    "plt.ylabel('Sum of squared distance')"
   ]
  },
  {
   "cell_type": "code",
   "execution_count": null,
   "metadata": {},
   "outputs": [],
   "source": []
  }
 ],
 "metadata": {
  "kernelspec": {
   "display_name": "Python 3",
   "language": "python",
   "name": "python3"
  },
  "language_info": {
   "codemirror_mode": {
    "name": "ipython",
    "version": 3
   },
   "file_extension": ".py",
   "mimetype": "text/x-python",
   "name": "python",
   "nbconvert_exporter": "python",
   "pygments_lexer": "ipython3",
   "version": "3.7.1"
  }
 },
 "nbformat": 4,
 "nbformat_minor": 2
}
