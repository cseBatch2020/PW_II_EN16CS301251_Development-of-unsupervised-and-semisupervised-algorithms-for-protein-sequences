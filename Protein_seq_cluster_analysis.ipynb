{
 "cells": [
  {
   "cell_type": "code",
   "execution_count": 1,
   "metadata": {},
   "outputs": [],
   "source": [
    "import numpy as np \n",
    "import pandas as pd \n",
    "import matplotlib.pyplot as plt\n",
    "%matplotlib inline"
   ]
  },
  {
   "cell_type": "code",
   "execution_count": 2,
   "metadata": {},
   "outputs": [],
   "source": [
    "data = pd.read_csv('protein-data-set\\pdb_data_no_dups.csv')\n",
    "data_seq = pd.read_csv('protein-data-set\\pdb_data_seq.csv')"
   ]
  },
  {
   "cell_type": "code",
   "execution_count": 3,
   "metadata": {},
   "outputs": [
    {
     "data": {
      "text/plain": [
       "201.0"
      ]
     },
     "execution_count": 3,
     "metadata": {},
     "output_type": "execute_result"
    }
   ],
   "source": [
    "data['publicationYear'].min()"
   ]
  },
  {
   "cell_type": "code",
   "execution_count": 4,
   "metadata": {},
   "outputs": [],
   "source": [
    "py= data.groupby(\"publicationYear\").structureId.count()"
   ]
  },
  {
   "cell_type": "code",
   "execution_count": 5,
   "metadata": {},
   "outputs": [],
   "source": [
    "py.drop(labels = 201.0, inplace = True)"
   ]
  },
  {
   "cell_type": "raw",
   "metadata": {},
   "source": [
    "Text"
   ]
  },
  {
   "cell_type": "code",
   "execution_count": 7,
   "metadata": {},
   "outputs": [
    {
     "data": {
      "text/plain": [
       "HYDROLASE                                20915\n",
       "TRANSFERASE                              15777\n",
       "OXIDOREDUCTASE                           12494\n",
       "LYASE                                     4329\n",
       "IMMUNE SYSTEM                             4075\n",
       "TRANSCRIPTION                             3691\n",
       "TRANSPORT PROTEIN                         3251\n",
       "SIGNALING PROTEIN                         2904\n",
       "HYDROLASE/HYDROLASE INHIBITOR             2677\n",
       "ISOMERASE                                 2602\n",
       "VIRAL PROTEIN                             2320\n",
       "LIGASE                                    2133\n",
       "PROTEIN BINDING                           1892\n",
       "DNA                                       1765\n",
       "STRUCTURAL GENOMICS, UNKNOWN FUNCTION     1738\n",
       "MEMBRANE PROTEIN                          1731\n",
       "TRANSFERASE/TRANSFERASE INHIBITOR         1695\n",
       "DNA BINDING PROTEIN                       1517\n",
       "RIBOSOME                                  1462\n",
       "METAL BINDING PROTEIN                     1383\n",
       "Name: classification, dtype: int64"
      ]
     },
     "execution_count": 7,
     "metadata": {},
     "output_type": "execute_result"
    }
   ],
   "source": [
    "clas = (data.classification.value_counts())[0:20]\n",
    "clas"
   ]
  },
  {
   "cell_type": "code",
   "execution_count": 8,
   "metadata": {},
   "outputs": [
    {
     "data": {
      "text/plain": [
       "Protein                       345180\n",
       "Protein#RNA                    56226\n",
       "Protein#DNA                    21303\n",
       "DNA                             3784\n",
       "Protein#DNA#RNA                 2712\n",
       "RNA                             2389\n",
       "Protein#RNA#DNA/RNA Hybrid       304\n",
       "Protein#DNA#DNA/RNA Hybrid       159\n",
       "DNA/RNA Hybrid                   141\n",
       "DNA#RNA                          121\n",
       "RNA#DNA/RNA Hybrid                74\n",
       "Protein#DNA/RNA Hybrid            68\n",
       "DNA#DNA/RNA Hybrid                26\n",
       "Name: macromoleculeType, dtype: int64"
      ]
     },
     "execution_count": 8,
     "metadata": {},
     "output_type": "execute_result"
    }
   ],
   "source": [
    "data_seq.macromoleculeType.value_counts()"
   ]
  },
  {
   "cell_type": "code",
   "execution_count": 9,
   "metadata": {},
   "outputs": [],
   "source": [
    "df = data.merge(data_seq, how =\"inner\", on =\"structureId\")"
   ]
  },
  {
   "cell_type": "code",
   "execution_count": 10,
   "metadata": {},
   "outputs": [
    {
     "data": {
      "text/plain": [
       "Index(['structureId', 'classification', 'experimentalTechnique',\n",
       "       'macromoleculeType_x', 'residueCount_x', 'resolution',\n",
       "       'structureMolecularWeight', 'crystallizationMethod',\n",
       "       'crystallizationTempK', 'densityMatthews', 'densityPercentSol',\n",
       "       'pdbxDetails', 'phValue', 'publicationYear', 'chainId', 'sequence',\n",
       "       'residueCount_y', 'macromoleculeType_y'],\n",
       "      dtype='object')"
      ]
     },
     "execution_count": 10,
     "metadata": {},
     "output_type": "execute_result"
    }
   ],
   "source": [
    "df.columns"
   ]
  },
  {
   "cell_type": "code",
   "execution_count": 11,
   "metadata": {},
   "outputs": [],
   "source": [
    "df.drop(['residueCount_y', 'macromoleculeType_y'], axis =1, inplace = True)"
   ]
  },
  {
   "cell_type": "code",
   "execution_count": 12,
   "metadata": {},
   "outputs": [],
   "source": [
    "df = df[df['macromoleculeType_x'] == \"Protein\"]"
   ]
  },
  {
   "cell_type": "code",
   "execution_count": 13,
   "metadata": {},
   "outputs": [
    {
     "data": {
      "text/plain": [
       "(345201, 16)"
      ]
     },
     "execution_count": 13,
     "metadata": {},
     "output_type": "execute_result"
    }
   ],
   "source": [
    "df.shape"
   ]
  },
  {
   "cell_type": "code",
   "execution_count": 14,
   "metadata": {},
   "outputs": [
    {
     "data": {
      "text/plain": [
       "(467304, 5)"
      ]
     },
     "execution_count": 14,
     "metadata": {},
     "output_type": "execute_result"
    }
   ],
   "source": [
    "data_seq.shape"
   ]
  },
  {
   "cell_type": "code",
   "execution_count": 15,
   "metadata": {},
   "outputs": [
    {
     "data": {
      "text/plain": [
       "1"
      ]
     },
     "execution_count": 15,
     "metadata": {},
     "output_type": "execute_result"
    }
   ],
   "source": [
    "df['macromoleculeType_x'].nunique()"
   ]
  },
  {
   "cell_type": "code",
   "execution_count": 16,
   "metadata": {},
   "outputs": [
    {
     "data": {
      "text/plain": [
       "structureId                      0\n",
       "classification                   1\n",
       "experimentalTechnique            0\n",
       "macromoleculeType_x              0\n",
       "residueCount_x                   0\n",
       "resolution                   16052\n",
       "structureMolecularWeight         0\n",
       "crystallizationMethod       105433\n",
       "crystallizationTempK        102106\n",
       "densityMatthews              38743\n",
       "densityPercentSol            38609\n",
       "pdbxDetails                  51514\n",
       "phValue                      86957\n",
       "publicationYear              50705\n",
       "chainId                          2\n",
       "sequence                         3\n",
       "dtype: int64"
      ]
     },
     "execution_count": 16,
     "metadata": {},
     "output_type": "execute_result"
    }
   ],
   "source": [
    "df.isnull().sum()"
   ]
  },
  {
   "cell_type": "code",
   "execution_count": 17,
   "metadata": {},
   "outputs": [
    {
     "data": {
      "text/plain": [
       "structureId                      0\n",
       "classification                   0\n",
       "experimentalTechnique            0\n",
       "macromoleculeType_x              0\n",
       "residueCount_x                   0\n",
       "resolution                   16052\n",
       "structureMolecularWeight         0\n",
       "crystallizationMethod       105433\n",
       "crystallizationTempK        102106\n",
       "densityMatthews              38743\n",
       "densityPercentSol            38609\n",
       "pdbxDetails                  51514\n",
       "phValue                      86956\n",
       "publicationYear              50705\n",
       "chainId                          2\n",
       "sequence                         0\n",
       "dtype: int64"
      ]
     },
     "execution_count": 17,
     "metadata": {},
     "output_type": "execute_result"
    }
   ],
   "source": [
    "df = df[pd.notnull(df['sequence'])]\n",
    "df = df[pd.notnull(df['classification'])]\n",
    "df.isnull().sum()"
   ]
  },
  {
   "cell_type": "code",
   "execution_count": 18,
   "metadata": {},
   "outputs": [
    {
     "name": "stderr",
     "output_type": "stream",
     "text": [
      "C:\\Users\\dell\\Anaconda3\\lib\\site-packages\\ipykernel_launcher.py:1: UserWarning: This pattern has match groups. To actually get the groups, use str.extract.\n",
      "  \"\"\"Entry point for launching an IPython kernel.\n"
     ]
    }
   ],
   "source": [
    "index_to_drop = df.loc[df['sequence'].str.contains('(^XXXX)+')].index"
   ]
  },
  {
   "cell_type": "code",
   "execution_count": 19,
   "metadata": {},
   "outputs": [
    {
     "data": {
      "text/plain": [
       "(343832, 16)"
      ]
     },
     "execution_count": 19,
     "metadata": {},
     "output_type": "execute_result"
    }
   ],
   "source": [
    "df.drop(index = index_to_drop, inplace = True)\n",
    "df.shape"
   ]
  },
  {
   "cell_type": "code",
   "execution_count": 23,
   "metadata": {},
   "outputs": [],
   "source": [
    "index_to_drop = df.loc[df['sequence'].str.contains('[A-Z]*B[A-Z]*')].index\n",
    "\n"
   ]
  },
  {
   "cell_type": "code",
   "execution_count": 25,
   "metadata": {},
   "outputs": [
    {
     "data": {
      "text/plain": [
       "(343826, 16)"
      ]
     },
     "execution_count": 25,
     "metadata": {},
     "output_type": "execute_result"
    }
   ],
   "source": [
    "df.drop(index = index_to_drop, inplace = True)\n",
    "df.shape"
   ]
  },
  {
   "cell_type": "code",
   "execution_count": 26,
   "metadata": {},
   "outputs": [],
   "source": [
    "index_to_drop = df.loc[df['sequence'].str.contains('[A-Z]*J[A-Z]*')].index\n",
    "df.drop(index = index_to_drop, inplace = True)\n",
    "index_to_drop = df.loc[df['sequence'].str.contains('[A-Z]*U[A-Z]*')].index\n",
    "df.drop(index = index_to_drop, inplace = True)\n",
    "index_to_drop = df.loc[df['sequence'].str.contains('[A-Z]*X[A-Z]*')].index\n",
    "df.drop(index = index_to_drop, inplace = True)\n",
    "index_to_drop = df.loc[df['sequence'].str.contains('[A-Z]*Z[A-Z]*')].index\n",
    "df.drop(index = index_to_drop, inplace = True)\n",
    "index_to_drop = df.loc[df['sequence'].str.contains('[A-Z]*O[A-Z]*')].index\n",
    "df.drop(index = index_to_drop, inplace = True)"
   ]
  },
  {
   "cell_type": "code",
   "execution_count": 27,
   "metadata": {},
   "outputs": [
    {
     "data": {
      "text/plain": [
       "(337306, 16)"
      ]
     },
     "execution_count": 27,
     "metadata": {},
     "output_type": "execute_result"
    }
   ],
   "source": [
    "df.shape"
   ]
  },
  {
   "cell_type": "code",
   "execution_count": 29,
   "metadata": {},
   "outputs": [],
   "source": [
    "df_prot = df[[\"structureId\", \"classification\", \"sequence\", \"chainId\"]]"
   ]
  },
  {
   "cell_type": "code",
   "execution_count": 30,
   "metadata": {},
   "outputs": [
    {
     "name": "stderr",
     "output_type": "stream",
     "text": [
      "C:\\Users\\dell\\Anaconda3\\lib\\site-packages\\ipykernel_launcher.py:1: SettingWithCopyWarning: \n",
      "A value is trying to be set on a copy of a slice from a DataFrame.\n",
      "Try using .loc[row_indexer,col_indexer] = value instead\n",
      "\n",
      "See the caveats in the documentation: http://pandas.pydata.org/pandas-docs/stable/indexing.html#indexing-view-versus-copy\n",
      "  \"\"\"Entry point for launching an IPython kernel.\n"
     ]
    }
   ],
   "source": [
    "df_prot[\"seq_length\"] = df_prot[\"sequence\"].apply(len)"
   ]
  },
  {
   "cell_type": "code",
   "execution_count": 31,
   "metadata": {},
   "outputs": [],
   "source": [
    "df_prot = df_prot[df_prot['seq_length'] > 20]"
   ]
  },
  {
   "cell_type": "code",
   "execution_count": 32,
   "metadata": {},
   "outputs": [
    {
     "data": {
      "text/plain": [
       "(327342, 5)"
      ]
     },
     "execution_count": 32,
     "metadata": {},
     "output_type": "execute_result"
    }
   ],
   "source": [
    "df_prot.shape"
   ]
  },
  {
   "cell_type": "code",
   "execution_count": 33,
   "metadata": {},
   "outputs": [
    {
     "data": {
      "text/plain": [
       "Index(['structureId', 'classification', 'sequence', 'chainId', 'seq_length'], dtype='object')"
      ]
     },
     "execution_count": 33,
     "metadata": {},
     "output_type": "execute_result"
    }
   ],
   "source": [
    "df_prot.columns"
   ]
  },
  {
   "cell_type": "code",
   "execution_count": 34,
   "metadata": {},
   "outputs": [
    {
     "data": {
      "text/plain": [
       "HYDROLASE                                  44945\n",
       "TRANSFERASE                                35386\n",
       "OXIDOREDUCTASE                             33417\n",
       "IMMUNE SYSTEM                              13868\n",
       "LYASE                                      11481\n",
       "HYDROLASE/HYDROLASE INHIBITOR              10095\n",
       "TRANSPORT PROTEIN                           8201\n",
       "VIRAL PROTEIN                               8169\n",
       "TRANSCRIPTION                               7928\n",
       "VIRUS                                       6920\n",
       "ISOMERASE                                   6294\n",
       "SIGNALING PROTEIN                           5999\n",
       "LIGASE                                      4808\n",
       "MEMBRANE PROTEIN                            4600\n",
       "PROTEIN BINDING                             4498\n",
       "STRUCTURAL PROTEIN                          4194\n",
       "CHAPERONE                                   3991\n",
       "STRUCTURAL GENOMICS, UNKNOWN FUNCTION       3527\n",
       "SUGAR BINDING PROTEIN                       3213\n",
       "DNA BINDING PROTEIN                         3098\n",
       "ELECTRON TRANSPORT                          2951\n",
       "PHOTOSYNTHESIS                              2941\n",
       "METAL BINDING PROTEIN                       2922\n",
       "CELL ADHESION                               2836\n",
       "TRANSFERASE/TRANSFERASE INHIBITOR           2835\n",
       "UNKNOWN FUNCTION                            2722\n",
       "TOXIN                                       2487\n",
       "PROTEIN TRANSPORT                           2485\n",
       "CELL CYCLE                                  2271\n",
       "RNA BINDING PROTEIN                         1948\n",
       "                                           ...  \n",
       "PENICILLIN BINDING PROTEIN                     1\n",
       "ELECTRON TRANSPORT (FLAVO PROTEIN)             1\n",
       "TRANSLATION FACTOR                             1\n",
       "LEUCOTOXIN                                     1\n",
       "laminin binding protein                        1\n",
       "Viral Protein, transferase                     1\n",
       "COMPLEX (BLOOD COAGULATION/PEPTIDE)            1\n",
       "CONTRACTILE PROTEIN/CA BINDING PROTEIN         1\n",
       "DOUBLE-STRANDED DNA BINDING DOMAIN             1\n",
       "CALMODULIN-BINDING                             1\n",
       "TRANSHYDROGENASE                               1\n",
       "BINDING PROTEIN(IMMUNOGLOBULIN L CHAIN)        1\n",
       "RNA BINDING PROTEIN,Hydrolase                  1\n",
       "Solute Binding Protein                         1\n",
       "STRUCTURAL GENOMICS, GENE REGULATION           1\n",
       "Hormone Binding Protein                        1\n",
       "DNA BINDING PROTEIN, CYTOKINE                  1\n",
       "TRANSPORT AND PROTECTION PROTEIN               1\n",
       "LATE PROTEIN                                   1\n",
       "PHOSPHOTRANSFERASE (CARBOXYL ACCEPTOR)         1\n",
       "Peptide,Transferase                            1\n",
       "COMPLEX (METHYLTRANSFERASE/PEPTIDE)            1\n",
       "COMPLEX (PHOSPHOTRANSFERASE/RECEPTOR)          1\n",
       "HYDROLASE,TOXIN                                1\n",
       "TPP BINDING PROTEIN                            1\n",
       "GLUCARATE                                      1\n",
       "PEPTIDE BINDING/SIGNALING PROTEIN              1\n",
       "viral protein, sugard binding protein          1\n",
       "CRYSTALLINE CELLULOSE-BINDING PROTEIN          1\n",
       "MEMBRANE PROTEIN / HYDROLASE                   1\n",
       "Name: classification, Length: 4372, dtype: int64"
      ]
     },
     "execution_count": 34,
     "metadata": {},
     "output_type": "execute_result"
    }
   ],
   "source": [
    "clas=(df_prot.classification.value_counts())\n",
    "clas"
   ]
  },
  {
   "cell_type": "code",
   "execution_count": 35,
   "metadata": {},
   "outputs": [],
   "source": [
    "clas_prot = df_prot.groupby(\"classification\").structureId.count().sort_values(ascending = False)[0:20]"
   ]
  },
  {
   "cell_type": "code",
   "execution_count": 36,
   "metadata": {},
   "outputs": [
    {
     "data": {
      "text/plain": [
       "(224632, 5)"
      ]
     },
     "execution_count": 36,
     "metadata": {},
     "output_type": "execute_result"
    }
   ],
   "source": [
    "df_prot_fin = df_prot[df_prot['classification'].isin(clas_prot.keys())]\n",
    "df_prot_fin.shape"
   ]
  },
  {
   "cell_type": "code",
   "execution_count": 37,
   "metadata": {},
   "outputs": [
    {
     "data": {
      "text/plain": [
       "HYDROLASE                                44945\n",
       "TRANSFERASE                              35386\n",
       "OXIDOREDUCTASE                           33417\n",
       "IMMUNE SYSTEM                            13868\n",
       "LYASE                                    11481\n",
       "HYDROLASE/HYDROLASE INHIBITOR            10095\n",
       "TRANSPORT PROTEIN                         8201\n",
       "VIRAL PROTEIN                             8169\n",
       "TRANSCRIPTION                             7928\n",
       "VIRUS                                     6920\n",
       "ISOMERASE                                 6294\n",
       "SIGNALING PROTEIN                         5999\n",
       "LIGASE                                    4808\n",
       "MEMBRANE PROTEIN                          4600\n",
       "PROTEIN BINDING                           4498\n",
       "STRUCTURAL PROTEIN                        4194\n",
       "CHAPERONE                                 3991\n",
       "STRUCTURAL GENOMICS, UNKNOWN FUNCTION     3527\n",
       "SUGAR BINDING PROTEIN                     3213\n",
       "DNA BINDING PROTEIN                       3098\n",
       "Name: classification, dtype: int64"
      ]
     },
     "execution_count": 37,
     "metadata": {},
     "output_type": "execute_result"
    }
   ],
   "source": [
    "clas=(df_prot_fin.classification.value_counts())\n",
    "clas"
   ]
  },
  {
   "cell_type": "code",
   "execution_count": 39,
   "metadata": {},
   "outputs": [
    {
     "name": "stderr",
     "output_type": "stream",
     "text": [
      "C:\\Users\\dell\\Anaconda3\\lib\\site-packages\\ipykernel_launcher.py:4: SettingWithCopyWarning: \n",
      "A value is trying to be set on a copy of a slice from a DataFrame.\n",
      "Try using .loc[row_indexer,col_indexer] = value instead\n",
      "\n",
      "See the caveats in the documentation: http://pandas.pydata.org/pandas-docs/stable/indexing.html#indexing-view-versus-copy\n",
      "  after removing the cwd from sys.path.\n"
     ]
    }
   ],
   "source": [
    "from sklearn import preprocessing \n",
    "label_encoder = preprocessing.LabelEncoder()\n",
    "\n",
    "df_prot_fin['class label']=label_encoder.fit_transform(df_prot_fin['classification'])"
   ]
  },
  {
   "cell_type": "code",
   "execution_count": 40,
   "metadata": {},
   "outputs": [
    {
     "data": {
      "text/html": [
       "<div>\n",
       "<style scoped>\n",
       "    .dataframe tbody tr th:only-of-type {\n",
       "        vertical-align: middle;\n",
       "    }\n",
       "\n",
       "    .dataframe tbody tr th {\n",
       "        vertical-align: top;\n",
       "    }\n",
       "\n",
       "    .dataframe thead th {\n",
       "        text-align: right;\n",
       "    }\n",
       "</style>\n",
       "<table border=\"1\" class=\"dataframe\">\n",
       "  <thead>\n",
       "    <tr style=\"text-align: right;\">\n",
       "      <th></th>\n",
       "      <th>structureId</th>\n",
       "      <th>classification</th>\n",
       "      <th>sequence</th>\n",
       "      <th>chainId</th>\n",
       "      <th>seq_length</th>\n",
       "      <th>class label</th>\n",
       "    </tr>\n",
       "  </thead>\n",
       "  <tbody>\n",
       "    <tr>\n",
       "      <th>67</th>\n",
       "      <td>117E</td>\n",
       "      <td>HYDROLASE</td>\n",
       "      <td>TYTTRQIGAKNTLEYKVYIEKDGKPVSAFHDIPLYADKENNIFNMV...</td>\n",
       "      <td>A</td>\n",
       "      <td>286</td>\n",
       "      <td>2</td>\n",
       "    </tr>\n",
       "    <tr>\n",
       "      <th>68</th>\n",
       "      <td>117E</td>\n",
       "      <td>HYDROLASE</td>\n",
       "      <td>TYTTRQIGAKNTLEYKVYIEKDGKPVSAFHDIPLYADKENNIFNMV...</td>\n",
       "      <td>B</td>\n",
       "      <td>286</td>\n",
       "      <td>2</td>\n",
       "    </tr>\n",
       "    <tr>\n",
       "      <th>74</th>\n",
       "      <td>11AS</td>\n",
       "      <td>LIGASE</td>\n",
       "      <td>MKTAYIAKQRQISFVKSHFSRQLEERLGLIEVQAPILSRVGDGTQD...</td>\n",
       "      <td>A</td>\n",
       "      <td>330</td>\n",
       "      <td>6</td>\n",
       "    </tr>\n",
       "    <tr>\n",
       "      <th>75</th>\n",
       "      <td>11AS</td>\n",
       "      <td>LIGASE</td>\n",
       "      <td>MKTAYIAKQRQISFVKSHFSRQLEERLGLIEVQAPILSRVGDGTQD...</td>\n",
       "      <td>B</td>\n",
       "      <td>330</td>\n",
       "      <td>6</td>\n",
       "    </tr>\n",
       "    <tr>\n",
       "      <th>76</th>\n",
       "      <td>11BA</td>\n",
       "      <td>HYDROLASE</td>\n",
       "      <td>KESAAAKFERQHMDSGNSPSSSSNYCNLMMCCRKMTQGKCKPVNTF...</td>\n",
       "      <td>A</td>\n",
       "      <td>124</td>\n",
       "      <td>2</td>\n",
       "    </tr>\n",
       "  </tbody>\n",
       "</table>\n",
       "</div>"
      ],
      "text/plain": [
       "   structureId classification  \\\n",
       "67        117E      HYDROLASE   \n",
       "68        117E      HYDROLASE   \n",
       "74        11AS         LIGASE   \n",
       "75        11AS         LIGASE   \n",
       "76        11BA      HYDROLASE   \n",
       "\n",
       "                                             sequence chainId  seq_length  \\\n",
       "67  TYTTRQIGAKNTLEYKVYIEKDGKPVSAFHDIPLYADKENNIFNMV...       A         286   \n",
       "68  TYTTRQIGAKNTLEYKVYIEKDGKPVSAFHDIPLYADKENNIFNMV...       B         286   \n",
       "74  MKTAYIAKQRQISFVKSHFSRQLEERLGLIEVQAPILSRVGDGTQD...       A         330   \n",
       "75  MKTAYIAKQRQISFVKSHFSRQLEERLGLIEVQAPILSRVGDGTQD...       B         330   \n",
       "76  KESAAAKFERQHMDSGNSPSSSSNYCNLMMCCRKMTQGKCKPVNTF...       A         124   \n",
       "\n",
       "    class label  \n",
       "67            2  \n",
       "68            2  \n",
       "74            6  \n",
       "75            6  \n",
       "76            2  "
      ]
     },
     "execution_count": 40,
     "metadata": {},
     "output_type": "execute_result"
    }
   ],
   "source": [
    "df_prot_fin.head()"
   ]
  },
  {
   "cell_type": "code",
   "execution_count": 41,
   "metadata": {},
   "outputs": [],
   "source": [
    "# Implementing TfIdf first\n",
    "\n",
    "from sklearn.feature_extraction.text import TfidfVectorizer"
   ]
  },
  {
   "cell_type": "code",
   "execution_count": 42,
   "metadata": {},
   "outputs": [],
   "source": [
    "tfidf_transformer = TfidfVectorizer(analyzer = \"char_wb\", ngram_range= (4,4), sublinear_tf= True )"
   ]
  },
  {
   "cell_type": "code",
   "execution_count": 43,
   "metadata": {},
   "outputs": [
    {
     "data": {
      "text/plain": [
       "TfidfVectorizer(analyzer='char_wb', binary=False, decode_error='strict',\n",
       "        dtype=<class 'numpy.float64'>, encoding='utf-8', input='content',\n",
       "        lowercase=True, max_df=1.0, max_features=None, min_df=1,\n",
       "        ngram_range=(4, 4), norm='l2', preprocessor=None, smooth_idf=True,\n",
       "        stop_words=None, strip_accents=None, sublinear_tf=True,\n",
       "        token_pattern='(?u)\\\\b\\\\w\\\\w+\\\\b', tokenizer=None, use_idf=True,\n",
       "        vocabulary=None)"
      ]
     },
     "execution_count": 43,
     "metadata": {},
     "output_type": "execute_result"
    }
   ],
   "source": [
    "tfidf_transformer.fit(df_prot_fin['sequence'][0:100])"
   ]
  },
  {
   "cell_type": "code",
   "execution_count": 44,
   "metadata": {},
   "outputs": [],
   "source": [
    "vector = tfidf_transformer.transform(df_prot_fin['sequence'][0:100])"
   ]
  },
  {
   "cell_type": "code",
   "execution_count": 45,
   "metadata": {},
   "outputs": [],
   "source": [
    "from sklearn.metrics.pairwise import cosine_similarity"
   ]
  },
  {
   "cell_type": "code",
   "execution_count": 46,
   "metadata": {},
   "outputs": [],
   "source": [
    "dist = 1 - cosine_similarity(vector)"
   ]
  },
  {
   "cell_type": "code",
   "execution_count": 47,
   "metadata": {},
   "outputs": [
    {
     "name": "stdout",
     "output_type": "stream",
     "text": [
      "Wall time: 3.1 s\n"
     ]
    }
   ],
   "source": [
    "from sklearn.cluster import KMeans\n",
    "\n",
    "num_clusters = 20\n",
    "\n",
    "km = KMeans(n_clusters=num_clusters)\n",
    "\n",
    "%time km.fit(vector)\n",
    "\n",
    "clusters = km.labels_.tolist()"
   ]
  },
  {
   "cell_type": "code",
   "execution_count": 48,
   "metadata": {},
   "outputs": [],
   "source": [
    "from sklearn import metrics"
   ]
  },
  {
   "cell_type": "code",
   "execution_count": 52,
   "metadata": {},
   "outputs": [],
   "source": [
    "labels_true= df_prot_fin[0:100]['class label'].tolist()"
   ]
  },
  {
   "cell_type": "code",
   "execution_count": 53,
   "metadata": {},
   "outputs": [],
   "source": [
    "labels_pred=clusters"
   ]
  },
  {
   "cell_type": "code",
   "execution_count": 54,
   "metadata": {},
   "outputs": [
    {
     "data": {
      "text/plain": [
       "0.24642277405257815"
      ]
     },
     "execution_count": 54,
     "metadata": {},
     "output_type": "execute_result"
    }
   ],
   "source": [
    "metrics.adjusted_rand_score(labels_true, labels_pred)"
   ]
  },
  {
   "cell_type": "markdown",
   "metadata": {},
   "source": [
    "By using Tf_Idf vectorizer for 100 entries we get adjusted random index value as 0.24 which is low efficiency\n"
   ]
  },
  {
   "cell_type": "code",
   "execution_count": 55,
   "metadata": {},
   "outputs": [
    {
     "name": "stderr",
     "output_type": "stream",
     "text": [
      "C:\\Users\\dell\\Anaconda3\\lib\\site-packages\\sklearn\\metrics\\cluster\\supervised.py:732: FutureWarning: The behavior of AMI will change in version 0.22. To match the behavior of 'v_measure_score', AMI will use average_method='arithmetic' by default.\n",
      "  FutureWarning)\n"
     ]
    },
    {
     "data": {
      "text/plain": [
       "0.3318191227626133"
      ]
     },
     "execution_count": 55,
     "metadata": {},
     "output_type": "execute_result"
    }
   ],
   "source": [
    "metrics.adjusted_mutual_info_score(labels_true, labels_pred)"
   ]
  },
  {
   "cell_type": "code",
   "execution_count": 56,
   "metadata": {},
   "outputs": [
    {
     "data": {
      "text/plain": [
       "0.7748570271206987"
      ]
     },
     "execution_count": 56,
     "metadata": {},
     "output_type": "execute_result"
    }
   ],
   "source": [
    "metrics.homogeneity_score(labels_true, labels_pred)"
   ]
  },
  {
   "cell_type": "code",
   "execution_count": 57,
   "metadata": {},
   "outputs": [
    {
     "data": {
      "text/plain": [
       "0.4715194712670003"
      ]
     },
     "execution_count": 57,
     "metadata": {},
     "output_type": "execute_result"
    }
   ],
   "source": [
    "metrics.completeness_score(labels_true, labels_pred)"
   ]
  },
  {
   "cell_type": "code",
   "execution_count": 58,
   "metadata": {},
   "outputs": [
    {
     "data": {
      "text/plain": [
       "0.5862757781586833"
      ]
     },
     "execution_count": 58,
     "metadata": {},
     "output_type": "execute_result"
    }
   ],
   "source": [
    "metrics.v_measure_score(labels_true, labels_pred)"
   ]
  },
  {
   "cell_type": "code",
   "execution_count": 59,
   "metadata": {},
   "outputs": [
    {
     "data": {
      "text/plain": [
       "0.3783583912745656"
      ]
     },
     "execution_count": 59,
     "metadata": {},
     "output_type": "execute_result"
    }
   ],
   "source": [
    "metrics.fowlkes_mallows_score(labels_true, labels_pred)"
   ]
  },
  {
   "cell_type": "code",
   "execution_count": 71,
   "metadata": {},
   "outputs": [],
   "source": [
    "tfidf_transformer = TfidfVectorizer(analyzer = \"char_wb\", ngram_range= (2,4), sublinear_tf= True )"
   ]
  },
  {
   "cell_type": "code",
   "execution_count": 72,
   "metadata": {},
   "outputs": [
    {
     "data": {
      "text/plain": [
       "TfidfVectorizer(analyzer='char_wb', binary=False, decode_error='strict',\n",
       "        dtype=<class 'numpy.float64'>, encoding='utf-8', input='content',\n",
       "        lowercase=True, max_df=1.0, max_features=None, min_df=1,\n",
       "        ngram_range=(2, 4), norm='l2', preprocessor=None, smooth_idf=True,\n",
       "        stop_words=None, strip_accents=None, sublinear_tf=True,\n",
       "        token_pattern='(?u)\\\\b\\\\w\\\\w+\\\\b', tokenizer=None, use_idf=True,\n",
       "        vocabulary=None)"
      ]
     },
     "execution_count": 72,
     "metadata": {},
     "output_type": "execute_result"
    }
   ],
   "source": [
    "tfidf_transformer.fit(df_prot_fin['sequence'][0:100])"
   ]
  },
  {
   "cell_type": "code",
   "execution_count": 73,
   "metadata": {},
   "outputs": [],
   "source": [
    "vector = tfidf_transformer.transform(df_prot_fin['sequence'][0:100])"
   ]
  },
  {
   "cell_type": "code",
   "execution_count": 74,
   "metadata": {},
   "outputs": [
    {
     "data": {
      "text/plain": [
       "TRANSFERASE                      30\n",
       "HYDROLASE                        22\n",
       "OXIDOREDUCTASE                   17\n",
       "HYDROLASE/HYDROLASE INHIBITOR    17\n",
       "VIRAL PROTEIN                     5\n",
       "LIGASE                            5\n",
       "ISOMERASE                         2\n",
       "CHAPERONE                         1\n",
       "LYASE                             1\n",
       "Name: classification, dtype: int64"
      ]
     },
     "execution_count": 74,
     "metadata": {},
     "output_type": "execute_result"
    }
   ],
   "source": [
    "clas=(df_prot_fin[0:100].classification.value_counts())\n",
    "clas"
   ]
  },
  {
   "cell_type": "code",
   "execution_count": 75,
   "metadata": {},
   "outputs": [],
   "source": [
    "from sklearn.metrics.pairwise import cosine_similarity"
   ]
  },
  {
   "cell_type": "code",
   "execution_count": 76,
   "metadata": {},
   "outputs": [],
   "source": [
    "dist = 1 - cosine_similarity(vector)"
   ]
  },
  {
   "cell_type": "code",
   "execution_count": 77,
   "metadata": {},
   "outputs": [
    {
     "name": "stdout",
     "output_type": "stream",
     "text": [
      "Wall time: 4.48 s\n"
     ]
    }
   ],
   "source": [
    "from sklearn.cluster import KMeans\n",
    "\n",
    "num_clusters = 9\n",
    "\n",
    "km = KMeans(n_clusters=num_clusters)\n",
    "\n",
    "%time km.fit(vector)\n",
    "\n",
    "clusters = km.labels_.tolist()"
   ]
  },
  {
   "cell_type": "code",
   "execution_count": 78,
   "metadata": {},
   "outputs": [],
   "source": [
    "from sklearn import metrics"
   ]
  },
  {
   "cell_type": "code",
   "execution_count": 79,
   "metadata": {},
   "outputs": [],
   "source": [
    "labels_true= df_prot_fin[0:100]['class label'].tolist()"
   ]
  },
  {
   "cell_type": "code",
   "execution_count": 80,
   "metadata": {},
   "outputs": [],
   "source": [
    "labels_pred=clusters"
   ]
  },
  {
   "cell_type": "code",
   "execution_count": 81,
   "metadata": {},
   "outputs": [
    {
     "data": {
      "text/plain": [
       "0.11018841706506097"
      ]
     },
     "execution_count": 81,
     "metadata": {},
     "output_type": "execute_result"
    }
   ],
   "source": [
    "metrics.adjusted_rand_score(labels_true, labels_pred)"
   ]
  },
  {
   "cell_type": "markdown",
   "metadata": {},
   "source": [
    "Now we will switch to calculating similarity measure and obtaining eigen vectors as features\n",
    "Using BLOSUM 62\n",
    "pass the vector of 8 dimension to kmeans\n",
    "change the distance metric to euclidean manhattan etc"
   ]
  },
  {
   "cell_type": "code",
   "execution_count": 82,
   "metadata": {},
   "outputs": [],
   "source": [
    "# Function for aligning two sequences\n",
    "def align_score(str1, str2, m, n):\n",
    "    gap=-10\n",
    "    \n",
    "    l=['A','R','N','D','C','Q','E','G','H','I','L','K','M','F','P','S','T','W','Y','V' ]\n",
    "    \n",
    "    blosum62 = [[4, -1, -2, -2, 0, -1, -1, 0, -2, -1, -1, -1, -1, -2, -1, 1, 0, -3, -2, 0],\n",
    "            [-1, 5, 0, -2, -3, 1, 0, -2, 0, -3, -2, 2, -1, -3, -2, -1, -1, -3, -2, -3],\n",
    "            [-2, 0, 6, 1, -3, 0, 0, 0, 1, -3, -3,  0, -2, -3, -2,  1,  0, -4, -2, -3 ],\n",
    "            [-2, -2,  1,  6, -3,  0,  2, -1, -1, -3, -4, -1, -3, -3, -1,  0, -1, -4, -3, -3],\n",
    "            [ 0, -3, -3, -3,  9, -3, -4, -3, -3, -1, -1, -3, -1, -2, -3, -1, -1, -2, -2, -1],\n",
    "            [-1,  1,  0,  0, -3,  5,  2, -2,  0, -3, -2,  1,  0, -3, -1,  0, -1, -2, -1, -2],\n",
    "            [-1,  0,  0,  2, -4,  2,  5, -2,  0, -3, -3,  1, -2, -3, -1,  0, -1, -3, -2, -2 ],\n",
    "            [ 0, -2,  0, -1, -3, -2, -2,  6, -2, -4, -4, -2, -3, -3, -2,  0, -2, -2, -3, -3],\n",
    "            [-2,  0,  1, -1, -3,  0,  0, -2,  8, -3, -3, -1, -2, -1, -2, -1, -2, -2,  2, -3],\n",
    "            [-1, -3, -3, -3, -1, -3, -3, -4, -3,  4,  2, -3,  1,  0, -3, -2, -1, -3, -1,  3],\n",
    "            [-1, -2, -3, -4, -1, -2, -3, -4, -3,  2,  4, -2,  2,  0, -3, -2, -1, -2, -1,  1],\n",
    "            [-1,  2,  0, -1, -3,  1,  1, -2, -1, -3, -2,  5, -1, -3, -1,  0, -1, -3, -2, -2,],\n",
    "            [-1, -1, -2, -3, -1,  0, -2, -3, -2,  1,  2, -1,  5,  0, -2, -1, -1, -1, -1,  1],\n",
    "            [-2, -3, -3, -3, -2, -3, -3, -3, -1,  0,  0, -3,  0,  6, -4, -2, -2,  1,  3, -1],\n",
    "            [-1, -2, -2, -1, -3, -1, -1, -2, -2, -3, -3, -1, -2, -4,  7, -1, -1, -4, -3, -2],\n",
    "            [1, -1,  1,  0, -1,  0,  0,  0, -1, -2, -2,  0, -1, -2, -1,  4,  1, -3, -2, -2],\n",
    "            [0, -1,  0, -1, -1, -1, -1, -2, -2, -1, -1, -1, -1 ,-2, -1,  1,  5, -2, -2,  0],\n",
    "            [-3, -3, -4, -4, -2, -2, -3, -2, -2, -3, -2, -3, -1,  1, -4, -3, -2, 11,  2, -3],\n",
    "            [-2, -2, -2, -3, -2, -1, -2, -3 , 2, -1, -1, -2, -1,  3, -3, -2, -2,  2,  7, -1],\n",
    "            [0, -3, -3, -3, -1, -2, -2, -3, -3,  3,  1, -2,  1, -1, -2, -2,  0, -3, -1,  4, -3]\n",
    "        ]\n",
    "\n",
    "\n",
    "   \n",
    "    dp = [[0 for x in range(n + 1)] for x in range(m + 1)] \n",
    "  \n",
    " \n",
    "    for i in range(m + 1): \n",
    "        for j in range(n + 1): \n",
    "\n",
    "            if i == 0: \n",
    "                dp[i][j] = j*gap   \n",
    "            elif j == 0: \n",
    "                dp[i][j] = i*gap    \n",
    "            elif str1[i-1] == str2[j-1]: \n",
    "                dp[i][j] = max( dp[i-1][j-1]+blosum62[ l.index( str1[i-1] ) ][  l.index( str2[j-1] ) ], dp[i-1][j]+gap, dp[i][j-1]+gap ) \n",
    "  \n",
    "            elif str1[i-1]!=str2[j-1]: \n",
    "                dp[i][j] = max( dp[i-1][j-1]+blosum62[ l.index( str1[i-1] ) ][  l.index( str2[j-1] ) ], dp[i-1][j]+gap, dp[i][j-1]+gap )    \n",
    "  \n",
    "    return dp[m][n] "
   ]
  },
  {
   "cell_type": "code",
   "execution_count": 87,
   "metadata": {},
   "outputs": [],
   "source": [
    "X=df_prot_fin[['structureId','sequence']][0:100]"
   ]
  },
  {
   "cell_type": "code",
   "execution_count": 88,
   "metadata": {},
   "outputs": [],
   "source": [
    "n=len(X)"
   ]
  },
  {
   "cell_type": "code",
   "execution_count": 89,
   "metadata": {},
   "outputs": [
    {
     "data": {
      "text/plain": [
       "100"
      ]
     },
     "execution_count": 89,
     "metadata": {},
     "output_type": "execute_result"
    }
   ],
   "source": [
    "n"
   ]
  },
  {
   "cell_type": "code",
   "execution_count": 90,
   "metadata": {},
   "outputs": [],
   "source": [
    "import numpy as np\n",
    "arr=np.empty([n, n])\n",
    "for i in range(0,n):\n",
    "    for j in range(0,n):\n",
    "        if i==j:\n",
    "            arr[i][j]=0\n",
    "        else:\n",
    "            arr[i][j]=align_score(X.iloc[i][1],X.iloc[j][1],len(X.iloc[i][1]),len(X.iloc[j][1]))"
   ]
  },
  {
   "cell_type": "code",
   "execution_count": 91,
   "metadata": {},
   "outputs": [
    {
     "name": "stdout",
     "output_type": "stream",
     "text": [
      "[[1.00000000e+00 1.91604343e-06 1.59846870e+01 ... 4.18060379e+01\n",
      "  4.18060379e+01 4.18060379e+01]\n",
      " [1.91604343e-06 1.00000000e+00 1.59846870e+01 ... 4.18060379e+01\n",
      "  4.18060379e+01 4.18060379e+01]\n",
      " [1.59846870e+01 1.59846870e+01 1.00000000e+00 ... 6.66476773e+00\n",
      "  6.66476773e+00 6.66476773e+00]\n",
      " ...\n",
      " [4.18060379e+01 4.18060379e+01 6.66476773e+00 ... 1.00000000e+00\n",
      "  1.16792912e-07 1.16792912e-07]\n",
      " [4.18060379e+01 4.18060379e+01 6.66476773e+00 ... 1.16792912e-07\n",
      "  1.00000000e+00 1.16792912e-07]\n",
      " [4.18060379e+01 4.18060379e+01 6.66476773e+00 ... 1.16792912e-07\n",
      "  1.16792912e-07 1.00000000e+00]]\n"
     ]
    }
   ],
   "source": [
    "beta=10\n",
    "similarity = np.exp(-beta * arr / arr.std())\n",
    "print(similarity)"
   ]
  },
  {
   "cell_type": "code",
   "execution_count": 92,
   "metadata": {},
   "outputs": [],
   "source": [
    "from sklearn.manifold import spectral_embedding"
   ]
  },
  {
   "cell_type": "code",
   "execution_count": 93,
   "metadata": {},
   "outputs": [
    {
     "name": "stdout",
     "output_type": "stream",
     "text": [
      "eigen:\n",
      "[[ 7.91199396e-10 -7.18660009e-09  4.93346176e-08  1.30262669e-07\n",
      "  -2.72985981e-08  1.91862723e-07  4.09574997e-07  2.72156861e-07]\n",
      " [ 7.91199396e-10 -7.18660009e-09  4.93346174e-08  1.30262671e-07\n",
      "  -2.72985992e-08  1.91862724e-07  4.09574888e-07  2.72156904e-07]\n",
      " [ 4.38106759e-10 -2.48254602e-09  5.01491911e-08  5.60749281e-08\n",
      "   4.40807814e-08 -1.10488328e-07 -1.34777138e-08 -1.60178729e-07]\n",
      " [ 4.38106759e-10 -2.48254602e-09  5.01491911e-08  5.60749281e-08\n",
      "   4.40807814e-08 -1.10488328e-07 -1.34777103e-08 -1.60178730e-07]\n",
      " [-2.55371925e-10 -1.32358457e-09  1.66916023e-08 -4.06476539e-09\n",
      "   2.06469026e-09 -5.35923094e-09 -3.38750535e-10 -8.63738686e-10]\n",
      " [-2.55371925e-10 -1.32358457e-09  1.66916023e-08 -4.06476539e-09\n",
      "   2.06469026e-09 -5.35923094e-09 -3.38750677e-10 -8.63738642e-10]\n",
      " [-2.55371925e-10 -1.32358457e-09  1.66916023e-08 -4.06476539e-09\n",
      "   2.06469026e-09 -5.35923095e-09 -3.38750485e-10 -8.63738698e-10]\n",
      " [-2.55371925e-10 -1.32358457e-09  1.66916023e-08 -4.06476539e-09\n",
      "   2.06469026e-09 -5.35923094e-09 -3.38750527e-10 -8.63738689e-10]\n",
      " [ 7.80946031e-10  8.01960860e-09  3.93959656e-08  2.29522906e-08\n",
      "  -1.18104285e-08  2.03353769e-08  4.74763119e-07  2.69232308e-07]\n",
      " [ 7.80946031e-10  8.01960860e-09  3.93959655e-08  2.29522908e-08\n",
      "  -1.18104288e-08  2.03353772e-08  4.74763098e-07  2.69232316e-07]\n",
      " [ 4.38106759e-10 -2.48254602e-09  5.01491911e-08  5.60749281e-08\n",
      "   4.40807813e-08 -1.10488329e-07 -1.34777068e-08 -1.60178732e-07]\n",
      " [ 4.38106759e-10 -2.48254602e-09  5.01491911e-08  5.60749281e-08\n",
      "   4.40807813e-08 -1.10488329e-07 -1.34777065e-08 -1.60178731e-07]\n",
      " [ 7.80946031e-10  8.01960860e-09  3.93959656e-08  2.29522905e-08\n",
      "  -1.18104285e-08  2.03353775e-08  4.74763129e-07  2.69232305e-07]\n",
      " [ 7.80946031e-10  8.01960860e-09  3.93959656e-08  2.29522906e-08\n",
      "  -1.18104286e-08  2.03353771e-08  4.74763116e-07  2.69232309e-07]\n",
      " [ 7.80946031e-10  8.01960860e-09  3.93959655e-08  2.29522909e-08\n",
      "  -1.18104288e-08  2.03353774e-08  4.74763088e-07  2.69232317e-07]\n",
      " [ 7.80946031e-10  8.01960860e-09  3.93959656e-08  2.29522904e-08\n",
      "  -1.18104285e-08  2.03353774e-08  4.74763133e-07  2.69232303e-07]\n",
      " [ 5.80344545e-10  1.07095937e-08  6.46372586e-08 -3.68695641e-08\n",
      "  -1.00724640e-07  1.88674929e-07 -2.25923039e-08  1.60697451e-08]\n",
      " [ 5.80344545e-10  1.07095937e-08  6.46372586e-08 -3.68695641e-08\n",
      "  -1.00724640e-07  1.88674929e-07 -2.25923022e-08  1.60697442e-08]\n",
      " [ 8.02942184e-10  7.85212578e-09  3.88590608e-08  2.07776622e-08\n",
      "  -2.08322150e-08  2.48714944e-08  4.93184914e-07  2.35876231e-07]\n",
      " [ 8.02942184e-10  7.85212578e-09  3.88590608e-08  2.07776624e-08\n",
      "  -2.08322152e-08  2.48714944e-08  4.93184900e-07  2.35876236e-07]\n",
      " [ 7.80946031e-10  8.01960860e-09  3.93959656e-08  2.29522906e-08\n",
      "  -1.18104287e-08  2.03353772e-08  4.74763117e-07  2.69232309e-07]\n",
      " [ 7.80946031e-10  8.01960860e-09  3.93959656e-08  2.29522906e-08\n",
      "  -1.18104287e-08  2.03353772e-08  4.74763115e-07  2.69232310e-07]\n",
      " [ 9.21063015e-10  7.84812732e-09  3.72703758e-08  2.48153727e-08\n",
      "   7.93715975e-09  8.77077233e-09  4.58247470e-07  3.23226592e-07]\n",
      " [ 9.21063015e-10  7.84812732e-09  3.72703758e-08  2.48153727e-08\n",
      "   7.93715973e-09  8.77077228e-09  4.58247467e-07  3.23226594e-07]\n",
      " [ 5.58060994e-10 -1.71627472e-09  3.53288732e-08  7.97005289e-08\n",
      "   1.66023142e-08 -8.00016652e-08 -1.02393470e-07 -1.54338361e-07]\n",
      " [ 5.58060994e-10 -1.71627472e-09  3.53288732e-08  7.97005289e-08\n",
      "   1.66023143e-08 -8.00016652e-08 -1.02393466e-07 -1.54338362e-07]\n",
      " [ 1.21343116e-09  2.24138859e-09  2.20269724e-08  3.55696913e-08\n",
      "  -3.62047817e-08  5.63044866e-08  5.65981455e-07 -1.37941201e-07]\n",
      " [ 1.21343116e-09  2.24138859e-09  2.20269724e-08  3.55696914e-08\n",
      "  -3.62047818e-08  5.63044868e-08  5.65981451e-07 -1.37941200e-07]\n",
      " [ 9.52097164e-10 -5.76411601e-09  6.17082283e-08  1.50172555e-07\n",
      "   1.95343743e-08  1.01252623e-07  7.87022613e-07  5.11360163e-07]\n",
      " [ 9.52097164e-10 -5.76411601e-09  6.17082283e-08  1.50172555e-07\n",
      "   1.95343742e-08  1.01252623e-07  7.87022643e-07  5.11360158e-07]\n",
      " [ 1.89985241e-10 -1.39775936e-09  8.65677902e-09  2.58122736e-08\n",
      "   1.33540644e-07  6.02838618e-08 -6.41297300e-09  9.68195039e-09]\n",
      " [ 9.15842532e-10  5.03152687e-10  7.85143070e-08  1.06476464e-07\n",
      "   1.26415260e-07  3.74335660e-07  1.40845623e-06  2.05654048e-07]\n",
      " [ 1.89985241e-10 -1.39775936e-09  8.65677902e-09  2.58122736e-08\n",
      "   1.33540644e-07  6.02838617e-08 -6.41297282e-09  9.68195006e-09]\n",
      " [ 9.15842533e-10  5.03152691e-10  7.85143068e-08  1.06476466e-07\n",
      "   1.26415258e-07  3.74335662e-07  1.40845604e-06  2.05654160e-07]\n",
      " [ 3.99088102e-10 -2.26137919e-09  3.16204544e-08  3.93239815e-08\n",
      "   3.04670838e-08 -4.85371013e-08  8.03417879e-08 -3.86425434e-08]\n",
      " [ 5.96552703e-11 -1.67286461e-09  3.79967028e-08  7.32589516e-08\n",
      "   1.28138820e-07 -1.11336896e-07  8.37600795e-07  6.51526572e-07]\n",
      " [ 5.96552703e-11 -1.67286461e-09  3.79967028e-08  7.32589516e-08\n",
      "   1.28138820e-07 -1.11336896e-07  8.37600792e-07  6.51526573e-07]\n",
      " [ 5.96552703e-11 -1.67286461e-09  3.79967028e-08  7.32589518e-08\n",
      "   1.28138820e-07 -1.11336895e-07  8.37600775e-07  6.51526580e-07]\n",
      " [ 5.96552703e-11 -1.67286461e-09  3.79967028e-08  7.32589513e-08\n",
      "   1.28138820e-07 -1.11336896e-07  8.37600808e-07  6.51526568e-07]\n",
      " [ 3.22412597e-10 -1.16294884e-09  8.80171951e-09 -3.53909574e-09\n",
      "  -3.57778261e-09  1.47535591e-11 -4.38929156e-10  5.84511277e-11]\n",
      " [ 1.29551959e-11  1.84957784e-09  1.91642577e-08  7.62384152e-09\n",
      "   5.20060316e-08  6.12593323e-08 -6.45210016e-08 -7.65591167e-09]\n",
      " [ 9.23448546e-10  8.33159108e-09  3.19393439e-08  2.18756707e-08\n",
      "   9.79717135e-08  6.91651075e-08  3.44478550e-08  2.76695140e-07]\n",
      " [ 9.23448546e-10  8.33159108e-09  3.19393439e-08  2.18756706e-08\n",
      "   9.79717136e-08  6.91651074e-08  3.44478647e-08  2.76695145e-07]\n",
      " [ 9.23448546e-10  8.33159108e-09  3.19393439e-08  2.18756706e-08\n",
      "   9.79717136e-08  6.91651076e-08  3.44478632e-08  2.76695145e-07]\n",
      " [ 3.48040990e-10  4.37312101e-09  2.89755789e-08  2.55749702e-08\n",
      "   2.45140198e-08  7.83556352e-08  1.78399127e-07 -6.78296931e-08]\n",
      " [ 3.48040990e-10  4.37312101e-09  2.89755790e-08  2.55749700e-08\n",
      "   2.45140199e-08  7.83556351e-08  1.78399145e-07 -6.78297016e-08]\n",
      " [-3.65018444e-11  2.80097642e-12 -3.61810694e-13  9.30826232e-13\n",
      "  -1.72619311e-13  1.27889173e-13 -2.71831142e-14 -1.89182013e-15]\n",
      " [-3.65018444e-11  2.80097642e-12 -3.61810693e-13  9.30826222e-13\n",
      "  -1.72619305e-13  1.27889167e-13 -2.71823827e-14 -1.89213963e-15]\n",
      " [ 8.36218254e-10 -8.37443130e-09  3.66806983e-09  3.62011915e-08\n",
      "   5.76287672e-08  5.20531454e-08  1.61324261e-08 -1.86421212e-07]\n",
      " [ 8.36218254e-10 -8.37443130e-09  3.66806983e-09  3.62011915e-08\n",
      "   5.76287673e-08  5.20531453e-08  1.61324322e-08 -1.86421214e-07]\n",
      " [ 8.77957979e-10 -2.71393579e-09  2.39836135e-08 -4.94410435e-08\n",
      "   9.79993308e-08 -1.61404125e-08  1.75287706e-07 -1.59836710e-07]\n",
      " [ 7.88724799e-10 -7.11654615e-09  6.09023609e-08  1.78937281e-07\n",
      "  -2.14257959e-08  1.73140741e-08  3.72992032e-07  3.01711294e-07]\n",
      " [ 7.87855580e-10 -7.64671677e-09  6.29686346e-08  1.80630740e-07\n",
      "  -2.51814129e-08  1.20421845e-08  3.76835323e-07  3.59624874e-07]\n",
      " [ 8.36218254e-10 -8.37443130e-09  3.66806982e-09  3.62011916e-08\n",
      "   5.76287672e-08  5.20531454e-08  1.61324196e-08 -1.86421211e-07]\n",
      " [ 8.36218254e-10 -8.37443130e-09  3.66806982e-09  3.62011915e-08\n",
      "   5.76287673e-08  5.20531453e-08  1.61324248e-08 -1.86421212e-07]\n",
      " [ 8.36218254e-10 -8.37443130e-09  3.66806984e-09  3.62011914e-08\n",
      "   5.76287674e-08  5.20531454e-08  1.61324346e-08 -1.86421217e-07]\n",
      " [ 8.36218254e-10 -8.37443130e-09  3.66806983e-09  3.62011915e-08\n",
      "   5.76287673e-08  5.20531454e-08  1.61324306e-08 -1.86421215e-07]\n",
      " [ 8.36218254e-10 -8.37443130e-09  3.66806982e-09  3.62011915e-08\n",
      "   5.76287673e-08  5.20531453e-08  1.61324248e-08 -1.86421212e-07]\n",
      " [ 2.84999006e-10 -4.71782811e-10  8.94978788e-09  2.10346617e-09\n",
      "   2.07954077e-08 -3.45632820e-09 -3.97787652e-09  9.94544475e-09]\n",
      " [ 1.60913055e-09 -6.73161637e-09  6.83491358e-08  5.69433582e-08\n",
      "   6.67693632e-08  1.95382464e-07  7.84433335e-07 -2.77144805e-07]\n",
      " [ 2.09843717e-10 -1.18670502e-09  1.66298205e-09  6.59299315e-09\n",
      "  -1.52282674e-09 -1.41227480e-10 -5.27000123e-10  2.36634621e-10]\n",
      " [ 2.09843717e-10 -1.18670502e-09  1.66298205e-09  6.59299315e-09\n",
      "  -1.52282674e-09 -1.41227481e-10 -5.27000076e-10  2.36634590e-10]\n",
      " [ 3.45056969e-11  2.33741442e-09  2.52149667e-08  1.51074373e-08\n",
      "   1.31502463e-08  7.06851073e-08  2.13822384e-07 -2.78364178e-07]\n",
      " [ 1.70564814e-10 -6.11004978e-10  7.28586116e-09  8.23436700e-09\n",
      "   9.80976241e-09  4.83340311e-08 -5.27234392e-09 -1.34336176e-08]\n",
      " [ 8.22415814e-10  7.50318106e-10  7.91342188e-08  1.02448756e-07\n",
      "   1.05934950e-07  3.17708393e-07  1.21181905e-06 -3.38170903e-07]\n",
      " [ 1.42070225e-10 -5.25436349e-12 -2.98601543e-13 -5.89767434e-12\n",
      "   1.16353826e-12 -5.17490188e-13  2.64494167e-13 -1.42136801e-13]\n",
      " [ 8.22415814e-10  7.50318106e-10  7.91342187e-08  1.02448756e-07\n",
      "   1.05934949e-07  3.17708394e-07  1.21181901e-06 -3.38170907e-07]\n",
      " [ 1.42070225e-10 -5.25436349e-12 -2.98601543e-13 -5.89767434e-12\n",
      "   1.16353827e-12 -5.17490191e-13  2.64494417e-13 -1.42136751e-13]\n",
      " [ 1.25044700e-09 -6.22017128e-09  5.73271807e-08 -2.01520936e-08\n",
      "   8.08053445e-08 -7.46423912e-08  5.18566575e-07 -3.08671940e-07]\n",
      " [ 3.62763578e-10 -8.44713289e-11 -2.25111258e-11  3.61119899e-12\n",
      "   2.42884490e-12 -5.03651141e-13  4.07706126e-13 -4.32162537e-13]\n",
      " [ 3.62763578e-10 -8.44713289e-11 -2.25111258e-11  3.61119897e-12\n",
      "   2.42884491e-12 -5.03651118e-13  4.07707312e-13 -4.32163189e-13]\n",
      " [ 3.62763578e-10 -8.44713289e-11 -2.25111258e-11  3.61119888e-12\n",
      "   2.42884497e-12 -5.03651186e-13  4.07712791e-13 -4.32164728e-13]\n",
      " [ 3.62763578e-10 -8.44713289e-11 -2.25111258e-11  3.61119885e-12\n",
      "   2.42884499e-12 -5.03651233e-13  4.07715308e-13 -4.32166034e-13]\n",
      " [-2.44936237e-10  1.88219775e-09  4.81164332e-08  4.37106344e-08\n",
      "   4.21472597e-10  2.20020651e-07  6.64460389e-08 -1.57315597e-07]\n",
      " [ 1.28189167e-09  1.32666469e-08  1.07027278e-07  1.26566921e-07\n",
      "   1.58198523e-08  2.69821907e-07  1.22904517e-06 -2.65818586e-07]\n",
      " [-2.51236799e-10 -4.95427015e-09 -4.70663253e-10 -7.54617339e-10\n",
      "   2.48349462e-12  3.13751800e-10  1.01747503e-10  1.09010333e-10]\n",
      " [ 8.22415814e-10  7.50318104e-10  7.91342190e-08  1.02448754e-07\n",
      "   1.05934951e-07  3.17708393e-07  1.21181917e-06 -3.38170990e-07]\n",
      " [ 1.42070225e-10 -5.25436349e-12 -2.98601544e-13 -5.89767433e-12\n",
      "   1.16353826e-12 -5.17490184e-13  2.64493902e-13 -1.42136849e-13]\n",
      " [-1.55440078e-11 -4.95334139e-12 -6.04922848e-13  7.65742675e-14\n",
      "   1.00904364e-13 -6.31725839e-14 -4.06900382e-15 -1.93926800e-14]\n",
      " [-1.55440078e-11 -4.95334139e-12 -6.04922847e-13  7.65742575e-14\n",
      "   1.00904373e-13 -6.31726027e-14 -4.06784099e-15 -1.93931860e-14]\n",
      " [-1.55440078e-11 -4.95334139e-12 -6.04922848e-13  7.65742729e-14\n",
      "   1.00904358e-13 -6.31725754e-14 -4.06958833e-15 -1.93924261e-14]\n",
      " [-1.55440078e-11 -4.95334139e-12 -6.04922848e-13  7.65742691e-14\n",
      "   1.00904361e-13 -6.31725809e-14 -4.06932456e-15 -1.93925472e-14]\n",
      " [-1.55440078e-11 -4.95334139e-12 -6.04922848e-13  7.65742692e-14\n",
      "   1.00904360e-13 -6.31725743e-14 -4.06957354e-15 -1.93923654e-14]\n",
      " [-1.55440078e-11 -4.95334139e-12 -6.04922848e-13  7.65742705e-14\n",
      "   1.00904361e-13 -6.31725801e-14 -4.06930163e-15 -1.93925924e-14]\n",
      " [-1.55440078e-11 -4.95334139e-12 -6.04922842e-13  7.65742282e-14\n",
      "   1.00904381e-13 -6.31726241e-14 -4.06650043e-15 -1.93935765e-14]\n",
      " [-1.55440078e-11 -4.95334139e-12 -6.04922849e-13  7.65742739e-14\n",
      "   1.00904359e-13 -6.31725735e-14 -4.06964572e-15 -1.93923435e-14]\n",
      " [ 1.34465013e-10  6.20503430e-10  6.63565141e-11 -1.08185158e-11\n",
      "  -1.42006087e-11  2.22771113e-12  2.01765637e-12 -1.17666659e-12]\n",
      " [ 1.34465013e-10  6.20503430e-10  6.63565141e-11 -1.08185159e-11\n",
      "  -1.42006086e-11  2.22771110e-12  2.01766473e-12 -1.17667088e-12]\n",
      " [ 1.34465013e-10  6.20503430e-10  6.63565141e-11 -1.08185156e-11\n",
      "  -1.42006087e-11  2.22771127e-12  2.01764780e-12 -1.17666331e-12]\n",
      " [ 1.34465013e-10  6.20503430e-10  6.63565141e-11 -1.08185158e-11\n",
      "  -1.42006086e-11  2.22771108e-12  2.01766143e-12 -1.17666986e-12]\n",
      " [ 2.85057480e-10 -1.09180678e-09  1.38907266e-08  5.15530996e-08\n",
      "  -1.51451638e-08 -1.65343894e-10  8.59976740e-09  1.01007239e-08]\n",
      " [ 2.85057480e-10 -1.09180678e-09  1.38907266e-08  5.15530996e-08\n",
      "  -1.51451638e-08 -1.65343903e-10  8.59976661e-09  1.01007242e-08]\n",
      " [ 2.12063434e-09  1.47579505e-08  7.55885928e-08  7.03872533e-08\n",
      "  -1.12774598e-07  3.72468219e-07  8.02795198e-07 -4.00061917e-07]\n",
      " [ 1.25550840e-09 -3.96867354e-09  3.34063659e-08  2.56669971e-08\n",
      "   5.04336669e-08  1.08048678e-07  4.16276265e-07  9.41875803e-08]\n",
      " [ 1.25550840e-09 -3.96867354e-09  3.34063659e-08  2.56669979e-08\n",
      "   5.04336665e-08  1.08048679e-07  4.16276216e-07  9.41876033e-08]\n",
      " [ 5.60187695e-11 -2.31563716e-09  3.00048614e-08  4.18878511e-08\n",
      "  -1.25017970e-09 -1.49464532e-08  1.37361648e-07  1.86649535e-08]\n",
      " [ 5.60187695e-11 -2.31563716e-09  3.00048614e-08  4.18878511e-08\n",
      "  -1.25017974e-09 -1.49464532e-08  1.37361647e-07  1.86649543e-08]\n",
      " [ 5.60187695e-11 -2.31563716e-09  3.00048614e-08  4.18878511e-08\n",
      "  -1.25017969e-09 -1.49464533e-08  1.37361648e-07  1.86649537e-08]\n",
      " [ 5.60187695e-11 -2.31563716e-09  3.00048614e-08  4.18878511e-08\n",
      "  -1.25017967e-09 -1.49464532e-08  1.37361652e-07  1.86649522e-08]\n",
      " [ 5.60187695e-11 -2.31563716e-09  3.00048614e-08  4.18878511e-08\n",
      "  -1.25017968e-09 -1.49464532e-08  1.37361650e-07  1.86649532e-08]]\n",
      "(100, 8)\n"
     ]
    }
   ],
   "source": [
    "print(\"eigen:\")\n",
    "get_sim=spectral_embedding(similarity)\n",
    "print(get_sim)\n",
    "print(get_sim.shape)"
   ]
  },
  {
   "cell_type": "code",
   "execution_count": 94,
   "metadata": {},
   "outputs": [
    {
     "name": "stdout",
     "output_type": "stream",
     "text": [
      "Wall time: 58 ms\n"
     ]
    }
   ],
   "source": [
    "from sklearn.cluster import KMeans\n",
    "\n",
    "num_clusters = 9\n",
    "\n",
    "km = KMeans(n_clusters=num_clusters)\n",
    "\n",
    "%time km.fit(get_sim)\n",
    "\n",
    "clusters = km.labels_.tolist()"
   ]
  },
  {
   "cell_type": "code",
   "execution_count": 95,
   "metadata": {},
   "outputs": [],
   "source": [
    "from sklearn import metrics"
   ]
  },
  {
   "cell_type": "code",
   "execution_count": 96,
   "metadata": {},
   "outputs": [],
   "source": [
    "labels_true= df_prot_fin[0:100]['class label'].tolist()"
   ]
  },
  {
   "cell_type": "code",
   "execution_count": 97,
   "metadata": {},
   "outputs": [],
   "source": [
    "labels_pred=clusters"
   ]
  },
  {
   "cell_type": "code",
   "execution_count": 98,
   "metadata": {},
   "outputs": [
    {
     "data": {
      "text/plain": [
       "0.11908666415943753"
      ]
     },
     "execution_count": 98,
     "metadata": {},
     "output_type": "execute_result"
    }
   ],
   "source": [
    "metrics.adjusted_rand_score(labels_true, labels_pred)"
   ]
  },
  {
   "cell_type": "code",
   "execution_count": 99,
   "metadata": {},
   "outputs": [
    {
     "name": "stdout",
     "output_type": "stream",
     "text": [
      "[2, 2, 6, 6, 2, 2, 2, 2, 16, 16, 6, 6, 16, 16, 16, 16, 2, 2, 16, 16, 16, 16, 16, 16, 9, 9, 16, 16, 16, 16, 3, 3, 3, 3, 6, 3, 3, 3, 3, 3, 2, 2, 2, 2, 18, 18, 18, 18, 9, 9, 16, 9, 9, 9, 9, 9, 9, 9, 16, 2, 3, 3, 5, 2, 3, 3, 3, 3, 2, 16, 16, 16, 16, 5, 7, 18, 3, 3, 16, 16, 16, 16, 16, 16, 16, 16, 9, 9, 9, 9, 2, 2, 0, 9, 9, 2, 2, 2, 2, 2]\n"
     ]
    }
   ],
   "source": [
    "print(labels_true)"
   ]
  },
  {
   "cell_type": "code",
   "execution_count": 100,
   "metadata": {},
   "outputs": [
    {
     "name": "stdout",
     "output_type": "stream",
     "text": [
      "[3, 3, 5, 5, 0, 0, 0, 0, 3, 3, 5, 5, 3, 3, 3, 3, 0, 0, 3, 3, 3, 3, 3, 3, 5, 5, 8, 8, 2, 2, 0, 6, 0, 6, 0, 2, 2, 2, 2, 0, 0, 7, 7, 7, 5, 5, 0, 0, 5, 5, 5, 3, 3, 5, 5, 5, 5, 5, 0, 1, 0, 0, 5, 0, 4, 0, 4, 0, 8, 0, 0, 0, 0, 5, 4, 0, 4, 0, 0, 0, 0, 0, 0, 0, 0, 0, 0, 0, 0, 0, 0, 0, 1, 3, 3, 0, 0, 0, 0, 0]\n"
     ]
    }
   ],
   "source": [
    "print(labels_pred)"
   ]
  },
  {
   "cell_type": "code",
   "execution_count": 101,
   "metadata": {},
   "outputs": [],
   "source": [
    "from sklearn.cluster.hierarchical import AgglomerativeClustering"
   ]
  },
  {
   "cell_type": "code",
   "execution_count": 105,
   "metadata": {},
   "outputs": [
    {
     "name": "stdout",
     "output_type": "stream",
     "text": [
      "[2 2 6 6 4 4 4 4 0 0 6 6 0 0 0 0 0 0 0 0 0 0 0 0 6 6 0 0 2 2 0 7 0 7 6 7 7\n",
      " 7 7 8 0 0 0 0 0 0 5 5 0 0 6 2 2 0 0 0 0 0 8 2 4 4 0 3 7 5 7 5 2 1 1 1 1 7\n",
      " 2 4 7 5 1 1 1 1 1 1 1 1 1 1 1 1 3 3 7 2 2 6 6 6 6 6]\n",
      "\n"
     ]
    }
   ],
   "source": [
    "model = AgglomerativeClustering(affinity='precomputed', n_clusters=9, linkage='complete').fit(similarity)\n",
    "print(model.labels_)\n",
    "print()"
   ]
  },
  {
   "cell_type": "code",
   "execution_count": 106,
   "metadata": {},
   "outputs": [],
   "source": [
    "labels_pred=model.labels_"
   ]
  },
  {
   "cell_type": "code",
   "execution_count": 107,
   "metadata": {},
   "outputs": [
    {
     "data": {
      "text/plain": [
       "0.16627553972089584"
      ]
     },
     "execution_count": 107,
     "metadata": {},
     "output_type": "execute_result"
    }
   ],
   "source": [
    "metrics.adjusted_rand_score(labels_true, labels_pred)"
   ]
  },
  {
   "cell_type": "code",
   "execution_count": 108,
   "metadata": {},
   "outputs": [
    {
     "name": "stdout",
     "output_type": "stream",
     "text": [
      "[1 1 0 0 3 3 3 3 1 1 0 0 1 1 1 1 8 8 1 1 1 1 1 1 0 0 5 5 2 2 3 7 3 7 3 2 2\n",
      " 2 2 3 3 3 3 3 0 0 3 3 0 0 0 1 1 0 0 0 0 0 3 4 3 3 0 3 6 3 6 3 5 3 3 3 3 0\n",
      " 6 3 6 3 3 3 3 3 3 3 3 3 3 3 3 3 3 3 4 1 1 3 3 3 3 3]\n",
      "\n"
     ]
    }
   ],
   "source": [
    "model = AgglomerativeClustering(affinity='manhattan', n_clusters=9, linkage='complete').fit(get_sim)\n",
    "print(model.labels_)\n",
    "print()"
   ]
  },
  {
   "cell_type": "code",
   "execution_count": 109,
   "metadata": {},
   "outputs": [],
   "source": [
    "labels_pred=model.labels_"
   ]
  },
  {
   "cell_type": "code",
   "execution_count": 110,
   "metadata": {},
   "outputs": [
    {
     "data": {
      "text/plain": [
       "0.1228520871311221"
      ]
     },
     "execution_count": 110,
     "metadata": {},
     "output_type": "execute_result"
    }
   ],
   "source": [
    "metrics.adjusted_rand_score(labels_true, labels_pred)"
   ]
  },
  {
   "cell_type": "code",
   "execution_count": 111,
   "metadata": {},
   "outputs": [
    {
     "name": "stdout",
     "output_type": "stream",
     "text": [
      "[8 0 8 0 2 1 8 0 4 0 1 4 5 6 3 7 1 4 8 0 1 2 2 1 2 1 4 6 5 2 8 2 0 3 7 8 0\n",
      " 1 4 0 0 7 3 2 6 3 2 3 2 0 3 1 7 1 7 5 4 8 5 0 4 6 5 7 0 1 5 0 4 2 1 8 0 5\n",
      " 1 7 7 5 2 3 1 0 5 7 4 6 8 0 1 4 2 0 7 6 2 5 4 8 6 3]\n",
      "\n"
     ]
    }
   ],
   "source": [
    "model = AgglomerativeClustering(affinity='precomputed', n_clusters=9, linkage='complete').fit(arr)\n",
    "print(model.labels_)\n",
    "print()"
   ]
  },
  {
   "cell_type": "code",
   "execution_count": 112,
   "metadata": {},
   "outputs": [],
   "source": [
    "labels_pred=model.labels_"
   ]
  },
  {
   "cell_type": "code",
   "execution_count": 113,
   "metadata": {},
   "outputs": [
    {
     "data": {
      "text/plain": [
       "-0.02382443533593122"
      ]
     },
     "execution_count": 113,
     "metadata": {},
     "output_type": "execute_result"
    }
   ],
   "source": [
    "metrics.adjusted_rand_score(labels_true, labels_pred)"
   ]
  },
  {
   "cell_type": "code",
   "execution_count": 117,
   "metadata": {},
   "outputs": [
    {
     "name": "stdout",
     "output_type": "stream",
     "text": [
      "[0 0 1 1 0 0 0 0 0 0 1 1 0 0 0 0 0 0 0 0 0 0 0 0 1 1 0 0 0 0 0 0 0 0 1 0 0\n",
      " 0 0 1 0 0 0 0 0 0 0 0 0 0 1 0 0 0 0 0 0 0 1 0 0 0 0 1 0 0 0 0 0 1 1 1 1 0\n",
      " 0 0 0 0 1 1 1 1 1 1 1 1 1 1 1 1 1 1 0 0 0 1 1 1 1 1]\n",
      "\n",
      "0.012800847954259393\n",
      "\n",
      "[1 1 0 0 2 2 2 2 1 1 0 0 1 1 1 1 1 1 1 1 1 1 1 1 0 0 1 1 1 1 1 1 1 1 0 1 1\n",
      " 1 1 0 1 1 1 1 1 1 2 2 1 1 0 1 1 1 1 1 1 1 0 1 2 2 1 0 1 2 1 2 1 0 0 0 0 1\n",
      " 1 2 1 2 0 0 0 0 0 0 0 0 0 0 0 0 0 0 1 1 1 0 0 0 0 0]\n",
      "\n",
      "0.037203922560182116\n",
      "\n",
      "[0 0 1 1 2 2 2 2 0 0 1 1 0 0 0 0 0 0 0 0 0 0 0 0 1 1 0 0 0 0 0 0 0 0 1 0 0\n",
      " 0 0 1 0 0 0 0 0 0 2 2 0 0 1 0 0 0 0 0 0 0 1 0 2 2 0 1 0 2 0 2 0 3 3 3 3 0\n",
      " 0 2 0 2 3 3 3 3 3 3 3 3 3 3 3 3 1 1 0 0 0 1 1 1 1 1]\n",
      "\n",
      "0.06370968459583\n",
      "\n",
      "[2 2 1 1 0 0 0 0 4 4 1 1 4 4 4 4 4 4 4 4 4 4 4 4 1 1 4 4 2 2 4 2 4 2 1 2 2\n",
      " 2 2 1 4 4 4 4 4 4 0 0 4 4 1 2 2 4 4 4 4 4 1 2 0 0 4 1 2 0 2 0 2 3 3 3 3 2\n",
      " 2 0 2 0 3 3 3 3 3 3 3 3 3 3 3 3 1 1 2 2 2 1 1 1 1 1]\n",
      "\n",
      "0.12714518141128106\n",
      "\n",
      "[2 2 0 0 4 4 4 4 1 1 0 0 1 1 1 1 1 1 1 1 1 1 1 1 0 0 1 1 2 2 1 2 1 2 0 2 2\n",
      " 2 2 0 1 1 1 1 1 1 5 5 1 1 0 2 2 1 1 1 1 1 0 2 4 4 1 0 2 5 2 5 2 3 3 3 3 2\n",
      " 2 4 2 5 3 3 3 3 3 3 3 3 3 3 3 3 0 0 2 2 2 0 0 0 0 0]\n",
      "\n",
      "0.12732587988226152\n",
      "\n",
      "[0 0 6 6 4 4 4 4 1 1 6 6 1 1 1 1 1 1 1 1 1 1 1 1 6 6 1 1 0 0 1 0 1 0 6 0 0\n",
      " 0 0 2 1 1 1 1 1 1 5 5 1 1 6 0 0 1 1 1 1 1 2 0 4 4 1 2 0 5 0 5 0 3 3 3 3 0\n",
      " 0 4 0 5 3 3 3 3 3 3 3 3 3 3 3 3 2 2 0 0 0 6 6 6 6 6]\n",
      "\n",
      "0.12620072897703244\n",
      "\n",
      "[2 2 6 6 4 4 4 4 1 1 6 6 1 1 1 1 1 1 1 1 1 1 1 1 6 6 1 1 2 2 1 7 1 7 6 7 7\n",
      " 7 7 0 1 1 1 1 1 1 5 5 1 1 6 2 2 1 1 1 1 1 0 2 4 4 1 0 7 5 7 5 2 3 3 3 3 7\n",
      " 2 4 7 5 3 3 3 3 3 3 3 3 3 3 3 3 0 0 7 2 2 6 6 6 6 6]\n",
      "\n",
      "0.1642872094884589\n",
      "\n",
      "[2 2 6 6 4 4 4 4 0 0 6 6 0 0 0 0 0 0 0 0 0 0 0 0 6 6 0 0 2 2 0 7 0 7 6 7 7\n",
      " 7 7 8 0 0 0 0 0 0 5 5 0 0 6 2 2 0 0 0 0 0 8 2 4 4 0 3 7 5 7 5 2 1 1 1 1 7\n",
      " 2 4 7 5 1 1 1 1 1 1 1 1 1 1 1 1 3 3 7 2 2 6 6 6 6 6]\n",
      "\n",
      "0.16627553972089584\n",
      "\n",
      "[2 2 6 6 4 4 4 4 9 9 6 6 9 9 9 9 8 8 9 9 9 9 9 9 6 6 9 9 2 2 8 7 8 7 6 7 7\n",
      " 7 7 3 8 9 9 9 9 9 5 5 9 9 6 2 2 9 9 9 9 9 3 2 4 4 8 1 7 5 7 5 2 0 0 0 0 7\n",
      " 2 4 7 5 0 0 0 0 0 0 0 0 0 0 0 0 1 1 7 2 2 6 6 6 6 6]\n",
      "\n",
      "0.2086279863641417\n",
      "\n",
      "[ 0  0  2  2  4  4  4  4  9  9  2  2  9  9  9  9  8  8  9  9  9  9  9  9\n",
      "  2  2  9  9  0  0  8  7  8  7  2  7  7  7  7  3  8  9  9  9  9  9  5  5\n",
      "  9  9  2  0  0  9  9  9  9  9  3  0  4  4  8  1  7  5  7  5  0  6  6  6\n",
      "  6  7  0  4  7  5  6  6  6  6  6  6  6  6 10 10 10 10  1  1  7  0  0  2\n",
      "  2  2  2  2]\n",
      "\n",
      "0.22697632175673713\n",
      "\n",
      "[ 4  4  2  2  1  1  1  1  9  9  2  2  9  9  9  9  8  8  9  9  9  9  9  9\n",
      "  2  2  9  9  4  4  8  7  8  7  2  7  7  7  7  3  8  9  9  9  9  9 11 11\n",
      "  9  9  2  4  4  9  9  9  9  9  3  5  1  1  8  0  7 11  7 11  4  6  6  6\n",
      "  6  7  5  1  7 11  6  6  6  6  6  6  6  6 10 10 10 10  0  0  7  4  4  2\n",
      "  2  2  2  2]\n",
      "\n",
      "0.22957710681233054\n",
      "\n",
      "[ 4  4  2  2  0  0  0  0  9  9  2  2  9  9  9  9  8  8  9  9  9  9  9  9\n",
      "  2  2  9  9  4  4  8  3  8  3  2  3  3  3  3  1  8  9  9  9  9  9 11 11\n",
      "  9  9  2  4  4  9  9  9  9  9  1  5  0  0  8 12  3 11  3 11  4  6  6  6\n",
      "  6  3  5  0  3 11  6  6  6  6  6  6  6  6 10 10 10 10  7  7  3  4  4  2\n",
      "  2  2  2  2]\n",
      "\n",
      "0.22737316859581377\n",
      "\n",
      "[ 4  4  2  2  6  6  6  6  9  9  2  2  9  9  9  9  3  3  9  9  9  9  9  9\n",
      "  2  2  9  9  4  4  3  1  3  1  2  1  1  1  1  0  3  9  9  9  9  9 11 11\n",
      "  9  9  2  4  4  9  9  9  9  9  0  5  8  8  3 12  1 11  1 11  4 13 13 13\n",
      " 13  1  5  8  1 11 13 13 13 13 13 13 13 13 10 10 10 10  7  7  1  4  4  2\n",
      "  2  2  2  2]\n",
      "\n",
      "0.2321316627292313\n",
      "\n",
      "[ 4  4  0  0  6  6  6  6  9  9  0  0  9  9  9  9  3  3  9  9  9  9  9  9\n",
      "  0  0  9  9  4  4  3  1  3  1  0  1  1  1  1 14  3  9  9  9  9  9  5  5\n",
      "  9  9  0  4  4  9  9  9  9  9 11  2  8  8  3 12  1  5  1  5  4 13 13 13\n",
      " 13  1  2  8  1  5 13 13 13 13 13 13 13 13 10 10 10 10  7  7  1  4  4  0\n",
      "  0  0  0  0]\n",
      "\n",
      "0.23253058207504995\n",
      "\n",
      "[ 4  4  1  1  6  6  6  6  9  9  1  1  9  9  9  9  3  3  9  9  9  9  9  9\n",
      "  7  7  9  9  4  4  3  0  3  0  1  0  0  0  0 14  3  9  9  9  9  9  5  5\n",
      "  9  9  7  4  4  9  9  9  9  9 11  2  8  8  3 12  0  5  0  5  4 13 13 13\n",
      " 13  0  2  8  0  5 13 13 13 13 13 13 13 13 10 10 10 10 15 15  0  4  4  1\n",
      "  1  1  1  1]\n",
      "\n",
      "0.2446717152002498\n",
      "\n",
      "[ 1  1  0  0  6  6  6  6  4  4  0  0  4  4  4  4  3  3  4  4  4  4  4  4\n",
      "  7  7  4  4  1  1  3 16  3 16  0 16 16 16 16 14  3  4  4  4  4  4  5  5\n",
      "  4  4  7  1  1  4  4  4  4  4 11  2  8  8  3 12 16  5 16  5  1 13 13 13\n",
      " 13  9  2  8 16  5 13 13 13 13 13 13 13 13 10 10 10 10 15 15  9  1  1  0\n",
      "  0  0  0  0]\n",
      "\n",
      "0.2521213584785409\n",
      "\n",
      "[ 0  0 17 17  6  6  6  6  4  4 17 17  4  4  4  4  1  1  4  4  4  4  4  4\n",
      "  3  3  4  4  0  0  1 16  1 16  7 16 16 16 16 14  1  4  4  4  4  4  5  5\n",
      "  4  4  3  0  0  4  4  4  4  4 11  2  8  8  1 12 16  5 16  5  0 13 13 13\n",
      " 13  9  2  8 16  5 13 13 13 13 13 13 13 13 10 10 10 10 15 15  9  0  0  7\n",
      "  7  7  7  7]\n",
      "\n",
      "0.2560210009112356\n",
      "\n",
      "[18 18 17 17  6  6  6  6  1  1 17 17  1  1  1  1  0  0  1  1  1  1  1  1\n",
      "  3  3  1  1 18 18  0 16  0 16  7 16 16 16 16 14  0  1  1  1  1  1  5  5\n",
      "  1  1  3  4  4  1  1  1  1  1 11  2  8  8  0 12 16  5 16  5  4 13 13 13\n",
      " 13  9  2  8 16  5 13 13 13 13 13 13 13 13 10 10 10 10 15 15  9  4  4  7\n",
      "  7  7  7  7]\n",
      "\n",
      "0.26143703611896324\n",
      "\n",
      "[18 18 17 17  6  6  6  6  0  0 17 17  0  0  0  0  4  4  0  0  0  0  0  0\n",
      "  3  3  0  0 18 18  4 16  4 16  7 16 16 16 16 14  4  0  0  0  0  0  5  5\n",
      "  0  0  3  1  1  0  0  0  0  0 11  2  8  8 19 12 16  5 16  5  1 13 13 13\n",
      " 13  9  2  8 16  5 13 13 13 13 13 13 13 13 10 10 10 10 15 15  9  1  1  7\n",
      "  7  7  7  7]\n",
      "\n",
      "0.26359583384436003\n",
      "\n",
      "[18 18 17 17  6  6  6  6 20 20 17 17 20 20 20 20  4  4 20 20 20 20 20 20\n",
      "  1  1 20 20 18 18  4 16  4 16  3 16 16 16 16 14  4  7  7  7  7  7  5  5\n",
      "  7  7  1  0  0  7  7  7  7  7 11  2  8  8 19 12 16  5 16  5  0 13 13 13\n",
      " 13  9  2  8 16  5 13 13 13 13 13 13 13 13 10 10 10 10 15 15  9  0  0  3\n",
      "  3  3  3  3]\n",
      "\n",
      "0.342726797130928\n",
      "\n",
      "[18 18 17 17  6  6  6  6 20 20 17 17 20 20 20 20  4  4 20 20 20 20 20 20\n",
      "  0  0 20 20 18 18  4 16  4 16  1 16 16 16 16 14  4  7  7  7  7  7  5  5\n",
      "  7  7  0  3  3  7  7  7  7  7 11  2  8  8 19 12 16  5 16  5  3 13 13 13\n",
      " 13  9  2  8 16  5 13 13 13 13 13 13 13 13 21 21 21 21 15 15  9 10 10  1\n",
      "  1  1  1  1]\n",
      "\n",
      "0.3389259842640179\n",
      "\n",
      "[18 18 17 17  6  6  6  6 20 20 17 17 20 20 20 20  4  4 20 20 20 20 20 20\n",
      "  5  5 20 20 18 18  4 16  4 16  1 16 16 16 16 14  4  7  7  7  7  7  2  2\n",
      "  7  7 22  3  3  7  7  7  7  7 11  0  8  8 19 12 16  2 16  2  3 13 13 13\n",
      " 13  9  0  8 16  2 13 13 13 13 13 13 13 13 21 21 21 21 15 15  9 10 10  1\n",
      "  1  1  1  1]\n",
      "\n",
      "0.33995151602084606\n",
      "\n",
      "[18 18 17 17  6  6  6  6 20 20 17 17 20 20 20 20  4  4 20 20 20 20 20 20\n",
      "  5  5 20 20 18 18  4  7  4  7  0  7  7  7  7 14  4  3  3  3  3  3  2  2\n",
      "  3  3 22  1  1  3  3  3  3  3 23 11  8  8 19 12  7  2  7  2  1 13 13 13\n",
      " 13  9 16  8  7  2 13 13 13 13 13 13 13 13 21 21 21 21 15 15  9 10 10  0\n",
      "  0  0  0  0]\n",
      "\n",
      "0.34046509424465116\n",
      "\n",
      "[ 8  8 17 17  6  6  6  6 20 20 17 17 20 20 20 20  4  4 20 20 20 20 20 20\n",
      "  5  5 20 20  8  8  4  7  4  7 24  7  7  7  7 14  4  1  1  1  1  1  2  2\n",
      "  1  1 22  0  0  1  1  1  1  1 23 11  3  3 19 12  7  2  7  2  0 13 13 13\n",
      " 13  9 16  3  7  2 13 13 13 13 13 13 13 13 21 21 21 21 15 15  9 10 10 18\n",
      " 18 18 18 18]\n",
      "\n",
      "0.34304114322715934\n",
      "\n",
      "[ 3  3 17 17  6  6  6  6 20 20 17 17 20 20 20 20  4  4 20 20 20 20 20 20\n",
      "  5  5 20 20  3  3  4  7  4  7 24  7  7  7  7 14  4  0  0  0  0  0  2  2\n",
      "  0  0 22  8  8  0  0  0  0  0 23 11  1  1 19 25  7  2  7  2 12 13 13 13\n",
      " 13  9 16  1  7  2 13 13 13 13 13 13 13 13 21 21 21 21 15 15  9 10 10 18\n",
      " 18 18 18 18]\n",
      "\n",
      "0.3440753859660348\n",
      "\n",
      "[ 1  1 17 17  6  6  6  6 20 20 17 17 20 20 20 20  4  4 20 20 20 20 20 20\n",
      " 12 12 20 20  1  1  4  3  4  3 24  3  3  3  3 14  4  7  7  7  7  7  2  2\n",
      "  5  5 22  8  8  5  5  5  5  5 23 11  0  0 19 25  3  2  3  2 26 13 13 13\n",
      " 13  9 16  0  3  2 13 13 13 13 13 13 13 13 21 21 21 21 15 15  9 10 10 18\n",
      " 18 18 18 18]\n",
      "\n",
      "0.3625362963427394\n",
      "\n",
      "[ 0  0 17 17  6  6  6  6  9  9 17 17  9  9  9  9  1  1  9  9  9  9  9  9\n",
      " 12 12  9  9  0  0  1  3  1  3 24  3  3  3  3 14  1  7  7  7  7  7  2  2\n",
      "  5  5 22  8  8  5  5  5  5  5 23 11 20 20 19 25  3  2  3  2 26 13 13 13\n",
      " 13  4 16 27  3  2 13 13 13 13 13 13 13 13 21 21 21 21 15 15  4 10 10 18\n",
      " 18 18 18 18]\n",
      "\n",
      "0.3636123076857239\n",
      "\n",
      "[28 28 17 17  6  6  6  6  4  4 17 17  4  4  4  4  0  0  4  4  4  4  4  4\n",
      " 12 12  4  4 20 20  0  3  0  3 24  3  3  3  3 14  0  7  7  7  7  7  2  2\n",
      "  5  5 22  8  8  5  5  5  5  5 23 11  9  9 19 25  3  2  3  2 26 13 13 13\n",
      " 13  1 16 27  3  2 13 13 13 13 13 13 13 13 21 21 21 21 15 15  1 10 10 18\n",
      " 18 18 18 18]\n",
      "\n",
      "0.36577132635574283\n",
      "\n",
      "[28 28 17 17  6  6  6  6  4  4 17 17  4  4  4  4  2  2  4  4  4  4  4  4\n",
      " 12 12  4  4 20 20  2  3  2  3 24  3  3  3  3 29 14  7  7  7  7  7  0  0\n",
      "  5  5 22  8  8  5  5  5  5  5 23 11  9  9 19 25  3  0  3  0 26 13 13 13\n",
      " 13  1 16 27  3  0 13 13 13 13 13 13 13 13 21 21 21 21 15 15  1 10 10 18\n",
      " 18 18 18 18]\n",
      "\n",
      "0.36439380345071765\n",
      "\n",
      "[28 28 17 17 14 14 14 14  4  4 17 17  4  4  4  4  0  0  4  4  4  4  4  4\n",
      " 12 12  4  4 20 20  0  3  0  3 24  3  3  3  3 29 30  7  7  7  7  7  2  2\n",
      "  5  5 22  8  8  5  5  5  5  5 23 11  9  9 19 25  3  6  3  6 26 13 13 13\n",
      " 13  1 16 27  3  6 13 13 13 13 13 13 13 13 21 21 21 21 15 15  1 10 10 18\n",
      " 18 18 18 18]\n",
      "\n",
      "0.3676525282579518\n",
      "\n",
      "[28 28 17 17 14 14 14 14  1  1 17 17  1  1  1  1  9  9  1  1  1  1  1  1\n",
      " 12 12  1  1 20 20 15  3 15  3 24  3  3  3  3 29 30  7  7  7  7  7  2  2\n",
      "  5  5 22  8  8  5  5  5  5  5 23 11  4  4 19 25  3  6  3  6 26 13 13 13\n",
      " 13  0 16 27  3  6 13 13 13 13 13 13 13 13 21 21 21 21 31 31  0 10 10 18\n",
      " 18 18 18 18]\n",
      "\n",
      "0.36983687226324297\n",
      "\n",
      "[28 28 17 17 14 14 14 14  0  0 17 17  0  0  0  0  9  9  0  0  0  0  0  0\n",
      " 12 12  0  0 20 20  7  1  7  1 24  1  1  1  1 29 30  3  3  3  3  3  2  2\n",
      "  5  5 22  8  8  5  5  5  5  5 23 11  4  4 19 25  1  6  1  6 26 13 13 13\n",
      " 13 32 16 27  1  6 13 13 13 13 13 13 13 13 21 21 21 21 15 15 31 10 10 18\n",
      " 18 18 18 18]\n",
      "\n",
      "0.37038444977326485\n",
      "\n",
      "[28 28 17 17  6  6  6  6 16 16 17 17 16 16 16 16  9  9 16 16 16 16 16 16\n",
      " 12 12 14 14 20 20  7  1  7  1 24  1  1  1  1 29 30  3  3  3  3  3  0  0\n",
      "  5  5 22  8  8  5  5  5  5  5 23 11  4  4 19 25  1  2  1  2 26 13 13 13\n",
      " 13 32 33 27  1  2 13 13 13 13 13 13 13 13 21 21 21 21 15 15 31 10 10 18\n",
      " 18 18 18 18]\n",
      "\n",
      "0.34033278554270885\n",
      "\n",
      "[13 13 17 17  2  2  2  2 16 16 17 17 16 16 16 16  9  9 16 16 16 16 16 16\n",
      " 12 12 14 14 20 20  7  1  7  1 24  1  1  1  1 29 30  3  3  3  3  3 34 28\n",
      "  5  5 22  8  8  5  5  5  5  5 23 11  4  4 19 25  1  0  1  0 26  6  6  6\n",
      "  6 32 33 27  1  0  6  6  6  6  6  6  6  6 21 21 21 21 15 15 31 10 10 18\n",
      " 18 18 18 18]\n",
      "\n",
      "0.33906329627214493\n",
      "\n",
      "[13 13 17 17  2  2  2  2 16 16 17 17 16 16 16 16  9  9 16 16 16 16 16 16\n",
      " 12 12 14 14 20 20  7  1  7  1 24  1  1  1  1 29 30  3  3  3  3  3 34 28\n",
      "  5  5 22  8  8  5  5  5  5  5 23 11  4  4 19 25  1  0  1  0 26  6  6  6\n",
      "  6 32 33 27  1 35  6  6  6  6  6  6  6  6 21 21 21 21 15 15 31 10 10 18\n",
      " 18 18 18 18]\n",
      "\n",
      "0.33652009466293975\n",
      "\n",
      "[13 13 17 17  2  2  2  2 16 16 17 17 16 16 16 16  4  4 16 16 16 16 16 16\n",
      " 12 12 14 14  9  9  7  0  7  0 24  0  0  0  0 29 30  3  3  3  3  3 34 28\n",
      "  5  5 22  8  8  5  5  5  5  5 23 11  1  1 19 25  0 36  0 20 26  6  6  6\n",
      "  6 32 33 27  0 35  6  6  6  6  6  6  6  6 21 21 21 21 15 15 31 10 10 18\n",
      " 18 18 18 18]\n",
      "\n",
      "0.33524637763889786\n",
      "\n",
      "[13 13 17 17  2  2  2  2  7  7 17 17  7  7  7  7  4  4  7  7  7  7  7  7\n",
      " 12 12 14 14  9  9  3 16  3 16 24  8  8  8  8 29 30  1  1  1  1  1 34 28\n",
      "  5  5 22 18 18  5  5  5  5  5 23 11  0  0 19 25 16 36 16 20 26  6  6  6\n",
      "  6 32 33 27 16 35  6  6  6  6  6  6  6  6 21 21 21 21 15 15 31 10 10 37\n",
      " 37 37 37 37]\n",
      "\n",
      "0.30947194390965094\n",
      "\n",
      "[13 13 17 17  0  0  0  0  7  7 17 17  7  7  7  7  4  4  7  7  7  7  7  7\n",
      " 12 12  6  6  9  9  3 16  3 16 24  8  8  8  8 29 30  1  1  1  1  1 34 28\n",
      "  5  5 22 18 18  5  5  5  5  5 23 11 38 14 19 25 16 36 16 20 26  2  2  2\n",
      "  2 32 33 27 16 35  2  2  2  2  2  2  2  2 21 21 21 21 15 15 31 10 10 37\n",
      " 37 37 37 37]\n",
      "\n",
      "0.3081680322816044\n",
      "\n",
      "[13 13 17 17  0  0  0 39  7  7 17 17  7  7  7  7  4  4  7  7  7  7  7  7\n",
      " 12 12  6  6  9  9  3 16  3 16 24  8  8  8  8 29 30  1  1  1  1  1 34 28\n",
      "  5  5 22 18 18  5  5  5  5  5 23 11 38 14 19 25 16 36 16 20 26  2  2  2\n",
      "  2 32 33 27 16 35  2  2  2  2  2  2  2  2 21 21 21 21 15 15 31 10 10 37\n",
      " 37 37 37 37]\n",
      "\n",
      "0.30424750030874126\n",
      "\n",
      "[13 13 17 17  0  0 40 39  7  7 17 17  7  7  7  7  4  4  7  7  7  7  7  7\n",
      " 12 12  6  6  9  9  3 16  3 16 24  8  8  8  8 29 30  1  1  1  1  1 34 28\n",
      "  5  5 22 18 18  5  5  5  5  5 23 11 38 14 19 25 16 36 16 20 26  2  2  2\n",
      "  2 32 33 27 16 35  2  2  2  2  2  2  2  2 21 21 21 21 15 15 31 10 10 37\n"
     ]
    },
    {
     "name": "stdout",
     "output_type": "stream",
     "text": [
      " 37 37 37 37]\n",
      "\n",
      "0.3016264566620418\n",
      "\n",
      "[13 13 17 17 41 20 40 39  7  7 17 17  7  7  7  7  1  1  7  7  7  7  7  7\n",
      " 12 12  6  6  4  4  3 16  3 16 24  8  8  8  8 29 30  0  0  0  0  0 34 28\n",
      "  5  5 22 18 18  5  5  5  5  5 23 11 38 14 19 25 16 36 16  9 26  2  2  2\n",
      "  2 32 33 27 16 35  2  2  2  2  2  2  2  2 21 21 21 21 15 15 31 10 10 37\n",
      " 37 37 37 37]\n",
      "\n",
      "0.30031372068271867\n",
      "\n",
      "[13 13 17 17 41 42 40 39  7  7 17 17  7  7  7  7  0  0  7  7  7  7  7  7\n",
      " 12 12  6  6  9  9  1 16  1 16 24  8  8  8  8 29 30  3  3  3  4  4 34 28\n",
      "  5  5 22 18 18  5  5  5  5  5 23 11 38 14 19 25 16 36 16 20 26  2  2  2\n",
      "  2 32 33 27 16 35  2  2  2  2  2  2  2  2 21 21 21 21 15 15 31 10 10 37\n",
      " 37 37 37 37]\n",
      "\n",
      "0.30347671769937923\n",
      "\n",
      "[13 13 17 17 41 42 40 39  3  3 17 17  3  3  3  3 43 33  3  3  3  3  3  3\n",
      " 12 12  6  6  9  9  0  7  0  7 24  8  8  8  8 29 30  1  1  1  4  4 34 28\n",
      "  5  5 22 18 18  5  5  5  5  5 23 11 38 14 19 25  7 36  7 20 26  2  2  2\n",
      "  2 32 16 27  7 35  2  2  2  2  2  2  2  2 21 21 21 21 15 15 31 10 10 37\n",
      " 37 37 37 37]\n",
      "\n",
      "0.30215983228861815\n",
      "\n",
      "[13 13 17 17 41 42 40 39  3  3 17 17  3  3  3  3 43 33  3  3  3  3  3  3\n",
      "  5  5  6  6  9  9 44  7 26  7 24  8  8  8  8 29 30  1  1  1  4  4 34 28\n",
      "  2  2 22 18 18  2  2  2  2  2 23 11 38 14 19 25  7 36  7 20 12  0  0  0\n",
      "  0 32 16 27  7 35  0  0  0  0  0  0  0  0 21 21 21 21 15 15 31 10 10 37\n",
      " 37 37 37 37]\n",
      "\n",
      "0.30084145689329295\n",
      "\n",
      "[ 6  6 17 17 41 42 40 39  3  3 17 17  3  3  3  3 43 33  3  3  3  3  3  3\n",
      "  5  5  2  2  9  9 44  7 26  7 24  8  8  8  8 29 30  1  1  1  4  4 34 28\n",
      "  0  0 45 18 18  0  0  0  0  0 23 11 38 14 19 25  7 36  7 20 12 13 13 13\n",
      " 13 32 16 27  7 35 22 22 22 22 22 22 22 22 21 21 21 21 15 15 31 10 10 37\n",
      " 37 37 37 37]\n",
      "\n",
      "0.25785132133267713\n",
      "\n",
      "[ 6  6 17 17 41 42 40 39  3  3 17 17  3  3  3  3 43 33  3  3  3  3  3  3\n",
      "  5  5  2  2  9  9 44  7 26  7 24  8  8  8  8 29 30  1  1  1  4  4 34 28\n",
      "  0  0 45 18 18  0  0  0  0 46 23 11 38 14 19 25  7 36  7 20 12 13 13 13\n",
      " 13 32 16 27  7 35 22 22 22 22 22 22 22 22 21 21 21 21 15 15 31 10 10 37\n",
      " 37 37 37 37]\n",
      "\n",
      "0.24961358031141634\n",
      "\n",
      "[ 6  6 17 17 41 42 40 39  3  3 17 17  3  3  3  3 43 33  3  3  3  3  3  3\n",
      "  5  5  2  2  9  9 44  7 26  7 24  8  8  8  8 29 30  1  1  1  4  4 34 28\n",
      "  0  0 45 18 18  0  0  0 47 46 23 11 38 14 19 25  7 36  7 20 12 13 13 13\n",
      " 13 32 16 27  7 35 22 22 22 22 22 22 22 22 21 21 21 21 15 15 31 10 10 37\n",
      " 37 37 37 37]\n",
      "\n",
      "0.2427050118011802\n",
      "\n",
      "[ 6  6 17 17 41 42 40 39  3  3 17 17  3  3  3  3 43 33  3  3  3  3  3  3\n",
      "  5  5  2  2  9  9 44  7 26  7 24  8  8  8  8 29 30  1  1  1  4  4 34 28\n",
      "  0  0 45 18 18  0  0 48 47 46 23 11 38 14 19 25  7 36  7 20 12 13 13 13\n",
      " 13 32 16 27  7 35 22 22 22 22 22 22 22 22 21 21 21 21 15 15 31 10 10 37\n",
      " 37 37 37 37]\n",
      "\n",
      "0.23714924832423173\n",
      "\n"
     ]
    }
   ],
   "source": [
    "for i in range(2,50):\n",
    "    model = AgglomerativeClustering(affinity='precomputed', n_clusters=i, linkage='complete').fit(similarity)\n",
    "    print(model.labels_)\n",
    "    print()\n",
    "    labels_pred=model.labels_\n",
    "    print(metrics.adjusted_rand_score(labels_true, labels_pred))\n",
    "    print()"
   ]
  },
  {
   "cell_type": "code",
   "execution_count": 120,
   "metadata": {},
   "outputs": [],
   "source": [
    "import scipy.stats\n",
    "\n",
    "def max_value(inputlist):\n",
    "    m=0\n",
    "    for i in inputlist:\n",
    "        m=max(max(i),m)\n",
    "    return m\n",
    "\n",
    "def align_score(str1, str2, m, n):\n",
    "    gap=-10\n",
    "    \n",
    "    l=['A','R','N','D','C','Q','E','G','H','I','L','K','M','F','P','S','T','W','Y','V' ]\n",
    "    \n",
    "    blosum62 = [[4, -1, -2, -2, 0, -1, -1, 0, -2, -1, -1, -1, -1, -2, -1, 1, 0, -3, -2, 0],\n",
    "            [-1, 5, 0, -2, -3, 1, 0, -2, 0, -3, -2, 2, -1, -3, -2, -1, -1, -3, -2, -3],\n",
    "            [-2, 0, 6, 1, -3, 0, 0, 0, 1, -3, -3,  0, -2, -3, -2,  1,  0, -4, -2, -3 ],\n",
    "            [-2, -2,  1,  6, -3,  0,  2, -1, -1, -3, -4, -1, -3, -3, -1,  0, -1, -4, -3, -3],\n",
    "            [ 0, -3, -3, -3,  9, -3, -4, -3, -3, -1, -1, -3, -1, -2, -3, -1, -1, -2, -2, -1],\n",
    "            [-1,  1,  0,  0, -3,  5,  2, -2,  0, -3, -2,  1,  0, -3, -1,  0, -1, -2, -1, -2],\n",
    "            [-1,  0,  0,  2, -4,  2,  5, -2,  0, -3, -3,  1, -2, -3, -1,  0, -1, -3, -2, -2 ],\n",
    "            [ 0, -2,  0, -1, -3, -2, -2,  6, -2, -4, -4, -2, -3, -3, -2,  0, -2, -2, -3, -3],\n",
    "            [-2,  0,  1, -1, -3,  0,  0, -2,  8, -3, -3, -1, -2, -1, -2, -1, -2, -2,  2, -3],\n",
    "            [-1, -3, -3, -3, -1, -3, -3, -4, -3,  4,  2, -3,  1,  0, -3, -2, -1, -3, -1,  3],\n",
    "            [-1, -2, -3, -4, -1, -2, -3, -4, -3,  2,  4, -2,  2,  0, -3, -2, -1, -2, -1,  1],\n",
    "            [-1,  2,  0, -1, -3,  1,  1, -2, -1, -3, -2,  5, -1, -3, -1,  0, -1, -3, -2, -2,],\n",
    "            [-1, -1, -2, -3, -1,  0, -2, -3, -2,  1,  2, -1,  5,  0, -2, -1, -1, -1, -1,  1],\n",
    "            [-2, -3, -3, -3, -2, -3, -3, -3, -1,  0,  0, -3,  0,  6, -4, -2, -2,  1,  3, -1],\n",
    "            [-1, -2, -2, -1, -3, -1, -1, -2, -2, -3, -3, -1, -2, -4,  7, -1, -1, -4, -3, -2],\n",
    "            [1, -1,  1,  0, -1,  0,  0,  0, -1, -2, -2,  0, -1, -2, -1,  4,  1, -3, -2, -2],\n",
    "            [0, -1,  0, -1, -1, -1, -1, -2, -2, -1, -1, -1, -1 ,-2, -1,  1,  5, -2, -2,  0],\n",
    "            [-3, -3, -4, -4, -2, -2, -3, -2, -2, -3, -2, -3, -1,  1, -4, -3, -2, 11,  2, -3],\n",
    "            [-2, -2, -2, -3, -2, -1, -2, -3 , 2, -1, -1, -2, -1,  3, -3, -2, -2,  2,  7, -1],\n",
    "            [0, -3, -3, -3, -1, -2, -2, -3, -3,  3,  1, -2,  1, -1, -2, -2,  0, -3, -1,  4, -3]\n",
    "        ]\n",
    "\n",
    "\n",
    "   \n",
    "    dp = [[0 for x in range(n + 1)] for x in range(m + 1)] \n",
    "  \n",
    " \n",
    "    for i in range(m + 1): \n",
    "        for j in range(n + 1): \n",
    "\n",
    "            if i == 0: \n",
    "                dp[i][j] = 0   \n",
    "            elif j == 0: \n",
    "                dp[i][j] = 0    \n",
    "            elif str1[i-1] == str2[j-1]: \n",
    "                dp[i][j] = max( dp[i-1][j-1]+blosum62[ l.index( str1[i-1] ) ][  l.index( str2[j-1] ) ], dp[i-1][j]+gap, dp[i][j-1]+gap,0 ) \n",
    "  \n",
    "            elif str1[i-1]!=str2[j-1]: \n",
    "                dp[i][j] = max( dp[i-1][j-1]+blosum62[ l.index( str1[i-1] ) ][  l.index( str2[j-1] ) ], dp[i-1][j]+gap, dp[i][j-1]+gap,0 )    \n",
    "    #print(dp)\n",
    "    #print(scipy.stats.zscore(dp,axis=None))\n",
    "    return max_value(scipy.stats.zscore(dp,axis=None)) "
   ]
  },
  {
   "cell_type": "code",
   "execution_count": 121,
   "metadata": {},
   "outputs": [],
   "source": [
    "import numpy as np\n",
    "arr=np.empty([n, n])\n",
    "for i in range(0,n):\n",
    "    for j in range(0,n):\n",
    "        if i==j:\n",
    "            arr[i][j]=0\n",
    "        else:\n",
    "            arr[i][j]=align_score(X.iloc[i][1],X.iloc[j][1],len(X.iloc[i][1]),len(X.iloc[j][1]))"
   ]
  },
  {
   "cell_type": "code",
   "execution_count": 122,
   "metadata": {},
   "outputs": [
    {
     "name": "stdout",
     "output_type": "stream",
     "text": [
      "[2 2 1 1 2 2 2 2 7 7 1 1 7 7 7 7 5 5 7 7 7 7 7 7 4 4 1 1 7 7 7 6 7 6 8 5 5\n",
      " 5 5 3 1 4 4 4 4 4 5 5 4 4 0 3 3 4 4 4 4 4 1 4 5 5 1 5 6 5 6 5 3 0 0 0 0 6\n",
      " 2 4 6 5 0 0 0 0 0 0 0 0 2 2 2 2 0 0 1 6 6 8 8 8 8 8]\n",
      "\n"
     ]
    }
   ],
   "source": [
    "model = AgglomerativeClustering(affinity='precomputed', n_clusters=9, linkage='complete').fit(arr)\n",
    "print(model.labels_)\n",
    "print()"
   ]
  },
  {
   "cell_type": "code",
   "execution_count": 123,
   "metadata": {},
   "outputs": [],
   "source": [
    "labels_pred=model.labels_"
   ]
  },
  {
   "cell_type": "code",
   "execution_count": 124,
   "metadata": {},
   "outputs": [
    {
     "data": {
      "text/plain": [
       "0.29554331773701575"
      ]
     },
     "execution_count": 124,
     "metadata": {},
     "output_type": "execute_result"
    }
   ],
   "source": [
    "metrics.adjusted_rand_score(labels_true, labels_pred)"
   ]
  },
  {
   "cell_type": "code",
   "execution_count": 125,
   "metadata": {},
   "outputs": [
    {
     "name": "stdout",
     "output_type": "stream",
     "text": [
      "[[1.00000000e+00 7.37041223e-10 3.32051584e-18 ... 1.48007253e-23\n",
      "  1.48007253e-23 1.48007253e-23]\n",
      " [7.37041223e-10 1.00000000e+00 3.32051584e-18 ... 1.48007253e-23\n",
      "  1.48007253e-23 1.48007253e-23]\n",
      " [3.32051584e-18 3.32051584e-18 1.00000000e+00 ... 8.38384352e-23\n",
      "  8.38384352e-23 8.38384352e-23]\n",
      " ...\n",
      " [1.48007253e-23 1.48007253e-23 8.38384352e-23 ... 1.00000000e+00\n",
      "  5.45487449e-10 5.45487449e-10]\n",
      " [1.48007253e-23 1.48007253e-23 8.38384352e-23 ... 5.45487449e-10\n",
      "  1.00000000e+00 5.45487449e-10]\n",
      " [1.48007253e-23 1.48007253e-23 8.38384352e-23 ... 5.45487449e-10\n",
      "  5.45487449e-10 1.00000000e+00]]\n"
     ]
    }
   ],
   "source": [
    "beta=10\n",
    "similarity = np.exp(-beta * arr / arr.std())\n",
    "print(similarity)"
   ]
  },
  {
   "cell_type": "code",
   "execution_count": 126,
   "metadata": {},
   "outputs": [
    {
     "name": "stdout",
     "output_type": "stream",
     "text": [
      "[0 1 6 0 2 0 6 8 6 7 3 4 4 0 3 8 5 4 0 1 2 5 0 1 4 1 6 7 2 0 4 3 1 6 4 2 4\n",
      " 0 1 6 0 3 5 2 1 4 2 0 8 7 1 1 5 2 3 6 0 1 6 0 1 0 4 3 0 3 1 0 4 1 0 1 8 5\n",
      " 5 4 4 7 5 4 0 0 7 2 3 6 0 1 4 3 0 3 1 0 1 0 5 0 1 4]\n",
      "\n"
     ]
    }
   ],
   "source": [
    "model = AgglomerativeClustering(affinity='precomputed', n_clusters=9, linkage='complete').fit(similarity)\n",
    "print(model.labels_)\n",
    "print()"
   ]
  },
  {
   "cell_type": "code",
   "execution_count": 127,
   "metadata": {},
   "outputs": [],
   "source": [
    "from sklearn.cluster import SpectralClustering"
   ]
  },
  {
   "cell_type": "code",
   "execution_count": 130,
   "metadata": {},
   "outputs": [
    {
     "name": "stdout",
     "output_type": "stream",
     "text": [
      "[4 4 6 6 1 1 1 1 2 2 6 6 2 2 2 2 0 0 2 2 2 2 2 2 7 7 1 1 6 6 7 6 7 6 7 2 2\n",
      " 2 2 6 2 2 2 2 8 8 5 5 1 1 4 7 7 1 1 1 1 1 3 3 1 1 7 7 2 3 2 3 6 4 4 4 4 1\n",
      " 2 4 2 3 1 1 1 1 1 1 1 1 2 2 2 2 6 6 8 0 0 2 2 2 2 2]\n"
     ]
    }
   ],
   "source": [
    "spectral_model = SpectralClustering(n_clusters = 9, affinity ='precomputed') \n",
    "labels_spec = spectral_model.fit_predict(arr)\n",
    "print(labels_spec)"
   ]
  },
  {
   "cell_type": "code",
   "execution_count": 131,
   "metadata": {},
   "outputs": [],
   "source": [
    "labels_pred=labels_spec"
   ]
  },
  {
   "cell_type": "code",
   "execution_count": 132,
   "metadata": {},
   "outputs": [
    {
     "data": {
      "text/plain": [
       "0.0714997608506648"
      ]
     },
     "execution_count": 132,
     "metadata": {},
     "output_type": "execute_result"
    }
   ],
   "source": [
    "metrics.adjusted_rand_score(labels_true, labels_pred)"
   ]
  },
  {
   "cell_type": "code",
   "execution_count": 133,
   "metadata": {},
   "outputs": [
    {
     "name": "stdout",
     "output_type": "stream",
     "text": [
      "[0 0 4 4 5 5 5 5 0 0 4 4 0 0 0 0 0 0 0 0 0 0 0 0 0 0 1 1 0 0 0 0 0 0 0 6 6\n",
      " 6 6 0 0 0 0 0 0 0 0 0 0 0 0 0 0 0 0 0 0 0 0 0 0 0 0 0 0 0 0 0 0 7 7 7 7 0\n",
      " 0 0 0 0 7 7 7 7 7 7 7 7 0 0 0 0 3 3 0 2 2 8 8 8 8 8]\n"
     ]
    }
   ],
   "source": [
    "spectral_model = SpectralClustering(n_clusters = 9, affinity ='precomputed') \n",
    "labels_spec = spectral_model.fit_predict(similarity)\n",
    "print(labels_spec)"
   ]
  },
  {
   "cell_type": "code",
   "execution_count": 134,
   "metadata": {},
   "outputs": [],
   "source": [
    "labels_pred=labels_spec"
   ]
  },
  {
   "cell_type": "code",
   "execution_count": 135,
   "metadata": {},
   "outputs": [
    {
     "data": {
      "text/plain": [
       "0.03859050377899901"
      ]
     },
     "execution_count": 135,
     "metadata": {},
     "output_type": "execute_result"
    }
   ],
   "source": [
    "metrics.adjusted_rand_score(labels_true, labels_pred)"
   ]
  },
  {
   "cell_type": "code",
   "execution_count": 137,
   "metadata": {},
   "outputs": [],
   "source": [
    "from sklearn.metrics import silhouette_score"
   ]
  },
  {
   "cell_type": "code",
   "execution_count": 138,
   "metadata": {},
   "outputs": [],
   "source": [
    "silhouette_avg = silhouette_score(similarity, labels_spec, metric='precomputed')"
   ]
  },
  {
   "cell_type": "code",
   "execution_count": 139,
   "metadata": {},
   "outputs": [
    {
     "data": {
      "text/plain": [
       "-1.0"
      ]
     },
     "execution_count": 139,
     "metadata": {},
     "output_type": "execute_result"
    }
   ],
   "source": [
    "silhouette_avg"
   ]
  },
  {
   "cell_type": "code",
   "execution_count": 140,
   "metadata": {},
   "outputs": [],
   "source": [
    "silhouette_avg = silhouette_score(arr, labels_spec, metric='precomputed')"
   ]
  },
  {
   "cell_type": "code",
   "execution_count": 141,
   "metadata": {},
   "outputs": [
    {
     "data": {
      "text/plain": [
       "0.1066537771592358"
      ]
     },
     "execution_count": 141,
     "metadata": {},
     "output_type": "execute_result"
    }
   ],
   "source": [
    "silhouette_avg"
   ]
  },
  {
   "cell_type": "code",
   "execution_count": 144,
   "metadata": {},
   "outputs": [
    {
     "data": {
      "text/plain": [
       "array([[ 0.        ,  4.1434645 ,  7.93021616, ..., 10.3579564 ,\n",
       "        10.3579564 , 10.3579564 ],\n",
       "       [ 4.1434645 ,  0.        ,  7.93021616, ..., 10.3579564 ,\n",
       "        10.3579564 , 10.3579564 ],\n",
       "       [ 7.93021616,  7.93021616,  0.        , ..., 10.01624388,\n",
       "        10.01624388, 10.01624388],\n",
       "       ...,\n",
       "       [10.3579564 , 10.3579564 , 10.01624388, ...,  0.        ,\n",
       "         4.20276693,  4.20276693],\n",
       "       [10.3579564 , 10.3579564 , 10.01624388, ...,  4.20276693,\n",
       "         0.        ,  4.20276693],\n",
       "       [10.3579564 , 10.3579564 , 10.01624388, ...,  4.20276693,\n",
       "         4.20276693,  0.        ]])"
      ]
     },
     "execution_count": 144,
     "metadata": {},
     "output_type": "execute_result"
    }
   ],
   "source": [
    "arr"
   ]
  },
  {
   "cell_type": "code",
   "execution_count": 145,
   "metadata": {},
   "outputs": [
    {
     "data": {
      "text/plain": [
       "array([[1.00000000e+00, 7.37041223e-10, 3.32051584e-18, ...,\n",
       "        1.48007253e-23, 1.48007253e-23, 1.48007253e-23],\n",
       "       [7.37041223e-10, 1.00000000e+00, 3.32051584e-18, ...,\n",
       "        1.48007253e-23, 1.48007253e-23, 1.48007253e-23],\n",
       "       [3.32051584e-18, 3.32051584e-18, 1.00000000e+00, ...,\n",
       "        8.38384352e-23, 8.38384352e-23, 8.38384352e-23],\n",
       "       ...,\n",
       "       [1.48007253e-23, 1.48007253e-23, 8.38384352e-23, ...,\n",
       "        1.00000000e+00, 5.45487449e-10, 5.45487449e-10],\n",
       "       [1.48007253e-23, 1.48007253e-23, 8.38384352e-23, ...,\n",
       "        5.45487449e-10, 1.00000000e+00, 5.45487449e-10],\n",
       "       [1.48007253e-23, 1.48007253e-23, 8.38384352e-23, ...,\n",
       "        5.45487449e-10, 5.45487449e-10, 1.00000000e+00]])"
      ]
     },
     "execution_count": 145,
     "metadata": {},
     "output_type": "execute_result"
    }
   ],
   "source": [
    "similarity"
   ]
  },
  {
   "cell_type": "code",
   "execution_count": 146,
   "metadata": {},
   "outputs": [
    {
     "data": {
      "text/plain": [
       "array([[1.00000000e+00, 7.37041223e-10, 3.32051584e-18, ...,\n",
       "        1.48007253e-23, 1.48007253e-23, 1.48007253e-23],\n",
       "       [7.37041223e-10, 1.00000000e+00, 3.32051584e-18, ...,\n",
       "        1.48007253e-23, 1.48007253e-23, 1.48007253e-23],\n",
       "       [3.32051584e-18, 3.32051584e-18, 1.00000000e+00, ...,\n",
       "        8.38384352e-23, 8.38384352e-23, 8.38384352e-23],\n",
       "       ...,\n",
       "       [1.48007253e-23, 1.48007253e-23, 8.38384352e-23, ...,\n",
       "        1.00000000e+00, 5.45487449e-10, 5.45487449e-10],\n",
       "       [1.48007253e-23, 1.48007253e-23, 8.38384352e-23, ...,\n",
       "        5.45487449e-10, 1.00000000e+00, 5.45487449e-10],\n",
       "       [1.48007253e-23, 1.48007253e-23, 8.38384352e-23, ...,\n",
       "        5.45487449e-10, 5.45487449e-10, 1.00000000e+00]])"
      ]
     },
     "execution_count": 146,
     "metadata": {},
     "output_type": "execute_result"
    }
   ],
   "source": [
    "similarity"
   ]
  },
  {
   "cell_type": "code",
   "execution_count": 147,
   "metadata": {},
   "outputs": [
    {
     "data": {
      "text/plain": [
       "array([[ 0.        ,  4.1434645 ,  7.93021616, ..., 10.3579564 ,\n",
       "        10.3579564 , 10.3579564 ],\n",
       "       [ 4.1434645 ,  0.        ,  7.93021616, ..., 10.3579564 ,\n",
       "        10.3579564 , 10.3579564 ],\n",
       "       [ 7.93021616,  7.93021616,  0.        , ..., 10.01624388,\n",
       "        10.01624388, 10.01624388],\n",
       "       ...,\n",
       "       [10.3579564 , 10.3579564 , 10.01624388, ...,  0.        ,\n",
       "         4.20276693,  4.20276693],\n",
       "       [10.3579564 , 10.3579564 , 10.01624388, ...,  4.20276693,\n",
       "         0.        ,  4.20276693],\n",
       "       [10.3579564 , 10.3579564 , 10.01624388, ...,  4.20276693,\n",
       "         4.20276693,  0.        ]])"
      ]
     },
     "execution_count": 147,
     "metadata": {},
     "output_type": "execute_result"
    }
   ],
   "source": [
    "arr"
   ]
  },
  {
   "cell_type": "code",
   "execution_count": 149,
   "metadata": {},
   "outputs": [
    {
     "name": "stdout",
     "output_type": "stream",
     "text": [
      "[5 5 3 3 5 5 5 5 1 1 3 3 1 1 1 1 3 3 1 1 1 1 1 1 3 3 3 3 3 3 1 5 1 5 4 5 5\n",
      " 5 5 0 3 3 3 3 3 3 3 3 3 3 2 0 0 3 3 3 3 3 3 3 3 3 3 1 5 3 5 3 0 6 6 6 6 1\n",
      " 2 3 5 3 6 6 6 6 6 6 6 6 7 7 7 7 8 8 3 1 1 4 4 4 4 4]\n",
      "\n"
     ]
    }
   ],
   "source": [
    "model = AgglomerativeClustering(affinity='precomputed', n_clusters=9, linkage='average').fit(arr)\n",
    "print(model.labels_)\n",
    "print()"
   ]
  },
  {
   "cell_type": "code",
   "execution_count": 150,
   "metadata": {},
   "outputs": [
    {
     "name": "stdout",
     "output_type": "stream",
     "text": [
      "For no of clusters = 5  The average silhouette_score is : 0.12823186453003055\n",
      "For no of clusters = 6  The average silhouette_score is : 0.1580231870886636\n",
      "For no of clusters = 7  The average silhouette_score is : 0.1586990123351981\n",
      "For no of clusters = 8  The average silhouette_score is : 0.1701068947072102\n",
      "For no of clusters = 9  The average silhouette_score is : 0.21793393073301776\n",
      "For no of clusters = 10  The average silhouette_score is : 0.21524300525869788\n",
      "For no of clusters = 11  The average silhouette_score is : 0.2103873887130369\n",
      "For no of clusters = 12  The average silhouette_score is : 0.206422854024188\n",
      "For no of clusters = 13  The average silhouette_score is : 0.22496389352429794\n",
      "For no of clusters = 14  The average silhouette_score is : 0.20789667205653245\n",
      "For no of clusters = 15  The average silhouette_score is : 0.22263473164661562\n",
      "For no of clusters = 16  The average silhouette_score is : 0.2322006011346505\n",
      "For no of clusters = 17  The average silhouette_score is : 0.2433707529903217\n",
      "For no of clusters = 18  The average silhouette_score is : 0.25206960329963474\n",
      "For no of clusters = 19  The average silhouette_score is : 0.26966540747111106\n",
      "For no of clusters = 20  The average silhouette_score is : 0.2975975131927472\n",
      "For no of clusters = 21  The average silhouette_score is : 0.29860223103637396\n",
      "For no of clusters = 22  The average silhouette_score is : 0.29638497339081055\n",
      "For no of clusters = 23  The average silhouette_score is : 0.2954656501709426\n",
      "For no of clusters = 24  The average silhouette_score is : 0.3012226058326071\n"
     ]
    }
   ],
   "source": [
    "no_of_clusters = range(5,25) \n",
    "  \n",
    "for n_clusters in no_of_clusters: \n",
    "  \n",
    "    model = AgglomerativeClustering(affinity='precomputed', n_clusters=n_clusters, linkage='average').fit(arr)\n",
    "    cluster_labels=model.labels_\n",
    "    \n",
    "  \n",
    "    \n",
    "    silhouette_avg = silhouette_score(arr, cluster_labels, metric='precomputed') \n",
    "  \n",
    "    print(\"For no of clusters =\", n_clusters, \n",
    "          \" The average silhouette_score is :\", silhouette_avg)"
   ]
  },
  {
   "cell_type": "code",
   "execution_count": 152,
   "metadata": {},
   "outputs": [],
   "source": [
    "arr_np=np.array(arr)"
   ]
  },
  {
   "cell_type": "code",
   "execution_count": 153,
   "metadata": {},
   "outputs": [],
   "source": [
    "from scipy.spatial.distance import pdist, squareform"
   ]
  },
  {
   "cell_type": "code",
   "execution_count": 166,
   "metadata": {},
   "outputs": [],
   "source": [
    "arr_for_dendrogram=squareform(arr_np,force='tovector',checks=False)"
   ]
  },
  {
   "cell_type": "code",
   "execution_count": 155,
   "metadata": {},
   "outputs": [
    {
     "data": {
      "text/plain": [
       "7.930216164402056"
      ]
     },
     "execution_count": 155,
     "metadata": {},
     "output_type": "execute_result"
    }
   ],
   "source": [
    "arr[1][2]"
   ]
  },
  {
   "cell_type": "code",
   "execution_count": 156,
   "metadata": {},
   "outputs": [
    {
     "data": {
      "text/plain": [
       "7.930216164402055"
      ]
     },
     "execution_count": 156,
     "metadata": {},
     "output_type": "execute_result"
    }
   ],
   "source": [
    "arr[2][1]"
   ]
  },
  {
   "cell_type": "code",
   "execution_count": 159,
   "metadata": {},
   "outputs": [
    {
     "data": {
      "text/plain": [
       "4.172705471182786"
      ]
     },
     "execution_count": 159,
     "metadata": {},
     "output_type": "execute_result"
    }
   ],
   "source": [
    "arr[4][5]"
   ]
  },
  {
   "cell_type": "code",
   "execution_count": 160,
   "metadata": {},
   "outputs": [
    {
     "data": {
      "text/plain": [
       "4.172705471182786"
      ]
     },
     "execution_count": 160,
     "metadata": {},
     "output_type": "execute_result"
    }
   ],
   "source": [
    "arr[5][4]"
   ]
  },
  {
   "cell_type": "code",
   "execution_count": 163,
   "metadata": {},
   "outputs": [],
   "source": [
    "def check_symmetric(a, rtol=1e-05, atol=1e-08):\n",
    "    return np.allclose(a, a.T, rtol=rtol, atol=atol)"
   ]
  },
  {
   "cell_type": "code",
   "execution_count": 164,
   "metadata": {},
   "outputs": [
    {
     "data": {
      "text/plain": [
       "True"
      ]
     },
     "execution_count": 164,
     "metadata": {},
     "output_type": "execute_result"
    }
   ],
   "source": [
    "check_symmetric(arr_np)"
   ]
  },
  {
   "cell_type": "code",
   "execution_count": 167,
   "metadata": {},
   "outputs": [
    {
     "data": {
      "text/plain": [
       "array([4.1434645 , 7.93021616, 7.93021616, ..., 4.20276693, 4.20276693,\n",
       "       4.20276693])"
      ]
     },
     "execution_count": 167,
     "metadata": {},
     "output_type": "execute_result"
    }
   ],
   "source": [
    "arr_for_dendrogram"
   ]
  },
  {
   "cell_type": "code",
   "execution_count": 169,
   "metadata": {},
   "outputs": [
    {
     "data": {
      "image/png": "[encoded data removed]",
      "text/plain": [
       "<Figure size 720x504 with 1 Axes>"
      ]
     },
     "metadata": {
      "needs_background": "light"
     },
     "output_type": "display_data"
    }
   ],
   "source": [
    "import scipy.cluster.hierarchy as shc\n",
    "\n",
    "plt.figure(figsize=(10, 7))\n",
    "plt.title(\"Protein Dendograms\")\n",
    "dend = shc.dendrogram(shc.linkage(arr_for_dendrogram, method='ward'))"
   ]
  },
  {
   "cell_type": "code",
   "execution_count": null,
   "metadata": {},
   "outputs": [],
   "source": []
  }
 ],
 "metadata": {
  "kernelspec": {
   "display_name": "Python 3",
   "language": "python",
   "name": "python3"
  },
  "language_info": {
   "codemirror_mode": {
    "name": "ipython",
    "version": 3
   },
   "file_extension": ".py",
   "mimetype": "text/x-python",
   "name": "python",
   "nbconvert_exporter": "python",
   "pygments_lexer": "ipython3",
   "version": "3.7.1"
  }
 },
 "nbformat": 4,
 "nbformat_minor": 2
}
