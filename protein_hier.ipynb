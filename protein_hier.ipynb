{
 "cells": [
  {
   "cell_type": "code",
   "execution_count": 29,
   "metadata": {},
   "outputs": [],
   "source": [
    "import numpy as np\n",
    "import math\n",
    "from sklearn.cluster.hierarchical import AgglomerativeClustering\n",
    "from sklearn.cluster import SpectralClustering\n",
    "\n",
    "import os  \n",
    "\n",
    "import matplotlib.pyplot as plt\n",
    "import matplotlib as mpl\n",
    "\n",
    "from sklearn.manifold import MDS"
   ]
  },
  {
   "cell_type": "code",
   "execution_count": 30,
   "metadata": {},
   "outputs": [],
   "source": [
    "def word2vec(word):\n",
    "    from collections import Counter\n",
    "    from math import sqrt\n",
    "\n",
    "    cw=Counter(word)\n",
    "    sw=set(cw)\n",
    "    lw=sqrt(sum(c*c for c in cw.values()))\n",
    "\n",
    "    return cw,sw,lw"
   ]
  },
  {
   "cell_type": "code",
   "execution_count": 31,
   "metadata": {},
   "outputs": [],
   "source": [
    "def cosdis(v1,v2):\n",
    "    common=v1[1].intersection(v2[1])\n",
    "    return sum(v1[0][ch]*v2[0][ch] for ch in common)/v1[2]/v2[2]"
   ]
  },
  {
   "cell_type": "code",
   "execution_count": 32,
   "metadata": {},
   "outputs": [],
   "source": [
    "def align_score(str1, str2, m, n):\n",
    "    gap=-10\n",
    "    \n",
    "    l=['A','R','N','D','C','Q','E','G','H','I','L','K','M','F','P','S','T','W','Y','V' ]\n",
    "    \n",
    "    blosum62 = [[4, -1, -2, -2, 0, -1, -1, 0, -2, -1, -1, -1, -1, -2, -1, 1, 0, -3, -2, 0],\n",
    "            [-1, 5, 0, -2, -3, 1, 0, -2, 0, -3, -2, 2, -1, -3, -2, -1, -1, -3, -2, -3],\n",
    "            [-2, 0, 6, 1, -3, 0, 0, 0, 1, -3, -3,  0, -2, -3, -2,  1,  0, -4, -2, -3 ],\n",
    "            [-2, -2,  1,  6, -3,  0,  2, -1, -1, -3, -4, -1, -3, -3, -1,  0, -1, -4, -3, -3],\n",
    "            [ 0, -3, -3, -3,  9, -3, -4, -3, -3, -1, -1, -3, -1, -2, -3, -1, -1, -2, -2, -1],\n",
    "            [-1,  1,  0,  0, -3,  5,  2, -2,  0, -3, -2,  1,  0, -3, -1,  0, -1, -2, -1, -2],\n",
    "            [-1,  0,  0,  2, -4,  2,  5, -2,  0, -3, -3,  1, -2, -3, -1,  0, -1, -3, -2, -2 ],\n",
    "            [ 0, -2,  0, -1, -3, -2, -2,  6, -2, -4, -4, -2, -3, -3, -2,  0, -2, -2, -3, -3],\n",
    "            [-2,  0,  1, -1, -3,  0,  0, -2,  8, -3, -3, -1, -2, -1, -2, -1, -2, -2,  2, -3],\n",
    "            [-1, -3, -3, -3, -1, -3, -3, -4, -3,  4,  2, -3,  1,  0, -3, -2, -1, -3, -1,  3],\n",
    "            [-1, -2, -3, -4, -1, -2, -3, -4, -3,  2,  4, -2,  2,  0, -3, -2, -1, -2, -1,  1],\n",
    "            [-1,  2,  0, -1, -3,  1,  1, -2, -1, -3, -2,  5, -1, -3, -1,  0, -1, -3, -2, -2,],\n",
    "            [-1, -1, -2, -3, -1,  0, -2, -3, -2,  1,  2, -1,  5,  0, -2, -1, -1, -1, -1,  1],\n",
    "            [-2, -3, -3, -3, -2, -3, -3, -3, -1,  0,  0, -3,  0,  6, -4, -2, -2,  1,  3, -1],\n",
    "            [-1, -2, -2, -1, -3, -1, -1, -2, -2, -3, -3, -1, -2, -4,  7, -1, -1, -4, -3, -2],\n",
    "            [1, -1,  1,  0, -1,  0,  0,  0, -1, -2, -2,  0, -1, -2, -1,  4,  1, -3, -2, -2],\n",
    "            [0, -1,  0, -1, -1, -1, -1, -2, -2, -1, -1, -1, -1 ,-2, -1,  1,  5, -2, -2,  0],\n",
    "            [-3, -3, -4, -4, -2, -2, -3, -2, -2, -3, -2, -3, -1,  1, -4, -3, -2, 11,  2, -3],\n",
    "            [-2, -2, -2, -3, -2, -1, -2, -3 , 2, -1, -1, -2, -1,  3, -3, -2, -2,  2,  7, -1],\n",
    "            [0, -3, -3, -3, -1, -2, -2, -3, -3,  3,  1, -2,  1, -1, -2, -2,  0, -3, -1,  4, -3]\n",
    "        ]\n",
    "\n",
    "\n",
    "   \n",
    "    dp = [[0 for x in range(n + 1)] for x in range(m + 1)] \n",
    "  \n",
    " \n",
    "    for i in range(m + 1): \n",
    "        for j in range(n + 1): \n",
    "\n",
    "            if i == 0: \n",
    "                dp[i][j] = j*gap   \n",
    "            elif j == 0: \n",
    "                dp[i][j] = i*gap    \n",
    "            elif str1[i-1] == str2[j-1]: \n",
    "                dp[i][j] = max( dp[i-1][j-1]+blosum62[ l.index( str1[i-1] ) ][  l.index( str2[j-1] ) ], dp[i-1][j]+gap, dp[i][j-1]+gap ) \n",
    "  \n",
    "            elif str1[i-1]!=str2[j-1]: \n",
    "                dp[i][j] = max( dp[i-1][j-1]+blosum62[ l.index( str1[i-1] ) ][  l.index( str2[j-1] ) ], dp[i-1][j]+gap, dp[i][j-1]+gap )    \n",
    "  \n",
    "    #print(dp)\n",
    "    #return dp[m][n] \n",
    "\n",
    "    #row string\n",
    "    row_string=['*']\n",
    "    for ele in str1:\n",
    "        row_string.append(ele)\n",
    "\n",
    "    #column string\n",
    "    col_string=[\"*\"]\n",
    "    for ele in str2:\n",
    "        col_string.append(ele)\n",
    "    \n",
    "    #print(row_string)\n",
    "    #print(col_string)\n",
    "\n",
    "    i,j=m,n\n",
    "    align_str1=''\n",
    "    align_str2=''\n",
    "\n",
    "    while i>0 or j>0:\n",
    "            if dp[i-1][j-1]>=dp[i-1][j] and dp[i-1][j-1]>=dp[i][j-1]:\n",
    "                align_str1=align_str1+row_string[i]\n",
    "                align_str2=align_str2+col_string[j]\n",
    "\n",
    "                i=i-1\n",
    "                j=j-1\n",
    "            \n",
    "            elif dp[i][j-1]>=dp[i-1][j-1] and dp[i][j-1]>=dp[i-1][j]:\n",
    "                align_str2=align_str2+col_string[j]\n",
    "                align_str1=align_str1+'*'\n",
    "\n",
    "                i=i\n",
    "                j=j-1\n",
    "\n",
    "            elif dp[i-1][j]>dp[i-1][j-1] and dp[i-1][j]>dp[i][j-1]:\n",
    "                align_str1=align_str1+row_string[i]\n",
    "                align_str2=align_str2+'*'\n",
    "\n",
    "                i=i-1\n",
    "                j=j\n",
    "\n",
    "            \n",
    "    \n",
    "    str1=align_str1[::-1]\n",
    "    str2=align_str2[::-1]\n",
    "\n",
    "    v_str1=word2vec(str1)\n",
    "    v_str2=word2vec(str2)\n",
    "\n",
    "    return cosdis(v_str1,v_str2)"
   ]
  },
  {
   "cell_type": "code",
   "execution_count": 33,
   "metadata": {},
   "outputs": [],
   "source": [
    "import pandas as pd"
   ]
  },
  {
   "cell_type": "code",
   "execution_count": 34,
   "metadata": {},
   "outputs": [],
   "source": [
    "data=pd.read_csv('D:\\Shruti\\IIT Bombay internship\\datasets_for_practice\\proteins.csv')"
   ]
  },
  {
   "cell_type": "code",
   "execution_count": 35,
   "metadata": {},
   "outputs": [
    {
     "data": {
      "text/html": [
       "<div>\n",
       "<style scoped>\n",
       "    .dataframe tbody tr th:only-of-type {\n",
       "        vertical-align: middle;\n",
       "    }\n",
       "\n",
       "    .dataframe tbody tr th {\n",
       "        vertical-align: top;\n",
       "    }\n",
       "\n",
       "    .dataframe thead th {\n",
       "        text-align: right;\n",
       "    }\n",
       "</style>\n",
       "<table border=\"1\" class=\"dataframe\">\n",
       "  <thead>\n",
       "    <tr style=\"text-align: right;\">\n",
       "      <th></th>\n",
       "      <th>structureId</th>\n",
       "      <th>chainId</th>\n",
       "      <th>sequence</th>\n",
       "      <th>residueCount</th>\n",
       "      <th>macromoleculeType</th>\n",
       "    </tr>\n",
       "  </thead>\n",
       "  <tbody>\n",
       "    <tr>\n",
       "      <th>0</th>\n",
       "      <td>101M</td>\n",
       "      <td>A</td>\n",
       "      <td>MVLSEGEWQLVLHVWAKVEADVAGHGQDILIRLFKSHPETLEKFDR...</td>\n",
       "      <td>154</td>\n",
       "      <td>Protein</td>\n",
       "    </tr>\n",
       "    <tr>\n",
       "      <th>1</th>\n",
       "      <td>102L</td>\n",
       "      <td>A</td>\n",
       "      <td>MNIFEMLRIDEGLRLKIYKDTEGYYTIGIGHLLTKSPSLNAAAKSE...</td>\n",
       "      <td>165</td>\n",
       "      <td>Protein</td>\n",
       "    </tr>\n",
       "    <tr>\n",
       "      <th>2</th>\n",
       "      <td>102M</td>\n",
       "      <td>A</td>\n",
       "      <td>MVLSEGEWQLVLHVWAKVEADVAGHGQDILIRLFKSHPETLEKFDR...</td>\n",
       "      <td>154</td>\n",
       "      <td>Protein</td>\n",
       "    </tr>\n",
       "    <tr>\n",
       "      <th>3</th>\n",
       "      <td>103L</td>\n",
       "      <td>A</td>\n",
       "      <td>MNIFEMLRIDEGLRLKIYKDTEGYYTIGIGHLLTKSPSLNSLDAAK...</td>\n",
       "      <td>167</td>\n",
       "      <td>Protein</td>\n",
       "    </tr>\n",
       "    <tr>\n",
       "      <th>4</th>\n",
       "      <td>103M</td>\n",
       "      <td>A</td>\n",
       "      <td>MVLSEGEWQLVLHVWAKVEADVAGHGQDILIRLFKSHPETLEKFDR...</td>\n",
       "      <td>154</td>\n",
       "      <td>Protein</td>\n",
       "    </tr>\n",
       "  </tbody>\n",
       "</table>\n",
       "</div>"
      ],
      "text/plain": [
       "  structureId chainId                                           sequence  \\\n",
       "0        101M       A  MVLSEGEWQLVLHVWAKVEADVAGHGQDILIRLFKSHPETLEKFDR...   \n",
       "1        102L       A  MNIFEMLRIDEGLRLKIYKDTEGYYTIGIGHLLTKSPSLNAAAKSE...   \n",
       "2        102M       A  MVLSEGEWQLVLHVWAKVEADVAGHGQDILIRLFKSHPETLEKFDR...   \n",
       "3        103L       A  MNIFEMLRIDEGLRLKIYKDTEGYYTIGIGHLLTKSPSLNSLDAAK...   \n",
       "4        103M       A  MVLSEGEWQLVLHVWAKVEADVAGHGQDILIRLFKSHPETLEKFDR...   \n",
       "\n",
       "   residueCount macromoleculeType  \n",
       "0           154           Protein  \n",
       "1           165           Protein  \n",
       "2           154           Protein  \n",
       "3           167           Protein  \n",
       "4           154           Protein  "
      ]
     },
     "execution_count": 35,
     "metadata": {},
     "output_type": "execute_result"
    }
   ],
   "source": [
    "data.head()"
   ]
  },
  {
   "cell_type": "code",
   "execution_count": 36,
   "metadata": {},
   "outputs": [
    {
     "data": {
      "text/plain": [
       "structureId          0\n",
       "chainId              2\n",
       "sequence             3\n",
       "residueCount         0\n",
       "macromoleculeType    0\n",
       "dtype: int64"
      ]
     },
     "execution_count": 36,
     "metadata": {},
     "output_type": "execute_result"
    }
   ],
   "source": [
    "data.isnull().sum()"
   ]
  },
  {
   "cell_type": "code",
   "execution_count": 37,
   "metadata": {},
   "outputs": [
    {
     "data": {
      "text/plain": [
       "structureId          0\n",
       "chainId              0\n",
       "sequence             0\n",
       "residueCount         0\n",
       "macromoleculeType    0\n",
       "dtype: int64"
      ]
     },
     "execution_count": 37,
     "metadata": {},
     "output_type": "execute_result"
    }
   ],
   "source": [
    "data = data[pd.notnull(data['sequence'])]\n",
    "data = data[pd.notnull(data['chainId'])]\n",
    "data.isnull().sum()"
   ]
  },
  {
   "cell_type": "code",
   "execution_count": 38,
   "metadata": {},
   "outputs": [
    {
     "name": "stderr",
     "output_type": "stream",
     "text": [
      "C:\\Users\\dell\\Anaconda3\\lib\\site-packages\\ipykernel_launcher.py:1: UserWarning: This pattern has match groups. To actually get the groups, use str.extract.\n",
      "  \"\"\"Entry point for launching an IPython kernel.\n"
     ]
    }
   ],
   "source": [
    "index_to_drop = data.loc[data['sequence'].str.contains('(^XXXX)+')].index"
   ]
  },
  {
   "cell_type": "code",
   "execution_count": 39,
   "metadata": {},
   "outputs": [
    {
     "data": {
      "text/plain": [
       "(343821, 5)"
      ]
     },
     "execution_count": 39,
     "metadata": {},
     "output_type": "execute_result"
    }
   ],
   "source": [
    "data.drop(index = index_to_drop, inplace = True)\n",
    "data.shape"
   ]
  },
  {
   "cell_type": "code",
   "execution_count": 40,
   "metadata": {},
   "outputs": [],
   "source": [
    "index_to_drop = data.loc[data['sequence'].str.contains('[A-Z]*B[A-Z]*')].index"
   ]
  },
  {
   "cell_type": "code",
   "execution_count": 41,
   "metadata": {},
   "outputs": [
    {
     "data": {
      "text/plain": [
       "(343815, 5)"
      ]
     },
     "execution_count": 41,
     "metadata": {},
     "output_type": "execute_result"
    }
   ],
   "source": [
    "data.drop(index = index_to_drop, inplace = True)\n",
    "data.shape"
   ]
  },
  {
   "cell_type": "code",
   "execution_count": 42,
   "metadata": {},
   "outputs": [],
   "source": [
    "index_to_drop = data.loc[data['sequence'].str.contains('[A-Z]*J[A-Z]*')].index"
   ]
  },
  {
   "cell_type": "code",
   "execution_count": 43,
   "metadata": {},
   "outputs": [
    {
     "data": {
      "text/plain": [
       "(343815, 5)"
      ]
     },
     "execution_count": 43,
     "metadata": {},
     "output_type": "execute_result"
    }
   ],
   "source": [
    "data.drop(index = index_to_drop, inplace = True)\n",
    "data.shape"
   ]
  },
  {
   "cell_type": "code",
   "execution_count": 44,
   "metadata": {},
   "outputs": [],
   "source": [
    "index_to_drop = data.loc[data['sequence'].str.contains('[A-Z]*U[A-Z]*')].index"
   ]
  },
  {
   "cell_type": "code",
   "execution_count": 45,
   "metadata": {},
   "outputs": [
    {
     "data": {
      "text/plain": [
       "(343757, 5)"
      ]
     },
     "execution_count": 45,
     "metadata": {},
     "output_type": "execute_result"
    }
   ],
   "source": [
    "data.drop(index = index_to_drop, inplace = True)\n",
    "data.shape"
   ]
  },
  {
   "cell_type": "code",
   "execution_count": 46,
   "metadata": {},
   "outputs": [],
   "source": [
    "index_to_drop = data.loc[data['sequence'].str.contains('[A-Z]*X[A-Z]*')].index"
   ]
  },
  {
   "cell_type": "code",
   "execution_count": 47,
   "metadata": {},
   "outputs": [
    {
     "data": {
      "text/plain": [
       "(337313, 5)"
      ]
     },
     "execution_count": 47,
     "metadata": {},
     "output_type": "execute_result"
    }
   ],
   "source": [
    "data.drop(index = index_to_drop, inplace = True)\n",
    "data.shape"
   ]
  },
  {
   "cell_type": "code",
   "execution_count": 48,
   "metadata": {},
   "outputs": [],
   "source": [
    "index_to_drop = data.loc[data['sequence'].str.contains('[A-Z]*Z[A-Z]*')].index"
   ]
  },
  {
   "cell_type": "code",
   "execution_count": 49,
   "metadata": {},
   "outputs": [
    {
     "data": {
      "text/plain": [
       "(337309, 5)"
      ]
     },
     "execution_count": 49,
     "metadata": {},
     "output_type": "execute_result"
    }
   ],
   "source": [
    "data.drop(index = index_to_drop, inplace = True)\n",
    "data.shape"
   ]
  },
  {
   "cell_type": "code",
   "execution_count": 50,
   "metadata": {},
   "outputs": [],
   "source": [
    "index_to_drop = data.loc[data['sequence'].str.contains('[A-Z]*O[A-Z]*')].index"
   ]
  },
  {
   "cell_type": "code",
   "execution_count": 51,
   "metadata": {},
   "outputs": [
    {
     "data": {
      "text/plain": [
       "(337307, 5)"
      ]
     },
     "execution_count": 51,
     "metadata": {},
     "output_type": "execute_result"
    }
   ],
   "source": [
    "data.drop(index = index_to_drop, inplace = True)\n",
    "data.shape"
   ]
  },
  {
   "cell_type": "code",
   "execution_count": 52,
   "metadata": {},
   "outputs": [],
   "source": [
    "df_prot=data[data['residueCount']>20]"
   ]
  },
  {
   "cell_type": "code",
   "execution_count": 53,
   "metadata": {},
   "outputs": [
    {
     "data": {
      "text/plain": [
       "(336782, 5)"
      ]
     },
     "execution_count": 53,
     "metadata": {},
     "output_type": "execute_result"
    }
   ],
   "source": [
    "df_prot.shape"
   ]
  },
  {
   "cell_type": "code",
   "execution_count": 54,
   "metadata": {},
   "outputs": [],
   "source": [
    "df_prot_fin=df_prot[0:100]"
   ]
  },
  {
   "cell_type": "code",
   "execution_count": 55,
   "metadata": {},
   "outputs": [],
   "source": [
    "n=len(df_prot_fin)"
   ]
  },
  {
   "cell_type": "code",
   "execution_count": 56,
   "metadata": {},
   "outputs": [
    {
     "data": {
      "text/plain": [
       "100"
      ]
     },
     "execution_count": 56,
     "metadata": {},
     "output_type": "execute_result"
    }
   ],
   "source": [
    "n"
   ]
  },
  {
   "cell_type": "code",
   "execution_count": 58,
   "metadata": {},
   "outputs": [
    {
     "name": "stdout",
     "output_type": "stream",
     "text": [
      "  structureId chainId                                           sequence  \\\n",
      "0        101M       A  MVLSEGEWQLVLHVWAKVEADVAGHGQDILIRLFKSHPETLEKFDR...   \n",
      "1        102L       A  MNIFEMLRIDEGLRLKIYKDTEGYYTIGIGHLLTKSPSLNAAAKSE...   \n",
      "2        102M       A  MVLSEGEWQLVLHVWAKVEADVAGHGQDILIRLFKSHPETLEKFDR...   \n",
      "3        103L       A  MNIFEMLRIDEGLRLKIYKDTEGYYTIGIGHLLTKSPSLNSLDAAK...   \n",
      "4        103M       A  MVLSEGEWQLVLHVWAKVEADVAGHGQDILIRLFKSHPETLEKFDR...   \n",
      "\n",
      "   residueCount macromoleculeType  \n",
      "0           154           Protein  \n",
      "1           165           Protein  \n",
      "2           154           Protein  \n",
      "3           167           Protein  \n",
      "4           154           Protein  \n"
     ]
    }
   ],
   "source": [
    "arr=np.empty([n,n])\n",
    "print(df_prot_fin.head(5))"
   ]
  },
  {
   "cell_type": "code",
   "execution_count": 59,
   "metadata": {},
   "outputs": [],
   "source": [
    "#Similarity calculated after finding the global alignment and then calculating cosine similarity b/w strings\n",
    "for i in range(0,n):\n",
    "    for j in range(0,n):\n",
    "        if i==j:\n",
    "            arr[i][j]=0\n",
    "        else:\n",
    "            if i<j:\n",
    "                a=i\n",
    "                b=j\n",
    "            else:\n",
    "                a=j\n",
    "                b=i\n",
    "            arr[i][j]=align_score(df_prot_fin.iloc[a][2],df_prot_fin.iloc[b][2],len(df_prot_fin.iloc[a][2]),len(df_prot_fin.iloc[b][2]))\n",
    "            "
   ]
  },
  {
   "cell_type": "code",
   "execution_count": 60,
   "metadata": {},
   "outputs": [
    {
     "data": {
      "text/plain": [
       "array([[0.        , 0.87046632, 0.99889335, ..., 0.86556525, 0.86766118,\n",
       "        0.44637099],\n",
       "       [0.87046632, 0.        , 0.8774119 , ..., 0.99889074, 0.99889151,\n",
       "        0.55499218],\n",
       "       [0.99889335, 0.8774119 , 0.        , ..., 0.87086412, 0.87288947,\n",
       "        0.44570963],\n",
       "       ...,\n",
       "       [0.86556525, 0.99889074, 0.87086412, ..., 0.        , 0.99944552,\n",
       "        0.54793068],\n",
       "       [0.86766118, 0.99889151, 0.87288947, ..., 0.99944552, 0.        ,\n",
       "        0.55203207],\n",
       "       [0.44637099, 0.55499218, 0.44570963, ..., 0.54793068, 0.55203207,\n",
       "        0.        ]])"
      ]
     },
     "execution_count": 60,
     "metadata": {},
     "output_type": "execute_result"
    }
   ],
   "source": [
    "arr"
   ]
  },
  {
   "cell_type": "code",
   "execution_count": 61,
   "metadata": {},
   "outputs": [
    {
     "data": {
      "text/plain": [
       "(100, 100)"
      ]
     },
     "execution_count": 61,
     "metadata": {},
     "output_type": "execute_result"
    }
   ],
   "source": [
    "arr.shape"
   ]
  },
  {
   "cell_type": "code",
   "execution_count": 62,
   "metadata": {},
   "outputs": [
    {
     "data": {
      "text/plain": [
       "MDS(dissimilarity='euclidean', eps=0.001, max_iter=300, metric=True,\n",
       "  n_components=2, n_init=4, n_jobs=None, random_state=None, verbose=0)"
      ]
     },
     "execution_count": 62,
     "metadata": {},
     "output_type": "execute_result"
    }
   ],
   "source": [
    "MDS()"
   ]
  },
  {
   "cell_type": "code",
   "execution_count": 63,
   "metadata": {},
   "outputs": [],
   "source": [
    "mds = MDS(n_components=2, dissimilarity=\"precomputed\", random_state=1)\n",
    "\n",
    "pos = mds.fit_transform(arr)  # shape (n_components, n_samples)\n",
    "\n",
    "xs, ys = pos[:, 0], pos[:, 1]"
   ]
  },
  {
   "cell_type": "code",
   "execution_count": 64,
   "metadata": {},
   "outputs": [
    {
     "name": "stdout",
     "output_type": "stream",
     "text": [
      "[3 0 1 2 0 4 0 2 1 4 1 0 3 3 4 0 3 1 0 4 0 1 0 1 1 1 2 2 1 2 0 4 4 3 2 4 4\n",
      " 2 4 1 3 4 3 0 0 1 2 3 1 3 3 0 4 4 3 0 3 1 4 3 1 0 1 4 0 0 4 0 4 2 1 0 3 3\n",
      " 4 0 0 4 2 3 1 1 2 4 1 1 0 1 2 3 2 1 0 1 4 3 3 1 2 1]\n",
      "\n"
     ]
    }
   ],
   "source": [
    "model = AgglomerativeClustering(affinity='precomputed', n_clusters=5, linkage='complete').fit(arr)\n",
    "print(model.labels_)\n",
    "print()"
   ]
  },
  {
   "cell_type": "code",
   "execution_count": 65,
   "metadata": {},
   "outputs": [],
   "source": [
    "cluster_colors = {0: '#1b9e77', 1: '#d95f02', 2: '#7570b3', 3: '#e7298a', 4: '#66a61e'}"
   ]
  },
  {
   "cell_type": "code",
   "execution_count": 66,
   "metadata": {},
   "outputs": [],
   "source": [
    "cluster_names = {0: 'G1', \n",
    "                 1: 'G2', \n",
    "                 2: 'G3', \n",
    "                 3: 'G4', \n",
    "                 4: 'G5'}"
   ]
  },
  {
   "cell_type": "code",
   "execution_count": 67,
   "metadata": {},
   "outputs": [
    {
     "data": {
      "image/png": "[encoded data removed]",
      "text/plain": [
       "<Figure size 1224x648 with 1 Axes>"
      ]
     },
     "metadata": {},
     "output_type": "display_data"
    }
   ],
   "source": [
    "df=pd.DataFrame(dict(x=xs, y=ys, label=model.labels_))\n",
    "\n",
    "groups = df.groupby('label')\n",
    "# set up plot\n",
    "fig, ax = plt.subplots(figsize=(17, 9)) # set size\n",
    "ax.margins(0.05) # Optional, just adds 5% padding to the autoscaling\n",
    "\n",
    "#iterate through groups to layer the plot\n",
    "#note that I use the cluster_name and cluster_color dicts with the 'name' lookup to return the appropriate color/label\n",
    "for name, group in groups:\n",
    "    ax.plot(group.x, group.y, marker='o', linestyle='', ms=12, \n",
    "            label=cluster_names[name], color=cluster_colors[name], \n",
    "            mec='none')\n",
    "    ax.set_aspect('auto')\n",
    "    ax.tick_params(\\\n",
    "        axis= 'x',          # changes apply to the x-axis\n",
    "        which='both',      # both major and minor ticks are affected\n",
    "        bottom=False,      # ticks along the bottom edge are off\n",
    "        top=False,         # ticks along the top edge are off\n",
    "        labelbottom=False)\n",
    "    ax.tick_params(\\\n",
    "        axis= 'y',         # changes apply to the y-axis\n",
    "        which='both',      # both major and minor ticks are affected\n",
    "        left=False,      # ticks along the bottom edge are off\n",
    "        top=False,         # ticks along the top edge are off\n",
    "        labelleft=False)\n",
    "    \n",
    "ax.legend(numpoints=1)  #show legend with only 1 point\n",
    "\n",
    "plt.show()\n",
    "\n"
   ]
  },
  {
   "cell_type": "code",
   "execution_count": 68,
   "metadata": {},
   "outputs": [
    {
     "data": {
      "text/plain": [
       "(100, 100)"
      ]
     },
     "execution_count": 68,
     "metadata": {},
     "output_type": "execute_result"
    }
   ],
   "source": [
    "arr.shape"
   ]
  },
  {
   "cell_type": "code",
   "execution_count": 69,
   "metadata": {
    "scrolled": true
   },
   "outputs": [
    {
     "name": "stdout",
     "output_type": "stream",
     "text": [
      "[3 0 3 0 3 0 0 3 3 3 0 3 0 3 0 3 4 4 0 3 0 3 0 3 0 0 0 4 4 0 0 2 2 1 1 1 1\n",
      " 4 4 0 0 0 0 0 0 0 0 0 2 2 4 4 4 4 4 4 4 0 0 1 1 1 1 0 0 0 0 4 4 2 2 2 2 0\n",
      " 0 0 0 0 0 0 0 0 3 0 4 4 0 0 0 0 0 0 0 0 0 0 0 0 0 4]\n"
     ]
    }
   ],
   "source": [
    "spectral_model = SpectralClustering(n_clusters = 5, affinity ='precomputed') \n",
    "labels_spec = spectral_model.fit_predict(arr)\n",
    "print(labels_spec)"
   ]
  },
  {
   "cell_type": "code",
   "execution_count": 70,
   "metadata": {},
   "outputs": [
    {
     "data": {
      "image/png": "[encoded data removed]",
      "text/plain": [
       "<Figure size 1224x648 with 1 Axes>"
      ]
     },
     "metadata": {},
     "output_type": "display_data"
    }
   ],
   "source": [
    "df=pd.DataFrame(dict(x=xs, y=ys,label= labels_spec))\n",
    "\n",
    "groups = df.groupby('label')\n",
    "\n",
    "\n",
    "# set up plot\n",
    "fig, ax = plt.subplots(figsize=(17, 9)) # set size\n",
    "ax.margins(0.05) # Optional, just adds 5% padding to the autoscaling\n",
    "\n",
    "#iterate through groups to layer the plot\n",
    "#note that I use the cluster_name and cluster_color dicts with the 'name' lookup to return the appropriate color/label\n",
    "for name, group in groups:\n",
    "    ax.plot(group.x, group.y, marker='o', linestyle='', ms=12, \n",
    "            label=cluster_names[name], color=cluster_colors[name], \n",
    "            mec='none')\n",
    "    ax.set_aspect('auto')\n",
    "    ax.tick_params(\\\n",
    "        axis= 'x',          # changes apply to the x-axis\n",
    "        which='both',      # both major and minor ticks are affected\n",
    "        bottom=False,      # ticks along the bottom edge are off\n",
    "        top=False,         # ticks along the top edge are off\n",
    "        labelbottom=False)\n",
    "    ax.tick_params(\\\n",
    "        axis= 'y',         # changes apply to the y-axis\n",
    "        which='both',      # both major and minor ticks are affected\n",
    "        left=False,      # ticks along the bottom edge are off\n",
    "        top=False,         # ticks along the top edge are off\n",
    "        labelleft=False)\n",
    "    \n",
    "ax.legend(numpoints=1)  #show legend with only 1 point\n",
    "\n",
    "plt.show()"
   ]
  },
  {
   "cell_type": "code",
   "execution_count": 71,
   "metadata": {},
   "outputs": [],
   "source": [
    "from sklearn.metrics import silhouette_score"
   ]
  },
  {
   "cell_type": "code",
   "execution_count": 72,
   "metadata": {},
   "outputs": [],
   "source": [
    "sil_sc=silhouette_score(arr,model.labels_ , metric=\"precomputed\")"
   ]
  },
  {
   "cell_type": "code",
   "execution_count": 73,
   "metadata": {},
   "outputs": [
    {
     "data": {
      "text/plain": [
       "-0.03837912774047069"
      ]
     },
     "execution_count": 73,
     "metadata": {},
     "output_type": "execute_result"
    }
   ],
   "source": [
    "sil_sc"
   ]
  },
  {
   "cell_type": "code",
   "execution_count": 74,
   "metadata": {},
   "outputs": [
    {
     "name": "stdout",
     "output_type": "stream",
     "text": [
      "For no of clusters = 5  The average silhouette_score is : -0.03837912774047069\n",
      "For no of clusters = 6  The average silhouette_score is : -0.0457347095963709\n",
      "For no of clusters = 7  The average silhouette_score is : -0.04050532691897977\n",
      "For no of clusters = 8  The average silhouette_score is : -0.03345439852087929\n",
      "For no of clusters = 9  The average silhouette_score is : -0.039402030498936265\n",
      "For no of clusters = 10  The average silhouette_score is : -0.044751226422089854\n",
      "For no of clusters = 11  The average silhouette_score is : -0.0445441229016345\n",
      "For no of clusters = 12  The average silhouette_score is : -0.050377157339961585\n",
      "For no of clusters = 13  The average silhouette_score is : -0.05064015724599479\n",
      "For no of clusters = 14  The average silhouette_score is : -0.07151971943821007\n",
      "For no of clusters = 15  The average silhouette_score is : -0.06874185696355777\n",
      "For no of clusters = 16  The average silhouette_score is : -0.06803359619304673\n",
      "For no of clusters = 17  The average silhouette_score is : -0.06811974603479508\n",
      "For no of clusters = 18  The average silhouette_score is : -0.06264321487166533\n",
      "For no of clusters = 19  The average silhouette_score is : -0.07770569395733472\n",
      "For no of clusters = 20  The average silhouette_score is : -0.07462331471879258\n",
      "For no of clusters = 21  The average silhouette_score is : -0.0731704844628598\n",
      "For no of clusters = 22  The average silhouette_score is : -0.06950908880462774\n",
      "For no of clusters = 23  The average silhouette_score is : -0.06807229434972896\n",
      "For no of clusters = 24  The average silhouette_score is : -0.06179144968017747\n"
     ]
    }
   ],
   "source": [
    "no_of_clusters = range(5,25) \n",
    "  \n",
    "for n_clusters in no_of_clusters: \n",
    "  \n",
    "    model = AgglomerativeClustering(affinity='precomputed', n_clusters=n_clusters, linkage='complete').fit(arr)\n",
    "    cluster_labels=model.labels_\n",
    "    \n",
    "  \n",
    "    \n",
    "    silhouette_avg = silhouette_score(arr, cluster_labels, metric='precomputed') \n",
    "  \n",
    "    print(\"For no of clusters =\", n_clusters, \n",
    "          \" The average silhouette_score is :\", silhouette_avg)"
   ]
  },
  {
   "cell_type": "code",
   "execution_count": 151,
   "metadata": {},
   "outputs": [],
   "source": [
    "sil_sc=silhouette_score(arr,labels_spec , metric=\"precomputed\")"
   ]
  },
  {
   "cell_type": "code",
   "execution_count": 152,
   "metadata": {},
   "outputs": [
    {
     "data": {
      "text/plain": [
       "-0.6502752474607093"
      ]
     },
     "execution_count": 152,
     "metadata": {},
     "output_type": "execute_result"
    }
   ],
   "source": [
    "sil_sc"
   ]
  },
  {
   "cell_type": "markdown",
   "metadata": {},
   "source": [
    "no_of_clusters = range(5,25) \n",
    "  \n",
    "for n_clusters in no_of_clusters: \n",
    "  \n",
    "    spectral_model = SpectralClustering(n_clusters = 5, affinity ='precomputed') \n",
    "    labels_spec = spectral_model.fit_predict(arr)\n",
    "    \n",
    "  \n",
    "    \n",
    "    silhouette_avg = silhouette_score(arr, labels_spec, metric='precomputed') \n",
    "  \n",
    "    print(\"For no of clusters =\", n_clusters, \n",
    "          \" The average silhouette_score is :\", silhouette_avg)"
   ]
  },
  {
   "cell_type": "code",
   "execution_count": 76,
   "metadata": {},
   "outputs": [],
   "source": [
    "def align_score(str1, str2, m, n):\n",
    "    \"\"\"Calculate global alignment score using BLOSUM62 and use the last value\"\"\"\n",
    "    gap=-10\n",
    "    \n",
    "    l=['A','R','N','D','C','Q','E','G','H','I','L','K','M','F','P','S','T','W','Y','V' ]\n",
    "    \n",
    "    blosum62 = [[4, -1, -2, -2, 0, -1, -1, 0, -2, -1, -1, -1, -1, -2, -1, 1, 0, -3, -2, 0],\n",
    "            [-1, 5, 0, -2, -3, 1, 0, -2, 0, -3, -2, 2, -1, -3, -2, -1, -1, -3, -2, -3],\n",
    "            [-2, 0, 6, 1, -3, 0, 0, 0, 1, -3, -3,  0, -2, -3, -2,  1,  0, -4, -2, -3 ],\n",
    "            [-2, -2,  1,  6, -3,  0,  2, -1, -1, -3, -4, -1, -3, -3, -1,  0, -1, -4, -3, -3],\n",
    "            [ 0, -3, -3, -3,  9, -3, -4, -3, -3, -1, -1, -3, -1, -2, -3, -1, -1, -2, -2, -1],\n",
    "            [-1,  1,  0,  0, -3,  5,  2, -2,  0, -3, -2,  1,  0, -3, -1,  0, -1, -2, -1, -2],\n",
    "            [-1,  0,  0,  2, -4,  2,  5, -2,  0, -3, -3,  1, -2, -3, -1,  0, -1, -3, -2, -2 ],\n",
    "            [ 0, -2,  0, -1, -3, -2, -2,  6, -2, -4, -4, -2, -3, -3, -2,  0, -2, -2, -3, -3],\n",
    "            [-2,  0,  1, -1, -3,  0,  0, -2,  8, -3, -3, -1, -2, -1, -2, -1, -2, -2,  2, -3],\n",
    "            [-1, -3, -3, -3, -1, -3, -3, -4, -3,  4,  2, -3,  1,  0, -3, -2, -1, -3, -1,  3],\n",
    "            [-1, -2, -3, -4, -1, -2, -3, -4, -3,  2,  4, -2,  2,  0, -3, -2, -1, -2, -1,  1],\n",
    "            [-1,  2,  0, -1, -3,  1,  1, -2, -1, -3, -2,  5, -1, -3, -1,  0, -1, -3, -2, -2,],\n",
    "            [-1, -1, -2, -3, -1,  0, -2, -3, -2,  1,  2, -1,  5,  0, -2, -1, -1, -1, -1,  1],\n",
    "            [-2, -3, -3, -3, -2, -3, -3, -3, -1,  0,  0, -3,  0,  6, -4, -2, -2,  1,  3, -1],\n",
    "            [-1, -2, -2, -1, -3, -1, -1, -2, -2, -3, -3, -1, -2, -4,  7, -1, -1, -4, -3, -2],\n",
    "            [1, -1,  1,  0, -1,  0,  0,  0, -1, -2, -2,  0, -1, -2, -1,  4,  1, -3, -2, -2],\n",
    "            [0, -1,  0, -1, -1, -1, -1, -2, -2, -1, -1, -1, -1 ,-2, -1,  1,  5, -2, -2,  0],\n",
    "            [-3, -3, -4, -4, -2, -2, -3, -2, -2, -3, -2, -3, -1,  1, -4, -3, -2, 11,  2, -3],\n",
    "            [-2, -2, -2, -3, -2, -1, -2, -3 , 2, -1, -1, -2, -1,  3, -3, -2, -2,  2,  7, -1],\n",
    "            [0, -3, -3, -3, -1, -2, -2, -3, -3,  3,  1, -2,  1, -1, -2, -2,  0, -3, -1,  4, -3]\n",
    "        ]\n",
    "\n",
    "\n",
    "   \n",
    "    dp = [[0 for x in range(n + 1)] for x in range(m + 1)] \n",
    "  \n",
    " \n",
    "    for i in range(m + 1): \n",
    "        for j in range(n + 1): \n",
    "\n",
    "            if i == 0: \n",
    "                dp[i][j] = j*gap   \n",
    "            elif j == 0: \n",
    "                dp[i][j] = i*gap    \n",
    "            elif str1[i-1] == str2[j-1]: \n",
    "                dp[i][j] = max( dp[i-1][j-1]+blosum62[ l.index( str1[i-1] ) ][  l.index( str2[j-1] ) ], dp[i-1][j]+gap, dp[i][j-1]+gap ) \n",
    "  \n",
    "            elif str1[i-1]!=str2[j-1]: \n",
    "                dp[i][j] = max( dp[i-1][j-1]+blosum62[ l.index( str1[i-1] ) ][  l.index( str2[j-1] ) ], dp[i-1][j]+gap, dp[i][j-1]+gap )    \n",
    "  \n",
    "    return dp[m][n] "
   ]
  },
  {
   "cell_type": "code",
   "execution_count": 77,
   "metadata": {},
   "outputs": [],
   "source": [
    "#Similarity calculated after finding the global alignment score\n",
    "for i in range(0,n):\n",
    "    for j in range(0,n):\n",
    "        if i==j:\n",
    "            arr[i][j]=0\n",
    "        else:\n",
    "            if i<j:\n",
    "                a=i\n",
    "                b=j\n",
    "            else:\n",
    "                a=j\n",
    "                b=i\n",
    "            arr[i][j]=align_score(df_prot_fin.iloc[a][2],df_prot_fin.iloc[b][2],len(df_prot_fin.iloc[a][2]),len(df_prot_fin.iloc[b][2]))\n",
    "            "
   ]
  },
  {
   "cell_type": "code",
   "execution_count": 78,
   "metadata": {},
   "outputs": [
    {
     "name": "stdout",
     "output_type": "stream",
     "text": [
      "[0 0 4 4 0 3 1 1 2 1 2 3 1 0 0 0 0 0 4 1 0 0 0 1 0 1 3 0 1 0 2 4 0 1 2 3 4\n",
      " 0 2 0 2 0 0 1 1 0 0 1 1 2 1 4 2 1 2 1 4 4 3 0 2 0 1 0 0 0 1 0 1 0 1 2 3 4\n",
      " 0 1 0 2 0 0 1 1 0 3 3 0 0 0 1 0 1 0 0 1 0 0 1 2 4 3]\n",
      "\n"
     ]
    }
   ],
   "source": [
    "model = AgglomerativeClustering(affinity='precomputed', n_clusters=5, linkage='complete').fit(arr)\n",
    "print(model.labels_)\n",
    "print()"
   ]
  },
  {
   "cell_type": "code",
   "execution_count": 80,
   "metadata": {},
   "outputs": [
    {
     "data": {
      "text/plain": [
       "array([[   0., -106.,  782., ..., -101., -101., -457.],\n",
       "       [-106.,    0., -109., ...,  821.,  818., -388.],\n",
       "       [ 782., -109.,    0., ..., -102., -102., -458.],\n",
       "       ...,\n",
       "       [-101.,  821., -102., ...,    0.,  830., -396.],\n",
       "       [-101.,  818., -102., ...,  830.,    0., -393.],\n",
       "       [-457., -388., -458., ..., -396., -393.,    0.]])"
      ]
     },
     "execution_count": 80,
     "metadata": {},
     "output_type": "execute_result"
    }
   ],
   "source": [
    "arr"
   ]
  },
  {
   "cell_type": "code",
   "execution_count": 81,
   "metadata": {},
   "outputs": [
    {
     "name": "stdout",
     "output_type": "stream",
     "text": [
      "[[1.00000000e+00 3.47517770e+00 1.02098324e-04 ... 3.27687015e+00\n",
      "  3.27687015e+00 2.14944056e+02]\n",
      " [3.47517770e+00 1.00000000e+00 3.59987721e+00 ... 6.45624346e-05\n",
      "  6.68791230e-05 9.55388531e+01]\n",
      " [1.02098324e-04 3.59987721e+00 1.00000000e+00 ... 3.31560503e+00\n",
      "  3.31560503e+00 2.17484844e+02]\n",
      " ...\n",
      " [3.27687015e+00 6.45624346e-05 3.31560503e+00 ... 1.00000000e+00\n",
      "  5.80828460e-05 1.04956292e+02]\n",
      " [3.27687015e+00 6.68791230e-05 3.31560503e+00 ... 5.80828460e-05\n",
      "  1.00000000e+00 1.01320613e+02]\n",
      " [2.14944056e+02 9.55388531e+01 2.17484844e+02 ... 1.04956292e+02\n",
      "  1.01320613e+02 1.00000000e+00]]\n"
     ]
    }
   ],
   "source": [
    "beta=10\n",
    "similarity = np.exp(-beta * arr / arr.std())\n",
    "print(similarity)"
   ]
  },
  {
   "cell_type": "code",
   "execution_count": 82,
   "metadata": {},
   "outputs": [
    {
     "name": "stdout",
     "output_type": "stream",
     "text": [
      "[1 1 1 1 1 1 1 1 1 1 1 1 1 1 1 1 4 4 1 1 1 1 1 1 1 1 1 0 0 1 1 0 0 1 1 1 1\n",
      " 4 4 1 1 1 1 1 1 1 1 1 0 0 0 4 4 4 4 4 4 1 1 1 1 1 1 1 1 1 1 4 4 3 3 3 3 1\n",
      " 1 1 1 1 1 1 1 1 2 1 4 4 1 1 1 1 1 1 1 1 1 1 1 1 1 4]\n",
      "\n"
     ]
    }
   ],
   "source": [
    "model = AgglomerativeClustering(affinity='precomputed', n_clusters=5, linkage='average').fit(similarity)\n",
    "print(model.labels_)\n",
    "print()"
   ]
  },
  {
   "cell_type": "code",
   "execution_count": 83,
   "metadata": {},
   "outputs": [
    {
     "name": "stdout",
     "output_type": "stream",
     "text": [
      "For no of clusters = 5  The average silhouette_score is : 0.1204903859546943\n",
      "For no of clusters = 6  The average silhouette_score is : 0.11313855998958404\n",
      "For no of clusters = 7  The average silhouette_score is : 0.10569432629754377\n",
      "For no of clusters = 8  The average silhouette_score is : 0.09856050080964542\n",
      "For no of clusters = 9  The average silhouette_score is : 0.09124921483953345\n",
      "For no of clusters = 10  The average silhouette_score is : 0.08312197624236345\n",
      "For no of clusters = 11  The average silhouette_score is : 0.07496750100327265\n",
      "For no of clusters = 12  The average silhouette_score is : 0.06645873465350834\n",
      "For no of clusters = 13  The average silhouette_score is : 0.058607905829169145\n",
      "For no of clusters = 14  The average silhouette_score is : 0.0496032180463828\n",
      "For no of clusters = 15  The average silhouette_score is : 0.04034976816190234\n",
      "For no of clusters = 16  The average silhouette_score is : 0.03144433504916753\n",
      "For no of clusters = 17  The average silhouette_score is : 0.021902674440454874\n",
      "For no of clusters = 18  The average silhouette_score is : 0.015364116881083592\n",
      "For no of clusters = 19  The average silhouette_score is : 0.008577445117730377\n",
      "For no of clusters = 20  The average silhouette_score is : -0.0015600303496588488\n",
      "For no of clusters = 21  The average silhouette_score is : -0.011406742180423382\n",
      "For no of clusters = 22  The average silhouette_score is : -0.022180030143397072\n",
      "For no of clusters = 23  The average silhouette_score is : -0.03323338470290873\n",
      "For no of clusters = 24  The average silhouette_score is : -0.044387936325653035\n"
     ]
    }
   ],
   "source": [
    "no_of_clusters = range(5,25) \n",
    "  \n",
    "for n_clusters in no_of_clusters: \n",
    "  \n",
    "    model = AgglomerativeClustering(affinity='precomputed', n_clusters=n_clusters, linkage='average').fit(arr)\n",
    "    cluster_labels=model.labels_\n",
    "    \n",
    "  \n",
    "    \n",
    "    silhouette_avg = silhouette_score(arr, cluster_labels, metric='precomputed') \n",
    "  \n",
    "    print(\"For no of clusters =\", n_clusters, \n",
    "          \" The average silhouette_score is :\", silhouette_avg)"
   ]
  },
  {
   "cell_type": "code",
   "execution_count": 84,
   "metadata": {},
   "outputs": [
    {
     "name": "stdout",
     "output_type": "stream",
     "text": [
      "For no of clusters = 5  The average silhouette_score is : -83.51185750468292\n",
      "For no of clusters = 6  The average silhouette_score is : -16.189663982386463\n",
      "For no of clusters = 7  The average silhouette_score is : -8.12964903799786\n",
      "For no of clusters = 8  The average silhouette_score is : -8.17746588193318\n",
      "For no of clusters = 9  The average silhouette_score is : -7.5246585942846185\n",
      "For no of clusters = 10  The average silhouette_score is : -8.853015355842027\n",
      "For no of clusters = 11  The average silhouette_score is : -3.9071606704979147\n",
      "For no of clusters = 12  The average silhouette_score is : -4.142040641070795\n",
      "For no of clusters = 13  The average silhouette_score is : -3.5757603673981344\n",
      "For no of clusters = 14  The average silhouette_score is : -3.425805089154027\n",
      "For no of clusters = 15  The average silhouette_score is : -3.378787755364249\n",
      "For no of clusters = 16  The average silhouette_score is : -3.330945493459487\n",
      "For no of clusters = 17  The average silhouette_score is : -3.283103231554725\n",
      "For no of clusters = 18  The average silhouette_score is : -3.1874187077452008\n",
      "For no of clusters = 19  The average silhouette_score is : -3.0942368895633825\n",
      "For no of clusters = 20  The average silhouette_score is : -3.0050480783745717\n",
      "For no of clusters = 21  The average silhouette_score is : -3.0027217457643656\n",
      "For no of clusters = 22  The average silhouette_score is : -3.0016493826222628\n",
      "For no of clusters = 23  The average silhouette_score is : -2.9636953486776396\n",
      "For no of clusters = 24  The average silhouette_score is : -2.9264506427441823\n"
     ]
    }
   ],
   "source": [
    "no_of_clusters = range(5,25) \n",
    "  \n",
    "for n_clusters in no_of_clusters: \n",
    "  \n",
    "    model = AgglomerativeClustering(affinity='precomputed', n_clusters=n_clusters, linkage='average').fit(similarity)\n",
    "    cluster_labels=model.labels_\n",
    "    \n",
    "  \n",
    "    \n",
    "    silhouette_avg = silhouette_score(arr, cluster_labels, metric='precomputed') \n",
    "  \n",
    "    print(\"For no of clusters =\", n_clusters, \n",
    "          \" The average silhouette_score is :\", silhouette_avg)"
   ]
  },
  {
   "cell_type": "code",
   "execution_count": 87,
   "metadata": {},
   "outputs": [
    {
     "name": "stdout",
     "output_type": "stream",
     "text": [
      "For no of clusters = 5  The average silhouette_score is : -1.510831107046333\n",
      "For no of clusters = 6  The average silhouette_score is : -1.7704241675213692\n",
      "For no of clusters = 7  The average silhouette_score is : -1.0651034256989638\n",
      "For no of clusters = 8  The average silhouette_score is : -1.0424019654724659\n",
      "For no of clusters = 9  The average silhouette_score is : -0.08629474402857977\n",
      "For no of clusters = 10  The average silhouette_score is : -1.046555648857498\n",
      "For no of clusters = 11  The average silhouette_score is : -2.7015362670054333\n"
     ]
    },
    {
     "ename": "LinAlgError",
     "evalue": "9-th leading minor of the array is not positive definite",
     "output_type": "error",
     "traceback": [
      "\u001b[1;31m---------------------------------------------------------------------------\u001b[0m",
      "\u001b[1;31mLinAlgError\u001b[0m                               Traceback (most recent call last)",
      "\u001b[1;32m<ipython-input-87-835f101fed7a>\u001b[0m in \u001b[0;36m<module>\u001b[1;34m\u001b[0m\n\u001b[0;32m      4\u001b[0m \u001b[1;33m\u001b[0m\u001b[0m\n\u001b[0;32m      5\u001b[0m     \u001b[0mspectral_model\u001b[0m \u001b[1;33m=\u001b[0m \u001b[0mSpectralClustering\u001b[0m\u001b[1;33m(\u001b[0m\u001b[0mn_clusters\u001b[0m \u001b[1;33m=\u001b[0m \u001b[0mn_clusters\u001b[0m\u001b[1;33m,\u001b[0m \u001b[0maffinity\u001b[0m \u001b[1;33m=\u001b[0m\u001b[1;34m'precomputed'\u001b[0m\u001b[1;33m)\u001b[0m\u001b[1;33m\u001b[0m\u001b[1;33m\u001b[0m\u001b[0m\n\u001b[1;32m----> 6\u001b[1;33m     \u001b[0mlabels_spec\u001b[0m \u001b[1;33m=\u001b[0m \u001b[0mspectral_model\u001b[0m\u001b[1;33m.\u001b[0m\u001b[0mfit_predict\u001b[0m\u001b[1;33m(\u001b[0m\u001b[0msimilarity\u001b[0m\u001b[1;33m)\u001b[0m\u001b[1;33m\u001b[0m\u001b[1;33m\u001b[0m\u001b[0m\n\u001b[0m\u001b[0;32m      7\u001b[0m \u001b[1;33m\u001b[0m\u001b[0m\n\u001b[0;32m      8\u001b[0m \u001b[1;33m\u001b[0m\u001b[0m\n",
      "\u001b[1;32m~\\Anaconda3\\lib\\site-packages\\sklearn\\base.py\u001b[0m in \u001b[0;36mfit_predict\u001b[1;34m(self, X, y)\u001b[0m\n\u001b[0;32m    353\u001b[0m         \u001b[1;31m# non-optimized default implementation; override when a better\u001b[0m\u001b[1;33m\u001b[0m\u001b[1;33m\u001b[0m\u001b[1;33m\u001b[0m\u001b[0m\n\u001b[0;32m    354\u001b[0m         \u001b[1;31m# method is possible for a given clustering algorithm\u001b[0m\u001b[1;33m\u001b[0m\u001b[1;33m\u001b[0m\u001b[1;33m\u001b[0m\u001b[0m\n\u001b[1;32m--> 355\u001b[1;33m         \u001b[0mself\u001b[0m\u001b[1;33m.\u001b[0m\u001b[0mfit\u001b[0m\u001b[1;33m(\u001b[0m\u001b[0mX\u001b[0m\u001b[1;33m)\u001b[0m\u001b[1;33m\u001b[0m\u001b[1;33m\u001b[0m\u001b[0m\n\u001b[0m\u001b[0;32m    356\u001b[0m         \u001b[1;32mreturn\u001b[0m \u001b[0mself\u001b[0m\u001b[1;33m.\u001b[0m\u001b[0mlabels_\u001b[0m\u001b[1;33m\u001b[0m\u001b[1;33m\u001b[0m\u001b[0m\n\u001b[0;32m    357\u001b[0m \u001b[1;33m\u001b[0m\u001b[0m\n",
      "\u001b[1;32m~\\Anaconda3\\lib\\site-packages\\sklearn\\cluster\\spectral.py\u001b[0m in \u001b[0;36mfit\u001b[1;34m(self, X, y)\u001b[0m\n\u001b[0;32m    491\u001b[0m                                            \u001b[0mn_init\u001b[0m\u001b[1;33m=\u001b[0m\u001b[0mself\u001b[0m\u001b[1;33m.\u001b[0m\u001b[0mn_init\u001b[0m\u001b[1;33m,\u001b[0m\u001b[1;33m\u001b[0m\u001b[1;33m\u001b[0m\u001b[0m\n\u001b[0;32m    492\u001b[0m                                            \u001b[0meigen_tol\u001b[0m\u001b[1;33m=\u001b[0m\u001b[0mself\u001b[0m\u001b[1;33m.\u001b[0m\u001b[0meigen_tol\u001b[0m\u001b[1;33m,\u001b[0m\u001b[1;33m\u001b[0m\u001b[1;33m\u001b[0m\u001b[0m\n\u001b[1;32m--> 493\u001b[1;33m                                            assign_labels=self.assign_labels)\n\u001b[0m\u001b[0;32m    494\u001b[0m         \u001b[1;32mreturn\u001b[0m \u001b[0mself\u001b[0m\u001b[1;33m\u001b[0m\u001b[1;33m\u001b[0m\u001b[0m\n\u001b[0;32m    495\u001b[0m \u001b[1;33m\u001b[0m\u001b[0m\n",
      "\u001b[1;32m~\\Anaconda3\\lib\\site-packages\\sklearn\\cluster\\spectral.py\u001b[0m in \u001b[0;36mspectral_clustering\u001b[1;34m(affinity, n_clusters, n_components, eigen_solver, random_state, n_init, eigen_tol, assign_labels)\u001b[0m\n\u001b[0;32m    262\u001b[0m                               \u001b[0meigen_solver\u001b[0m\u001b[1;33m=\u001b[0m\u001b[0meigen_solver\u001b[0m\u001b[1;33m,\u001b[0m\u001b[1;33m\u001b[0m\u001b[1;33m\u001b[0m\u001b[0m\n\u001b[0;32m    263\u001b[0m                               \u001b[0mrandom_state\u001b[0m\u001b[1;33m=\u001b[0m\u001b[0mrandom_state\u001b[0m\u001b[1;33m,\u001b[0m\u001b[1;33m\u001b[0m\u001b[1;33m\u001b[0m\u001b[0m\n\u001b[1;32m--> 264\u001b[1;33m                               eigen_tol=eigen_tol, drop_first=False)\n\u001b[0m\u001b[0;32m    265\u001b[0m \u001b[1;33m\u001b[0m\u001b[0m\n\u001b[0;32m    266\u001b[0m     \u001b[1;32mif\u001b[0m \u001b[0massign_labels\u001b[0m \u001b[1;33m==\u001b[0m \u001b[1;34m'kmeans'\u001b[0m\u001b[1;33m:\u001b[0m\u001b[1;33m\u001b[0m\u001b[1;33m\u001b[0m\u001b[0m\n",
      "\u001b[1;32m~\\Anaconda3\\lib\\site-packages\\sklearn\\manifold\\spectral_embedding_.py\u001b[0m in \u001b[0;36mspectral_embedding\u001b[1;34m(adjacency, n_components, eigen_solver, random_state, eigen_tol, norm_laplacian, drop_first)\u001b[0m\n\u001b[0;32m    324\u001b[0m             \u001b[0mX\u001b[0m\u001b[1;33m[\u001b[0m\u001b[1;33m:\u001b[0m\u001b[1;33m,\u001b[0m \u001b[1;36m0\u001b[0m\u001b[1;33m]\u001b[0m \u001b[1;33m=\u001b[0m \u001b[0mdd\u001b[0m\u001b[1;33m.\u001b[0m\u001b[0mravel\u001b[0m\u001b[1;33m(\u001b[0m\u001b[1;33m)\u001b[0m\u001b[1;33m\u001b[0m\u001b[1;33m\u001b[0m\u001b[0m\n\u001b[0;32m    325\u001b[0m             lambdas, diffusion_map = lobpcg(laplacian, X, tol=1e-15,\n\u001b[1;32m--> 326\u001b[1;33m                                             largest=False, maxiter=2000)\n\u001b[0m\u001b[0;32m    327\u001b[0m             \u001b[0membedding\u001b[0m \u001b[1;33m=\u001b[0m \u001b[0mdiffusion_map\u001b[0m\u001b[1;33m.\u001b[0m\u001b[0mT\u001b[0m\u001b[1;33m[\u001b[0m\u001b[1;33m:\u001b[0m\u001b[0mn_components\u001b[0m\u001b[1;33m]\u001b[0m\u001b[1;33m\u001b[0m\u001b[1;33m\u001b[0m\u001b[0m\n\u001b[0;32m    328\u001b[0m             \u001b[1;32mif\u001b[0m \u001b[0mnorm_laplacian\u001b[0m\u001b[1;33m:\u001b[0m\u001b[1;33m\u001b[0m\u001b[1;33m\u001b[0m\u001b[0m\n",
      "\u001b[1;32m~\\Anaconda3\\lib\\site-packages\\scipy\\sparse\\linalg\\eigen\\lobpcg\\lobpcg.py\u001b[0m in \u001b[0;36mlobpcg\u001b[1;34m(A, X, B, M, Y, tol, maxiter, largest, verbosityLevel, retLambdaHistory, retResidualNormsHistory)\u001b[0m\n\u001b[0;32m    448\u001b[0m         \u001b[1;32mif\u001b[0m \u001b[0miterationNumber\u001b[0m \u001b[1;33m>\u001b[0m \u001b[1;36m0\u001b[0m\u001b[1;33m:\u001b[0m\u001b[1;33m\u001b[0m\u001b[1;33m\u001b[0m\u001b[0m\n\u001b[0;32m    449\u001b[0m             aux = _b_orthonormalize(B, activeBlockVectorP,\n\u001b[1;32m--> 450\u001b[1;33m                                     activeBlockVectorBP, retInvR=True)\n\u001b[0m\u001b[0;32m    451\u001b[0m             \u001b[0mactiveBlockVectorP\u001b[0m\u001b[1;33m,\u001b[0m \u001b[0mactiveBlockVectorBP\u001b[0m\u001b[1;33m,\u001b[0m \u001b[0minvR\u001b[0m \u001b[1;33m=\u001b[0m \u001b[0maux\u001b[0m\u001b[1;33m\u001b[0m\u001b[1;33m\u001b[0m\u001b[0m\n\u001b[0;32m    452\u001b[0m             \u001b[0mactiveBlockVectorAP\u001b[0m \u001b[1;33m=\u001b[0m \u001b[0mnp\u001b[0m\u001b[1;33m.\u001b[0m\u001b[0mdot\u001b[0m\u001b[1;33m(\u001b[0m\u001b[0mactiveBlockVectorAP\u001b[0m\u001b[1;33m,\u001b[0m \u001b[0minvR\u001b[0m\u001b[1;33m)\u001b[0m\u001b[1;33m\u001b[0m\u001b[1;33m\u001b[0m\u001b[0m\n",
      "\u001b[1;32m~\\Anaconda3\\lib\\site-packages\\scipy\\sparse\\linalg\\eigen\\lobpcg\\lobpcg.py\u001b[0m in \u001b[0;36m_b_orthonormalize\u001b[1;34m(B, blockVectorV, blockVectorBV, retInvR)\u001b[0m\n\u001b[0;32m     94\u001b[0m             \u001b[0mblockVectorBV\u001b[0m \u001b[1;33m=\u001b[0m \u001b[0mblockVectorV\u001b[0m  \u001b[1;31m# Shared data!!!\u001b[0m\u001b[1;33m\u001b[0m\u001b[1;33m\u001b[0m\u001b[0m\n\u001b[0;32m     95\u001b[0m     \u001b[0mgramVBV\u001b[0m \u001b[1;33m=\u001b[0m \u001b[0mnp\u001b[0m\u001b[1;33m.\u001b[0m\u001b[0mdot\u001b[0m\u001b[1;33m(\u001b[0m\u001b[0mblockVectorV\u001b[0m\u001b[1;33m.\u001b[0m\u001b[0mT\u001b[0m\u001b[1;33m.\u001b[0m\u001b[0mconj\u001b[0m\u001b[1;33m(\u001b[0m\u001b[1;33m)\u001b[0m\u001b[1;33m,\u001b[0m \u001b[0mblockVectorBV\u001b[0m\u001b[1;33m)\u001b[0m\u001b[1;33m\u001b[0m\u001b[1;33m\u001b[0m\u001b[0m\n\u001b[1;32m---> 96\u001b[1;33m     \u001b[0mgramVBV\u001b[0m \u001b[1;33m=\u001b[0m \u001b[0mcholesky\u001b[0m\u001b[1;33m(\u001b[0m\u001b[0mgramVBV\u001b[0m\u001b[1;33m)\u001b[0m\u001b[1;33m\u001b[0m\u001b[1;33m\u001b[0m\u001b[0m\n\u001b[0m\u001b[0;32m     97\u001b[0m     \u001b[0mgramVBV\u001b[0m \u001b[1;33m=\u001b[0m \u001b[0minv\u001b[0m\u001b[1;33m(\u001b[0m\u001b[0mgramVBV\u001b[0m\u001b[1;33m,\u001b[0m \u001b[0moverwrite_a\u001b[0m\u001b[1;33m=\u001b[0m\u001b[1;32mTrue\u001b[0m\u001b[1;33m)\u001b[0m\u001b[1;33m\u001b[0m\u001b[1;33m\u001b[0m\u001b[0m\n\u001b[0;32m     98\u001b[0m     \u001b[1;31m# gramVBV is now R^{-1}.\u001b[0m\u001b[1;33m\u001b[0m\u001b[1;33m\u001b[0m\u001b[1;33m\u001b[0m\u001b[0m\n",
      "\u001b[1;32m~\\Anaconda3\\lib\\site-packages\\scipy\\linalg\\decomp_cholesky.py\u001b[0m in \u001b[0;36mcholesky\u001b[1;34m(a, lower, overwrite_a, check_finite)\u001b[0m\n\u001b[0;32m     89\u001b[0m     \"\"\"\n\u001b[0;32m     90\u001b[0m     c, lower = _cholesky(a, lower=lower, overwrite_a=overwrite_a, clean=True,\n\u001b[1;32m---> 91\u001b[1;33m                          check_finite=check_finite)\n\u001b[0m\u001b[0;32m     92\u001b[0m     \u001b[1;32mreturn\u001b[0m \u001b[0mc\u001b[0m\u001b[1;33m\u001b[0m\u001b[1;33m\u001b[0m\u001b[0m\n\u001b[0;32m     93\u001b[0m \u001b[1;33m\u001b[0m\u001b[0m\n",
      "\u001b[1;32m~\\Anaconda3\\lib\\site-packages\\scipy\\linalg\\decomp_cholesky.py\u001b[0m in \u001b[0;36m_cholesky\u001b[1;34m(a, lower, overwrite_a, clean, check_finite)\u001b[0m\n\u001b[0;32m     38\u001b[0m     \u001b[1;32mif\u001b[0m \u001b[0minfo\u001b[0m \u001b[1;33m>\u001b[0m \u001b[1;36m0\u001b[0m\u001b[1;33m:\u001b[0m\u001b[1;33m\u001b[0m\u001b[1;33m\u001b[0m\u001b[0m\n\u001b[0;32m     39\u001b[0m         raise LinAlgError(\"%d-th leading minor of the array is not positive \"\n\u001b[1;32m---> 40\u001b[1;33m                           \"definite\" % info)\n\u001b[0m\u001b[0;32m     41\u001b[0m     \u001b[1;32mif\u001b[0m \u001b[0minfo\u001b[0m \u001b[1;33m<\u001b[0m \u001b[1;36m0\u001b[0m\u001b[1;33m:\u001b[0m\u001b[1;33m\u001b[0m\u001b[1;33m\u001b[0m\u001b[0m\n\u001b[0;32m     42\u001b[0m         raise ValueError('LAPACK reported an illegal value in {}-th argument'\n",
      "\u001b[1;31mLinAlgError\u001b[0m: 9-th leading minor of the array is not positive definite"
     ]
    }
   ],
   "source": [
    "no_of_clusters = range(5,25) \n",
    "  \n",
    "for n_clusters in no_of_clusters: \n",
    "  \n",
    "    spectral_model = SpectralClustering(n_clusters = n_clusters, affinity ='precomputed') \n",
    "    labels_spec = spectral_model.fit_predict(similarity)\n",
    "    \n",
    "  \n",
    "    \n",
    "    silhouette_avg = silhouette_score(arr, labels_spec, metric='precomputed') \n",
    "  \n",
    "    print(\"For no of clusters =\", n_clusters, \n",
    "          \" The average silhouette_score is :\", silhouette_avg)"
   ]
  },
  {
   "cell_type": "markdown",
   "metadata": {},
   "source": [
    "Now use The local alignment"
   ]
  },
  {
   "cell_type": "code",
   "execution_count": 88,
   "metadata": {},
   "outputs": [],
   "source": [
    "import scipy.stats\n",
    "\n",
    "def max_value(inputlist):\n",
    "    m=0\n",
    "    for i in inputlist:\n",
    "        m=max(max(i),m)\n",
    "    return m\n",
    "\n",
    "def align_score(str1, str2, m, n):\n",
    "    \"\"\"Finding the local alignment score and then calculating the Z score\"\"\"\n",
    "    gap=-10\n",
    "    \n",
    "    l=['A','R','N','D','C','Q','E','G','H','I','L','K','M','F','P','S','T','W','Y','V' ]\n",
    "    \n",
    "    blosum62 = [[4, -1, -2, -2, 0, -1, -1, 0, -2, -1, -1, -1, -1, -2, -1, 1, 0, -3, -2, 0],\n",
    "            [-1, 5, 0, -2, -3, 1, 0, -2, 0, -3, -2, 2, -1, -3, -2, -1, -1, -3, -2, -3],\n",
    "            [-2, 0, 6, 1, -3, 0, 0, 0, 1, -3, -3,  0, -2, -3, -2,  1,  0, -4, -2, -3 ],\n",
    "            [-2, -2,  1,  6, -3,  0,  2, -1, -1, -3, -4, -1, -3, -3, -1,  0, -1, -4, -3, -3],\n",
    "            [ 0, -3, -3, -3,  9, -3, -4, -3, -3, -1, -1, -3, -1, -2, -3, -1, -1, -2, -2, -1],\n",
    "            [-1,  1,  0,  0, -3,  5,  2, -2,  0, -3, -2,  1,  0, -3, -1,  0, -1, -2, -1, -2],\n",
    "            [-1,  0,  0,  2, -4,  2,  5, -2,  0, -3, -3,  1, -2, -3, -1,  0, -1, -3, -2, -2 ],\n",
    "            [ 0, -2,  0, -1, -3, -2, -2,  6, -2, -4, -4, -2, -3, -3, -2,  0, -2, -2, -3, -3],\n",
    "            [-2,  0,  1, -1, -3,  0,  0, -2,  8, -3, -3, -1, -2, -1, -2, -1, -2, -2,  2, -3],\n",
    "            [-1, -3, -3, -3, -1, -3, -3, -4, -3,  4,  2, -3,  1,  0, -3, -2, -1, -3, -1,  3],\n",
    "            [-1, -2, -3, -4, -1, -2, -3, -4, -3,  2,  4, -2,  2,  0, -3, -2, -1, -2, -1,  1],\n",
    "            [-1,  2,  0, -1, -3,  1,  1, -2, -1, -3, -2,  5, -1, -3, -1,  0, -1, -3, -2, -2,],\n",
    "            [-1, -1, -2, -3, -1,  0, -2, -3, -2,  1,  2, -1,  5,  0, -2, -1, -1, -1, -1,  1],\n",
    "            [-2, -3, -3, -3, -2, -3, -3, -3, -1,  0,  0, -3,  0,  6, -4, -2, -2,  1,  3, -1],\n",
    "            [-1, -2, -2, -1, -3, -1, -1, -2, -2, -3, -3, -1, -2, -4,  7, -1, -1, -4, -3, -2],\n",
    "            [1, -1,  1,  0, -1,  0,  0,  0, -1, -2, -2,  0, -1, -2, -1,  4,  1, -3, -2, -2],\n",
    "            [0, -1,  0, -1, -1, -1, -1, -2, -2, -1, -1, -1, -1 ,-2, -1,  1,  5, -2, -2,  0],\n",
    "            [-3, -3, -4, -4, -2, -2, -3, -2, -2, -3, -2, -3, -1,  1, -4, -3, -2, 11,  2, -3],\n",
    "            [-2, -2, -2, -3, -2, -1, -2, -3 , 2, -1, -1, -2, -1,  3, -3, -2, -2,  2,  7, -1],\n",
    "            [0, -3, -3, -3, -1, -2, -2, -3, -3,  3,  1, -2,  1, -1, -2, -2,  0, -3, -1,  4, -3]\n",
    "        ]\n",
    "\n",
    "\n",
    "   \n",
    "    dp = [[0 for x in range(n + 1)] for x in range(m + 1)] \n",
    "  \n",
    " \n",
    "    for i in range(m + 1): \n",
    "        for j in range(n + 1): \n",
    "\n",
    "            if i == 0: \n",
    "                dp[i][j] = 0   \n",
    "            elif j == 0: \n",
    "                dp[i][j] = 0    \n",
    "            elif str1[i-1] == str2[j-1]: \n",
    "                dp[i][j] = max( dp[i-1][j-1]+blosum62[ l.index( str1[i-1] ) ][  l.index( str2[j-1] ) ], dp[i-1][j]+gap, dp[i][j-1]+gap,0 ) \n",
    "  \n",
    "            elif str1[i-1]!=str2[j-1]: \n",
    "                dp[i][j] = max( dp[i-1][j-1]+blosum62[ l.index( str1[i-1] ) ][  l.index( str2[j-1] ) ], dp[i-1][j]+gap, dp[i][j-1]+gap,0 )    \n",
    "    #print(dp)\n",
    "    #print(scipy.stats.zscore(dp,axis=None))\n",
    "    return max_value(scipy.stats.zscore(dp,axis=None)) "
   ]
  },
  {
   "cell_type": "code",
   "execution_count": 89,
   "metadata": {},
   "outputs": [],
   "source": [
    "#Similarity calculated after finding the local alignment normalized score\n",
    "for i in range(0,n):\n",
    "    for j in range(0,n):\n",
    "        if i==j:\n",
    "            arr[i][j]=0\n",
    "        else:\n",
    "            if i<j:\n",
    "                a=i\n",
    "                b=j\n",
    "            else:\n",
    "                a=j\n",
    "                b=i\n",
    "            arr[i][j]=align_score(df_prot_fin.iloc[a][2],df_prot_fin.iloc[b][2],len(df_prot_fin.iloc[a][2]),len(df_prot_fin.iloc[b][2]))\n",
    "            "
   ]
  },
  {
   "cell_type": "code",
   "execution_count": 91,
   "metadata": {},
   "outputs": [
    {
     "name": "stdout",
     "output_type": "stream",
     "text": [
      "For no of clusters = 5  The average silhouette_score is : 0.2702839190922901\n",
      "For no of clusters = 6  The average silhouette_score is : 0.3572859430170579\n",
      "For no of clusters = 7  The average silhouette_score is : 0.35666544451830845\n",
      "For no of clusters = 8  The average silhouette_score is : 0.35742354550518274\n",
      "For no of clusters = 9  The average silhouette_score is : 0.3805423539749556\n",
      "For no of clusters = 10  The average silhouette_score is : 0.3960287247293733\n",
      "For no of clusters = 11  The average silhouette_score is : 0.39198424375665775\n",
      "For no of clusters = 12  The average silhouette_score is : 0.4035399291159083\n",
      "For no of clusters = 13  The average silhouette_score is : 0.40450823331680397\n",
      "For no of clusters = 14  The average silhouette_score is : 0.39065982313972486\n",
      "For no of clusters = 15  The average silhouette_score is : 0.3821225474806416\n",
      "For no of clusters = 16  The average silhouette_score is : 0.1978057736116009\n",
      "For no of clusters = 17  The average silhouette_score is : 0.12646840043398652\n",
      "For no of clusters = 18  The average silhouette_score is : 0.12515880520346376\n",
      "For no of clusters = 19  The average silhouette_score is : 0.12361110789380435\n",
      "For no of clusters = 20  The average silhouette_score is : 0.11798833695357226\n",
      "For no of clusters = 21  The average silhouette_score is : 0.11782373175358499\n",
      "For no of clusters = 22  The average silhouette_score is : 0.11725167336734352\n",
      "For no of clusters = 23  The average silhouette_score is : 0.11700416223133141\n",
      "For no of clusters = 24  The average silhouette_score is : 0.1154675684251003\n"
     ]
    }
   ],
   "source": [
    "no_of_clusters = range(5,25) \n",
    "  \n",
    "for n_clusters in no_of_clusters: \n",
    "  \n",
    "    model = AgglomerativeClustering(affinity='precomputed', n_clusters=n_clusters, linkage='complete').fit(arr)\n",
    "    cluster_labels=model.labels_\n",
    "    \n",
    "  \n",
    "    \n",
    "    silhouette_avg = silhouette_score(arr, cluster_labels, metric='precomputed') \n",
    "  \n",
    "    print(\"For no of clusters =\", n_clusters, \n",
    "          \" The average silhouette_score is :\", silhouette_avg)"
   ]
  },
  {
   "cell_type": "code",
   "execution_count": 93,
   "metadata": {},
   "outputs": [
    {
     "name": "stdout",
     "output_type": "stream",
     "text": [
      "For no of clusters = 5  The average silhouette_score is : 0.2913400756535742\n",
      "For no of clusters = 6  The average silhouette_score is : 0.28265654184723554\n",
      "For no of clusters = 7  The average silhouette_score is : 0.2972297151225642\n",
      "For no of clusters = 8  The average silhouette_score is : 0.3183349810409675\n",
      "For no of clusters = 9  The average silhouette_score is : 0.322248941782312\n",
      "For no of clusters = 10  The average silhouette_score is : 0.4060656095146078\n",
      "For no of clusters = 11  The average silhouette_score is : 0.41450791938066706\n",
      "For no of clusters = 12  The average silhouette_score is : 0.4119708528604191\n",
      "For no of clusters = 13  The average silhouette_score is : 0.41212296281443195\n",
      "For no of clusters = 14  The average silhouette_score is : 0.32116741529762194\n",
      "For no of clusters = 15  The average silhouette_score is : 0.31529141024835405\n",
      "For no of clusters = 16  The average silhouette_score is : 0.1350551829130038\n",
      "For no of clusters = 17  The average silhouette_score is : 0.13024113544418803\n",
      "For no of clusters = 18  The average silhouette_score is : 0.12541105667322047\n",
      "For no of clusters = 19  The average silhouette_score is : 0.12361110789380435\n",
      "For no of clusters = 20  The average silhouette_score is : 0.11798833695357226\n",
      "For no of clusters = 21  The average silhouette_score is : 0.11823347276757117\n",
      "For no of clusters = 22  The average silhouette_score is : 0.11746886821695274\n",
      "For no of clusters = 23  The average silhouette_score is : 0.11700416223133141\n",
      "For no of clusters = 24  The average silhouette_score is : 0.11587340586197749\n"
     ]
    }
   ],
   "source": [
    "no_of_clusters = range(5,25) \n",
    "  \n",
    "for n_clusters in no_of_clusters: \n",
    "  \n",
    "    model = AgglomerativeClustering(affinity='precomputed', n_clusters=n_clusters, linkage='average').fit(arr)\n",
    "    cluster_labels=model.labels_\n",
    "    \n",
    "  \n",
    "    \n",
    "    silhouette_avg = silhouette_score(arr, cluster_labels, metric='precomputed') \n",
    "  \n",
    "    print(\"For no of clusters =\", n_clusters, \n",
    "          \" The average silhouette_score is :\", silhouette_avg)"
   ]
  },
  {
   "cell_type": "code",
   "execution_count": 95,
   "metadata": {},
   "outputs": [
    {
     "name": "stdout",
     "output_type": "stream",
     "text": [
      "For no of clusters = 5  The average silhouette_score is : -0.19304181349906266\n",
      "For no of clusters = 6  The average silhouette_score is : -0.22892443933984258\n",
      "For no of clusters = 7  The average silhouette_score is : -0.23448073355524607\n",
      "For no of clusters = 8  The average silhouette_score is : -0.2142436185185734\n",
      "For no of clusters = 9  The average silhouette_score is : -0.20977478128261773\n",
      "For no of clusters = 10  The average silhouette_score is : -0.21803487476085257\n",
      "For no of clusters = 11  The average silhouette_score is : -0.09771463302908603\n",
      "For no of clusters = 12  The average silhouette_score is : -0.18517192835854623\n",
      "For no of clusters = 13  The average silhouette_score is : -0.18511198709918417\n",
      "For no of clusters = 14  The average silhouette_score is : -0.18351132267507733\n",
      "For no of clusters = 15  The average silhouette_score is : -0.18953946084328013\n",
      "For no of clusters = 16  The average silhouette_score is : -0.17628873558171468\n",
      "For no of clusters = 17  The average silhouette_score is : -0.2651188158993604\n",
      "For no of clusters = 18  The average silhouette_score is : -0.19128417958189453\n",
      "For no of clusters = 19  The average silhouette_score is : -0.1522283266678987\n",
      "For no of clusters = 20  The average silhouette_score is : -0.16107902233942226\n",
      "For no of clusters = 21  The average silhouette_score is : -0.1557363090181951\n",
      "For no of clusters = 22  The average silhouette_score is : -0.1451100169924867\n",
      "For no of clusters = 23  The average silhouette_score is : -0.1354663998831235\n",
      "For no of clusters = 24  The average silhouette_score is : -0.14508193733445235\n"
     ]
    }
   ],
   "source": [
    "no_of_clusters = range(5,25) \n",
    "  \n",
    "for n_clusters in no_of_clusters: \n",
    "  \n",
    "    spectral_model = SpectralClustering(n_clusters = n_clusters, affinity ='precomputed') \n",
    "    labels_spec = spectral_model.fit_predict(arr)\n",
    "    \n",
    "  \n",
    "    \n",
    "    silhouette_avg = silhouette_score(arr, labels_spec, metric='precomputed') \n",
    "  \n",
    "    print(\"For no of clusters =\", n_clusters, \n",
    "          \" The average silhouette_score is :\", silhouette_avg)"
   ]
  },
  {
   "cell_type": "code",
   "execution_count": null,
   "metadata": {},
   "outputs": [],
   "source": []
  }
 ],
 "metadata": {
  "kernelspec": {
   "display_name": "Python 3",
   "language": "python",
   "name": "python3"
  },
  "language_info": {
   "codemirror_mode": {
    "name": "ipython",
    "version": 3
   },
   "file_extension": ".py",
   "mimetype": "text/x-python",
   "name": "python",
   "nbconvert_exporter": "python",
   "pygments_lexer": "ipython3",
   "version": "3.7.1"
  }
 },
 "nbformat": 4,
 "nbformat_minor": 2
}
